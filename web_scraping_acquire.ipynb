{
 "cells": [
  {
   "cell_type": "code",
   "execution_count": 1,
   "id": "af70f9d7",
   "metadata": {},
   "outputs": [],
   "source": [
    "import requests\n",
    "from bs4 import BeautifulSoup\n",
    "import os\n",
    "import pandas as pd\n",
    "import csv\n",
    "import re"
   ]
  },
  {
   "cell_type": "code",
   "execution_count": 117,
   "id": "c0862d36",
   "metadata": {},
   "outputs": [],
   "source": [
    "def get_blog_links(url, headers):\n",
    "    '''\n",
    "    This will take in a url and header, and return a list of blog url links gathered\n",
    "    from the blog selection pages\n",
    "    '''\n",
    "    # start at page 1\n",
    "    page = 1\n",
    "    # set our url\n",
    "    page_url = f'{url}{page}'\n",
    "    # get the first page results\n",
    "    response = requests.get(page_url, headers=headers)\n",
    "    # create an empty list to store the link urls\n",
    "    link_list = []\n",
    "    \n",
    "    # go through every page until we get a status code other than 200\n",
    "    while response.status_code == 200:\n",
    "        # convert our received content into soup object\n",
    "        soup = BeautifulSoup(response.content, 'html.parser')\n",
    "        if soup:\n",
    "            # have soup, will travel\n",
    "            # get a list of items on the page with <a> tag\n",
    "            article_list = soup.find_all('a', class_='entry-featured-image-url')\n",
    "            # add each href url link to the link_list\n",
    "            [link_list.append(article['href']) for article in article_list]\n",
    "        else:\n",
    "            print('page url has not returned any content')\n",
    "            break\n",
    "            \n",
    "        # increment our page counter\n",
    "        page += 1\n",
    "        # set the url to the next page\n",
    "        page_url = f'{url}{page}'\n",
    "        # get the response for the next page\n",
    "        response = requests.get(page_url, headers=headers)\n",
    "        \n",
    "    # return the list of blog url links\n",
    "    return link_list"
   ]
  },
  {
   "cell_type": "code",
   "execution_count": 118,
   "id": "06b07c08",
   "metadata": {},
   "outputs": [],
   "source": [
    "def get_blog_content(url, headers):\n",
    "    '''\n",
    "    This will gather the title and page content from the passed blog url\n",
    "    '''\n",
    "    # get the content from this blog\n",
    "    response = requests.get(url, headers=headers)\n",
    "    # check if we have correct response and if there is content in our response\n",
    "    if response.status_code != 200: # if there is a page error\n",
    "        print('page url has returned an error')\n",
    "        return\n",
    "        \n",
    "    # convert our received content into soup object\n",
    "    soup = BeautifulSoup(response.content, 'html.parser')\n",
    "    if not soup: # if there is no soup\n",
    "        # display an error message\n",
    "        print('page has no content')\n",
    "        return\n",
    "    \n",
    "    # have soup, will travel\n",
    "    # gather the title from the <h2> tag\n",
    "    title = soup.find('h1', class_='entry-title').text\n",
    "    # get the blog content text, strip extra chars\n",
    "    content = soup.find('div', class_='entry-content').text.strip()\n",
    "    # create a regex function to search for the title, while ignoring case\n",
    "    compiled = re.compile(re.escape(title), re.IGNORECASE)\n",
    "    # remove the title from the content, while ignoring case\n",
    "    content = compiled.sub('', content)\n",
    "    \n",
    "    # return the scraped title and content for this blog\n",
    "    return title, content"
   ]
  },
  {
   "cell_type": "code",
   "execution_count": 18,
   "id": "26e993f9",
   "metadata": {},
   "outputs": [],
   "source": [
    "def get_blog_articles(fresh=False):\n",
    "    '''\n",
    "    This will gather the title, url and content for every blog on the codeup website\n",
    "    '''\n",
    "    # assign a filename for cached data\n",
    "    filename = 'codeup_blogs.csv'\n",
    "    # if we dont need fresh data then check for a cached version\n",
    "    if not fresh:\n",
    "        # check for cached file\n",
    "        if os.path.exists(filename):\n",
    "            # if cached file exists, display a status message\n",
    "            print(f'Opening file {filename} from local directory')\n",
    "            # then open it\n",
    "            content_dict = pd.read_csv(filename, index_col=0)\n",
    "            # return cached file, which will end the function\n",
    "            return content_dict\n",
    "        # if cached file not found\n",
    "        else:\n",
    "            # display a status message\n",
    "            print(f'local file {filename} not found')\n",
    "            # then download the data\n",
    "    \n",
    "    print('Downloading data from Codeup website')\n",
    "    # set the url to the codeup blog pages\n",
    "    url = 'https://codeup.com/blog/page/'\n",
    "    # Some websites don't accept the pyhon-requests default user-agent\n",
    "    headers = {'User-Agent': 'Codeup Data Science'}\n",
    "    # display a status message\n",
    "    print('Gathering blog links')\n",
    "    # get a list of blog page urls\n",
    "    link_list = get_blog_links(url, headers)\n",
    "    # create an empty dictionary to store the results\n",
    "    content_dict = []\n",
    "    # display a status message\n",
    "    print('Gathering blog content')\n",
    "    # cycle through all the gathered blog links\n",
    "    for blog in link_list:\n",
    "        # gather the title and content for each page\n",
    "        title, content = get_blog_content(blog, headers)\n",
    "        # add a record to the dictionary with the title, url and content for the blog\n",
    "        article = {'title':title, 'url':blog, 'content':content}\n",
    "        content_dict.append(article)\n",
    "        \n",
    "    # cache the dictionary data to a csv\n",
    "    pd.DataFrame(content_dict).to_csv(filename, index=False)\n",
    "    # return the dictionary of blogs\n",
    "    return content_dict"
   ]
  },
  {
   "cell_type": "code",
   "execution_count": 2,
   "id": "c4fe0245",
   "metadata": {},
   "outputs": [],
   "source": [
    "url = 'https://codeup.com/blog/page/'\n",
    "# Some websites don't accept the pyhon-requests default user-agent\n",
    "headers = {'User-Agent': 'Codeup Data Science'} \n",
    "# response = requests.get(url, headers=headers)"
   ]
  },
  {
   "cell_type": "code",
   "execution_count": 19,
   "id": "9352d536",
   "metadata": {},
   "outputs": [
    {
     "name": "stdout",
     "output_type": "stream",
     "text": [
      "Opening file codeup_blogs.csv from local directory\n"
     ]
    }
   ],
   "source": [
    "blogs = get_blog_articles()"
   ]
  },
  {
   "cell_type": "code",
   "execution_count": 20,
   "id": "5ef582d8",
   "metadata": {},
   "outputs": [
    {
     "data": {
      "text/html": [
       "<div>\n",
       "<style scoped>\n",
       "    .dataframe tbody tr th:only-of-type {\n",
       "        vertical-align: middle;\n",
       "    }\n",
       "\n",
       "    .dataframe tbody tr th {\n",
       "        vertical-align: top;\n",
       "    }\n",
       "\n",
       "    .dataframe thead th {\n",
       "        text-align: right;\n",
       "    }\n",
       "</style>\n",
       "<table border=\"1\" class=\"dataframe\">\n",
       "  <thead>\n",
       "    <tr style=\"text-align: right;\">\n",
       "      <th></th>\n",
       "      <th>title</th>\n",
       "      <th>url</th>\n",
       "      <th>content</th>\n",
       "    </tr>\n",
       "  </thead>\n",
       "  <tbody>\n",
       "    <tr>\n",
       "      <th>0</th>\n",
       "      <td>Women in tech: Panelist Spotlight – Magdalena ...</td>\n",
       "      <td>https://codeup.com/featured/women-in-tech-pane...</td>\n",
       "      <td>\\nCodeup is hosting a Women in Tech Panel in h...</td>\n",
       "    </tr>\n",
       "    <tr>\n",
       "      <th>1</th>\n",
       "      <td>Women in tech: Panelist Spotlight – Rachel Rob...</td>\n",
       "      <td>https://codeup.com/featured/women-in-tech-rach...</td>\n",
       "      <td>\\nCodeup is hosting a Women in Tech Panel in h...</td>\n",
       "    </tr>\n",
       "    <tr>\n",
       "      <th>2</th>\n",
       "      <td>Women in Tech: Panelist Spotlight – Sarah Mellor</td>\n",
       "      <td>https://codeup.com/codeup-news/women-in-tech-p...</td>\n",
       "      <td>\\nCodeup is hosting a Women in Tech Panel in ...</td>\n",
       "    </tr>\n",
       "    <tr>\n",
       "      <th>3</th>\n",
       "      <td>Women in Tech: Panelist Spotlight – Madeleine ...</td>\n",
       "      <td>https://codeup.com/events/women-in-tech-madele...</td>\n",
       "      <td>\\nCodeup is hosting a Women in Tech Panel in h...</td>\n",
       "    </tr>\n",
       "    <tr>\n",
       "      <th>4</th>\n",
       "      <td>Black Excellence in Tech: Panelist Spotlight –...</td>\n",
       "      <td>https://codeup.com/codeup-news/panelist-spotli...</td>\n",
       "      <td>\\n\\nCodeup is hosting a Black Excellence in Te...</td>\n",
       "    </tr>\n",
       "    <tr>\n",
       "      <th>...</th>\n",
       "      <td>...</td>\n",
       "      <td>...</td>\n",
       "      <td>...</td>\n",
       "    </tr>\n",
       "    <tr>\n",
       "      <th>153</th>\n",
       "      <td>How Codeup Prepared Me for a Career</td>\n",
       "      <td>https://codeup.com/alumni-stories/codeup-prepa...</td>\n",
       "      <td>By Joyce Yueh Yueh Ling\\nIn four months, a lot...</td>\n",
       "    </tr>\n",
       "    <tr>\n",
       "      <th>154</th>\n",
       "      <td>Why I’m Thankful for Codeup</td>\n",
       "      <td>https://codeup.com/alumni-stories/why-im-thank...</td>\n",
       "      <td>By Amy Yanaway\\n \\nAlmost every day since grad...</td>\n",
       "    </tr>\n",
       "    <tr>\n",
       "      <th>155</th>\n",
       "      <td>Finding the Perfect Coding Bootcamp Fit for Me</td>\n",
       "      <td>https://codeup.com/alumni-stories/path-codeup-...</td>\n",
       "      <td>By Marcella Munter\\nI looked at Codeup for 2 y...</td>\n",
       "    </tr>\n",
       "    <tr>\n",
       "      <th>156</th>\n",
       "      <td>Codeup Student Check In: Month 3</td>\n",
       "      <td>https://codeup.com/codeup-news/codeup-student-...</td>\n",
       "      <td>Codeup welcomed the Wrangell cohort on July 23...</td>\n",
       "    </tr>\n",
       "    <tr>\n",
       "      <th>157</th>\n",
       "      <td>From Cooking Steaks To Cooking Code</td>\n",
       "      <td>https://codeup.com/alumni-stories/from-cooking...</td>\n",
       "      <td>by Alexander Bous\\n\\nGrowing up\\nIt would be a...</td>\n",
       "    </tr>\n",
       "  </tbody>\n",
       "</table>\n",
       "<p>158 rows × 3 columns</p>\n",
       "</div>"
      ],
      "text/plain": [
       "                                                 title  \\\n",
       "0    Women in tech: Panelist Spotlight – Magdalena ...   \n",
       "1    Women in tech: Panelist Spotlight – Rachel Rob...   \n",
       "2     Women in Tech: Panelist Spotlight – Sarah Mellor   \n",
       "3    Women in Tech: Panelist Spotlight – Madeleine ...   \n",
       "4    Black Excellence in Tech: Panelist Spotlight –...   \n",
       "..                                                 ...   \n",
       "153                How Codeup Prepared Me for a Career   \n",
       "154                        Why I’m Thankful for Codeup   \n",
       "155     Finding the Perfect Coding Bootcamp Fit for Me   \n",
       "156                   Codeup Student Check In: Month 3   \n",
       "157                From Cooking Steaks To Cooking Code   \n",
       "\n",
       "                                                   url  \\\n",
       "0    https://codeup.com/featured/women-in-tech-pane...   \n",
       "1    https://codeup.com/featured/women-in-tech-rach...   \n",
       "2    https://codeup.com/codeup-news/women-in-tech-p...   \n",
       "3    https://codeup.com/events/women-in-tech-madele...   \n",
       "4    https://codeup.com/codeup-news/panelist-spotli...   \n",
       "..                                                 ...   \n",
       "153  https://codeup.com/alumni-stories/codeup-prepa...   \n",
       "154  https://codeup.com/alumni-stories/why-im-thank...   \n",
       "155  https://codeup.com/alumni-stories/path-codeup-...   \n",
       "156  https://codeup.com/codeup-news/codeup-student-...   \n",
       "157  https://codeup.com/alumni-stories/from-cooking...   \n",
       "\n",
       "                                               content  \n",
       "0    \\nCodeup is hosting a Women in Tech Panel in h...  \n",
       "1    \\nCodeup is hosting a Women in Tech Panel in h...  \n",
       "2     \\nCodeup is hosting a Women in Tech Panel in ...  \n",
       "3    \\nCodeup is hosting a Women in Tech Panel in h...  \n",
       "4    \\n\\nCodeup is hosting a Black Excellence in Te...  \n",
       "..                                                 ...  \n",
       "153  By Joyce Yueh Yueh Ling\\nIn four months, a lot...  \n",
       "154  By Amy Yanaway\\n \\nAlmost every day since grad...  \n",
       "155  By Marcella Munter\\nI looked at Codeup for 2 y...  \n",
       "156  Codeup welcomed the Wrangell cohort on July 23...  \n",
       "157  by Alexander Bous\\n\\nGrowing up\\nIt would be a...  \n",
       "\n",
       "[158 rows x 3 columns]"
      ]
     },
     "execution_count": 20,
     "metadata": {},
     "output_type": "execute_result"
    }
   ],
   "source": [
    "blogs"
   ]
  },
  {
   "cell_type": "code",
   "execution_count": 280,
   "id": "ac9b0e9e",
   "metadata": {},
   "outputs": [
    {
     "data": {
      "text/html": [
       "<div>\n",
       "<style scoped>\n",
       "    .dataframe tbody tr th:only-of-type {\n",
       "        vertical-align: middle;\n",
       "    }\n",
       "\n",
       "    .dataframe tbody tr th {\n",
       "        vertical-align: top;\n",
       "    }\n",
       "\n",
       "    .dataframe thead th {\n",
       "        text-align: right;\n",
       "    }\n",
       "</style>\n",
       "<table border=\"1\" class=\"dataframe\">\n",
       "  <thead>\n",
       "    <tr style=\"text-align: right;\">\n",
       "      <th></th>\n",
       "      <th>title</th>\n",
       "      <th>url</th>\n",
       "      <th>content</th>\n",
       "    </tr>\n",
       "  </thead>\n",
       "  <tbody>\n",
       "    <tr>\n",
       "      <th>0</th>\n",
       "      <td>Women in tech: Panelist Spotlight – Magdalena ...</td>\n",
       "      <td>https://codeup.com/featured/women-in-tech-pane...</td>\n",
       "      <td>[Mar 28, 2023 | Events, Featured, Codeup is ho...</td>\n",
       "    </tr>\n",
       "    <tr>\n",
       "      <th>1</th>\n",
       "      <td>Women in tech: Panelist Spotlight – Rachel Rob...</td>\n",
       "      <td>https://codeup.com/featured/women-in-tech-rach...</td>\n",
       "      <td>[Mar 20, 2023 | Events, Featured, Codeup is ho...</td>\n",
       "    </tr>\n",
       "    <tr>\n",
       "      <th>2</th>\n",
       "      <td>Women in tech: Panelist Spotlight – Sarah Mellor</td>\n",
       "      <td>https://codeup.com/codeup-news/women-in-tech-p...</td>\n",
       "      <td>[Mar 13, 2023 | Codeup News, Featured, Codeup ...</td>\n",
       "    </tr>\n",
       "    <tr>\n",
       "      <th>3</th>\n",
       "      <td>Women in tech: Panelist Spotlight – Madeleine ...</td>\n",
       "      <td>https://codeup.com/events/women-in-tech-madele...</td>\n",
       "      <td>[Mar 6, 2023 | Events, Featured, Codeup is hos...</td>\n",
       "    </tr>\n",
       "    <tr>\n",
       "      <th>4</th>\n",
       "      <td>Black excellence in tech: Panelist Spotlight –...</td>\n",
       "      <td>https://codeup.com/codeup-news/panelist-spotli...</td>\n",
       "      <td>[Feb 16, 2023 | Codeup News, Events, Featured,...</td>\n",
       "    </tr>\n",
       "    <tr>\n",
       "      <th>...</th>\n",
       "      <td>...</td>\n",
       "      <td>...</td>\n",
       "      <td>...</td>\n",
       "    </tr>\n",
       "    <tr>\n",
       "      <th>153</th>\n",
       "      <td>1. Collaboration</td>\n",
       "      <td>https://codeup.com/alumni-stories/codeup-prepa...</td>\n",
       "      <td>[Nov 28, 2018 | Alumni Stories, By Joyce Yueh ...</td>\n",
       "    </tr>\n",
       "    <tr>\n",
       "      <th>154</th>\n",
       "      <td>Latest Blog Articles</td>\n",
       "      <td>https://codeup.com/alumni-stories/why-im-thank...</td>\n",
       "      <td>[Nov 21, 2018 | Alumni Stories, By Amy Yanaway...</td>\n",
       "    </tr>\n",
       "    <tr>\n",
       "      <th>155</th>\n",
       "      <td>Latest Blog Articles</td>\n",
       "      <td>https://codeup.com/alumni-stories/path-codeup-...</td>\n",
       "      <td>[Nov 14, 2018 | Alumni Stories,  , \\nBy Marcel...</td>\n",
       "    </tr>\n",
       "    <tr>\n",
       "      <th>156</th>\n",
       "      <td>Latest Blog Articles</td>\n",
       "      <td>https://codeup.com/codeup-news/codeup-student-...</td>\n",
       "      <td>[Nov 12, 2018 | Codeup News, Codeup welcomed t...</td>\n",
       "    </tr>\n",
       "    <tr>\n",
       "      <th>157</th>\n",
       "      <td>Latest Blog Articles</td>\n",
       "      <td>https://codeup.com/alumni-stories/from-cooking...</td>\n",
       "      <td>[Nov 5, 2018 | Alumni Stories, by Alexander Bo...</td>\n",
       "    </tr>\n",
       "  </tbody>\n",
       "</table>\n",
       "<p>158 rows × 3 columns</p>\n",
       "</div>"
      ],
      "text/plain": [
       "                                                 title  \\\n",
       "0    Women in tech: Panelist Spotlight – Magdalena ...   \n",
       "1    Women in tech: Panelist Spotlight – Rachel Rob...   \n",
       "2    Women in tech: Panelist Spotlight – Sarah Mellor    \n",
       "3    Women in tech: Panelist Spotlight – Madeleine ...   \n",
       "4    Black excellence in tech: Panelist Spotlight –...   \n",
       "..                                                 ...   \n",
       "153                                   1. Collaboration   \n",
       "154                               Latest Blog Articles   \n",
       "155                               Latest Blog Articles   \n",
       "156                               Latest Blog Articles   \n",
       "157                               Latest Blog Articles   \n",
       "\n",
       "                                                   url  \\\n",
       "0    https://codeup.com/featured/women-in-tech-pane...   \n",
       "1    https://codeup.com/featured/women-in-tech-rach...   \n",
       "2    https://codeup.com/codeup-news/women-in-tech-p...   \n",
       "3    https://codeup.com/events/women-in-tech-madele...   \n",
       "4    https://codeup.com/codeup-news/panelist-spotli...   \n",
       "..                                                 ...   \n",
       "153  https://codeup.com/alumni-stories/codeup-prepa...   \n",
       "154  https://codeup.com/alumni-stories/why-im-thank...   \n",
       "155  https://codeup.com/alumni-stories/path-codeup-...   \n",
       "156  https://codeup.com/codeup-news/codeup-student-...   \n",
       "157  https://codeup.com/alumni-stories/from-cooking...   \n",
       "\n",
       "                                               content  \n",
       "0    [Mar 28, 2023 | Events, Featured, Codeup is ho...  \n",
       "1    [Mar 20, 2023 | Events, Featured, Codeup is ho...  \n",
       "2    [Mar 13, 2023 | Codeup News, Featured, Codeup ...  \n",
       "3    [Mar 6, 2023 | Events, Featured, Codeup is hos...  \n",
       "4    [Feb 16, 2023 | Codeup News, Events, Featured,...  \n",
       "..                                                 ...  \n",
       "153  [Nov 28, 2018 | Alumni Stories, By Joyce Yueh ...  \n",
       "154  [Nov 21, 2018 | Alumni Stories, By Amy Yanaway...  \n",
       "155  [Nov 14, 2018 | Alumni Stories,  , \\nBy Marcel...  \n",
       "156  [Nov 12, 2018 | Codeup News, Codeup welcomed t...  \n",
       "157  [Nov 5, 2018 | Alumni Stories, by Alexander Bo...  \n",
       "\n",
       "[158 rows x 3 columns]"
      ]
     },
     "execution_count": 280,
     "metadata": {},
     "output_type": "execute_result"
    }
   ],
   "source": [
    "pd.DataFrame(blogs).T"
   ]
  },
  {
   "cell_type": "code",
   "execution_count": 218,
   "id": "3e4a42fd",
   "metadata": {},
   "outputs": [],
   "source": [
    "pd.DataFrame(blogs).T.to_csv('test.csv')"
   ]
  },
  {
   "cell_type": "code",
   "execution_count": 219,
   "id": "716c3eff",
   "metadata": {},
   "outputs": [],
   "source": [
    "# field_names = ['title', 'url', 'content']\n",
    "\n",
    "# with open('test.csv', 'w') as csvfile:\n",
    "#     writer = csv.DictWriter(csvfile, fieldnames = field_names)\n",
    "#     writer.writeheader()\n",
    "#     for i in blogs:\n",
    "#         writer.writerows(blogs[i])"
   ]
  },
  {
   "cell_type": "code",
   "execution_count": null,
   "id": "f5895be7",
   "metadata": {},
   "outputs": [],
   "source": []
  },
  {
   "cell_type": "code",
   "execution_count": 7,
   "id": "d9a4c483",
   "metadata": {},
   "outputs": [
    {
     "data": {
      "text/plain": [
       "200"
      ]
     },
     "execution_count": 7,
     "metadata": {},
     "output_type": "execute_result"
    }
   ],
   "source": [
    "response.status_code"
   ]
  },
  {
   "cell_type": "code",
   "execution_count": 124,
   "id": "76a1014c",
   "metadata": {},
   "outputs": [
    {
     "name": "stdout",
     "output_type": "stream",
     "text": [
      "n\n"
     ]
    }
   ],
   "source": [
    "if not True:\n",
    "    print('y')\n",
    "else:\n",
    "    print('n')"
   ]
  },
  {
   "cell_type": "code",
   "execution_count": 9,
   "id": "e06086c2",
   "metadata": {
    "collapsed": true
   },
   "outputs": [
    {
     "data": {
      "text/plain": [
       "b'<!DOCTYPE html>\\n<html lang=\"en-US\">\\n<head>\\n\\t<meta charset=\"UTF-8\" />\\n<meta http-equiv=\"X-UA-Compatible\" content=\"IE=edge\">\\n\\t<link rel=\"pingback\" href=\"https://codeup.com/xmlrpc.php\" />\\n\\n\\t<script type=\"text/javascript\">\\n\\t\\tdocument.documentElement.className = \\'js\\';\\n\\t</script>\\n\\t\\n\\t<link rel=\"preconnect\" href=\"https://fonts.gstatic.com\" crossorigin /><script id=\"diviarea-loader\">window.DiviPopupData=window.DiviAreaConfig={\"zIndex\":1000000,\"animateSpeed\":400,\"triggerClassPrefix\":\"show-popup-\",\"idAttrib\":\"data-popup\",\"modalIndicatorClass\":\"is-modal\",\"blockingIndicatorClass\":\"is-blocking\",\"defaultShowCloseButton\":true,\"withCloseClass\":\"with-close\",\"noCloseClass\":\"no-close\",\"triggerCloseClass\":\"close\",\"singletonClass\":\"single\",\"darkModeClass\":\"dark\",\"noShadowClass\":\"no-shadow\",\"altCloseClass\":\"close-alt\",\"popupSelector\":\".et_pb_section.popup\",\"initializeOnEvent\":\"et_pb_after_init_modules\",\"popupWrapperClass\":\"area-outer-wrap\",\"fullHeightClass\":\"full-height\",\"openPopupClass\":\"da-overlay-visible\",\"overlayClass\":\"da-overlay\",\"exitIndicatorClass\":\"on-exit\",\"hoverTriggerClass\":\"on-hover\",\"clickTriggerClass\":\"on-click\",\"onExitDelay\":2000,\"notMobileClass\":\"not-mobile\",\"notTabletClass\":\"not-tablet\",\"notDesktopClass\":\"not-desktop\",\"baseContext\":\"body\",\"activePopupClass\":\"is-open\",\"closeButtonClass\":\"da-close\",\"withLoaderClass\":\"with-loader\",\"debug\":false,\"ajaxUrl\":\"https:\\\\/\\\\/codeup.com\\\\/wp-admin\\\\/admin-ajax.php\",\"sys\":[]};var divimode_loader=function(){\"use strict\";!function(t){t.DiviArea=t.DiviPopup={loaded:!1};var n=t.DiviArea,i=n.Hooks={},o={};function r(t,n,i){var r,e,c;if(\"string\"==typeof t)if(o[t]){if(n)if((r=o[t])&&i)for(c=r.length;c--;)(e=r[c]).callback===n&&e.context===i&&(r[c]=!1);else for(c=r.length;c--;)r[c].callback===n&&(r[c]=!1)}else o[t]=[]}function e(t,n,i,r){if(\"string\"==typeof t){var e={callback:n,priority:i,context:r},c=o[t];c?(c.push(e),c=function(t){var n,i,o,r,e=t.length;for(r=1;r<e;r++)for(n=t[r],i=r;i>0;i--)(o=t[i-1]).priority>n.priority&&(t[i]=o,t[i-1]=n);return t}(c)):c=[e],o[t]=c}}function c(t,n,i){\"string\"==typeof n&&(n=[n]);var r,e,c=[];for(r=0;r<n.length;r++)Array.prototype.push.apply(c,o[n[r]]);for(e=0;e<c.length;e++){var a=void 0;c[e]&&\"function\"==typeof c[e].callback&&(\"filter\"===t?void 0!==(a=c[e].callback.apply(c[e].context,i))&&(i[0]=a):c[e].callback.apply(c[e].context,i))}if(\"filter\"===t)return i[0]}i.silent=function(){return i},n.removeFilter=i.removeFilter=function(t,n){r(t,n)},n.removeAction=i.removeAction=function(t,n){r(t,n)},n.applyFilters=i.applyFilters=function(t){for(var n=[],i=arguments.length-1;i-- >0;)n[i]=arguments[i+1];return c(\"filter\",t,n)},n.doAction=i.doAction=function(t){for(var n=[],i=arguments.length-1;i-- >0;)n[i]=arguments[i+1];c(\"action\",t,n)},n.addFilter=i.addFilter=function(n,i,o,r){e(n,i,parseInt(o||10,10),r||t)},n.addAction=i.addAction=function(n,i,o,r){e(n,i,parseInt(o||10,10),r||t)},n.addActionOnce=i.addActionOnce=function(n,i,o,c){e(n,i,parseInt(o||10,10),c||t),e(n,(function(){r(n,i)}),1+parseInt(o||10,10),c||t)}}(window);return{}}();\\n</script><meta name=\\'robots\\' content=\\'index, follow, max-image-preview:large, max-snippet:-1, max-video-preview:-1\\' />\\n<script type=\"text/javascript\">\\n\\t\\t\\tlet jqueryParams=[],jQuery=function(r){return jqueryParams=[...jqueryParams,r],jQuery},$=function(r){return jqueryParams=[...jqueryParams,r],$};window.jQuery=jQuery,window.$=jQuery;let customHeadScripts=!1;jQuery.fn=jQuery.prototype={},$.fn=jQuery.prototype={},jQuery.noConflict=function(r){if(window.jQuery)return jQuery=window.jQuery,$=window.jQuery,customHeadScripts=!0,jQuery.noConflict},jQuery.ready=function(r){jqueryParams=[...jqueryParams,r]},$.ready=function(r){jqueryParams=[...jqueryParams,r]},jQuery.load=function(r){jqueryParams=[...jqueryParams,r]},$.load=function(r){jqueryParams=[...jqueryParams,r]},jQuery.fn.ready=function(r){jqueryParams=[...jqueryParams,r]},$.fn.ready=function(r){jqueryParams=[...jqueryParams,r]};</script>\\n\\t<!-- This site is optimized with the Yoast SEO plugin v20.2.1 - https://yoast.com/wordpress/plugins/seo/ -->\\n\\t<title>Blog - Codeup</title>\\n\\t<link rel=\"canonical\" href=\"https://codeup.com/blog/\" />\\n\\t<link rel=\"next\" href=\"https://codeup.com/blog/page/2/\" />\\n\\t<meta property=\"og:locale\" content=\"en_US\" />\\n\\t<meta property=\"og:type\" content=\"article\" />\\n\\t<meta property=\"og:title\" content=\"Blog - Codeup\" />\\n\\t<meta property=\"og:url\" content=\"https://codeup.com/blog/\" />\\n\\t<meta property=\"og:site_name\" content=\"Codeup\" />\\n\\t<meta property=\"og:image\" content=\"https://tribucodeup.wpenginepowered.com/wp-content/uploads/2018/08/logo.png\" />\\n\\t<meta property=\"og:image:width\" content=\"226\" />\\n\\t<meta property=\"og:image:height\" content=\"86\" />\\n\\t<meta property=\"og:image:type\" content=\"image/png\" />\\n\\t<meta name=\"twitter:card\" content=\"summary_large_image\" />\\n\\t<meta name=\"twitter:site\" content=\"@gocodeup\" />\\n\\t<script type=\"application/ld+json\" class=\"yoast-schema-graph\">{\"@context\":\"https://schema.org\",\"@graph\":[{\"@type\":[\"WebPage\",\"CollectionPage\"],\"@id\":\"https://codeup.com/blog/\",\"url\":\"https://codeup.com/blog/\",\"name\":\"Blog - Codeup\",\"isPartOf\":{\"@id\":\"https://codeup.com/#website\"},\"datePublished\":\"2021-09-29T22:39:14+00:00\",\"dateModified\":\"2022-10-20T16:30:46+00:00\",\"breadcrumb\":{\"@id\":\"https://codeup.com/blog/#breadcrumb\"},\"inLanguage\":\"en-US\"},{\"@type\":\"BreadcrumbList\",\"@id\":\"https://codeup.com/blog/#breadcrumb\",\"itemListElement\":[{\"@type\":\"ListItem\",\"position\":1,\"name\":\"Home\",\"item\":\"https://codeup.com/\"},{\"@type\":\"ListItem\",\"position\":2,\"name\":\"Blog\"}]},{\"@type\":\"WebSite\",\"@id\":\"https://codeup.com/#website\",\"url\":\"https://codeup.com/\",\"name\":\"Codeup\",\"description\":\"Tech Bootcamp\",\"publisher\":{\"@id\":\"https://codeup.com/#organization\"},\"potentialAction\":[{\"@type\":\"SearchAction\",\"target\":{\"@type\":\"EntryPoint\",\"urlTemplate\":\"https://codeup.com/?s={search_term_string}\"},\"query-input\":\"required name=search_term_string\"}],\"inLanguage\":\"en-US\"},{\"@type\":\"Organization\",\"@id\":\"https://codeup.com/#organization\",\"name\":\"Codeup\",\"url\":\"https://codeup.com/\",\"logo\":{\"@type\":\"ImageObject\",\"inLanguage\":\"en-US\",\"@id\":\"https://codeup.com/#/schema/logo/image/\",\"url\":\"https://tribucodeup.wpenginepowered.com/wp-content/uploads/2021/06/codeup_logo.png\",\"contentUrl\":\"https://tribucodeup.wpenginepowered.com/wp-content/uploads/2021/06/codeup_logo.png\",\"width\":226,\"height\":86,\"caption\":\"Codeup\"},\"image\":{\"@id\":\"https://codeup.com/#/schema/logo/image/\"},\"sameAs\":[\"https://www.facebook.com/GoCodeup/\",\"https://twitter.com/gocodeup\",\"https://www.instagram.com/gocodeup/\",\"https://www.linkedin.com/school/codeup/\"]}]}</script>\\n\\t<!-- / Yoast SEO plugin. -->\\n\\n\\n<link rel=\\'dns-prefetch\\' href=\\'//js.hs-scripts.com\\' />\\n<link rel=\"alternate\" type=\"application/rss+xml\" title=\"Codeup &raquo; Feed\" href=\"https://codeup.com/feed/\" />\\n<link rel=\"alternate\" type=\"application/rss+xml\" title=\"Codeup &raquo; Comments Feed\" href=\"https://codeup.com/comments/feed/\" />\\n<link rel=\"alternate\" type=\"text/calendar\" title=\"Codeup &raquo; iCal Feed\" href=\"https://codeup.com/events/?ical=1\" />\\n<meta content=\"Codeup v.1.0.0\" name=\"generator\"/><link rel=\\'stylesheet\\' id=\\'divi-mobile-burger-styles-css\\' href=\\'https://tribucodeup.wpenginepowered.com/wp-content/plugins/divi-mobile/styles/burger-menu-styles.min.css?ver=1.7\\' type=\\'text/css\\' media=\\'all\\' />\\n<link rel=\\'stylesheet\\' id=\\'divi-mobile-general-css\\' href=\\'https://tribucodeup.wpenginepowered.com/wp-content/plugins/divi-mobile/styles/frontend-general.min.css?ver=1.7\\' type=\\'text/css\\' media=\\'all\\' />\\n<link rel=\\'stylesheet\\' id=\\'tribe-events-pro-mini-calendar-block-styles-css\\' href=\\'https://tribucodeup.wpenginepowered.com/wp-content/plugins/events-calendar-pro/src/resources/css/tribe-events-pro-mini-calendar-block.min.css?ver=6.0.9.2\\' type=\\'text/css\\' media=\\'all\\' />\\n<link rel=\\'stylesheet\\' id=\\'wp-block-library-css\\' href=\\'https://tribucodeup.wpenginepowered.com/wp-includes/css/dist/block-library/style.min.css?ver=6.1.1\\' type=\\'text/css\\' media=\\'all\\' />\\n<style id=\\'wp-block-library-theme-inline-css\\' type=\\'text/css\\'>\\n.wp-block-audio figcaption{color:#555;font-size:13px;text-align:center}.is-dark-theme .wp-block-audio figcaption{color:hsla(0,0%,100%,.65)}.wp-block-audio{margin:0 0 1em}.wp-block-code{border:1px solid #ccc;border-radius:4px;font-family:Menlo,Consolas,monaco,monospace;padding:.8em 1em}.wp-block-embed figcaption{color:#555;font-size:13px;text-align:center}.is-dark-theme .wp-block-embed figcaption{color:hsla(0,0%,100%,.65)}.wp-block-embed{margin:0 0 1em}.blocks-gallery-caption{color:#555;font-size:13px;text-align:center}.is-dark-theme .blocks-gallery-caption{color:hsla(0,0%,100%,.65)}.wp-block-image figcaption{color:#555;font-size:13px;text-align:center}.is-dark-theme .wp-block-image figcaption{color:hsla(0,0%,100%,.65)}.wp-block-image{margin:0 0 1em}.wp-block-pullquote{border-top:4px solid;border-bottom:4px solid;margin-bottom:1.75em;color:currentColor}.wp-block-pullquote__citation,.wp-block-pullquote cite,.wp-block-pullquote footer{color:currentColor;text-transform:uppercase;font-size:.8125em;font-style:normal}.wp-block-quote{border-left:.25em solid;margin:0 0 1.75em;padding-left:1em}.wp-block-quote cite,.wp-block-quote footer{color:currentColor;font-size:.8125em;position:relative;font-style:normal}.wp-block-quote.has-text-align-right{border-left:none;border-right:.25em solid;padding-left:0;padding-right:1em}.wp-block-quote.has-text-align-center{border:none;padding-left:0}.wp-block-quote.is-large,.wp-block-quote.is-style-large,.wp-block-quote.is-style-plain{border:none}.wp-block-search .wp-block-search__label{font-weight:700}.wp-block-search__button{border:1px solid #ccc;padding:.375em .625em}:where(.wp-block-group.has-background){padding:1.25em 2.375em}.wp-block-separator.has-css-opacity{opacity:.4}.wp-block-separator{border:none;border-bottom:2px solid;margin-left:auto;margin-right:auto}.wp-block-separator.has-alpha-channel-opacity{opacity:1}.wp-block-separator:not(.is-style-wide):not(.is-style-dots){width:100px}.wp-block-separator.has-background:not(.is-style-dots){border-bottom:none;height:1px}.wp-block-separator.has-background:not(.is-style-wide):not(.is-style-dots){height:2px}.wp-block-table{margin:\"0 0 1em 0\"}.wp-block-table thead{border-bottom:3px solid}.wp-block-table tfoot{border-top:3px solid}.wp-block-table td,.wp-block-table th{word-break:normal}.wp-block-table figcaption{color:#555;font-size:13px;text-align:center}.is-dark-theme .wp-block-table figcaption{color:hsla(0,0%,100%,.65)}.wp-block-video figcaption{color:#555;font-size:13px;text-align:center}.is-dark-theme .wp-block-video figcaption{color:hsla(0,0%,100%,.65)}.wp-block-video{margin:0 0 1em}.wp-block-template-part.has-background{padding:1.25em 2.375em;margin-top:0;margin-bottom:0}\\n</style>\\n<style id=\\'global-styles-inline-css\\' type=\\'text/css\\'>\\nbody{--wp--preset--color--black: #000000;--wp--preset--color--cyan-bluish-gray: #abb8c3;--wp--preset--color--white: #ffffff;--wp--preset--color--pale-pink: #f78da7;--wp--preset--color--vivid-red: #cf2e2e;--wp--preset--color--luminous-vivid-orange: #ff6900;--wp--preset--color--luminous-vivid-amber: #fcb900;--wp--preset--color--light-green-cyan: #7bdcb5;--wp--preset--color--vivid-green-cyan: #00d084;--wp--preset--color--pale-cyan-blue: #8ed1fc;--wp--preset--color--vivid-cyan-blue: #0693e3;--wp--preset--color--vivid-purple: #9b51e0;--wp--preset--gradient--vivid-cyan-blue-to-vivid-purple: linear-gradient(135deg,rgba(6,147,227,1) 0%,rgb(155,81,224) 100%);--wp--preset--gradient--light-green-cyan-to-vivid-green-cyan: linear-gradient(135deg,rgb(122,220,180) 0%,rgb(0,208,130) 100%);--wp--preset--gradient--luminous-vivid-amber-to-luminous-vivid-orange: linear-gradient(135deg,rgba(252,185,0,1) 0%,rgba(255,105,0,1) 100%);--wp--preset--gradient--luminous-vivid-orange-to-vivid-red: linear-gradient(135deg,rgba(255,105,0,1) 0%,rgb(207,46,46) 100%);--wp--preset--gradient--very-light-gray-to-cyan-bluish-gray: linear-gradient(135deg,rgb(238,238,238) 0%,rgb(169,184,195) 100%);--wp--preset--gradient--cool-to-warm-spectrum: linear-gradient(135deg,rgb(74,234,220) 0%,rgb(151,120,209) 20%,rgb(207,42,186) 40%,rgb(238,44,130) 60%,rgb(251,105,98) 80%,rgb(254,248,76) 100%);--wp--preset--gradient--blush-light-purple: linear-gradient(135deg,rgb(255,206,236) 0%,rgb(152,150,240) 100%);--wp--preset--gradient--blush-bordeaux: linear-gradient(135deg,rgb(254,205,165) 0%,rgb(254,45,45) 50%,rgb(107,0,62) 100%);--wp--preset--gradient--luminous-dusk: linear-gradient(135deg,rgb(255,203,112) 0%,rgb(199,81,192) 50%,rgb(65,88,208) 100%);--wp--preset--gradient--pale-ocean: linear-gradient(135deg,rgb(255,245,203) 0%,rgb(182,227,212) 50%,rgb(51,167,181) 100%);--wp--preset--gradient--electric-grass: linear-gradient(135deg,rgb(202,248,128) 0%,rgb(113,206,126) 100%);--wp--preset--gradient--midnight: linear-gradient(135deg,rgb(2,3,129) 0%,rgb(40,116,252) 100%);--wp--preset--duotone--dark-grayscale: url(\\'#wp-duotone-dark-grayscale\\');--wp--preset--duotone--grayscale: url(\\'#wp-duotone-grayscale\\');--wp--preset--duotone--purple-yellow: url(\\'#wp-duotone-purple-yellow\\');--wp--preset--duotone--blue-red: url(\\'#wp-duotone-blue-red\\');--wp--preset--duotone--midnight: url(\\'#wp-duotone-midnight\\');--wp--preset--duotone--magenta-yellow: url(\\'#wp-duotone-magenta-yellow\\');--wp--preset--duotone--purple-green: url(\\'#wp-duotone-purple-green\\');--wp--preset--duotone--blue-orange: url(\\'#wp-duotone-blue-orange\\');--wp--preset--font-size--small: 13px;--wp--preset--font-size--medium: 20px;--wp--preset--font-size--large: 36px;--wp--preset--font-size--x-large: 42px;--wp--preset--spacing--20: 0.44rem;--wp--preset--spacing--30: 0.67rem;--wp--preset--spacing--40: 1rem;--wp--preset--spacing--50: 1.5rem;--wp--preset--spacing--60: 2.25rem;--wp--preset--spacing--70: 3.38rem;--wp--preset--spacing--80: 5.06rem;}body { margin: 0;--wp--style--global--content-size: 823px;--wp--style--global--wide-size: 1080px; }.wp-site-blocks > .alignleft { float: left; margin-right: 2em; }.wp-site-blocks > .alignright { float: right; margin-left: 2em; }.wp-site-blocks > .aligncenter { justify-content: center; margin-left: auto; margin-right: auto; }:where(.is-layout-flex){gap: 0.5em;}body .is-layout-flow > .alignleft{float: left;margin-inline-start: 0;margin-inline-end: 2em;}body .is-layout-flow > .alignright{float: right;margin-inline-start: 2em;margin-inline-end: 0;}body .is-layout-flow > .aligncenter{margin-left: auto !important;margin-right: auto !important;}body .is-layout-constrained > .alignleft{float: left;margin-inline-start: 0;margin-inline-end: 2em;}body .is-layout-constrained > .alignright{float: right;margin-inline-start: 2em;margin-inline-end: 0;}body .is-layout-constrained > .aligncenter{margin-left: auto !important;margin-right: auto !important;}body .is-layout-constrained > :where(:not(.alignleft):not(.alignright):not(.alignfull)){max-width: var(--wp--style--global--content-size);margin-left: auto !important;margin-right: auto !important;}body .is-layout-constrained > .alignwide{max-width: var(--wp--style--global--wide-size);}body .is-layout-flex{display: flex;}body .is-layout-flex{flex-wrap: wrap;align-items: center;}body .is-layout-flex > *{margin: 0;}body{padding-top: 0px;padding-right: 0px;padding-bottom: 0px;padding-left: 0px;}a:where(:not(.wp-element-button)){text-decoration: underline;}.wp-element-button, .wp-block-button__link{background-color: #32373c;border-width: 0;color: #fff;font-family: inherit;font-size: inherit;line-height: inherit;padding: calc(0.667em + 2px) calc(1.333em + 2px);text-decoration: none;}.has-black-color{color: var(--wp--preset--color--black) !important;}.has-cyan-bluish-gray-color{color: var(--wp--preset--color--cyan-bluish-gray) !important;}.has-white-color{color: var(--wp--preset--color--white) !important;}.has-pale-pink-color{color: var(--wp--preset--color--pale-pink) !important;}.has-vivid-red-color{color: var(--wp--preset--color--vivid-red) !important;}.has-luminous-vivid-orange-color{color: var(--wp--preset--color--luminous-vivid-orange) !important;}.has-luminous-vivid-amber-color{color: var(--wp--preset--color--luminous-vivid-amber) !important;}.has-light-green-cyan-color{color: var(--wp--preset--color--light-green-cyan) !important;}.has-vivid-green-cyan-color{color: var(--wp--preset--color--vivid-green-cyan) !important;}.has-pale-cyan-blue-color{color: var(--wp--preset--color--pale-cyan-blue) !important;}.has-vivid-cyan-blue-color{color: var(--wp--preset--color--vivid-cyan-blue) !important;}.has-vivid-purple-color{color: var(--wp--preset--color--vivid-purple) !important;}.has-black-background-color{background-color: var(--wp--preset--color--black) !important;}.has-cyan-bluish-gray-background-color{background-color: var(--wp--preset--color--cyan-bluish-gray) !important;}.has-white-background-color{background-color: var(--wp--preset--color--white) !important;}.has-pale-pink-background-color{background-color: var(--wp--preset--color--pale-pink) !important;}.has-vivid-red-background-color{background-color: var(--wp--preset--color--vivid-red) !important;}.has-luminous-vivid-orange-background-color{background-color: var(--wp--preset--color--luminous-vivid-orange) !important;}.has-luminous-vivid-amber-background-color{background-color: var(--wp--preset--color--luminous-vivid-amber) !important;}.has-light-green-cyan-background-color{background-color: var(--wp--preset--color--light-green-cyan) !important;}.has-vivid-green-cyan-background-color{background-color: var(--wp--preset--color--vivid-green-cyan) !important;}.has-pale-cyan-blue-background-color{background-color: var(--wp--preset--color--pale-cyan-blue) !important;}.has-vivid-cyan-blue-background-color{background-color: var(--wp--preset--color--vivid-cyan-blue) !important;}.has-vivid-purple-background-color{background-color: var(--wp--preset--color--vivid-purple) !important;}.has-black-border-color{border-color: var(--wp--preset--color--black) !important;}.has-cyan-bluish-gray-border-color{border-color: var(--wp--preset--color--cyan-bluish-gray) !important;}.has-white-border-color{border-color: var(--wp--preset--color--white) !important;}.has-pale-pink-border-color{border-color: var(--wp--preset--color--pale-pink) !important;}.has-vivid-red-border-color{border-color: var(--wp--preset--color--vivid-red) !important;}.has-luminous-vivid-orange-border-color{border-color: var(--wp--preset--color--luminous-vivid-orange) !important;}.has-luminous-vivid-amber-border-color{border-color: var(--wp--preset--color--luminous-vivid-amber) !important;}.has-light-green-cyan-border-color{border-color: var(--wp--preset--color--light-green-cyan) !important;}.has-vivid-green-cyan-border-color{border-color: var(--wp--preset--color--vivid-green-cyan) !important;}.has-pale-cyan-blue-border-color{border-color: var(--wp--preset--color--pale-cyan-blue) !important;}.has-vivid-cyan-blue-border-color{border-color: var(--wp--preset--color--vivid-cyan-blue) !important;}.has-vivid-purple-border-color{border-color: var(--wp--preset--color--vivid-purple) !important;}.has-vivid-cyan-blue-to-vivid-purple-gradient-background{background: var(--wp--preset--gradient--vivid-cyan-blue-to-vivid-purple) !important;}.has-light-green-cyan-to-vivid-green-cyan-gradient-background{background: var(--wp--preset--gradient--light-green-cyan-to-vivid-green-cyan) !important;}.has-luminous-vivid-amber-to-luminous-vivid-orange-gradient-background{background: var(--wp--preset--gradient--luminous-vivid-amber-to-luminous-vivid-orange) !important;}.has-luminous-vivid-orange-to-vivid-red-gradient-background{background: var(--wp--preset--gradient--luminous-vivid-orange-to-vivid-red) !important;}.has-very-light-gray-to-cyan-bluish-gray-gradient-background{background: var(--wp--preset--gradient--very-light-gray-to-cyan-bluish-gray) !important;}.has-cool-to-warm-spectrum-gradient-background{background: var(--wp--preset--gradient--cool-to-warm-spectrum) !important;}.has-blush-light-purple-gradient-background{background: var(--wp--preset--gradient--blush-light-purple) !important;}.has-blush-bordeaux-gradient-background{background: var(--wp--preset--gradient--blush-bordeaux) !important;}.has-luminous-dusk-gradient-background{background: var(--wp--preset--gradient--luminous-dusk) !important;}.has-pale-ocean-gradient-background{background: var(--wp--preset--gradient--pale-ocean) !important;}.has-electric-grass-gradient-background{background: var(--wp--preset--gradient--electric-grass) !important;}.has-midnight-gradient-background{background: var(--wp--preset--gradient--midnight) !important;}.has-small-font-size{font-size: var(--wp--preset--font-size--small) !important;}.has-medium-font-size{font-size: var(--wp--preset--font-size--medium) !important;}.has-large-font-size{font-size: var(--wp--preset--font-size--large) !important;}.has-x-large-font-size{font-size: var(--wp--preset--font-size--x-large) !important;}\\n.wp-block-navigation a:where(:not(.wp-element-button)){color: inherit;}\\n:where(.wp-block-columns.is-layout-flex){gap: 2em;}\\n.wp-block-pullquote{font-size: 1.5em;line-height: 1.6;}\\n</style>\\n<link rel=\\'stylesheet\\' id=\\'cookie-law-info-css\\' href=\\'https://tribucodeup.wpenginepowered.com/wp-content/plugins/cookie-law-info/legacy/public/css/cookie-law-info-public.css?ver=3.0.8\\' type=\\'text/css\\' media=\\'all\\' />\\n<link rel=\\'stylesheet\\' id=\\'cookie-law-info-gdpr-css\\' href=\\'https://tribucodeup.wpenginepowered.com/wp-content/plugins/cookie-law-info/legacy/public/css/cookie-law-info-gdpr.css?ver=3.0.8\\' type=\\'text/css\\' media=\\'all\\' />\\n<link rel=\\'stylesheet\\' id=\\'divi-mobile-offcanvas-slide-in-css\\' href=\\'https://tribucodeup.wpenginepowered.com/wp-content/plugins/divi-mobile/styles/off-canvas/menu_sideslide.css?ver=1.7\\' type=\\'text/css\\' media=\\'all\\' />\\n<link rel=\\'stylesheet\\' id=\\'divi-mobile-stop-stacking-css\\' href=\\'https://tribucodeup.wpenginepowered.com/wp-content/plugins/divi-mobile/css/divi-mobile-stop-stacking.min.css?ver=6.1.1\\' type=\\'text/css\\' media=\\'all\\' />\\n<link rel=\\'stylesheet\\' id=\\'css-divi-area-css\\' href=\\'https://tribucodeup.wpenginepowered.com/wp-content/plugins/popups-for-divi/styles/front.min.css?ver=3.0.5\\' type=\\'text/css\\' media=\\'all\\' />\\n<style id=\\'css-divi-area-inline-css\\' type=\\'text/css\\'>\\n.et_pb_section.popup{display:none}\\n</style>\\n<style id=\\'divi-style-parent-inline-inline-css\\' type=\\'text/css\\'>\\n/*!\\nTheme Name: Divi\\nTheme URI: http://www.elegantthemes.com/gallery/divi/\\nVersion: 4.18.0\\nDescription: Smart. Flexible. Beautiful. Divi is the most powerful theme in our collection.\\nAuthor: Elegant Themes\\nAuthor URI: http://www.elegantthemes.com\\nLicense: GNU General Public License v2\\nLicense URI: http://www.gnu.org/licenses/gpl-2.0.html\\n*/\\n\\na,abbr,acronym,address,applet,b,big,blockquote,body,center,cite,code,dd,del,dfn,div,dl,dt,em,fieldset,font,form,h1,h2,h3,h4,h5,h6,html,i,iframe,img,ins,kbd,label,legend,li,object,ol,p,pre,q,s,samp,small,span,strike,strong,sub,sup,tt,u,ul,var{margin:0;padding:0;border:0;outline:0;font-size:100%;-ms-text-size-adjust:100%;-webkit-text-size-adjust:100%;vertical-align:baseline;background:transparent}body{line-height:1}ol,ul{list-style:none}blockquote,q{quotes:none}blockquote:after,blockquote:before,q:after,q:before{content:\"\";content:none}blockquote{margin:20px 0 30px;border-left:5px solid;padding-left:20px}:focus{outline:0}del{text-decoration:line-through}pre{overflow:auto;padding:10px}figure{margin:0}table{border-collapse:collapse;border-spacing:0}article,aside,footer,header,hgroup,nav,section{display:block}body{font-family:Open Sans,Arial,sans-serif;font-size:14px;color:#666;background-color:#fff;line-height:1.7em;font-weight:500;-webkit-font-smoothing:antialiased;-moz-osx-font-smoothing:grayscale}body.page-template-page-template-blank-php #page-container{padding-top:0!important}body.et_cover_background{background-size:cover!important;background-position:top!important;background-repeat:no-repeat!important;background-attachment:fixed}a{color:#2ea3f2}a,a:hover{text-decoration:none}p{padding-bottom:1em}p:not(.has-background):last-of-type{padding-bottom:0}p.et_normal_padding{padding-bottom:1em}strong{font-weight:700}cite,em,i{font-style:italic}code,pre{font-family:Courier New,monospace;margin-bottom:10px}ins{text-decoration:none}sub,sup{height:0;line-height:1;position:relative;vertical-align:baseline}sup{bottom:.8em}sub{top:.3em}dl{margin:0 0 1.5em}dl dt{font-weight:700}dd{margin-left:1.5em}blockquote p{padding-bottom:0}embed,iframe,object,video{max-width:100%}h1,h2,h3,h4,h5,h6{color:#333;padding-bottom:10px;line-height:1em;font-weight:500}h1 a,h2 a,h3 a,h4 a,h5 a,h6 a{color:inherit}h1{font-size:30px}h2{font-size:26px}h3{font-size:22px}h4{font-size:18px}h5{font-size:16px}h6{font-size:14px}input{-webkit-appearance:none}input[type=checkbox]{-webkit-appearance:checkbox}input[type=radio]{-webkit-appearance:radio}input.text,input.title,input[type=email],input[type=password],input[type=tel],input[type=text],select,textarea{background-color:#fff;border:1px solid #bbb;padding:2px;color:#4e4e4e}input.text:focus,input.title:focus,input[type=text]:focus,select:focus,textarea:focus{border-color:#2d3940;color:#3e3e3e}input.text,input.title,input[type=text],select,textarea{margin:0}textarea{padding:4px}button,input,select,textarea{font-family:inherit}img{max-width:100%;height:auto}.clear{clear:both}br.clear{margin:0;padding:0}.pagination{clear:both}#et_search_icon:hover,.et-social-icon a:hover,.et_password_protected_form .et_submit_button,.form-submit .et_pb_buttontton.alt.disabled,.nav-single a,.posted_in a{color:#2ea3f2}.et-search-form,blockquote{border-color:#2ea3f2}#main-content{background-color:#fff}.container{width:80%;max-width:1080px;margin:auto;position:relative}body:not(.et-tb) #main-content .container,body:not(.et-tb-has-header) #main-content .container{padding-top:58px}.et_full_width_page #main-content .container:before{display:none}.main_title{margin-bottom:20px}.et_password_protected_form .et_submit_button:hover,.form-submit .et_pb_button:hover{background:rgba(0,0,0,.05)}.et_button_icon_visible .et_pb_button{padding-right:2em;padding-left:.7em}.et_button_icon_visible .et_pb_button:after{opacity:1;margin-left:0}.et_button_left .et_pb_button:hover:after{left:.15em}.et_button_left .et_pb_button:after{margin-left:0;left:1em}.et_button_icon_visible.et_button_left .et_pb_button,.et_button_left .et_pb_button:hover,.et_button_left .et_pb_module .et_pb_button:hover{padding-left:2em;padding-right:.7em}.et_button_icon_visible.et_button_left .et_pb_button:after,.et_button_left .et_pb_button:hover:after{left:.15em}.et_password_protected_form .et_submit_button:hover,.form-submit .et_pb_button:hover{padding:.3em 1em}.et_button_no_icon .et_pb_button:after{display:none}.et_button_no_icon.et_button_icon_visible.et_button_left .et_pb_button,.et_button_no_icon.et_button_left .et_pb_button:hover,.et_button_no_icon .et_pb_button,.et_button_no_icon .et_pb_button:hover{padding:.3em 1em!important}.et_button_custom_icon .et_pb_button:after{line-height:1.7em}.et_button_custom_icon.et_button_icon_visible .et_pb_button:after,.et_button_custom_icon .et_pb_button:hover:after{margin-left:.3em}#left-area .post_format-post-format-gallery .wp-block-gallery:first-of-type{padding:0;margin-bottom:-16px}.entry-content table:not(.variations){border:1px solid #eee;margin:0 0 15px;text-align:left;width:100%}.entry-content thead th,.entry-content tr th{color:#555;font-weight:700;padding:9px 24px}.entry-content tr td{border-top:1px solid #eee;padding:6px 24px}#left-area ul,.entry-content ul,.et-l--body ul,.et-l--footer ul,.et-l--header ul{list-style-type:disc;padding:0 0 23px 1em;line-height:26px}#left-area ol,.entry-content ol,.et-l--body ol,.et-l--footer ol,.et-l--header ol{list-style-type:decimal;list-style-position:inside;padding:0 0 23px;line-height:26px}#left-area ul li ul,.entry-content ul li ol{padding:2px 0 2px 20px}#left-area ol li ul,.entry-content ol li ol,.et-l--body ol li ol,.et-l--footer ol li ol,.et-l--header ol li ol{padding:2px 0 2px 35px}#left-area ul.wp-block-gallery{display:-webkit-box;display:-ms-flexbox;display:flex;-ms-flex-wrap:wrap;flex-wrap:wrap;list-style-type:none;padding:0}#left-area ul.products{padding:0!important;line-height:1.7!important;list-style:none!important}.gallery-item a{display:block}.gallery-caption,.gallery-item a{width:90%}#wpadminbar{z-index:100001}#left-area .post-meta{font-size:14px;padding-bottom:15px}#left-area .post-meta a{text-decoration:none;color:#666}#left-area .et_featured_image{padding-bottom:7px}.single .post{padding-bottom:25px}body.single .et_audio_content{margin-bottom:-6px}.nav-single a{text-decoration:none;color:#2ea3f2;font-size:14px;font-weight:400}.nav-previous{float:left}.nav-next{float:right}.et_password_protected_form p input{background-color:#eee;border:none!important;width:100%!important;border-radius:0!important;font-size:14px;color:#999!important;padding:16px!important;-webkit-box-sizing:border-box;box-sizing:border-box}.et_password_protected_form label{display:none}.et_password_protected_form .et_submit_button{font-family:inherit;display:block;float:right;margin:8px auto 0;cursor:pointer}.post-password-required p.nocomments.container{max-width:100%}.post-password-required p.nocomments.container:before{display:none}.aligncenter,div.post .new-post .aligncenter{display:block;margin-left:auto;margin-right:auto}.wp-caption{border:1px solid #ddd;text-align:center;background-color:#f3f3f3;margin-bottom:10px;max-width:96%;padding:8px}.wp-caption.alignleft{margin:0 30px 20px 0}.wp-caption.alignright{margin:0 0 20px 30px}.wp-caption img{margin:0;padding:0;border:0}.wp-caption p.wp-caption-text{font-size:12px;padding:0 4px 5px;margin:0}.alignright{float:right}.alignleft{float:left}img.alignleft{display:inline;float:left;margin-right:15px}img.alignright{display:inline;float:right;margin-left:15px}.page.et_pb_pagebuilder_layout #main-content{background-color:transparent}body #main-content .et_builder_inner_content>h1,body #main-content .et_builder_inner_content>h2,body #main-content .et_builder_inner_content>h3,body #main-content .et_builder_inner_content>h4,body #main-content .et_builder_inner_content>h5,body #main-content .et_builder_inner_content>h6{line-height:1.4em}body #main-content .et_builder_inner_content>p{line-height:1.7em}.wp-block-pullquote{margin:20px 0 30px}.wp-block-pullquote.has-background blockquote{border-left:none}.wp-block-group.has-background{padding:1.5em 1.5em .5em}@media (min-width:981px){#left-area{width:79.125%;padding-bottom:23px}#main-content .container:before{content:\"\";position:absolute;top:0;height:100%;width:1px;background-color:#e2e2e2}.et_full_width_page #left-area,.et_no_sidebar #left-area{float:none;width:100%!important}.et_full_width_page #left-area{padding-bottom:0}.et_no_sidebar #main-content .container:before{display:none}}@media (max-width:980px){#page-container{padding-top:80px}.et-tb #page-container,.et-tb-has-header #page-container{padding-top:0!important}#left-area,#sidebar{width:100%!important}#main-content .container:before{display:none!important}.et_full_width_page .et_gallery_item:nth-child(4n+1){clear:none}}@media print{#page-container{padding-top:0!important}}#wp-admin-bar-et-use-visual-builder a:before{font-family:ETmodules!important;content:\"\\\\e625\";font-size:30px!important;width:28px;margin-top:-3px;color:#974df3!important}#wp-admin-bar-et-use-visual-builder:hover a:before{color:#fff!important}#wp-admin-bar-et-use-visual-builder:hover a,#wp-admin-bar-et-use-visual-builder a:hover{transition:background-color .5s ease;-webkit-transition:background-color .5s ease;-moz-transition:background-color .5s ease;background-color:#7e3bd0!important;color:#fff!important}* html .clearfix,:first-child+html .clearfix{zoom:1}.iphone .et_pb_section_video_bg video::-webkit-media-controls-start-playback-button{display:none!important;-webkit-appearance:none}.et_mobile_device .et_pb_section_parallax .et_pb_parallax_css{background-attachment:scroll}.et-social-facebook a.icon:before{content:\"\\\\e093\"}.et-social-twitter a.icon:before{content:\"\\\\e094\"}.et-social-google-plus a.icon:before{content:\"\\\\e096\"}.et-social-instagram a.icon:before{content:\"\\\\e09a\"}.et-social-rss a.icon:before{content:\"\\\\e09e\"}.ai1ec-single-event:after{content:\" \";display:table;clear:both}.evcal_event_details .evcal_evdata_cell .eventon_details_shading_bot.eventon_details_shading_bot{z-index:3}.wp-block-divi-layout{margin-bottom:1em}*{-webkit-box-sizing:border-box;box-sizing:border-box}#et-info-email:before,#et-info-phone:before,#et_search_icon:before,.comment-reply-link:after,.et-cart-info span:before,.et-pb-arrow-next:before,.et-pb-arrow-prev:before,.et-social-icon a:before,.et_audio_container .mejs-playpause-button button:before,.et_audio_container .mejs-volume-button button:before,.et_overlay:before,.et_password_protected_form .et_submit_button:after,.et_pb_button:after,.et_pb_contact_reset:after,.et_pb_contact_submit:after,.et_pb_font_icon:before,.et_pb_newsletter_button:after,.et_pb_pricing_table_button:after,.et_pb_promo_button:after,.et_pb_testimonial:before,.et_pb_toggle_title:before,.form-submit .et_pb_button:after,.mobile_menu_bar:before,a.et_pb_more_button:after{font-family:ETmodules!important;speak:none;font-style:normal;font-weight:400;-webkit-font-feature-settings:normal;font-feature-settings:normal;font-variant:normal;text-transform:none;line-height:1;-webkit-font-smoothing:antialiased;-moz-osx-font-smoothing:grayscale;text-shadow:0 0;direction:ltr}.et-pb-icon,.et_pb_custom_button_icon.et_pb_button:after,.et_pb_login .et_pb_custom_button_icon.et_pb_button:after,.et_pb_woo_custom_button_icon .button.et_pb_custom_button_icon.et_pb_button:after,.et_pb_woo_custom_button_icon .button.et_pb_custom_button_icon.et_pb_button:hover:after{content:attr(data-icon)}.et-pb-icon{font-family:ETmodules;speak:none;font-weight:400;-webkit-font-feature-settings:normal;font-feature-settings:normal;font-variant:normal;text-transform:none;line-height:1;-webkit-font-smoothing:antialiased;font-size:96px;font-style:normal;display:inline-block;-webkit-box-sizing:border-box;box-sizing:border-box;direction:ltr}#et-ajax-saving{display:none;-webkit-transition:background .3s,-webkit-box-shadow .3s;transition:background .3s,-webkit-box-shadow .3s;transition:background .3s,box-shadow .3s;transition:background .3s,box-shadow .3s,-webkit-box-shadow .3s;-webkit-box-shadow:rgba(0,139,219,.247059) 0 0 60px;box-shadow:0 0 60px rgba(0,139,219,.247059);position:fixed;top:50%;left:50%;width:50px;height:50px;background:#fff;border-radius:50px;margin:-25px 0 0 -25px;z-index:999999;text-align:center}#et-ajax-saving img{margin:9px}.et-safe-mode-indicator,.et-safe-mode-indicator:focus,.et-safe-mode-indicator:hover{-webkit-box-shadow:0 5px 10px rgba(41,196,169,.15);box-shadow:0 5px 10px rgba(41,196,169,.15);background:#29c4a9;color:#fff;font-size:14px;font-weight:600;padding:12px;line-height:16px;border-radius:3px;position:fixed;bottom:30px;right:30px;z-index:999999;text-decoration:none;font-family:Open Sans,sans-serif;-webkit-font-smoothing:antialiased;-moz-osx-font-smoothing:grayscale}.et_pb_button{font-size:20px;font-weight:500;padding:.3em 1em;line-height:1.7em!important;background-color:transparent;background-size:cover;background-position:50%;background-repeat:no-repeat;border:2px solid;border-radius:3px;-webkit-transition-duration:.2s;transition-duration:.2s;-webkit-transition-property:all!important;transition-property:all!important}.et_pb_button,.et_pb_button_inner{position:relative}.et_pb_button:hover,.et_pb_module .et_pb_button:hover{border:2px solid transparent;padding:.3em 2em .3em .7em}.et_pb_button:hover{background-color:hsla(0,0%,100%,.2)}.et_pb_bg_layout_light.et_pb_button:hover,.et_pb_bg_layout_light .et_pb_button:hover{background-color:rgba(0,0,0,.05)}.et_pb_button:after,.et_pb_button:before{font-size:32px;line-height:1em;content:\"\\\\35\";opacity:0;position:absolute;margin-left:-1em;-webkit-transition:all .2s;transition:all .2s;text-transform:none;-webkit-font-feature-settings:\"kern\" off;font-feature-settings:\"kern\" off;font-variant:none;font-style:normal;font-weight:400;text-shadow:none}.et_pb_button.et_hover_enabled:hover:after,.et_pb_button.et_pb_hovered:hover:after{-webkit-transition:none!important;transition:none!important}.et_pb_button:before{display:none}.et_pb_button:hover:after{opacity:1;margin-left:0}.et_pb_column_1_3 h1,.et_pb_column_1_4 h1,.et_pb_column_1_5 h1,.et_pb_column_1_6 h1,.et_pb_column_2_5 h1{font-size:26px}.et_pb_column_1_3 h2,.et_pb_column_1_4 h2,.et_pb_column_1_5 h2,.et_pb_column_1_6 h2,.et_pb_column_2_5 h2{font-size:23px}.et_pb_column_1_3 h3,.et_pb_column_1_4 h3,.et_pb_column_1_5 h3,.et_pb_column_1_6 h3,.et_pb_column_2_5 h3{font-size:20px}.et_pb_column_1_3 h4,.et_pb_column_1_4 h4,.et_pb_column_1_5 h4,.et_pb_column_1_6 h4,.et_pb_column_2_5 h4{font-size:18px}.et_pb_column_1_3 h5,.et_pb_column_1_4 h5,.et_pb_column_1_5 h5,.et_pb_column_1_6 h5,.et_pb_column_2_5 h5{font-size:16px}.et_pb_column_1_3 h6,.et_pb_column_1_4 h6,.et_pb_column_1_5 h6,.et_pb_column_1_6 h6,.et_pb_column_2_5 h6{font-size:15px}.et_pb_bg_layout_dark,.et_pb_bg_layout_dark h1,.et_pb_bg_layout_dark h2,.et_pb_bg_layout_dark h3,.et_pb_bg_layout_dark h4,.et_pb_bg_layout_dark h5,.et_pb_bg_layout_dark h6{color:#fff!important}.et_pb_module.et_pb_text_align_left{text-align:left}.et_pb_module.et_pb_text_align_center{text-align:center}.et_pb_module.et_pb_text_align_right{text-align:right}.et_pb_module.et_pb_text_align_justified{text-align:justify}.clearfix:after{visibility:hidden;display:block;font-size:0;content:\" \";clear:both;height:0}.et_pb_bg_layout_light .et_pb_more_button{color:#2ea3f2}.et_builder_inner_content{position:relative;z-index:1}header .et_builder_inner_content{z-index:2}.et_pb_css_mix_blend_mode_passthrough{mix-blend-mode:unset!important}.et_pb_image_container{margin:-20px -20px 29px}.et_pb_module_inner{position:relative}.et_hover_enabled_preview{z-index:2}.et_hover_enabled:hover{position:relative;z-index:2}.et_pb_all_tabs,.et_pb_module,.et_pb_posts_nav a,.et_pb_tab,.et_pb_with_background{position:relative;background-size:cover;background-position:50%;background-repeat:no-repeat}.et_pb_background_mask,.et_pb_background_pattern{bottom:0;left:0;position:absolute;right:0;top:0}.et_pb_background_mask{background-size:calc(100% + 2px) calc(100% + 2px);background-repeat:no-repeat;background-position:50%;overflow:hidden}.et_pb_background_pattern{background-position:0 0;background-repeat:repeat}.et_pb_with_border{position:relative;border:0 solid #333}.post-password-required .et_pb_row{padding:0;width:100%}.post-password-required .et_password_protected_form{min-height:0}body.et_pb_pagebuilder_layout.et_pb_show_title .post-password-required .et_password_protected_form h1,body:not(.et_pb_pagebuilder_layout) .post-password-required .et_password_protected_form h1{display:none}.et_pb_no_bg{padding:0!important}.et_overlay.et_pb_inline_icon:before,.et_pb_inline_icon:before{content:attr(data-icon)}.et_pb_more_button{color:inherit;text-shadow:none;text-decoration:none;display:inline-block;margin-top:20px}.et_parallax_bg_wrap{overflow:hidden;position:absolute;top:0;right:0;bottom:0;left:0}.et_parallax_bg{background-repeat:no-repeat;background-position:top;background-size:cover;position:absolute;bottom:0;left:0;width:100%;height:100%;display:block}.et_parallax_bg.et_parallax_bg__hover,.et_parallax_bg.et_parallax_bg_phone,.et_parallax_bg.et_parallax_bg_tablet,.et_parallax_gradient.et_parallax_gradient__hover,.et_parallax_gradient.et_parallax_gradient_phone,.et_parallax_gradient.et_parallax_gradient_tablet,.et_pb_section_parallax_hover:hover .et_parallax_bg:not(.et_parallax_bg__hover),.et_pb_section_parallax_hover:hover .et_parallax_gradient:not(.et_parallax_gradient__hover){display:none}.et_pb_section_parallax_hover:hover .et_parallax_bg.et_parallax_bg__hover,.et_pb_section_parallax_hover:hover .et_parallax_gradient.et_parallax_gradient__hover{display:block}.et_parallax_gradient{bottom:0;display:block;left:0;position:absolute;right:0;top:0}.et_pb_module.et_pb_section_parallax,.et_pb_posts_nav a.et_pb_section_parallax,.et_pb_tab.et_pb_section_parallax{position:relative}.et_pb_section_parallax .et_pb_parallax_css,.et_pb_slides .et_parallax_bg.et_pb_parallax_css{background-attachment:fixed}body.et-bfb .et_pb_section_parallax .et_pb_parallax_css,body.et-bfb .et_pb_slides .et_parallax_bg.et_pb_parallax_css{background-attachment:scroll;bottom:auto}.et_pb_section_parallax.et_pb_column .et_pb_module,.et_pb_section_parallax.et_pb_row .et_pb_column,.et_pb_section_parallax.et_pb_row .et_pb_module{z-index:9;position:relative}.et_pb_more_button:hover:after{opacity:1;margin-left:0}.et_pb_preload .et_pb_section_video_bg,.et_pb_preload>div{visibility:hidden}.et_pb_preload,.et_pb_section.et_pb_section_video.et_pb_preload{position:relative;background:#464646!important}.et_pb_preload:before{content:\"\";position:absolute;top:50%;left:50%;background:url(https://tribucodeup.wpenginepowered.com/wp-content/themes/Divi/includes/builder/styles/images/preloader.gif) no-repeat;border-radius:32px;width:32px;height:32px;margin:-16px 0 0 -16px}.box-shadow-overlay{position:absolute;top:0;left:0;width:100%;height:100%;z-index:10;pointer-events:none}.et_pb_section>.box-shadow-overlay~.et_pb_row{z-index:11}body.safari .section_has_divider{will-change:transform}.et_pb_row>.box-shadow-overlay{z-index:8}.has-box-shadow-overlay{position:relative}.et_clickable{cursor:pointer}.screen-reader-text{border:0;clip:rect(1px,1px,1px,1px);-webkit-clip-path:inset(50%);clip-path:inset(50%);height:1px;margin:-1px;overflow:hidden;padding:0;position:absolute!important;width:1px;word-wrap:normal!important}.et_multi_view_hidden,.et_multi_view_hidden_image{display:none!important}@keyframes multi-view-image-fade{0%{opacity:0}10%{opacity:.1}20%{opacity:.2}30%{opacity:.3}40%{opacity:.4}50%{opacity:.5}60%{opacity:.6}70%{opacity:.7}80%{opacity:.8}90%{opacity:.9}to{opacity:1}}.et_multi_view_image__loading{visibility:hidden}.et_multi_view_image__loaded{-webkit-animation:multi-view-image-fade .5s;animation:multi-view-image-fade .5s}#et-pb-motion-effects-offset-tracker{visibility:hidden!important;opacity:0;position:absolute;top:0;left:0}.et-pb-before-scroll-animation{opacity:0}header.et-l.et-l--header:after{clear:both;display:block;content:\"\"}.et_pb_module{-webkit-animation-timing-function:linear;animation-timing-function:linear;-webkit-animation-duration:.2s;animation-duration:.2s}@-webkit-keyframes fadeBottom{0%{opacity:0;-webkit-transform:translateY(10%);transform:translateY(10%)}to{opacity:1;-webkit-transform:translateY(0);transform:translateY(0)}}@keyframes fadeBottom{0%{opacity:0;-webkit-transform:translateY(10%);transform:translateY(10%)}to{opacity:1;-webkit-transform:translateY(0);transform:translateY(0)}}@-webkit-keyframes fadeLeft{0%{opacity:0;-webkit-transform:translateX(-10%);transform:translateX(-10%)}to{opacity:1;-webkit-transform:translateX(0);transform:translateX(0)}}@keyframes fadeLeft{0%{opacity:0;-webkit-transform:translateX(-10%);transform:translateX(-10%)}to{opacity:1;-webkit-transform:translateX(0);transform:translateX(0)}}@-webkit-keyframes fadeRight{0%{opacity:0;-webkit-transform:translateX(10%);transform:translateX(10%)}to{opacity:1;-webkit-transform:translateX(0);transform:translateX(0)}}@keyframes fadeRight{0%{opacity:0;-webkit-transform:translateX(10%);transform:translateX(10%)}to{opacity:1;-webkit-transform:translateX(0);transform:translateX(0)}}@-webkit-keyframes fadeTop{0%{opacity:0;-webkit-transform:translateY(-10%);transform:translateY(-10%)}to{opacity:1;-webkit-transform:translateX(0);transform:translateX(0)}}@keyframes fadeTop{0%{opacity:0;-webkit-transform:translateY(-10%);transform:translateY(-10%)}to{opacity:1;-webkit-transform:translateX(0);transform:translateX(0)}}@-webkit-keyframes fadeIn{0%{opacity:0}to{opacity:1}}@keyframes fadeIn{0%{opacity:0}to{opacity:1}}.et-waypoint:not(.et_pb_counters){opacity:0}@media (min-width:981px){.et_pb_section.et_section_specialty div.et_pb_row .et_pb_column .et_pb_column .et_pb_module.et-last-child,.et_pb_section.et_section_specialty div.et_pb_row .et_pb_column .et_pb_column .et_pb_module:last-child,.et_pb_section.et_section_specialty div.et_pb_row .et_pb_column .et_pb_row_inner .et_pb_column .et_pb_module.et-last-child,.et_pb_section.et_section_specialty div.et_pb_row .et_pb_column .et_pb_row_inner .et_pb_column .et_pb_module:last-child,.et_pb_section div.et_pb_row .et_pb_column .et_pb_module.et-last-child,.et_pb_section div.et_pb_row .et_pb_column .et_pb_module:last-child{margin-bottom:0}}@media (max-width:980px){.et_overlay.et_pb_inline_icon_tablet:before,.et_pb_inline_icon_tablet:before{content:attr(data-icon-tablet)}.et_parallax_bg.et_parallax_bg_tablet_exist,.et_parallax_gradient.et_parallax_gradient_tablet_exist{display:none}.et_parallax_bg.et_parallax_bg_tablet,.et_parallax_gradient.et_parallax_gradient_tablet{display:block}.et_pb_column .et_pb_module{margin-bottom:30px}.et_pb_row .et_pb_column .et_pb_module.et-last-child,.et_pb_row .et_pb_column .et_pb_module:last-child,.et_section_specialty .et_pb_row .et_pb_column .et_pb_module.et-last-child,.et_section_specialty .et_pb_row .et_pb_column .et_pb_module:last-child{margin-bottom:0}.et_pb_more_button{display:inline-block!important}.et_pb_bg_layout_light_tablet.et_pb_button,.et_pb_bg_layout_light_tablet.et_pb_module.et_pb_button,.et_pb_bg_layout_light_tablet .et_pb_more_button{color:#2ea3f2}.et_pb_bg_layout_light_tablet .et_pb_forgot_password a{color:#666}.et_pb_bg_layout_light_tablet h1,.et_pb_bg_layout_light_tablet h2,.et_pb_bg_layout_light_tablet h3,.et_pb_bg_layout_light_tablet h4,.et_pb_bg_layout_light_tablet h5,.et_pb_bg_layout_light_tablet h6{color:#333!important}.et_pb_module .et_pb_bg_layout_light_tablet.et_pb_button{color:#2ea3f2!important}.et_pb_bg_layout_light_tablet{color:#666!important}.et_pb_bg_layout_dark_tablet,.et_pb_bg_layout_dark_tablet h1,.et_pb_bg_layout_dark_tablet h2,.et_pb_bg_layout_dark_tablet h3,.et_pb_bg_layout_dark_tablet h4,.et_pb_bg_layout_dark_tablet h5,.et_pb_bg_layout_dark_tablet h6{color:#fff!important}.et_pb_bg_layout_dark_tablet.et_pb_button,.et_pb_bg_layout_dark_tablet.et_pb_module.et_pb_button,.et_pb_bg_layout_dark_tablet .et_pb_more_button{color:inherit}.et_pb_bg_layout_dark_tablet .et_pb_forgot_password a{color:#fff}.et_pb_module.et_pb_text_align_left-tablet{text-align:left}.et_pb_module.et_pb_text_align_center-tablet{text-align:center}.et_pb_module.et_pb_text_align_right-tablet{text-align:right}.et_pb_module.et_pb_text_align_justified-tablet{text-align:justify}}@media (max-width:767px){.et_pb_more_button{display:inline-block!important}.et_overlay.et_pb_inline_icon_phone:before,.et_pb_inline_icon_phone:before{content:attr(data-icon-phone)}.et_parallax_bg.et_parallax_bg_phone_exist,.et_parallax_gradient.et_parallax_gradient_phone_exist{display:none}.et_parallax_bg.et_parallax_bg_phone,.et_parallax_gradient.et_parallax_gradient_phone{display:block}.et-hide-mobile{display:none!important}.et_pb_bg_layout_light_phone.et_pb_button,.et_pb_bg_layout_light_phone.et_pb_module.et_pb_button,.et_pb_bg_layout_light_phone .et_pb_more_button{color:#2ea3f2}.et_pb_bg_layout_light_phone .et_pb_forgot_password a{color:#666}.et_pb_bg_layout_light_phone h1,.et_pb_bg_layout_light_phone h2,.et_pb_bg_layout_light_phone h3,.et_pb_bg_layout_light_phone h4,.et_pb_bg_layout_light_phone h5,.et_pb_bg_layout_light_phone h6{color:#333!important}.et_pb_module .et_pb_bg_layout_light_phone.et_pb_button{color:#2ea3f2!important}.et_pb_bg_layout_light_phone{color:#666!important}.et_pb_bg_layout_dark_phone,.et_pb_bg_layout_dark_phone h1,.et_pb_bg_layout_dark_phone h2,.et_pb_bg_layout_dark_phone h3,.et_pb_bg_layout_dark_phone h4,.et_pb_bg_layout_dark_phone h5,.et_pb_bg_layout_dark_phone h6{color:#fff!important}.et_pb_bg_layout_dark_phone.et_pb_button,.et_pb_bg_layout_dark_phone.et_pb_module.et_pb_button,.et_pb_bg_layout_dark_phone .et_pb_more_button{color:inherit}.et_pb_module .et_pb_bg_layout_dark_phone.et_pb_button{color:#fff!important}.et_pb_bg_layout_dark_phone .et_pb_forgot_password a{color:#fff}.et_pb_module.et_pb_text_align_left-phone{text-align:left}.et_pb_module.et_pb_text_align_center-phone{text-align:center}.et_pb_module.et_pb_text_align_right-phone{text-align:right}.et_pb_module.et_pb_text_align_justified-phone{text-align:justify}}@media (max-width:479px){a.et_pb_more_button{display:block}}@media (min-width:768px) and (max-width:980px){[data-et-multi-view-load-tablet-hidden=true]:not(.et_multi_view_swapped){display:none!important}}@media (max-width:767px){[data-et-multi-view-load-phone-hidden=true]:not(.et_multi_view_swapped){display:none!important}}.et_pb_menu.et_pb_menu--style-inline_centered_logo .et_pb_menu__menu nav ul{-webkit-box-pack:center;-ms-flex-pack:center;justify-content:center}@-webkit-keyframes multi-view-image-fade{0%{-webkit-transform:scale(1);transform:scale(1);opacity:1}50%{-webkit-transform:scale(1.01);transform:scale(1.01);opacity:1}to{-webkit-transform:scale(1);transform:scale(1);opacity:1}}\\n</style>\\n<style id=\\'divi-dynamic-critical-inline-css\\' type=\\'text/css\\'>\\n@font-face{font-family:ETmodules;font-display:block;src:url(//codeup.com/wp-content/themes/Divi/core/admin/fonts/modules/all/modules.eot);src:url(//codeup.com/wp-content/themes/Divi/core/admin/fonts/modules/all/modules.eot?#iefix) format(\"embedded-opentype\"),url(//codeup.com/wp-content/themes/Divi/core/admin/fonts/modules/all/modules.ttf) format(\"truetype\"),url(//codeup.com/wp-content/themes/Divi/core/admin/fonts/modules/all/modules.woff) format(\"woff\"),url(//codeup.com/wp-content/themes/Divi/core/admin/fonts/modules/all/modules.svg#ETmodules) format(\"svg\");font-weight:400;font-style:normal}\\n.et_audio_content,.et_link_content,.et_quote_content{background-color:#2ea3f2}.et_pb_post .et-pb-controllers a{margin-bottom:10px}.format-gallery .et-pb-controllers{bottom:0}.et_pb_blog_grid .et_audio_content{margin-bottom:19px}.et_pb_row .et_pb_blog_grid .et_pb_post .et_pb_slide{min-height:180px}.et_audio_content .wp-block-audio{margin:0;padding:0}.et_audio_content h2{line-height:44px}.et_pb_column_1_2 .et_audio_content h2,.et_pb_column_1_3 .et_audio_content h2,.et_pb_column_1_4 .et_audio_content h2,.et_pb_column_1_5 .et_audio_content h2,.et_pb_column_1_6 .et_audio_content h2,.et_pb_column_2_5 .et_audio_content h2,.et_pb_column_3_5 .et_audio_content h2,.et_pb_column_3_8 .et_audio_content h2{margin-bottom:9px;margin-top:0}.et_pb_column_1_2 .et_audio_content,.et_pb_column_3_5 .et_audio_content{padding:35px 40px}.et_pb_column_1_2 .et_audio_content h2,.et_pb_column_3_5 .et_audio_content h2{line-height:32px}.et_pb_column_1_3 .et_audio_content,.et_pb_column_1_4 .et_audio_content,.et_pb_column_1_5 .et_audio_content,.et_pb_column_1_6 .et_audio_content,.et_pb_column_2_5 .et_audio_content,.et_pb_column_3_8 .et_audio_content{padding:35px 20px}.et_pb_column_1_3 .et_audio_content h2,.et_pb_column_1_4 .et_audio_content h2,.et_pb_column_1_5 .et_audio_content h2,.et_pb_column_1_6 .et_audio_content h2,.et_pb_column_2_5 .et_audio_content h2,.et_pb_column_3_8 .et_audio_content h2{font-size:18px;line-height:26px}article.et_pb_has_overlay .et_pb_blog_image_container{position:relative}.et_pb_post>.et_main_video_container{position:relative;margin-bottom:30px}.et_pb_post .et_pb_video_overlay .et_pb_video_play{color:#fff}.et_pb_post .et_pb_video_overlay_hover:hover{background:rgba(0,0,0,.6)}.et_audio_content,.et_link_content,.et_quote_content{text-align:center;word-wrap:break-word;position:relative;padding:50px 60px}.et_audio_content h2,.et_link_content a.et_link_main_url,.et_link_content h2,.et_quote_content blockquote cite,.et_quote_content blockquote p{color:#fff!important}.et_quote_main_link{position:absolute;text-indent:-9999px;width:100%;height:100%;display:block;top:0;left:0}.et_quote_content blockquote{padding:0;margin:0;border:none}.et_audio_content h2,.et_link_content h2,.et_quote_content blockquote p{margin-top:0}.et_audio_content h2{margin-bottom:20px}.et_audio_content h2,.et_link_content h2,.et_quote_content blockquote p{line-height:44px}.et_link_content a.et_link_main_url,.et_quote_content blockquote cite{font-size:18px;font-weight:200}.et_quote_content blockquote cite{font-style:normal}.et_pb_column_2_3 .et_quote_content{padding:50px 42px 45px}.et_pb_column_2_3 .et_audio_content,.et_pb_column_2_3 .et_link_content{padding:40px 40px 45px}.et_pb_column_1_2 .et_audio_content,.et_pb_column_1_2 .et_link_content,.et_pb_column_1_2 .et_quote_content,.et_pb_column_3_5 .et_audio_content,.et_pb_column_3_5 .et_link_content,.et_pb_column_3_5 .et_quote_content{padding:35px 40px}.et_pb_column_1_2 .et_quote_content blockquote p,.et_pb_column_3_5 .et_quote_content blockquote p{font-size:26px;line-height:32px}.et_pb_column_1_2 .et_audio_content h2,.et_pb_column_1_2 .et_link_content h2,.et_pb_column_3_5 .et_audio_content h2,.et_pb_column_3_5 .et_link_content h2{line-height:32px}.et_pb_column_1_2 .et_link_content a.et_link_main_url,.et_pb_column_1_2 .et_quote_content blockquote cite,.et_pb_column_3_5 .et_link_content a.et_link_main_url,.et_pb_column_3_5 .et_quote_content blockquote cite{font-size:14px}.et_pb_column_1_3 .et_quote_content,.et_pb_column_1_4 .et_quote_content,.et_pb_column_1_5 .et_quote_content,.et_pb_column_1_6 .et_quote_content,.et_pb_column_2_5 .et_quote_content,.et_pb_column_3_8 .et_quote_content{padding:35px 30px 32px}.et_pb_column_1_3 .et_audio_content,.et_pb_column_1_3 .et_link_content,.et_pb_column_1_4 .et_audio_content,.et_pb_column_1_4 .et_link_content,.et_pb_column_1_5 .et_audio_content,.et_pb_column_1_5 .et_link_content,.et_pb_column_1_6 .et_audio_content,.et_pb_column_1_6 .et_link_content,.et_pb_column_2_5 .et_audio_content,.et_pb_column_2_5 .et_link_content,.et_pb_column_3_8 .et_audio_content,.et_pb_column_3_8 .et_link_content{padding:35px 20px}.et_pb_column_1_3 .et_audio_content h2,.et_pb_column_1_3 .et_link_content h2,.et_pb_column_1_3 .et_quote_content blockquote p,.et_pb_column_1_4 .et_audio_content h2,.et_pb_column_1_4 .et_link_content h2,.et_pb_column_1_4 .et_quote_content blockquote p,.et_pb_column_1_5 .et_audio_content h2,.et_pb_column_1_5 .et_link_content h2,.et_pb_column_1_5 .et_quote_content blockquote p,.et_pb_column_1_6 .et_audio_content h2,.et_pb_column_1_6 .et_link_content h2,.et_pb_column_1_6 .et_quote_content blockquote p,.et_pb_column_2_5 .et_audio_content h2,.et_pb_column_2_5 .et_link_content h2,.et_pb_column_2_5 .et_quote_content blockquote p,.et_pb_column_3_8 .et_audio_content h2,.et_pb_column_3_8 .et_link_content h2,.et_pb_column_3_8 .et_quote_content blockquote p{font-size:18px;line-height:26px}.et_pb_column_1_3 .et_link_content a.et_link_main_url,.et_pb_column_1_3 .et_quote_content blockquote cite,.et_pb_column_1_4 .et_link_content a.et_link_main_url,.et_pb_column_1_4 .et_quote_content blockquote cite,.et_pb_column_1_5 .et_link_content a.et_link_main_url,.et_pb_column_1_5 .et_quote_content blockquote cite,.et_pb_column_1_6 .et_link_content a.et_link_main_url,.et_pb_column_1_6 .et_quote_content blockquote cite,.et_pb_column_2_5 .et_link_content a.et_link_main_url,.et_pb_column_2_5 .et_quote_content blockquote cite,.et_pb_column_3_8 .et_link_content a.et_link_main_url,.et_pb_column_3_8 .et_quote_content blockquote cite{font-size:14px}.et_pb_post .et_pb_gallery_post_type .et_pb_slide{min-height:500px;background-size:cover!important;background-position:top}.format-gallery .et_pb_slider.gallery-not-found .et_pb_slide{-webkit-box-shadow:inset 0 0 10px rgba(0,0,0,.1);box-shadow:inset 0 0 10px rgba(0,0,0,.1)}.format-gallery .et_pb_slider:hover .et-pb-arrow-prev{left:0}.format-gallery .et_pb_slider:hover .et-pb-arrow-next{right:0}.et_pb_post>.et_pb_slider{margin-bottom:30px}.et_pb_column_3_4 .et_pb_post .et_pb_slide{min-height:442px}.et_pb_column_2_3 .et_pb_post .et_pb_slide{min-height:390px}.et_pb_column_1_2 .et_pb_post .et_pb_slide,.et_pb_column_3_5 .et_pb_post .et_pb_slide{min-height:284px}.et_pb_column_1_3 .et_pb_post .et_pb_slide,.et_pb_column_2_5 .et_pb_post .et_pb_slide,.et_pb_column_3_8 .et_pb_post .et_pb_slide{min-height:180px}.et_pb_column_1_4 .et_pb_post .et_pb_slide,.et_pb_column_1_5 .et_pb_post .et_pb_slide,.et_pb_column_1_6 .et_pb_post .et_pb_slide{min-height:125px}.et_pb_portfolio.et_pb_section_parallax .pagination,.et_pb_portfolio.et_pb_section_video .pagination,.et_pb_portfolio_grid.et_pb_section_parallax .pagination,.et_pb_portfolio_grid.et_pb_section_video .pagination{position:relative}.et_pb_bg_layout_light .et_pb_post .post-meta,.et_pb_bg_layout_light .et_pb_post .post-meta a,.et_pb_bg_layout_light .et_pb_post p{color:#666}.et_pb_bg_layout_dark .et_pb_post .post-meta,.et_pb_bg_layout_dark .et_pb_post .post-meta a,.et_pb_bg_layout_dark .et_pb_post p{color:inherit}.et_pb_text_color_dark .et_audio_content h2,.et_pb_text_color_dark .et_link_content a.et_link_main_url,.et_pb_text_color_dark .et_link_content h2,.et_pb_text_color_dark .et_quote_content blockquote cite,.et_pb_text_color_dark .et_quote_content blockquote p{color:#666!important}.et_pb_text_color_dark.et_audio_content h2,.et_pb_text_color_dark.et_link_content a.et_link_main_url,.et_pb_text_color_dark.et_link_content h2,.et_pb_text_color_dark.et_quote_content blockquote cite,.et_pb_text_color_dark.et_quote_content blockquote p{color:#bbb!important}.et_pb_text_color_dark.et_audio_content,.et_pb_text_color_dark.et_link_content,.et_pb_text_color_dark.et_quote_content{background-color:#e8e8e8}@media (min-width:981px) and (max-width:1100px){.et_quote_content{padding:50px 70px 45px}.et_pb_column_2_3 .et_quote_content{padding:50px 50px 45px}.et_pb_column_1_2 .et_quote_content,.et_pb_column_3_5 .et_quote_content{padding:35px 47px 30px}.et_pb_column_1_3 .et_quote_content,.et_pb_column_1_4 .et_quote_content,.et_pb_column_1_5 .et_quote_content,.et_pb_column_1_6 .et_quote_content,.et_pb_column_2_5 .et_quote_content,.et_pb_column_3_8 .et_quote_content{padding:35px 25px 32px}.et_pb_column_4_4 .et_pb_post .et_pb_slide{min-height:534px}.et_pb_column_3_4 .et_pb_post .et_pb_slide{min-height:392px}.et_pb_column_2_3 .et_pb_post .et_pb_slide{min-height:345px}.et_pb_column_1_2 .et_pb_post .et_pb_slide,.et_pb_column_3_5 .et_pb_post .et_pb_slide{min-height:250px}.et_pb_column_1_3 .et_pb_post .et_pb_slide,.et_pb_column_2_5 .et_pb_post .et_pb_slide,.et_pb_column_3_8 .et_pb_post .et_pb_slide{min-height:155px}.et_pb_column_1_4 .et_pb_post .et_pb_slide,.et_pb_column_1_5 .et_pb_post .et_pb_slide,.et_pb_column_1_6 .et_pb_post .et_pb_slide{min-height:108px}}@media (max-width:980px){.et_pb_bg_layout_dark_tablet .et_audio_content h2{color:#fff!important}.et_pb_text_color_dark_tablet.et_audio_content h2{color:#bbb!important}.et_pb_text_color_dark_tablet.et_audio_content{background-color:#e8e8e8}.et_pb_bg_layout_dark_tablet .et_audio_content h2,.et_pb_bg_layout_dark_tablet .et_link_content a.et_link_main_url,.et_pb_bg_layout_dark_tablet .et_link_content h2,.et_pb_bg_layout_dark_tablet .et_quote_content blockquote cite,.et_pb_bg_layout_dark_tablet .et_quote_content blockquote p{color:#fff!important}.et_pb_text_color_dark_tablet .et_audio_content h2,.et_pb_text_color_dark_tablet .et_link_content a.et_link_main_url,.et_pb_text_color_dark_tablet .et_link_content h2,.et_pb_text_color_dark_tablet .et_quote_content blockquote cite,.et_pb_text_color_dark_tablet .et_quote_content blockquote p{color:#666!important}.et_pb_text_color_dark_tablet.et_audio_content h2,.et_pb_text_color_dark_tablet.et_link_content a.et_link_main_url,.et_pb_text_color_dark_tablet.et_link_content h2,.et_pb_text_color_dark_tablet.et_quote_content blockquote cite,.et_pb_text_color_dark_tablet.et_quote_content blockquote p{color:#bbb!important}.et_pb_text_color_dark_tablet.et_audio_content,.et_pb_text_color_dark_tablet.et_link_content,.et_pb_text_color_dark_tablet.et_quote_content{background-color:#e8e8e8}}@media (min-width:768px) and (max-width:980px){.et_audio_content h2{font-size:26px!important;line-height:44px!important;margin-bottom:24px!important}.et_pb_post>.et_pb_gallery_post_type>.et_pb_slides>.et_pb_slide{min-height:384px!important}.et_quote_content{padding:50px 43px 45px!important}.et_quote_content blockquote p{font-size:26px!important;line-height:44px!important}.et_quote_content blockquote cite{font-size:18px!important}.et_link_content{padding:40px 40px 45px}.et_link_content h2{font-size:26px!important;line-height:44px!important}.et_link_content a.et_link_main_url{font-size:18px!important}}@media (max-width:767px){.et_audio_content h2,.et_link_content h2,.et_quote_content,.et_quote_content blockquote p{font-size:20px!important;line-height:26px!important}.et_audio_content,.et_link_content{padding:35px 20px!important}.et_audio_content h2{margin-bottom:9px!important}.et_pb_bg_layout_dark_phone .et_audio_content h2{color:#fff!important}.et_pb_text_color_dark_phone.et_audio_content{background-color:#e8e8e8}.et_link_content a.et_link_main_url,.et_quote_content blockquote cite{font-size:14px!important}.format-gallery .et-pb-controllers{height:auto}.et_pb_post>.et_pb_gallery_post_type>.et_pb_slides>.et_pb_slide{min-height:222px!important}.et_pb_bg_layout_dark_phone .et_audio_content h2,.et_pb_bg_layout_dark_phone .et_link_content a.et_link_main_url,.et_pb_bg_layout_dark_phone .et_link_content h2,.et_pb_bg_layout_dark_phone .et_quote_content blockquote cite,.et_pb_bg_layout_dark_phone .et_quote_content blockquote p{color:#fff!important}.et_pb_text_color_dark_phone .et_audio_content h2,.et_pb_text_color_dark_phone .et_link_content a.et_link_main_url,.et_pb_text_color_dark_phone .et_link_content h2,.et_pb_text_color_dark_phone .et_quote_content blockquote cite,.et_pb_text_color_dark_phone .et_quote_content blockquote p{color:#666!important}.et_pb_text_color_dark_phone.et_audio_content h2,.et_pb_text_color_dark_phone.et_link_content a.et_link_main_url,.et_pb_text_color_dark_phone.et_link_content h2,.et_pb_text_color_dark_phone.et_quote_content blockquote cite,.et_pb_text_color_dark_phone.et_quote_content blockquote p{color:#bbb!important}.et_pb_text_color_dark_phone.et_audio_content,.et_pb_text_color_dark_phone.et_link_content,.et_pb_text_color_dark_phone.et_quote_content{background-color:#e8e8e8}}@media (max-width:479px){.et_pb_column_1_2 .et_pb_carousel_item .et_pb_video_play,.et_pb_column_1_3 .et_pb_carousel_item .et_pb_video_play,.et_pb_column_2_3 .et_pb_carousel_item .et_pb_video_play,.et_pb_column_2_5 .et_pb_carousel_item .et_pb_video_play,.et_pb_column_3_5 .et_pb_carousel_item .et_pb_video_play,.et_pb_column_3_8 .et_pb_carousel_item .et_pb_video_play{font-size:1.5rem;line-height:1.5rem;margin-left:-.75rem;margin-top:-.75rem}.et_audio_content,.et_quote_content{padding:35px 20px!important}.et_pb_post>.et_pb_gallery_post_type>.et_pb_slides>.et_pb_slide{min-height:156px!important}}.et_full_width_page .et_gallery_item{float:left;width:20.875%;margin:0 5.5% 5.5% 0}.et_full_width_page .et_gallery_item:nth-child(3n){margin-right:5.5%}.et_full_width_page .et_gallery_item:nth-child(3n+1){clear:none}.et_full_width_page .et_gallery_item:nth-child(4n){margin-right:0}.et_full_width_page .et_gallery_item:nth-child(4n+1){clear:both}\\n.et_pb_slider{position:relative;overflow:hidden}.et_pb_slide{padding:0 6%;background-size:cover;background-position:50%;background-repeat:no-repeat}.et_pb_slider .et_pb_slide{display:none;float:left;margin-right:-100%;position:relative;width:100%;text-align:center;list-style:none!important;background-position:50%;background-size:100%;background-size:cover}.et_pb_slider .et_pb_slide:first-child{display:list-item}.et-pb-controllers{position:absolute;bottom:20px;left:0;width:100%;text-align:center;z-index:10}.et-pb-controllers a{display:inline-block;background-color:hsla(0,0%,100%,.5);text-indent:-9999px;border-radius:7px;width:7px;height:7px;margin-right:10px;padding:0;opacity:.5}.et-pb-controllers .et-pb-active-control{opacity:1}.et-pb-controllers a:last-child{margin-right:0}.et-pb-controllers .et-pb-active-control{background-color:#fff}.et_pb_slides .et_pb_temp_slide{display:block}.et_pb_slides:after{content:\"\";display:block;clear:both;visibility:hidden;line-height:0;height:0;width:0}@media (max-width:980px){.et_pb_bg_layout_light_tablet .et-pb-controllers .et-pb-active-control{background-color:#333}.et_pb_bg_layout_light_tablet .et-pb-controllers a{background-color:rgba(0,0,0,.3)}.et_pb_bg_layout_light_tablet .et_pb_slide_content{color:#333}.et_pb_bg_layout_dark_tablet .et_pb_slide_description{text-shadow:0 1px 3px rgba(0,0,0,.3)}.et_pb_bg_layout_dark_tablet .et_pb_slide_content{color:#fff}.et_pb_bg_layout_dark_tablet .et-pb-controllers .et-pb-active-control{background-color:#fff}.et_pb_bg_layout_dark_tablet .et-pb-controllers a{background-color:hsla(0,0%,100%,.5)}}@media (max-width:767px){.et-pb-controllers{position:absolute;bottom:5%;left:0;width:100%;text-align:center;z-index:10;height:14px}.et_transparent_nav .et_pb_section:first-child .et-pb-controllers{bottom:18px}.et_pb_bg_layout_light_phone.et_pb_slider_with_overlay .et_pb_slide_overlay_container,.et_pb_bg_layout_light_phone.et_pb_slider_with_text_overlay .et_pb_text_overlay_wrapper{background-color:hsla(0,0%,100%,.9)}.et_pb_bg_layout_light_phone .et-pb-controllers .et-pb-active-control{background-color:#333}.et_pb_bg_layout_dark_phone.et_pb_slider_with_overlay .et_pb_slide_overlay_container,.et_pb_bg_layout_dark_phone.et_pb_slider_with_text_overlay .et_pb_text_overlay_wrapper,.et_pb_bg_layout_light_phone .et-pb-controllers a{background-color:rgba(0,0,0,.3)}.et_pb_bg_layout_dark_phone .et-pb-controllers .et-pb-active-control{background-color:#fff}.et_pb_bg_layout_dark_phone .et-pb-controllers a{background-color:hsla(0,0%,100%,.5)}}.et_mobile_device .et_pb_slider_parallax .et_pb_slide,.et_mobile_device .et_pb_slides .et_parallax_bg.et_pb_parallax_css{background-attachment:scroll}\\n.et-pb-arrow-next,.et-pb-arrow-prev{position:absolute;top:50%;z-index:100;font-size:48px;color:#fff;margin-top:-24px;-webkit-transition:all .2s ease-in-out;transition:all .2s ease-in-out;opacity:0}.et_pb_bg_layout_light .et-pb-arrow-next,.et_pb_bg_layout_light .et-pb-arrow-prev{color:#333}.et_pb_slider:hover .et-pb-arrow-prev{left:22px;opacity:1}.et_pb_slider:hover .et-pb-arrow-next{right:22px;opacity:1}.et_pb_bg_layout_light .et-pb-controllers .et-pb-active-control{background-color:#333}.et_pb_bg_layout_light .et-pb-controllers a{background-color:rgba(0,0,0,.3)}.et-pb-arrow-next:hover,.et-pb-arrow-prev:hover{text-decoration:none}.et-pb-arrow-next span,.et-pb-arrow-prev span{display:none}.et-pb-arrow-prev{left:-22px}.et-pb-arrow-next{right:-22px}.et-pb-arrow-prev:before{content:\"4\"}.et-pb-arrow-next:before{content:\"5\"}.format-gallery .et-pb-arrow-next,.format-gallery .et-pb-arrow-prev{color:#fff}.et_pb_column_1_3 .et_pb_slider:hover .et-pb-arrow-prev,.et_pb_column_1_4 .et_pb_slider:hover .et-pb-arrow-prev,.et_pb_column_1_5 .et_pb_slider:hover .et-pb-arrow-prev,.et_pb_column_1_6 .et_pb_slider:hover .et-pb-arrow-prev,.et_pb_column_2_5 .et_pb_slider:hover .et-pb-arrow-prev{left:0}.et_pb_column_1_3 .et_pb_slider:hover .et-pb-arrow-next,.et_pb_column_1_4 .et_pb_slider:hover .et-pb-arrow-prev,.et_pb_column_1_5 .et_pb_slider:hover .et-pb-arrow-prev,.et_pb_column_1_6 .et_pb_slider:hover .et-pb-arrow-prev,.et_pb_column_2_5 .et_pb_slider:hover .et-pb-arrow-next{right:0}.et_pb_column_1_4 .et_pb_slider .et_pb_slide,.et_pb_column_1_5 .et_pb_slider .et_pb_slide,.et_pb_column_1_6 .et_pb_slider .et_pb_slide{min-height:170px}.et_pb_column_1_4 .et_pb_slider:hover .et-pb-arrow-next,.et_pb_column_1_5 .et_pb_slider:hover .et-pb-arrow-next,.et_pb_column_1_6 .et_pb_slider:hover .et-pb-arrow-next{right:0}@media (max-width:980px){.et_pb_bg_layout_light_tablet .et-pb-arrow-next,.et_pb_bg_layout_light_tablet .et-pb-arrow-prev{color:#333}.et_pb_bg_layout_dark_tablet .et-pb-arrow-next,.et_pb_bg_layout_dark_tablet .et-pb-arrow-prev{color:#fff}}@media (max-width:767px){.et_pb_slider:hover .et-pb-arrow-prev{left:0;opacity:1}.et_pb_slider:hover .et-pb-arrow-next{right:0;opacity:1}.et_pb_bg_layout_light_phone .et-pb-arrow-next,.et_pb_bg_layout_light_phone .et-pb-arrow-prev{color:#333}.et_pb_bg_layout_dark_phone .et-pb-arrow-next,.et_pb_bg_layout_dark_phone .et-pb-arrow-prev{color:#fff}}.et_mobile_device .et-pb-arrow-prev{left:22px;opacity:1}.et_mobile_device .et-pb-arrow-next{right:22px;opacity:1}@media (max-width:767px){.et_mobile_device .et-pb-arrow-prev{left:0;opacity:1}.et_mobile_device .et-pb-arrow-next{right:0;opacity:1}}\\n.et_overlay{z-index:-1;position:absolute;top:0;left:0;display:block;width:100%;height:100%;background:hsla(0,0%,100%,.9);opacity:0;pointer-events:none;-webkit-transition:all .3s;transition:all .3s;border:1px solid #e5e5e5;-webkit-box-sizing:border-box;box-sizing:border-box;-webkit-backface-visibility:hidden;backface-visibility:hidden;-webkit-font-smoothing:antialiased}.et_overlay:before{color:#2ea3f2;content:\"\\\\E050\";position:absolute;top:50%;left:50%;-webkit-transform:translate(-50%,-50%);transform:translate(-50%,-50%);font-size:32px;-webkit-transition:all .4s;transition:all .4s}.et_portfolio_image,.et_shop_image{position:relative;display:block}.et_pb_has_overlay:not(.et_pb_image):hover .et_overlay,.et_portfolio_image:hover .et_overlay,.et_shop_image:hover .et_overlay{z-index:3;opacity:1}#ie7 .et_overlay,#ie8 .et_overlay{display:none}.et_pb_module.et_pb_has_overlay{position:relative}.et_pb_module.et_pb_has_overlay .et_overlay,article.et_pb_has_overlay{border:none}\\n.et_pb_blog_grid .et_audio_container .mejs-container .mejs-controls .mejs-time span{font-size:14px}.et_audio_container .mejs-container{width:auto!important;min-width:unset!important;height:auto!important}.et_audio_container .mejs-container,.et_audio_container .mejs-container .mejs-controls,.et_audio_container .mejs-embed,.et_audio_container .mejs-embed body{background:none;height:auto}.et_audio_container .mejs-controls .mejs-time-rail .mejs-time-loaded,.et_audio_container .mejs-time.mejs-currenttime-container{display:none!important}.et_audio_container .mejs-time{display:block!important;padding:0;margin-left:10px;margin-right:90px;line-height:inherit}.et_audio_container .mejs-android .mejs-time,.et_audio_container .mejs-ios .mejs-time,.et_audio_container .mejs-ipad .mejs-time,.et_audio_container .mejs-iphone .mejs-time{margin-right:0}.et_audio_container .mejs-controls .mejs-horizontal-volume-slider .mejs-horizontal-volume-total,.et_audio_container .mejs-controls .mejs-time-rail .mejs-time-total{background:hsla(0,0%,100%,.5);border-radius:5px;height:4px;margin:8px 0 0;top:0;right:0;left:auto}.et_audio_container .mejs-controls>div{height:20px!important}.et_audio_container .mejs-controls div.mejs-time-rail{padding-top:0;position:relative;display:block!important;margin-left:42px;margin-right:0}.et_audio_container span.mejs-time-total.mejs-time-slider{display:block!important;position:relative!important;max-width:100%;min-width:unset!important}.et_audio_container .mejs-button.mejs-volume-button{width:auto;height:auto;margin-left:auto;position:absolute;right:59px;bottom:-2px}.et_audio_container .mejs-controls .mejs-horizontal-volume-slider .mejs-horizontal-volume-current,.et_audio_container .mejs-controls .mejs-time-rail .mejs-time-current{background:#fff;height:4px;border-radius:5px}.et_audio_container .mejs-controls .mejs-horizontal-volume-slider .mejs-horizontal-volume-handle,.et_audio_container .mejs-controls .mejs-time-rail .mejs-time-handle{display:block;border:none;width:10px}.et_audio_container .mejs-time-rail .mejs-time-handle-content{border-radius:100%;-webkit-transform:scale(1);transform:scale(1)}.et_audio_container .mejs-time-rail .mejs-time-hovered{height:4px}.et_audio_container .mejs-controls .mejs-horizontal-volume-slider .mejs-horizontal-volume-handle{background:#fff;border-radius:5px;height:10px;position:absolute;top:-3px}.et_audio_container .mejs-container .mejs-controls .mejs-time span{font-size:18px}.et_audio_container .mejs-controls a.mejs-horizontal-volume-slider{display:block!important;height:19px;margin-left:5px;position:absolute;right:0;bottom:0}.et_audio_container .mejs-controls div.mejs-horizontal-volume-slider{height:4px}.et_audio_container .mejs-playpause-button button,.et_audio_container .mejs-volume-button button{background:none!important;margin:0!important;width:auto!important;height:auto!important;position:relative!important;z-index:99}.et_audio_container .mejs-playpause-button button:before{content:\"E\"!important;font-size:32px;left:0;top:-8px}.et_audio_container .mejs-playpause-button button:before,.et_audio_container .mejs-volume-button button:before{color:#fff}.et_audio_container .mejs-playpause-button{margin-top:-7px!important;width:auto!important;height:auto!important;position:absolute}.et_audio_container .mejs-controls .mejs-button button:focus{outline:none}.et_audio_container .mejs-playpause-button.mejs-pause button:before{content:\"`\"!important}.et_audio_container .mejs-volume-button button:before{content:\"\\\\E068\";font-size:18px}.et_pb_text_color_dark .et_audio_container .mejs-controls .mejs-horizontal-volume-slider .mejs-horizontal-volume-total,.et_pb_text_color_dark .et_audio_container .mejs-controls .mejs-time-rail .mejs-time-total{background:hsla(0,0%,60%,.5)}.et_pb_text_color_dark .et_audio_container .mejs-controls .mejs-horizontal-volume-slider .mejs-horizontal-volume-current,.et_pb_text_color_dark .et_audio_container .mejs-controls .mejs-time-rail .mejs-time-current{background:#999}.et_pb_text_color_dark .et_audio_container .mejs-playpause-button button:before,.et_pb_text_color_dark .et_audio_container .mejs-volume-button button:before{color:#666}.et_pb_text_color_dark .et_audio_container .mejs-controls .mejs-horizontal-volume-slider .mejs-horizontal-volume-handle,.et_pb_text_color_dark .mejs-controls .mejs-time-rail .mejs-time-handle{background:#666}.et_pb_text_color_dark .mejs-container .mejs-controls .mejs-time span{color:#999}.et_pb_column_1_3 .et_audio_container .mejs-container .mejs-controls .mejs-time span,.et_pb_column_1_4 .et_audio_container .mejs-container .mejs-controls .mejs-time span,.et_pb_column_1_5 .et_audio_container .mejs-container .mejs-controls .mejs-time span,.et_pb_column_1_6 .et_audio_container .mejs-container .mejs-controls .mejs-time span,.et_pb_column_2_5 .et_audio_container .mejs-container .mejs-controls .mejs-time span,.et_pb_column_3_8 .et_audio_container .mejs-container .mejs-controls .mejs-time span{font-size:14px}.et_audio_container .mejs-container .mejs-controls{padding:0;-ms-flex-wrap:wrap;flex-wrap:wrap;min-width:unset!important;position:relative}@media (max-width:980px){.et_pb_column_1_3 .et_audio_container .mejs-container .mejs-controls .mejs-time span,.et_pb_column_1_4 .et_audio_container .mejs-container .mejs-controls .mejs-time span,.et_pb_column_1_5 .et_audio_container .mejs-container .mejs-controls .mejs-time span,.et_pb_column_1_6 .et_audio_container .mejs-container .mejs-controls .mejs-time span,.et_pb_column_2_5 .et_audio_container .mejs-container .mejs-controls .mejs-time span,.et_pb_column_3_8 .et_audio_container .mejs-container .mejs-controls .mejs-time span{font-size:18px}.et_pb_bg_layout_dark_tablet .et_audio_container .mejs-controls .mejs-horizontal-volume-slider .mejs-horizontal-volume-total,.et_pb_bg_layout_dark_tablet .et_audio_container .mejs-controls .mejs-time-rail .mejs-time-total{background:hsla(0,0%,100%,.5)}.et_pb_bg_layout_dark_tablet .et_audio_container .mejs-controls .mejs-horizontal-volume-slider .mejs-horizontal-volume-current,.et_pb_bg_layout_dark_tablet .et_audio_container .mejs-controls .mejs-time-rail .mejs-time-current{background:#fff}.et_pb_bg_layout_dark_tablet .et_audio_container .mejs-playpause-button button:before,.et_pb_bg_layout_dark_tablet .et_audio_container .mejs-volume-button button:before{color:#fff}.et_pb_bg_layout_dark_tablet .et_audio_container .mejs-controls .mejs-horizontal-volume-slider .mejs-horizontal-volume-handle,.et_pb_bg_layout_dark_tablet .mejs-controls .mejs-time-rail .mejs-time-handle{background:#fff}.et_pb_bg_layout_dark_tablet .mejs-container .mejs-controls .mejs-time span{color:#fff}.et_pb_text_color_dark_tablet .et_audio_container .mejs-controls .mejs-horizontal-volume-slider .mejs-horizontal-volume-total,.et_pb_text_color_dark_tablet .et_audio_container .mejs-controls .mejs-time-rail .mejs-time-total{background:hsla(0,0%,60%,.5)}.et_pb_text_color_dark_tablet .et_audio_container .mejs-controls .mejs-horizontal-volume-slider .mejs-horizontal-volume-current,.et_pb_text_color_dark_tablet .et_audio_container .mejs-controls .mejs-time-rail .mejs-time-current{background:#999}.et_pb_text_color_dark_tablet .et_audio_container .mejs-playpause-button button:before,.et_pb_text_color_dark_tablet .et_audio_container .mejs-volume-button button:before{color:#666}.et_pb_text_color_dark_tablet .et_audio_container .mejs-controls .mejs-horizontal-volume-slider .mejs-horizontal-volume-handle,.et_pb_text_color_dark_tablet .mejs-controls .mejs-time-rail .mejs-time-handle{background:#666}.et_pb_text_color_dark_tablet .mejs-container .mejs-controls .mejs-time span{color:#999}}@media (max-width:767px){.et_audio_container .mejs-container .mejs-controls .mejs-time span{font-size:14px!important}.et_pb_bg_layout_dark_phone .et_audio_container .mejs-controls .mejs-horizontal-volume-slider .mejs-horizontal-volume-total,.et_pb_bg_layout_dark_phone .et_audio_container .mejs-controls .mejs-time-rail .mejs-time-total{background:hsla(0,0%,100%,.5)}.et_pb_bg_layout_dark_phone .et_audio_container .mejs-controls .mejs-horizontal-volume-slider .mejs-horizontal-volume-current,.et_pb_bg_layout_dark_phone .et_audio_container .mejs-controls .mejs-time-rail .mejs-time-current{background:#fff}.et_pb_bg_layout_dark_phone .et_audio_container .mejs-playpause-button button:before,.et_pb_bg_layout_dark_phone .et_audio_container .mejs-volume-button button:before{color:#fff}.et_pb_bg_layout_dark_phone .et_audio_container .mejs-controls .mejs-horizontal-volume-slider .mejs-horizontal-volume-handle,.et_pb_bg_layout_dark_phone .mejs-controls .mejs-time-rail .mejs-time-handle{background:#fff}.et_pb_bg_layout_dark_phone .mejs-container .mejs-controls .mejs-time span{color:#fff}.et_pb_text_color_dark_phone .et_audio_container .mejs-controls .mejs-horizontal-volume-slider .mejs-horizontal-volume-total,.et_pb_text_color_dark_phone .et_audio_container .mejs-controls .mejs-time-rail .mejs-time-total{background:hsla(0,0%,60%,.5)}.et_pb_text_color_dark_phone .et_audio_container .mejs-controls .mejs-horizontal-volume-slider .mejs-horizontal-volume-current,.et_pb_text_color_dark_phone .et_audio_container .mejs-controls .mejs-time-rail .mejs-time-current{background:#999}.et_pb_text_color_dark_phone .et_audio_container .mejs-playpause-button button:before,.et_pb_text_color_dark_phone .et_audio_container .mejs-volume-button button:before{color:#666}.et_pb_text_color_dark_phone .et_audio_container .mejs-controls .mejs-horizontal-volume-slider .mejs-horizontal-volume-handle,.et_pb_text_color_dark_phone .mejs-controls .mejs-time-rail .mejs-time-handle{background:#666}.et_pb_text_color_dark_phone .mejs-container .mejs-controls .mejs-time span{color:#999}}\\n.et_pb_video_box{display:block;position:relative;z-index:1;line-height:0}.et_pb_video_box video{width:100%!important;height:auto!important}.et_pb_video_overlay{position:absolute;z-index:10;top:0;left:0;height:100%;width:100%;background-size:cover;background-repeat:no-repeat;background-position:50%;cursor:pointer}.et_pb_video_play:before{font-family:ETmodules;content:\"I\"}.et_pb_video_play{display:block;position:absolute;z-index:100;color:#fff;left:50%;top:50%}.et_pb_column_1_2 .et_pb_video_play,.et_pb_column_2_3 .et_pb_video_play,.et_pb_column_3_4 .et_pb_video_play,.et_pb_column_3_5 .et_pb_video_play,.et_pb_column_4_4 .et_pb_video_play{font-size:6rem;line-height:6rem;margin-left:-3rem;margin-top:-3rem}.et_pb_column_1_3 .et_pb_video_play,.et_pb_column_1_4 .et_pb_video_play,.et_pb_column_1_5 .et_pb_video_play,.et_pb_column_1_6 .et_pb_video_play,.et_pb_column_2_5 .et_pb_video_play,.et_pb_column_3_8 .et_pb_video_play{font-size:3rem;line-height:3rem;margin-left:-1.5rem;margin-top:-1.5rem}.et_pb_bg_layout_light .et_pb_video_play{color:#333}.et_pb_video_overlay_hover{background:transparent;width:100%;height:100%;position:absolute;z-index:100;-webkit-transition:all .5s ease-in-out;transition:all .5s ease-in-out}.et_pb_video .et_pb_video_overlay_hover:hover{background:rgba(0,0,0,.6)}@media (min-width:768px) and (max-width:980px){.et_pb_column_1_3 .et_pb_video_play,.et_pb_column_1_4 .et_pb_video_play,.et_pb_column_1_5 .et_pb_video_play,.et_pb_column_1_6 .et_pb_video_play,.et_pb_column_2_5 .et_pb_video_play,.et_pb_column_3_8 .et_pb_video_play{font-size:6rem;line-height:6rem;margin-left:-3rem;margin-top:-3rem}}@media (max-width:980px){.et_pb_bg_layout_light_tablet .et_pb_video_play{color:#333}}@media (max-width:768px){.et_pb_column_1_2 .et_pb_video_play,.et_pb_column_2_3 .et_pb_video_play,.et_pb_column_3_4 .et_pb_video_play,.et_pb_column_3_5 .et_pb_video_play,.et_pb_column_4_4 .et_pb_video_play{font-size:3rem;line-height:3rem;margin-left:-1.5rem;margin-top:-1.5rem}}@media (max-width:767px){.et_pb_bg_layout_light_phone .et_pb_video_play{color:#333}}\\n.et_post_gallery{padding:0!important;line-height:1.7!important;list-style:none!important}.et_gallery_item{float:left;width:28.353%;margin:0 7.47% 7.47% 0}.blocks-gallery-item,.et_gallery_item{padding-left:0!important}.blocks-gallery-item:before,.et_gallery_item:before{display:none}.et_gallery_item:nth-child(3n){margin-right:0}.et_gallery_item:nth-child(3n+1){clear:both}\\n.et_pb_post{margin-bottom:60px;word-wrap:break-word}.et_pb_fullwidth_post_content.et_pb_with_border img,.et_pb_post_content.et_pb_with_border img,.et_pb_with_border .et_pb_post .et_pb_slides,.et_pb_with_border .et_pb_post img:not(.woocommerce-placeholder),.et_pb_with_border.et_pb_posts .et_pb_post,.et_pb_with_border.et_pb_posts_nav span.nav-next a,.et_pb_with_border.et_pb_posts_nav span.nav-previous a{border:0 solid #333}.et_pb_post .entry-content{padding-top:30px}.et_pb_post .entry-featured-image-url{display:block;position:relative;margin-bottom:30px}.et_pb_post .entry-title a,.et_pb_post h2 a{text-decoration:none}.et_pb_post .post-meta{font-size:14px;margin-bottom:6px}.et_pb_post .more,.et_pb_post .post-meta a{text-decoration:none}.et_pb_post .more{color:#82c0c7}.et_pb_posts a.more-link{clear:both;display:block}.et_pb_posts .et_pb_post{position:relative}.et_pb_has_overlay.et_pb_post .et_pb_image_container a{display:block;position:relative;overflow:hidden}.et_pb_image_container img,.et_pb_post a img{vertical-align:bottom;max-width:100%}@media (min-width:981px) and (max-width:1100px){.et_pb_post{margin-bottom:42px}}@media (max-width:980px){.et_pb_post{margin-bottom:42px}.et_pb_bg_layout_light_tablet .et_pb_post .post-meta,.et_pb_bg_layout_light_tablet .et_pb_post .post-meta a,.et_pb_bg_layout_light_tablet .et_pb_post p{color:#666}.et_pb_bg_layout_dark_tablet .et_pb_post .post-meta,.et_pb_bg_layout_dark_tablet .et_pb_post .post-meta a,.et_pb_bg_layout_dark_tablet .et_pb_post p{color:inherit}.et_pb_bg_layout_dark_tablet .comment_postinfo a,.et_pb_bg_layout_dark_tablet .comment_postinfo span{color:#fff}}@media (max-width:767px){.et_pb_post{margin-bottom:42px}.et_pb_post>h2{font-size:18px}.et_pb_bg_layout_light_phone .et_pb_post .post-meta,.et_pb_bg_layout_light_phone .et_pb_post .post-meta a,.et_pb_bg_layout_light_phone .et_pb_post p{color:#666}.et_pb_bg_layout_dark_phone .et_pb_post .post-meta,.et_pb_bg_layout_dark_phone .et_pb_post .post-meta a,.et_pb_bg_layout_dark_phone .et_pb_post p{color:inherit}.et_pb_bg_layout_dark_phone .comment_postinfo a,.et_pb_bg_layout_dark_phone .comment_postinfo span{color:#fff}}@media (max-width:479px){.et_pb_post{margin-bottom:42px}.et_pb_post h2{font-size:16px;padding-bottom:0}.et_pb_post .post-meta{color:#666;font-size:14px}}\\n@media (min-width:981px){.et_pb_gutters3 .et_pb_column,.et_pb_gutters3.et_pb_row .et_pb_column{margin-right:5.5%}.et_pb_gutters3 .et_pb_column_4_4,.et_pb_gutters3.et_pb_row .et_pb_column_4_4{width:100%}.et_pb_gutters3 .et_pb_column_4_4 .et_pb_module,.et_pb_gutters3.et_pb_row .et_pb_column_4_4 .et_pb_module{margin-bottom:2.75%}.et_pb_gutters3 .et_pb_column_3_4,.et_pb_gutters3.et_pb_row .et_pb_column_3_4{width:73.625%}.et_pb_gutters3 .et_pb_column_3_4 .et_pb_module,.et_pb_gutters3.et_pb_row .et_pb_column_3_4 .et_pb_module{margin-bottom:3.735%}.et_pb_gutters3 .et_pb_column_2_3,.et_pb_gutters3.et_pb_row .et_pb_column_2_3{width:64.833%}.et_pb_gutters3 .et_pb_column_2_3 .et_pb_module,.et_pb_gutters3.et_pb_row .et_pb_column_2_3 .et_pb_module{margin-bottom:4.242%}.et_pb_gutters3 .et_pb_column_3_5,.et_pb_gutters3.et_pb_row .et_pb_column_3_5{width:57.8%}.et_pb_gutters3 .et_pb_column_3_5 .et_pb_module,.et_pb_gutters3.et_pb_row .et_pb_column_3_5 .et_pb_module{margin-bottom:4.758%}.et_pb_gutters3 .et_pb_column_1_2,.et_pb_gutters3.et_pb_row .et_pb_column_1_2{width:47.25%}.et_pb_gutters3 .et_pb_column_1_2 .et_pb_module,.et_pb_gutters3.et_pb_row .et_pb_column_1_2 .et_pb_module{margin-bottom:5.82%}.et_pb_gutters3 .et_pb_column_2_5,.et_pb_gutters3.et_pb_row .et_pb_column_2_5{width:36.7%}.et_pb_gutters3 .et_pb_column_2_5 .et_pb_module,.et_pb_gutters3.et_pb_row .et_pb_column_2_5 .et_pb_module{margin-bottom:7.493%}.et_pb_gutters3 .et_pb_column_1_3,.et_pb_gutters3.et_pb_row .et_pb_column_1_3{width:29.6667%}.et_pb_gutters3 .et_pb_column_1_3 .et_pb_module,.et_pb_gutters3.et_pb_row .et_pb_column_1_3 .et_pb_module{margin-bottom:9.27%}.et_pb_gutters3 .et_pb_column_1_4,.et_pb_gutters3.et_pb_row .et_pb_column_1_4{width:20.875%}.et_pb_gutters3 .et_pb_column_1_4 .et_pb_module,.et_pb_gutters3.et_pb_row .et_pb_column_1_4 .et_pb_module{margin-bottom:13.174%}.et_pb_gutters3 .et_pb_column_1_5,.et_pb_gutters3.et_pb_row .et_pb_column_1_5{width:15.6%}.et_pb_gutters3 .et_pb_column_1_5 .et_pb_module,.et_pb_gutters3.et_pb_row .et_pb_column_1_5 .et_pb_module{margin-bottom:17.628%}.et_pb_gutters3 .et_pb_column_1_6,.et_pb_gutters3.et_pb_row .et_pb_column_1_6{width:12.0833%}.et_pb_gutters3 .et_pb_column_1_6 .et_pb_module,.et_pb_gutters3.et_pb_row .et_pb_column_1_6 .et_pb_module{margin-bottom:22.759%}.et_pb_gutters3 .et_full_width_page.woocommerce-page ul.products li.product{width:20.875%;margin-right:5.5%;margin-bottom:5.5%}.et_pb_gutters3.et_left_sidebar.woocommerce-page #main-content ul.products li.product,.et_pb_gutters3.et_right_sidebar.woocommerce-page #main-content ul.products li.product{width:28.353%;margin-right:7.47%}.et_pb_gutters3.et_left_sidebar.woocommerce-page #main-content ul.products.columns-1 li.product,.et_pb_gutters3.et_right_sidebar.woocommerce-page #main-content ul.products.columns-1 li.product{width:100%;margin-right:0}.et_pb_gutters3.et_left_sidebar.woocommerce-page #main-content ul.products.columns-2 li.product,.et_pb_gutters3.et_right_sidebar.woocommerce-page #main-content ul.products.columns-2 li.product{width:48%;margin-right:4%}.et_pb_gutters3.et_left_sidebar.woocommerce-page #main-content ul.products.columns-2 li:nth-child(2n+2),.et_pb_gutters3.et_right_sidebar.woocommerce-page #main-content ul.products.columns-2 li:nth-child(2n+2){margin-right:0}.et_pb_gutters3.et_left_sidebar.woocommerce-page #main-content ul.products.columns-2 li:nth-child(3n+1),.et_pb_gutters3.et_right_sidebar.woocommerce-page #main-content ul.products.columns-2 li:nth-child(3n+1){clear:none}}\\n@media (min-width:981px){.et_pb_gutters3 .et_pb_column .et_pb_blog_grid .column.size-1of1 .et_pb_post:last-child,.et_pb_gutters3 .et_pb_column .et_pb_blog_grid .column.size-1of2 .et_pb_post:last-child,.et_pb_gutters3 .et_pb_column .et_pb_blog_grid .column.size-1of3 .et_pb_post:last-child,.et_pb_gutters3.et_pb_row .et_pb_column .et_pb_blog_grid .column.size-1of1 .et_pb_post:last-child,.et_pb_gutters3.et_pb_row .et_pb_column .et_pb_blog_grid .column.size-1of2 .et_pb_post:last-child,.et_pb_gutters3.et_pb_row .et_pb_column .et_pb_blog_grid .column.size-1of3 .et_pb_post:last-child{margin-bottom:30px}.et_pb_gutters3 .et_pb_column_4_4 .et_pb_grid_item,.et_pb_gutters3 .et_pb_column_4_4 .et_pb_shop_grid .woocommerce ul.products li.product,.et_pb_gutters3 .et_pb_column_4_4 .et_pb_widget,.et_pb_gutters3.et_pb_row .et_pb_column_4_4 .et_pb_grid_item,.et_pb_gutters3.et_pb_row .et_pb_column_4_4 .et_pb_shop_grid .woocommerce ul.products li.product,.et_pb_gutters3.et_pb_row .et_pb_column_4_4 .et_pb_widget{width:20.875%;margin-right:5.5%;margin-bottom:5.5%}.et_pb_gutters3 .et_pb_column_4_4 .et_pb_blog_grid .column.size-1of3,.et_pb_gutters3.et_pb_row .et_pb_column_4_4 .et_pb_blog_grid .column.size-1of3{width:29.667%;margin-right:5.5%}.et_pb_gutters3 .et_pb_column_4_4 .et_pb_blog_grid .column.size-1of3 .et_pb_post,.et_pb_gutters3.et_pb_row .et_pb_column_4_4 .et_pb_blog_grid .column.size-1of3 .et_pb_post{margin-bottom:18.539%}.et_pb_gutters3 .et_pb_column_3_4 .et_pb_grid_item,.et_pb_gutters3 .et_pb_column_3_4 .et_pb_shop_grid .woocommerce ul.products li.product,.et_pb_gutters3 .et_pb_column_3_4 .et_pb_widget,.et_pb_gutters3.et_pb_row .et_pb_column_3_4 .et_pb_grid_item,.et_pb_gutters3.et_pb_row .et_pb_column_3_4 .et_pb_shop_grid .woocommerce ul.products li.product,.et_pb_gutters3.et_pb_row .et_pb_column_3_4 .et_pb_widget{width:28.353%;margin-right:7.47%;margin-bottom:7.47%}.et_pb_gutters3 .et_pb_column_3_4 .et_pb_blog_grid .column.size-1of2,.et_pb_gutters3.et_pb_row .et_pb_column_3_4 .et_pb_blog_grid .column.size-1of2{width:46.265%;margin-right:7.47%}.et_pb_gutters3 .et_pb_column_3_4 .et_pb_blog_grid .column.size-1of2 .et_pb_post,.et_pb_gutters3.et_pb_row .et_pb_column_3_4 .et_pb_blog_grid .column.size-1of2 .et_pb_post{margin-bottom:14.941%}.et_pb_gutters3 .et_pb_column_2_3 .et_pb_grid_item,.et_pb_gutters3 .et_pb_column_2_3 .et_pb_shop_grid .woocommerce ul.products li.product,.et_pb_gutters3 .et_pb_column_2_3 .et_pb_widget,.et_pb_gutters3.et_pb_row .et_pb_column_2_3 .et_pb_grid_item,.et_pb_gutters3.et_pb_row .et_pb_column_2_3 .et_pb_shop_grid .woocommerce ul.products li.product,.et_pb_gutters3.et_pb_row .et_pb_column_2_3 .et_pb_widget{width:45.758%;margin-right:8.483%;margin-bottom:8.483%}.et_pb_gutters3 .et_pb_column_2_3 .et_pb_blog_grid .column.size-1of2,.et_pb_gutters3.et_pb_row .et_pb_column_2_3 .et_pb_blog_grid .column.size-1of2{width:45.758%;margin-right:8.483%}.et_pb_gutters3 .et_pb_column_2_3 .et_pb_blog_grid .column.size-1of2 .et_pb_post,.et_pb_gutters3.et_pb_row .et_pb_column_2_3 .et_pb_blog_grid .column.size-1of2 .et_pb_post{margin-bottom:16.967%}.et_pb_gutters3 .et_pb_column_3_5 .et_pb_grid_item,.et_pb_gutters3 .et_pb_column_3_5 .et_pb_shop_grid .woocommerce ul.products li.product,.et_pb_gutters3 .et_pb_column_3_5 .et_pb_widget,.et_pb_gutters3.et_pb_row .et_pb_column_3_5 .et_pb_grid_item,.et_pb_gutters3.et_pb_row .et_pb_column_3_5 .et_pb_shop_grid .woocommerce ul.products li.product,.et_pb_gutters3.et_pb_row .et_pb_column_3_5 .et_pb_widget{width:45.242%;margin-right:9.516%;margin-bottom:9.516%}.et_pb_gutters3 .et_pb_column_3_5 .et_pb_blog_grid .column.size-1of1,.et_pb_gutters3.et_pb_row .et_pb_column_3_5 .et_pb_blog_grid .column.size-1of1{width:100%;margin-right:0}.et_pb_gutters3 .et_pb_column_3_5 .et_pb_blog_grid .column.size-1of1 .et_pb_post,.et_pb_gutters3.et_pb_row .et_pb_column_3_5 .et_pb_blog_grid .column.size-1of1 .et_pb_post{margin-bottom:9.516%}.et_pb_gutters3 .et_pb_column_1_2 .et_pb_grid_item,.et_pb_gutters3 .et_pb_column_1_2 .et_pb_shop_grid .woocommerce ul.products li.product,.et_pb_gutters3 .et_pb_column_1_2 .et_pb_widget,.et_pb_gutters3.et_pb_row .et_pb_column_1_2 .et_pb_grid_item,.et_pb_gutters3.et_pb_row .et_pb_column_1_2 .et_pb_shop_grid .woocommerce ul.products li.product,.et_pb_gutters3.et_pb_row .et_pb_column_1_2 .et_pb_widget{width:44.18%;margin-right:11.64%;margin-bottom:11.64%}.et_pb_gutters3 .et_pb_column_1_2 .et_pb_blog_grid .column.size-1of1,.et_pb_gutters3.et_pb_row .et_pb_column_1_2 .et_pb_blog_grid .column.size-1of1{width:100%;margin-right:0}.et_pb_gutters3 .et_pb_column_1_2 .et_pb_blog_grid .column.size-1of1 .et_pb_post,.et_pb_gutters3.et_pb_row .et_pb_column_1_2 .et_pb_blog_grid .column.size-1of1 .et_pb_post{margin-bottom:11.64%}.et_pb_gutters3 .et_pb_column_2_5 .et_pb_blog_grid .column.size-1of1 .et_pb_post,.et_pb_gutters3 .et_pb_column_2_5 .et_pb_grid_item,.et_pb_gutters3 .et_pb_column_2_5 .et_pb_shop_grid .woocommerce ul.products li.product,.et_pb_gutters3 .et_pb_column_2_5 .et_pb_widget,.et_pb_gutters3.et_pb_row .et_pb_column_2_5 .et_pb_blog_grid .column.size-1of1 .et_pb_post,.et_pb_gutters3.et_pb_row .et_pb_column_2_5 .et_pb_grid_item,.et_pb_gutters3.et_pb_row .et_pb_column_2_5 .et_pb_shop_grid .woocommerce ul.products li.product,.et_pb_gutters3.et_pb_row .et_pb_column_2_5 .et_pb_widget{width:100%;margin-bottom:14.986%}.et_pb_gutters3 .et_pb_column_1_3 .et_pb_blog_grid .column.size-1of1 .et_pb_post,.et_pb_gutters3 .et_pb_column_1_3 .et_pb_grid_item,.et_pb_gutters3 .et_pb_column_1_3 .et_pb_shop_grid .woocommerce ul.products li.product,.et_pb_gutters3 .et_pb_column_1_3 .et_pb_widget,.et_pb_gutters3.et_pb_row .et_pb_column_1_3 .et_pb_blog_grid .column.size-1of1 .et_pb_post,.et_pb_gutters3.et_pb_row .et_pb_column_1_3 .et_pb_grid_item,.et_pb_gutters3.et_pb_row .et_pb_column_1_3 .et_pb_shop_grid .woocommerce ul.products li.product,.et_pb_gutters3.et_pb_row .et_pb_column_1_3 .et_pb_widget{width:100%;margin-bottom:18.539%}.et_pb_gutters3 .et_pb_column_1_4 .et_pb_blog_grid .column.size-1of1 .et_pb_post,.et_pb_gutters3 .et_pb_column_1_4 .et_pb_grid_item,.et_pb_gutters3 .et_pb_column_1_4 .et_pb_shop_grid .woocommerce ul.products li.product,.et_pb_gutters3 .et_pb_column_1_4 .et_pb_widget,.et_pb_gutters3.et_pb_row .et_pb_column_1_4 .et_pb_blog_grid .column.size-1of1 .et_pb_post,.et_pb_gutters3.et_pb_row .et_pb_column_1_4 .et_pb_grid_item,.et_pb_gutters3.et_pb_row .et_pb_column_1_4 .et_pb_shop_grid .woocommerce ul.products li.product,.et_pb_gutters3.et_pb_row .et_pb_column_1_4 .et_pb_widget{width:100%;margin-bottom:26.347%}.et_pb_gutters3 .et_pb_column_1_5 .et_pb_blog_grid .column.size-1of1 .et_pb_post,.et_pb_gutters3 .et_pb_column_1_5 .et_pb_grid_item,.et_pb_gutters3 .et_pb_column_1_5 .et_pb_shop_grid .woocommerce ul.products li.product,.et_pb_gutters3 .et_pb_column_1_5 .et_pb_widget,.et_pb_gutters3.et_pb_row .et_pb_column_1_5 .et_pb_blog_grid .column.size-1of1 .et_pb_post,.et_pb_gutters3.et_pb_row .et_pb_column_1_5 .et_pb_grid_item,.et_pb_gutters3.et_pb_row .et_pb_column_1_5 .et_pb_shop_grid .woocommerce ul.products li.product,.et_pb_gutters3.et_pb_row .et_pb_column_1_5 .et_pb_widget{width:100%;margin-bottom:35.256%}.et_pb_gutters3 .et_pb_column_1_6 .et_pb_blog_grid .column.size-1of1 .et_pb_post,.et_pb_gutters3 .et_pb_column_1_6 .et_pb_grid_item,.et_pb_gutters3 .et_pb_column_1_6 .et_pb_shop_grid .woocommerce ul.products li.product,.et_pb_gutters3 .et_pb_column_1_6 .et_pb_widget,.et_pb_gutters3.et_pb_row .et_pb_column_1_6 .et_pb_blog_grid .column.size-1of1 .et_pb_post,.et_pb_gutters3.et_pb_row .et_pb_column_1_6 .et_pb_grid_item,.et_pb_gutters3.et_pb_row .et_pb_column_1_6 .et_pb_shop_grid .woocommerce ul.products li.product,.et_pb_gutters3.et_pb_row .et_pb_column_1_6 .et_pb_widget{width:100%;margin-bottom:45.517%}.et_pb_gutters3 .et_pb_column_4_4 .et_pb_grid_item.et_pb_portfolio_item:nth-child(4n),.et_pb_gutters3 .et_pb_column_4_4 .et_pb_shop_grid .woocommerce ul.products li.product:nth-child(4n),.et_pb_gutters3 .et_pb_column_4_4 .et_pb_widget:nth-child(4n),.et_pb_gutters3.et_pb_row .et_pb_column_4_4 .et_pb_grid_item.et_pb_portfolio_item:nth-child(4n),.et_pb_gutters3.et_pb_row .et_pb_column_4_4 .et_pb_shop_grid .woocommerce ul.products li.product:nth-child(4n),.et_pb_gutters3.et_pb_row .et_pb_column_4_4 .et_pb_widget:nth-child(4n){margin-right:0}.et_pb_gutters3 .et_pb_column_4_4 .et_pb_grid_item.et_pb_portfolio_item:nth-child(4n+1),.et_pb_gutters3 .et_pb_column_4_4 .et_pb_shop_grid .woocommerce ul.products li.product:nth-child(4n+1),.et_pb_gutters3 .et_pb_column_4_4 .et_pb_widget:nth-child(4n+1),.et_pb_gutters3.et_pb_row .et_pb_column_4_4 .et_pb_grid_item.et_pb_portfolio_item:nth-child(4n+1),.et_pb_gutters3.et_pb_row .et_pb_column_4_4 .et_pb_shop_grid .woocommerce ul.products li.product:nth-child(4n+1),.et_pb_gutters3.et_pb_row .et_pb_column_4_4 .et_pb_widget:nth-child(4n+1){clear:both}.et_pb_gutters3 .et_pb_column_4_4 .et_pb_blog_grid .column.size-1of3:nth-child(3n),.et_pb_gutters3 .et_pb_column_4_4 .et_pb_grid_item.last_in_row,.et_pb_gutters3.et_pb_row .et_pb_column_4_4 .et_pb_blog_grid .column.size-1of3:nth-child(3n),.et_pb_gutters3.et_pb_row .et_pb_column_4_4 .et_pb_grid_item.last_in_row{margin-right:0}.et_pb_gutters3 .et_pb_column_4_4 .et_pb_grid_item.on_last_row,.et_pb_gutters3.et_pb_row .et_pb_column_4_4 .et_pb_grid_item.on_last_row{margin-bottom:0}.et_pb_gutters3 .et_pb_column_3_4 .et_pb_grid_item.et_pb_portfolio_item:nth-child(3n),.et_pb_gutters3 .et_pb_column_3_4 .et_pb_shop_grid .woocommerce ul.products li.product:nth-child(3n),.et_pb_gutters3 .et_pb_column_3_4 .et_pb_widget:nth-child(3n),.et_pb_gutters3.et_pb_row .et_pb_column_3_4 .et_pb_grid_item.et_pb_portfolio_item:nth-child(3n),.et_pb_gutters3.et_pb_row .et_pb_column_3_4 .et_pb_shop_grid .woocommerce ul.products li.product:nth-child(3n),.et_pb_gutters3.et_pb_row .et_pb_column_3_4 .et_pb_widget:nth-child(3n){margin-right:0}.et_pb_gutters3 .et_pb_column_3_4 .et_pb_grid_item.et_pb_portfolio_item:nth-child(3n+1),.et_pb_gutters3 .et_pb_column_3_4 .et_pb_shop_grid .woocommerce ul.products li.product:nth-child(3n+1),.et_pb_gutters3 .et_pb_column_3_4 .et_pb_widget:nth-child(3n+1),.et_pb_gutters3.et_pb_row .et_pb_column_3_4 .et_pb_grid_item.et_pb_portfolio_item:nth-child(3n+1),.et_pb_gutters3.et_pb_row .et_pb_column_3_4 .et_pb_shop_grid .woocommerce ul.products li.product:nth-child(3n+1),.et_pb_gutters3.et_pb_row .et_pb_column_3_4 .et_pb_widget:nth-child(3n+1){clear:both}.et_pb_gutters3 .et_pb_column_3_4 .et_pb_grid_item.last_in_row,.et_pb_gutters3.et_pb_row .et_pb_column_3_4 .et_pb_grid_item.last_in_row{margin-right:0}.et_pb_gutters3 .et_pb_column_3_4 .et_pb_grid_item.on_last_row,.et_pb_gutters3.et_pb_row .et_pb_column_3_4 .et_pb_grid_item.on_last_row{margin-bottom:0}.et_pb_gutters3 .et_pb_column_1_2 .et_pb_grid_item.et_pb_portfolio_item:nth-child(2n),.et_pb_gutters3 .et_pb_column_1_2 .et_pb_shop_grid .woocommerce ul.products li.product:nth-child(2n),.et_pb_gutters3 .et_pb_column_1_2 .et_pb_widget:nth-child(2n),.et_pb_gutters3 .et_pb_column_2_3 .et_pb_grid_item.et_pb_portfolio_item:nth-child(2n),.et_pb_gutters3 .et_pb_column_2_3 .et_pb_shop_grid .woocommerce ul.products li.product:nth-child(2n),.et_pb_gutters3 .et_pb_column_2_3 .et_pb_widget:nth-child(2n),.et_pb_gutters3.et_pb_row .et_pb_column_1_2 .et_pb_grid_item.et_pb_portfolio_item:nth-child(2n),.et_pb_gutters3.et_pb_row .et_pb_column_1_2 .et_pb_shop_grid .woocommerce ul.products li.product:nth-child(2n),.et_pb_gutters3.et_pb_row .et_pb_column_1_2 .et_pb_widget:nth-child(2n),.et_pb_gutters3.et_pb_row .et_pb_column_2_3 .et_pb_grid_item.et_pb_portfolio_item:nth-child(2n),.et_pb_gutters3.et_pb_row .et_pb_column_2_3 .et_pb_shop_grid .woocommerce ul.products li.product:nth-child(2n),.et_pb_gutters3.et_pb_row .et_pb_column_2_3 .et_pb_widget:nth-child(2n){margin-right:0}.et_pb_gutters3 .et_pb_column_1_2 .et_pb_grid_item.et_pb_portfolio_item:nth-child(odd),.et_pb_gutters3 .et_pb_column_1_2 .et_pb_shop_grid .woocommerce ul.products li.product:nth-child(odd),.et_pb_gutters3 .et_pb_column_1_2 .et_pb_widget:nth-child(odd),.et_pb_gutters3 .et_pb_column_2_3 .et_pb_grid_item.et_pb_portfolio_item:nth-child(odd),.et_pb_gutters3 .et_pb_column_2_3 .et_pb_shop_grid .woocommerce ul.products li.product:nth-child(odd),.et_pb_gutters3 .et_pb_column_2_3 .et_pb_widget:nth-child(odd),.et_pb_gutters3.et_pb_row .et_pb_column_1_2 .et_pb_grid_item.et_pb_portfolio_item:nth-child(odd),.et_pb_gutters3.et_pb_row .et_pb_column_1_2 .et_pb_shop_grid .woocommerce ul.products li.product:nth-child(odd),.et_pb_gutters3.et_pb_row .et_pb_column_1_2 .et_pb_widget:nth-child(odd),.et_pb_gutters3.et_pb_row .et_pb_column_2_3 .et_pb_grid_item.et_pb_portfolio_item:nth-child(odd),.et_pb_gutters3.et_pb_row .et_pb_column_2_3 .et_pb_shop_grid .woocommerce ul.products li.product:nth-child(odd),.et_pb_gutters3.et_pb_row .et_pb_column_2_3 .et_pb_widget:nth-child(odd){clear:both}.et_pb_gutters3 .et_pb_column_1_2 .et_pb_grid_item.last_in_row,.et_pb_gutters3 .et_pb_column_2_3 .et_pb_grid_item.last_in_row,.et_pb_gutters3.et_pb_row .et_pb_column_1_2 .et_pb_grid_item.last_in_row,.et_pb_gutters3.et_pb_row .et_pb_column_2_3 .et_pb_grid_item.last_in_row{margin-right:0}.et_pb_gutters3 .et_pb_column_1_2 .et_pb_grid_item.on_last_row,.et_pb_gutters3 .et_pb_column_2_3 .et_pb_grid_item.on_last_row,.et_pb_gutters3.et_pb_row .et_pb_column_1_2 .et_pb_grid_item.on_last_row,.et_pb_gutters3.et_pb_row .et_pb_column_2_3 .et_pb_grid_item.on_last_row{margin-bottom:0}.et_pb_gutters3 .et_pb_column_3_5 .et_pb_grid_item.et_pb_portfolio_item:nth-child(2n),.et_pb_gutters3 .et_pb_column_3_5 .et_pb_shop_grid .woocommerce ul.products li.product:nth-child(2n),.et_pb_gutters3 .et_pb_column_3_5 .et_pb_widget:nth-child(2n),.et_pb_gutters3.et_pb_row .et_pb_column_3_5 .et_pb_grid_item.et_pb_portfolio_item:nth-child(2n),.et_pb_gutters3.et_pb_row .et_pb_column_3_5 .et_pb_shop_grid .woocommerce ul.products li.product:nth-child(2n),.et_pb_gutters3.et_pb_row .et_pb_column_3_5 .et_pb_widget:nth-child(2n){margin-right:0}.et_pb_gutters3 .et_pb_column_3_5 .et_pb_grid_item.et_pb_portfolio_item:nth-child(odd),.et_pb_gutters3 .et_pb_column_3_5 .et_pb_shop_grid .woocommerce ul.products li.product:nth-child(odd),.et_pb_gutters3 .et_pb_column_3_5 .et_pb_widget:nth-child(odd),.et_pb_gutters3.et_pb_row .et_pb_column_3_5 .et_pb_grid_item.et_pb_portfolio_item:nth-child(odd),.et_pb_gutters3.et_pb_row .et_pb_column_3_5 .et_pb_shop_grid .woocommerce ul.products li.product:nth-child(odd),.et_pb_gutters3.et_pb_row .et_pb_column_3_5 .et_pb_widget:nth-child(odd){clear:both}.et_pb_gutters3 .et_pb_column_3_5 .et_pb_grid_item.last_in_row,.et_pb_gutters3.et_pb_row .et_pb_column_3_5 .et_pb_grid_item.last_in_row{margin-right:0}.et_pb_gutters3 .et_pb_column_1_3 .et_pb_grid_item.on_last_row,.et_pb_gutters3 .et_pb_column_1_4 .et_pb_grid_item.on_last_row,.et_pb_gutters3 .et_pb_column_1_5 .et_pb_grid_item.on_last_row,.et_pb_gutters3 .et_pb_column_1_6 .et_pb_grid_item.on_last_row,.et_pb_gutters3 .et_pb_column_3_5 .et_pb_grid_item.on_last_row,.et_pb_gutters3.et_pb_row .et_pb_column_1_3 .et_pb_grid_item.on_last_row,.et_pb_gutters3.et_pb_row .et_pb_column_1_4 .et_pb_grid_item.on_last_row,.et_pb_gutters3.et_pb_row .et_pb_column_1_5 .et_pb_grid_item.on_last_row,.et_pb_gutters3.et_pb_row .et_pb_column_1_6 .et_pb_grid_item.on_last_row,.et_pb_gutters3.et_pb_row .et_pb_column_3_5 .et_pb_grid_item.on_last_row{margin-bottom:0}.et_pb_gutters3 .et_pb_column_1_2 .et_pb_blog_grid .column.size-1of2:nth-child(2n),.et_pb_gutters3 .et_pb_column_1_2 .et_pb_blog_grid .column.size-1of3:nth-child(3n),.et_pb_gutters3 .et_pb_column_1_2 .et_pb_grid_item.last_in_row,.et_pb_gutters3 .et_pb_column_2_3 .et_pb_blog_grid .column.size-1of2:nth-child(2n),.et_pb_gutters3 .et_pb_column_2_3 .et_pb_blog_grid .column.size-1of3:nth-child(3n),.et_pb_gutters3 .et_pb_column_2_3 .et_pb_grid_item.last_in_row,.et_pb_gutters3 .et_pb_column_3_4 .et_pb_blog_grid .column.size-1of2:nth-child(2n),.et_pb_gutters3 .et_pb_column_3_4 .et_pb_blog_grid .column.size-1of3:nth-child(3n),.et_pb_gutters3 .et_pb_column_3_4 .et_pb_grid_item.last_in_row,.et_pb_gutters3.et_pb_row .et_pb_column_1_2 .et_pb_blog_grid .column.size-1of2:nth-child(2n),.et_pb_gutters3.et_pb_row .et_pb_column_1_2 .et_pb_blog_grid .column.size-1of3:nth-child(3n),.et_pb_gutters3.et_pb_row .et_pb_column_1_2 .et_pb_grid_item.last_in_row,.et_pb_gutters3.et_pb_row .et_pb_column_2_3 .et_pb_blog_grid .column.size-1of2:nth-child(2n),.et_pb_gutters3.et_pb_row .et_pb_column_2_3 .et_pb_blog_grid .column.size-1of3:nth-child(3n),.et_pb_gutters3.et_pb_row .et_pb_column_2_3 .et_pb_grid_item.last_in_row,.et_pb_gutters3.et_pb_row .et_pb_column_3_4 .et_pb_blog_grid .column.size-1of2:nth-child(2n),.et_pb_gutters3.et_pb_row .et_pb_column_3_4 .et_pb_blog_grid .column.size-1of3:nth-child(3n),.et_pb_gutters3.et_pb_row .et_pb_column_3_4 .et_pb_grid_item.last_in_row{margin-right:0}.et_pb_gutters3 .et_pb_column_1_2 .et_pb_grid_item.on_last_row,.et_pb_gutters3 .et_pb_column_2_3 .et_pb_grid_item.on_last_row,.et_pb_gutters3 .et_pb_column_3_4 .et_pb_grid_item.on_last_row,.et_pb_gutters3.et_pb_row .et_pb_column_1_2 .et_pb_grid_item.on_last_row,.et_pb_gutters3.et_pb_row .et_pb_column_2_3 .et_pb_grid_item.on_last_row,.et_pb_gutters3.et_pb_row .et_pb_column_3_4 .et_pb_grid_item.on_last_row{margin-bottom:0}}\\n@media (min-width:981px){.et_pb_gutter.et_pb_gutters2 #left-area{width:77.25%}.et_pb_gutter.et_pb_gutters2 #sidebar{width:22.75%}.et_pb_gutters2.et_right_sidebar #left-area{padding-right:3%}.et_pb_gutters2.et_left_sidebar #left-area{padding-left:3%}.et_pb_gutter.et_pb_gutters2.et_right_sidebar #main-content .container:before{right:22.75%!important}.et_pb_gutter.et_pb_gutters2.et_left_sidebar #main-content .container:before{left:22.75%!important}.et_pb_gutters2 .et_pb_column,.et_pb_gutters2.et_pb_row .et_pb_column{margin-right:3%}.et_pb_gutters2 .et_pb_column_4_4,.et_pb_gutters2.et_pb_row .et_pb_column_4_4{width:100%}.et_pb_gutters2 .et_pb_column_4_4 .et_pb_module,.et_pb_gutters2.et_pb_row .et_pb_column_4_4 .et_pb_module{margin-bottom:1.5%}.et_pb_gutters2 .et_pb_column_3_4,.et_pb_gutters2.et_pb_row .et_pb_column_3_4{width:74.25%}.et_pb_gutters2 .et_pb_column_3_4 .et_pb_module,.et_pb_gutters2.et_pb_row .et_pb_column_3_4 .et_pb_module{margin-bottom:2.02%}.et_pb_gutters2 .et_pb_column_2_3,.et_pb_gutters2.et_pb_row .et_pb_column_2_3{width:65.667%}.et_pb_gutters2 .et_pb_column_2_3 .et_pb_module,.et_pb_gutters2.et_pb_row .et_pb_column_2_3 .et_pb_module{margin-bottom:2.284%}.et_pb_gutters2 .et_pb_column_3_5,.et_pb_gutters2.et_pb_row .et_pb_column_3_5{width:58.8%}.et_pb_gutters2 .et_pb_column_3_5 .et_pb_module,.et_pb_gutters2.et_pb_row .et_pb_column_3_5 .et_pb_module{margin-bottom:2.551%}.et_pb_gutters2 .et_pb_column_1_2,.et_pb_gutters2.et_pb_row .et_pb_column_1_2{width:48.5%}.et_pb_gutters2 .et_pb_column_1_2 .et_pb_module,.et_pb_gutters2.et_pb_row .et_pb_column_1_2 .et_pb_module{margin-bottom:3.093%}.et_pb_gutters2 .et_pb_column_2_5,.et_pb_gutters2.et_pb_row .et_pb_column_2_5{width:38.2%}.et_pb_gutters2 .et_pb_column_2_5 .et_pb_module,.et_pb_gutters2.et_pb_row .et_pb_column_2_5 .et_pb_module{margin-bottom:3.927%}.et_pb_gutters2 .et_pb_column_1_3,.et_pb_gutters2.et_pb_row .et_pb_column_1_3{width:31.3333%}.et_pb_gutters2 .et_pb_column_1_3 .et_pb_module,.et_pb_gutters2.et_pb_row .et_pb_column_1_3 .et_pb_module{margin-bottom:4.787%}.et_pb_gutters2 .et_pb_column_1_4,.et_pb_gutters2.et_pb_row .et_pb_column_1_4{width:22.75%}.et_pb_gutters2 .et_pb_column_1_4 .et_pb_module,.et_pb_gutters2.et_pb_row .et_pb_column_1_4 .et_pb_module{margin-bottom:6.593%}.et_pb_gutters2 .et_pb_column_1_5,.et_pb_gutters2.et_pb_row .et_pb_column_1_5{width:17.6%}.et_pb_gutters2 .et_pb_column_1_5 .et_pb_module,.et_pb_gutters2.et_pb_row .et_pb_column_1_5 .et_pb_module{margin-bottom:8.523%}.et_pb_gutters2 .et_pb_column_1_6,.et_pb_gutters2.et_pb_row .et_pb_column_1_6{width:14.1667%}.et_pb_gutters2 .et_pb_column_1_6 .et_pb_module,.et_pb_gutters2.et_pb_row .et_pb_column_1_6 .et_pb_module{margin-bottom:10.588%}.et_pb_gutters2 .et_full_width_page.woocommerce-page ul.products li.product{width:22.75%;margin-right:3%;margin-bottom:3%}.et_pb_gutters2.et_left_sidebar.woocommerce-page #main-content ul.products li.product,.et_pb_gutters2.et_right_sidebar.woocommerce-page #main-content ul.products li.product{width:30.64%;margin-right:4.04%}}\\n@media (min-width:981px){.et_pb_gutters2 .et_pb_column .et_pb_blog_grid .column.size-1of1 .et_pb_post:last-child,.et_pb_gutters2 .et_pb_column .et_pb_blog_grid .column.size-1of2 .et_pb_post:last-child,.et_pb_gutters2 .et_pb_column .et_pb_blog_grid .column.size-1of3 .et_pb_post:last-child,.et_pb_gutters2.et_pb_row .et_pb_column .et_pb_blog_grid .column.size-1of1 .et_pb_post:last-child,.et_pb_gutters2.et_pb_row .et_pb_column .et_pb_blog_grid .column.size-1of2 .et_pb_post:last-child,.et_pb_gutters2.et_pb_row .et_pb_column .et_pb_blog_grid .column.size-1of3 .et_pb_post:last-child{margin-bottom:30px}.et_pb_gutters2 .et_pb_column_4_4 .et_pb_grid_item,.et_pb_gutters2 .et_pb_column_4_4 .et_pb_shop_grid .woocommerce ul.products li.product,.et_pb_gutters2 .et_pb_column_4_4 .et_pb_widget,.et_pb_gutters2.et_pb_row .et_pb_column_4_4 .et_pb_grid_item,.et_pb_gutters2.et_pb_row .et_pb_column_4_4 .et_pb_shop_grid .woocommerce ul.products li.product,.et_pb_gutters2.et_pb_row .et_pb_column_4_4 .et_pb_widget{width:22.75%;margin-right:3%;margin-bottom:3%}.et_pb_gutters2 .et_pb_column_4_4 .et_pb_blog_grid .column.size-1of3,.et_pb_gutters2.et_pb_row .et_pb_column_4_4 .et_pb_blog_grid .column.size-1of3{width:31.333%;margin-right:3%}.et_pb_gutters2 .et_pb_column_4_4 .et_pb_blog_grid .column.size-1of3 .et_pb_post,.et_pb_gutters2.et_pb_row .et_pb_column_4_4 .et_pb_blog_grid .column.size-1of3 .et_pb_post{margin-bottom:9.574%}.et_pb_gutters2 .et_pb_column_3_4 .et_pb_grid_item,.et_pb_gutters2 .et_pb_column_3_4 .et_pb_shop_grid .woocommerce ul.products li.product,.et_pb_gutters2 .et_pb_column_3_4 .et_pb_widget,.et_pb_gutters2.et_pb_row .et_pb_column_3_4 .et_pb_grid_item,.et_pb_gutters2.et_pb_row .et_pb_column_3_4 .et_pb_shop_grid .woocommerce ul.products li.product,.et_pb_gutters2.et_pb_row .et_pb_column_3_4 .et_pb_widget{width:30.64%;margin-right:4.04%;margin-bottom:4.04%}.et_pb_gutters2 .et_pb_column_3_4 .et_pb_blog_grid .column.size-1of2,.et_pb_gutters2.et_pb_row .et_pb_column_3_4 .et_pb_blog_grid .column.size-1of2{width:47.98%;margin-right:4.04%}.et_pb_gutters2 .et_pb_column_3_4 .et_pb_blog_grid .column.size-1of2 .et_pb_post,.et_pb_gutters2.et_pb_row .et_pb_column_3_4 .et_pb_blog_grid .column.size-1of2 .et_pb_post{margin-bottom:8.081%}.et_pb_gutters2 .et_pb_column_2_3 .et_pb_grid_item,.et_pb_gutters2 .et_pb_column_2_3 .et_pb_shop_grid .woocommerce ul.products li.product,.et_pb_gutters2 .et_pb_column_2_3 .et_pb_widget,.et_pb_gutters2.et_pb_row .et_pb_column_2_3 .et_pb_grid_item,.et_pb_gutters2.et_pb_row .et_pb_column_2_3 .et_pb_shop_grid .woocommerce ul.products li.product,.et_pb_gutters2.et_pb_row .et_pb_column_2_3 .et_pb_widget{width:47.716%;margin-right:4.569%;margin-bottom:4.569%}.et_pb_gutters2 .et_pb_column_2_3 .et_pb_blog_grid .column.size-1of2,.et_pb_gutters2.et_pb_row .et_pb_column_2_3 .et_pb_blog_grid .column.size-1of2{width:47.716%;margin-right:4.569%}.et_pb_gutters2 .et_pb_column_2_3 .et_pb_blog_grid .column.size-1of2 .et_pb_post,.et_pb_gutters2.et_pb_row .et_pb_column_2_3 .et_pb_blog_grid .column.size-1of2 .et_pb_post{margin-bottom:9.137%}.et_pb_gutters2 .et_pb_column_3_5 .et_pb_grid_item,.et_pb_gutters2 .et_pb_column_3_5 .et_pb_shop_grid .woocommerce ul.products li.product,.et_pb_gutters2 .et_pb_column_3_5 .et_pb_widget,.et_pb_gutters2.et_pb_row .et_pb_column_3_5 .et_pb_grid_item,.et_pb_gutters2.et_pb_row .et_pb_column_3_5 .et_pb_shop_grid .woocommerce ul.products li.product,.et_pb_gutters2.et_pb_row .et_pb_column_3_5 .et_pb_widget{width:47.449%;margin-right:5.102%;margin-bottom:5.102%}.et_pb_gutters2 .et_pb_column_3_5 .et_pb_blog_grid .column.size-1of1,.et_pb_gutters2.et_pb_row .et_pb_column_3_5 .et_pb_blog_grid .column.size-1of1{width:100%;margin-right:0}.et_pb_gutters2 .et_pb_column_3_5 .et_pb_blog_grid .column.size-1of1 .et_pb_post,.et_pb_gutters2.et_pb_row .et_pb_column_3_5 .et_pb_blog_grid .column.size-1of1 .et_pb_post{margin-bottom:5.102%}.et_pb_gutters2 .et_pb_column_1_2 .et_pb_grid_item,.et_pb_gutters2 .et_pb_column_1_2 .et_pb_shop_grid .woocommerce ul.products li.product,.et_pb_gutters2 .et_pb_column_1_2 .et_pb_widget,.et_pb_gutters2.et_pb_row .et_pb_column_1_2 .et_pb_grid_item,.et_pb_gutters2.et_pb_row .et_pb_column_1_2 .et_pb_shop_grid .woocommerce ul.products li.product,.et_pb_gutters2.et_pb_row .et_pb_column_1_2 .et_pb_widget{width:46.907%;margin-right:6.186%;margin-bottom:6.186%}.et_pb_gutters2 .et_pb_column_1_2 .et_pb_blog_grid .column.size-1of1,.et_pb_gutters2.et_pb_row .et_pb_column_1_2 .et_pb_blog_grid .column.size-1of1{width:100%;margin-right:0}.et_pb_gutters2 .et_pb_column_1_2 .et_pb_blog_grid .column.size-1of1 .et_pb_post,.et_pb_gutters2.et_pb_row .et_pb_column_1_2 .et_pb_blog_grid .column.size-1of1 .et_pb_post{margin-bottom:6.186%}.et_pb_gutters2 .et_pb_column_2_5 .et_pb_blog_grid .column.size-1of1 .et_pb_post,.et_pb_gutters2 .et_pb_column_2_5 .et_pb_grid_item,.et_pb_gutters2 .et_pb_column_2_5 .et_pb_shop_grid .woocommerce ul.products li.product,.et_pb_gutters2 .et_pb_column_2_5 .et_pb_widget,.et_pb_gutters2.et_pb_row .et_pb_column_2_5 .et_pb_blog_grid .column.size-1of1 .et_pb_post,.et_pb_gutters2.et_pb_row .et_pb_column_2_5 .et_pb_grid_item,.et_pb_gutters2.et_pb_row .et_pb_column_2_5 .et_pb_shop_grid .woocommerce ul.products li.product,.et_pb_gutters2.et_pb_row .et_pb_column_2_5 .et_pb_widget{width:100%;margin-bottom:7.853%}.et_pb_gutters2 .et_pb_column_1_3 .et_pb_blog_grid .column.size-1of1 .et_pb_post,.et_pb_gutters2 .et_pb_column_1_3 .et_pb_grid_item,.et_pb_gutters2 .et_pb_column_1_3 .et_pb_shop_grid .woocommerce ul.products li.product,.et_pb_gutters2 .et_pb_column_1_3 .et_pb_widget,.et_pb_gutters2.et_pb_row .et_pb_column_1_3 .et_pb_blog_grid .column.size-1of1 .et_pb_post,.et_pb_gutters2.et_pb_row .et_pb_column_1_3 .et_pb_grid_item,.et_pb_gutters2.et_pb_row .et_pb_column_1_3 .et_pb_shop_grid .woocommerce ul.products li.product,.et_pb_gutters2.et_pb_row .et_pb_column_1_3 .et_pb_widget{width:100%;margin-bottom:9.574%}.et_pb_gutters2 .et_pb_column_1_4 .et_pb_blog_grid .column.size-1of1 .et_pb_post,.et_pb_gutters2 .et_pb_column_1_4 .et_pb_grid_item,.et_pb_gutters2 .et_pb_column_1_4 .et_pb_shop_grid .woocommerce ul.products li.product,.et_pb_gutters2 .et_pb_column_1_4 .et_pb_widget,.et_pb_gutters2.et_pb_row .et_pb_column_1_4 .et_pb_blog_grid .column.size-1of1 .et_pb_post,.et_pb_gutters2.et_pb_row .et_pb_column_1_4 .et_pb_grid_item,.et_pb_gutters2.et_pb_row .et_pb_column_1_4 .et_pb_shop_grid .woocommerce ul.products li.product,.et_pb_gutters2.et_pb_row .et_pb_column_1_4 .et_pb_widget{width:100%;margin-bottom:13.187%}.et_pb_gutters2 .et_pb_column_1_5 .et_pb_blog_grid .column.size-1of1 .et_pb_post,.et_pb_gutters2 .et_pb_column_1_5 .et_pb_grid_item,.et_pb_gutters2 .et_pb_column_1_5 .et_pb_shop_grid .woocommerce ul.products li.product,.et_pb_gutters2 .et_pb_column_1_5 .et_pb_widget,.et_pb_gutters2.et_pb_row .et_pb_column_1_5 .et_pb_blog_grid .column.size-1of1 .et_pb_post,.et_pb_gutters2.et_pb_row .et_pb_column_1_5 .et_pb_grid_item,.et_pb_gutters2.et_pb_row .et_pb_column_1_5 .et_pb_shop_grid .woocommerce ul.products li.product,.et_pb_gutters2.et_pb_row .et_pb_column_1_5 .et_pb_widget{width:100%;margin-bottom:17.045%}.et_pb_gutters2 .et_pb_column_1_6 .et_pb_blog_grid .column.size-1of1 .et_pb_post,.et_pb_gutters2 .et_pb_column_1_6 .et_pb_grid_item,.et_pb_gutters2 .et_pb_column_1_6 .et_pb_shop_grid .woocommerce ul.products li.product,.et_pb_gutters2 .et_pb_column_1_6 .et_pb_widget,.et_pb_gutters2.et_pb_row .et_pb_column_1_6 .et_pb_blog_grid .column.size-1of1 .et_pb_post,.et_pb_gutters2.et_pb_row .et_pb_column_1_6 .et_pb_grid_item,.et_pb_gutters2.et_pb_row .et_pb_column_1_6 .et_pb_shop_grid .woocommerce ul.products li.product,.et_pb_gutters2.et_pb_row .et_pb_column_1_6 .et_pb_widget{width:100%;margin-bottom:21.176%}.et_pb_gutters2 .et_pb_column_4_4 .et_pb_grid_item.et_pb_portfolio_item:nth-child(4n),.et_pb_gutters2 .et_pb_column_4_4 .et_pb_shop_grid .woocommerce ul.products li.product:nth-child(4n),.et_pb_gutters2 .et_pb_column_4_4 .et_pb_widget:nth-child(4n),.et_pb_gutters2.et_pb_row .et_pb_column_4_4 .et_pb_grid_item.et_pb_portfolio_item:nth-child(4n),.et_pb_gutters2.et_pb_row .et_pb_column_4_4 .et_pb_shop_grid .woocommerce ul.products li.product:nth-child(4n),.et_pb_gutters2.et_pb_row .et_pb_column_4_4 .et_pb_widget:nth-child(4n){margin-right:0}.et_pb_gutters2 .et_pb_column_4_4 .et_pb_grid_item.et_pb_portfolio_item:nth-child(4n+1),.et_pb_gutters2 .et_pb_column_4_4 .et_pb_shop_grid .woocommerce ul.products li.product:nth-child(4n+1),.et_pb_gutters2 .et_pb_column_4_4 .et_pb_widget:nth-child(4n+1),.et_pb_gutters2.et_pb_row .et_pb_column_4_4 .et_pb_grid_item.et_pb_portfolio_item:nth-child(4n+1),.et_pb_gutters2.et_pb_row .et_pb_column_4_4 .et_pb_shop_grid .woocommerce ul.products li.product:nth-child(4n+1),.et_pb_gutters2.et_pb_row .et_pb_column_4_4 .et_pb_widget:nth-child(4n+1){clear:both}.et_pb_gutters2 .et_pb_column_4_4 .et_pb_blog_grid .column.size-1of3:nth-child(3n),.et_pb_gutters2 .et_pb_column_4_4 .et_pb_grid_item.last_in_row,.et_pb_gutters2.et_pb_row .et_pb_column_4_4 .et_pb_blog_grid .column.size-1of3:nth-child(3n),.et_pb_gutters2.et_pb_row .et_pb_column_4_4 .et_pb_grid_item.last_in_row{margin-right:0}.et_pb_gutters2 .et_pb_column_4_4 .et_pb_grid_item.on_last_row,.et_pb_gutters2.et_pb_row .et_pb_column_4_4 .et_pb_grid_item.on_last_row{margin-bottom:0}.et_pb_gutters2 .et_pb_column_3_4 .et_pb_grid_item.et_pb_portfolio_item:nth-child(3n),.et_pb_gutters2 .et_pb_column_3_4 .et_pb_shop_grid .woocommerce ul.products li.product:nth-child(3n),.et_pb_gutters2 .et_pb_column_3_4 .et_pb_widget:nth-child(3n),.et_pb_gutters2.et_pb_row .et_pb_column_3_4 .et_pb_grid_item.et_pb_portfolio_item:nth-child(3n),.et_pb_gutters2.et_pb_row .et_pb_column_3_4 .et_pb_shop_grid .woocommerce ul.products li.product:nth-child(3n),.et_pb_gutters2.et_pb_row .et_pb_column_3_4 .et_pb_widget:nth-child(3n){margin-right:0}.et_pb_gutters2 .et_pb_column_3_4 .et_pb_grid_item.et_pb_portfolio_item:nth-child(3n+1),.et_pb_gutters2 .et_pb_column_3_4 .et_pb_shop_grid .woocommerce ul.products li.product:nth-child(3n+1),.et_pb_gutters2 .et_pb_column_3_4 .et_pb_widget:nth-child(3n+1),.et_pb_gutters2.et_pb_row .et_pb_column_3_4 .et_pb_grid_item.et_pb_portfolio_item:nth-child(3n+1),.et_pb_gutters2.et_pb_row .et_pb_column_3_4 .et_pb_shop_grid .woocommerce ul.products li.product:nth-child(3n+1),.et_pb_gutters2.et_pb_row .et_pb_column_3_4 .et_pb_widget:nth-child(3n+1){clear:both}.et_pb_gutters2 .et_pb_column_3_4 .et_pb_grid_item.last_in_row,.et_pb_gutters2.et_pb_row .et_pb_column_3_4 .et_pb_grid_item.last_in_row{margin-right:0}.et_pb_gutters2 .et_pb_column_3_4 .et_pb_grid_item.on_last_row,.et_pb_gutters2.et_pb_row .et_pb_column_3_4 .et_pb_grid_item.on_last_row{margin-bottom:0}.et_pb_gutters2 .et_pb_column_1_2 .et_pb_grid_item.et_pb_portfolio_item:nth-child(2n),.et_pb_gutters2 .et_pb_column_1_2 .et_pb_shop_grid .woocommerce ul.products li.product:nth-child(2n),.et_pb_gutters2 .et_pb_column_1_2 .et_pb_widget:nth-child(2n),.et_pb_gutters2 .et_pb_column_2_3 .et_pb_grid_item.et_pb_portfolio_item:nth-child(2n),.et_pb_gutters2 .et_pb_column_2_3 .et_pb_shop_grid .woocommerce ul.products li.product:nth-child(2n),.et_pb_gutters2 .et_pb_column_2_3 .et_pb_widget:nth-child(2n),.et_pb_gutters2.et_pb_row .et_pb_column_1_2 .et_pb_grid_item.et_pb_portfolio_item:nth-child(2n),.et_pb_gutters2.et_pb_row .et_pb_column_1_2 .et_pb_shop_grid .woocommerce ul.products li.product:nth-child(2n),.et_pb_gutters2.et_pb_row .et_pb_column_1_2 .et_pb_widget:nth-child(2n),.et_pb_gutters2.et_pb_row .et_pb_column_2_3 .et_pb_grid_item.et_pb_portfolio_item:nth-child(2n),.et_pb_gutters2.et_pb_row .et_pb_column_2_3 .et_pb_shop_grid .woocommerce ul.products li.product:nth-child(2n),.et_pb_gutters2.et_pb_row .et_pb_column_2_3 .et_pb_widget:nth-child(2n){margin-right:0}.et_pb_gutters2 .et_pb_column_1_2 .et_pb_grid_item.et_pb_portfolio_item:nth-child(odd),.et_pb_gutters2 .et_pb_column_1_2 .et_pb_shop_grid .woocommerce ul.products li.product:nth-child(odd),.et_pb_gutters2 .et_pb_column_1_2 .et_pb_widget:nth-child(odd),.et_pb_gutters2 .et_pb_column_2_3 .et_pb_grid_item.et_pb_portfolio_item:nth-child(odd),.et_pb_gutters2 .et_pb_column_2_3 .et_pb_shop_grid .woocommerce ul.products li.product:nth-child(odd),.et_pb_gutters2 .et_pb_column_2_3 .et_pb_widget:nth-child(odd),.et_pb_gutters2.et_pb_row .et_pb_column_1_2 .et_pb_grid_item.et_pb_portfolio_item:nth-child(odd),.et_pb_gutters2.et_pb_row .et_pb_column_1_2 .et_pb_shop_grid .woocommerce ul.products li.product:nth-child(odd),.et_pb_gutters2.et_pb_row .et_pb_column_1_2 .et_pb_widget:nth-child(odd),.et_pb_gutters2.et_pb_row .et_pb_column_2_3 .et_pb_grid_item.et_pb_portfolio_item:nth-child(odd),.et_pb_gutters2.et_pb_row .et_pb_column_2_3 .et_pb_shop_grid .woocommerce ul.products li.product:nth-child(odd),.et_pb_gutters2.et_pb_row .et_pb_column_2_3 .et_pb_widget:nth-child(odd){clear:both}.et_pb_gutters2 .et_pb_column_1_2 .et_pb_grid_item.last_in_row,.et_pb_gutters2 .et_pb_column_2_3 .et_pb_grid_item.last_in_row,.et_pb_gutters2.et_pb_row .et_pb_column_1_2 .et_pb_grid_item.last_in_row,.et_pb_gutters2.et_pb_row .et_pb_column_2_3 .et_pb_grid_item.last_in_row{margin-right:0}.et_pb_gutters2 .et_pb_column_1_2 .et_pb_grid_item.on_last_row,.et_pb_gutters2 .et_pb_column_2_3 .et_pb_grid_item.on_last_row,.et_pb_gutters2.et_pb_row .et_pb_column_1_2 .et_pb_grid_item.on_last_row,.et_pb_gutters2.et_pb_row .et_pb_column_2_3 .et_pb_grid_item.on_last_row{margin-bottom:0}.et_pb_gutters2 .et_pb_column_3_5 .et_pb_grid_item.et_pb_portfolio_item:nth-child(2n),.et_pb_gutters2 .et_pb_column_3_5 .et_pb_shop_grid .woocommerce ul.products li.product:nth-child(2n),.et_pb_gutters2 .et_pb_column_3_5 .et_pb_widget:nth-child(2n),.et_pb_gutters2.et_pb_row .et_pb_column_3_5 .et_pb_grid_item.et_pb_portfolio_item:nth-child(2n),.et_pb_gutters2.et_pb_row .et_pb_column_3_5 .et_pb_shop_grid .woocommerce ul.products li.product:nth-child(2n),.et_pb_gutters2.et_pb_row .et_pb_column_3_5 .et_pb_widget:nth-child(2n){margin-right:0}.et_pb_gutters2 .et_pb_column_3_5 .et_pb_grid_item.et_pb_portfolio_item:nth-child(odd),.et_pb_gutters2 .et_pb_column_3_5 .et_pb_shop_grid .woocommerce ul.products li.product:nth-child(odd),.et_pb_gutters2 .et_pb_column_3_5 .et_pb_widget:nth-child(odd),.et_pb_gutters2.et_pb_row .et_pb_column_3_5 .et_pb_grid_item.et_pb_portfolio_item:nth-child(odd),.et_pb_gutters2.et_pb_row .et_pb_column_3_5 .et_pb_shop_grid .woocommerce ul.products li.product:nth-child(odd),.et_pb_gutters2.et_pb_row .et_pb_column_3_5 .et_pb_widget:nth-child(odd){clear:both}.et_pb_gutters2 .et_pb_column_3_5 .et_pb_grid_item.last_in_row,.et_pb_gutters2.et_pb_row .et_pb_column_3_5 .et_pb_grid_item.last_in_row{margin-right:0}.et_pb_gutters2 .et_pb_column_1_3 .et_pb_grid_item.on_last_row,.et_pb_gutters2 .et_pb_column_1_4 .et_pb_grid_item.on_last_row,.et_pb_gutters2 .et_pb_column_1_5 .et_pb_grid_item.on_last_row,.et_pb_gutters2 .et_pb_column_1_6 .et_pb_grid_item.on_last_row,.et_pb_gutters2 .et_pb_column_3_5 .et_pb_grid_item.on_last_row,.et_pb_gutters2.et_pb_row .et_pb_column_1_3 .et_pb_grid_item.on_last_row,.et_pb_gutters2.et_pb_row .et_pb_column_1_4 .et_pb_grid_item.on_last_row,.et_pb_gutters2.et_pb_row .et_pb_column_1_5 .et_pb_grid_item.on_last_row,.et_pb_gutters2.et_pb_row .et_pb_column_1_6 .et_pb_grid_item.on_last_row,.et_pb_gutters2.et_pb_row .et_pb_column_3_5 .et_pb_grid_item.on_last_row{margin-bottom:0}.et_pb_gutters2 .et_pb_column_1_2 .et_pb_blog_grid .column.size-1of2:nth-child(2n),.et_pb_gutters2 .et_pb_column_1_2 .et_pb_blog_grid .column.size-1of3:nth-child(3n),.et_pb_gutters2 .et_pb_column_1_2 .et_pb_grid_item.last_in_row,.et_pb_gutters2 .et_pb_column_2_3 .et_pb_blog_grid .column.size-1of2:nth-child(2n),.et_pb_gutters2 .et_pb_column_2_3 .et_pb_blog_grid .column.size-1of3:nth-child(3n),.et_pb_gutters2 .et_pb_column_2_3 .et_pb_grid_item.last_in_row,.et_pb_gutters2 .et_pb_column_3_4 .et_pb_blog_grid .column.size-1of2:nth-child(2n),.et_pb_gutters2 .et_pb_column_3_4 .et_pb_blog_grid .column.size-1of3:nth-child(3n),.et_pb_gutters2 .et_pb_column_3_4 .et_pb_grid_item.last_in_row,.et_pb_gutters2.et_pb_row .et_pb_column_1_2 .et_pb_blog_grid .column.size-1of2:nth-child(2n),.et_pb_gutters2.et_pb_row .et_pb_column_1_2 .et_pb_blog_grid .column.size-1of3:nth-child(3n),.et_pb_gutters2.et_pb_row .et_pb_column_1_2 .et_pb_grid_item.last_in_row,.et_pb_gutters2.et_pb_row .et_pb_column_2_3 .et_pb_blog_grid .column.size-1of2:nth-child(2n),.et_pb_gutters2.et_pb_row .et_pb_column_2_3 .et_pb_blog_grid .column.size-1of3:nth-child(3n),.et_pb_gutters2.et_pb_row .et_pb_column_2_3 .et_pb_grid_item.last_in_row,.et_pb_gutters2.et_pb_row .et_pb_column_3_4 .et_pb_blog_grid .column.size-1of2:nth-child(2n),.et_pb_gutters2.et_pb_row .et_pb_column_3_4 .et_pb_blog_grid .column.size-1of3:nth-child(3n),.et_pb_gutters2.et_pb_row .et_pb_column_3_4 .et_pb_grid_item.last_in_row{margin-right:0}.et_pb_gutters2 .et_pb_column_1_2 .et_pb_grid_item.on_last_row,.et_pb_gutters2 .et_pb_column_2_3 .et_pb_grid_item.on_last_row,.et_pb_gutters2 .et_pb_column_3_4 .et_pb_grid_item.on_last_row,.et_pb_gutters2.et_pb_row .et_pb_column_1_2 .et_pb_grid_item.on_last_row,.et_pb_gutters2.et_pb_row .et_pb_column_2_3 .et_pb_grid_item.on_last_row,.et_pb_gutters2.et_pb_row .et_pb_column_3_4 .et_pb_grid_item.on_last_row{margin-bottom:0}}\\n#sidebar{padding-bottom:28px}#sidebar .et_pb_widget{margin-bottom:30px;width:100%;float:none}.et_right_sidebar #main-content .et_pb_column_2_3 .et_pb_countdown_timer .section p.value,.et_right_sidebar #main-content .et_pb_column_2_3 .et_pb_countdown_timer .section.sep,.et_left_sidebar #main-content .et_pb_column_2_3 .et_pb_countdown_timer .section p.value,.et_left_sidebar #main-content .et_pb_column_2_3 .et_pb_countdown_timer .section.sep{font-size:44px;line-height:44px}.et_right_sidebar #main-content .et_pb_column_1_2 .et_pb_countdown_timer .section p.value,.et_right_sidebar #main-content .et_pb_column_1_2 .et_pb_countdown_timer .section.sep,.et_left_sidebar #main-content .et_pb_column_1_2 .et_pb_countdown_timer .section p.value,.et_left_sidebar #main-content .et_pb_column_1_2 .et_pb_countdown_timer .section.sep{font-size:32px;line-height:32px}.et_right_sidebar #main-content .et_pb_column_3_8 .et_pb_countdown_timer .section p.value,.et_right_sidebar #main-content .et_pb_column_3_8 .et_pb_countdown_timer .section.sep,.et_left_sidebar #main-content .et_pb_column_3_8 .et_pb_countdown_timer .section p.value,.et_left_sidebar #main-content .et_pb_column_3_8 .et_pb_countdown_timer .section.sep{font-size:24px;line-height:24px}.et_right_sidebar #main-content .et_pb_column_1_3 .et_pb_countdown_timer .section p.value,.et_right_sidebar #main-content .et_pb_column_1_3 .et_pb_countdown_timer .section.sep,.et_left_sidebar #main-content .et_pb_column_1_3 .et_pb_countdown_timer .section p.value,.et_left_sidebar #main-content .et_pb_column_1_3 .et_pb_countdown_timer .section.sep{font-size:20px;line-height:20px}.et_right_sidebar #main-content .et_pb_column_1_4 .et_pb_countdown_timer .section p.value,.et_right_sidebar #main-content .et_pb_column_1_4 .et_pb_countdown_timer .section.sep,.et_left_sidebar #main-content .et_pb_column_1_4 .et_pb_countdown_timer .section p.value,.et_left_sidebar #main-content .et_pb_column_1_4 .et_pb_countdown_timer .section.sep{font-size:16px;line-height:16px}@media all and (min-width: 981px) and (max-width: 1100px){#sidebar .et_pb_widget{margin-left:0}.et_left_sidebar #sidebar .et_pb_widget{margin-right:0}}@media all and (min-width: 981px){#sidebar{float:left;width:20.875%}.et_right_sidebar #left-area{float:left;padding-right:5.5%}.et_right_sidebar #sidebar{padding-left:30px}.et_right_sidebar #main-content .container:before{right:20.875% !important}.et_left_sidebar #left-area{float:right;padding-left:5.5%}.et_left_sidebar #sidebar{padding-right:30px}.et_left_sidebar #main-content .container:before{left:20.875% !important}}@media all and (max-width: 980px){.et_right_sidebar #left-area,.et_right_sidebar #sidebar,.et_left_sidebar #left-area,.et_left_sidebar #sidebar{width:auto;float:none;padding-right:0;padding-left:0}.et_right_sidebar #left-area{margin-right:0}.et_right_sidebar #sidebar{margin-left:0;border-left:none}.et_left_sidebar #left-area{margin-left:0}.et_left_sidebar #sidebar{margin-right:0;border-right:none}}\\n.et_pb_widget{float:left;max-width:100%;word-wrap:break-word}.et_pb_widget a{text-decoration:none;color:#666}.et_pb_widget li a:hover{color:#82c0c7}.et_pb_widget ol li,.et_pb_widget ul li{margin-bottom:.5em}.et_pb_widget ol li ol li,.et_pb_widget ul li ul li{margin-left:15px}.et_pb_widget select{width:100%;height:28px;padding:0 5px}.et_pb_widget_area .et_pb_widget a{color:inherit}.et_pb_bg_layout_light .et_pb_widget li a{color:#666}.et_pb_bg_layout_dark .et_pb_widget li a{color:inherit}\\n.et_pb_scroll_top.et-pb-icon{text-align:center;background:rgba(0,0,0,0.4);text-decoration:none;position:fixed;z-index:99999;bottom:125px;right:0px;-webkit-border-top-left-radius:5px;-webkit-border-bottom-left-radius:5px;-moz-border-radius-topleft:5px;-moz-border-radius-bottomleft:5px;border-top-left-radius:5px;border-bottom-left-radius:5px;display:none;cursor:pointer;font-size:30px;padding:5px;color:#fff}.et_pb_scroll_top:before{content:\\'2\\'}.et_pb_scroll_top.et-visible{opacity:1;-webkit-animation:fadeInRight 1s 1 cubic-bezier(0.77, 0, 0.175, 1);animation:fadeInRight 1s 1 cubic-bezier(0.77, 0, 0.175, 1)}.et_pb_scroll_top.et-hidden{opacity:0;-webkit-animation:fadeOutRight 1s 1 cubic-bezier(0.77, 0, 0.175, 1);animation:fadeOutRight 1s 1 cubic-bezier(0.77, 0, 0.175, 1)}@-webkit-keyframes fadeOutRight{0%{opacity:1;-webkit-transform:translateX(0);transform:translateX(0)}100%{opacity:0;-webkit-transform:translateX(100%);transform:translateX(100%)}}@keyframes fadeOutRight{0%{opacity:1;-webkit-transform:translateX(0);transform:translateX(0)}100%{opacity:0;-webkit-transform:translateX(100%);transform:translateX(100%)}}@-webkit-keyframes fadeInRight{0%{opacity:0;-webkit-transform:translateX(100%);transform:translateX(100%)}100%{opacity:1;-webkit-transform:translateX(0);transform:translateX(0)}}@keyframes fadeInRight{0%{opacity:0;-webkit-transform:translateX(100%);transform:translateX(100%)}100%{opacity:1;-webkit-transform:translateX(0);transform:translateX(0)}}\\n.et_pb_section{position:relative;background-color:#fff;background-position:50%;background-size:100%;background-size:cover}.et_pb_section--absolute,.et_pb_section--fixed{width:100%}.et_pb_section.et_section_transparent{background-color:transparent}.et_pb_fullwidth_section{padding:0}.et_pb_fullwidth_section>.et_pb_module:not(.et_pb_post_content):not(.et_pb_fullwidth_post_content) .et_pb_row{padding:0!important}.et_pb_inner_shadow{-webkit-box-shadow:inset 0 0 7px rgba(0,0,0,.07);box-shadow:inset 0 0 7px rgba(0,0,0,.07)}.et_pb_bottom_inside_divider,.et_pb_top_inside_divider{display:block;background-repeat-y:no-repeat;height:100%;position:absolute;pointer-events:none;width:100%;left:0;right:0}.et_pb_bottom_inside_divider.et-no-transition,.et_pb_top_inside_divider.et-no-transition{-webkit-transition:none!important;transition:none!important}.et_pb_top_inside_divider{margin-top:-1px}.et_pb_bottom_inside_divider{margin-bottom:-1px}.et-fb .section_has_divider.et_fb_element_controls_visible--child>.et_pb_bottom_inside_divider,.et-fb .section_has_divider.et_fb_element_controls_visible--child>.et_pb_top_inside_divider{z-index:1}.et_pb_section_video:not(.et_pb_section--with-menu){overflow:hidden;position:relative}.et_pb_column>.et_pb_section_video_bg{z-index:-1}.et_pb_section_video_bg{visibility:visible;position:absolute;top:0;left:0;width:100%;height:100%;overflow:hidden;display:block;pointer-events:none;-webkit-transition:display .3s;transition:display .3s}.et_pb_section_video_bg.et_pb_section_video_bg_hover,.et_pb_section_video_bg.et_pb_section_video_bg_phone,.et_pb_section_video_bg.et_pb_section_video_bg_tablet,.et_pb_section_video_bg.et_pb_section_video_bg_tablet_only{display:none}.et_pb_section_video_bg .mejs-controls,.et_pb_section_video_bg .mejs-overlay-play{display:none!important}.et_pb_section_video_bg embed,.et_pb_section_video_bg iframe,.et_pb_section_video_bg object,.et_pb_section_video_bg video{max-width:none}.et_pb_section_video_bg .mejs-video{left:50%;position:absolute;max-width:none}.et_pb_section_video_bg .mejs-overlay-loading{display:none!important}.et_pb_social_network_link .et_pb_section_video{overflow:visible}.et_pb_section_video_on_hover:hover>.et_pb_section_video_bg{display:none}.et_pb_section_video_on_hover:hover>.et_pb_section_video_bg_hover,.et_pb_section_video_on_hover:hover>.et_pb_section_video_bg_hover_inherit{display:block}@media (min-width:981px){.et_pb_section{padding:4% 0}body.et_pb_pagebuilder_layout.et_pb_show_title .post-password-required .et_pb_section,body:not(.et_pb_pagebuilder_layout) .post-password-required .et_pb_section{padding-top:0}.et_pb_fullwidth_section{padding:0}.et_pb_section_video_bg.et_pb_section_video_bg_desktop_only{display:block}}@media (max-width:980px){.et_pb_section{padding:50px 0}body.et_pb_pagebuilder_layout.et_pb_show_title .post-password-required .et_pb_section,body:not(.et_pb_pagebuilder_layout) .post-password-required .et_pb_section{padding-top:0}.et_pb_fullwidth_section{padding:0}.et_pb_section_video_bg.et_pb_section_video_bg_tablet{display:block}.et_pb_section_video_bg.et_pb_section_video_bg_desktop_only{display:none}}@media (min-width:768px){.et_pb_section_video_bg.et_pb_section_video_bg_desktop_tablet{display:block}}@media (min-width:768px) and (max-width:980px){.et_pb_section_video_bg.et_pb_section_video_bg_tablet_only{display:block}}@media (max-width:767px){.et_pb_section_video_bg.et_pb_section_video_bg_phone{display:block}.et_pb_section_video_bg.et_pb_section_video_bg_desktop_tablet{display:none}}\\n.et_pb_row{width:80%;max-width:1080px;margin:auto;position:relative}body.safari .section_has_divider,body.uiwebview .section_has_divider{-webkit-perspective:2000px;perspective:2000px}.section_has_divider .et_pb_row{z-index:5}.et_pb_row_inner{width:100%;position:relative}.et_pb_row.et_pb_row_empty,.et_pb_row_inner:nth-of-type(n+2).et_pb_row_empty{display:none}.et_pb_row:after,.et_pb_row_inner:after{content:\"\";display:block;clear:both;visibility:hidden;line-height:0;height:0;width:0}.et_pb_row_4col .et-last-child,.et_pb_row_4col .et-last-child-2,.et_pb_row_6col .et-last-child,.et_pb_row_6col .et-last-child-2,.et_pb_row_6col .et-last-child-3{margin-bottom:0}.et_pb_column{float:left;background-size:cover;background-position:50%;position:relative;z-index:2;min-height:1px}.et_pb_column--with-menu{z-index:3}.et_pb_column.et_pb_column_empty{min-height:1px}.et_pb_row .et_pb_column.et-last-child,.et_pb_row .et_pb_column:last-child,.et_pb_row_inner .et_pb_column.et-last-child,.et_pb_row_inner .et_pb_column:last-child{margin-right:0!important}.et_pb_column.et_pb_section_parallax{position:relative}.et_pb_column,.et_pb_row,.et_pb_row_inner{background-size:cover;background-position:50%;background-repeat:no-repeat}@media (min-width:981px){.et_pb_row{padding:2% 0}body.et_pb_pagebuilder_layout.et_pb_show_title .post-password-required .et_pb_row,body:not(.et_pb_pagebuilder_layout) .post-password-required .et_pb_row{padding:0;width:100%}.et_pb_column_3_4 .et_pb_row_inner{padding:3.735% 0}.et_pb_column_2_3 .et_pb_row_inner{padding:4.2415% 0}.et_pb_column_1_2 .et_pb_row_inner,.et_pb_column_3_5 .et_pb_row_inner{padding:5.82% 0}.et_section_specialty>.et_pb_row{padding:0}.et_pb_row_inner{width:100%}.et_pb_column_single{padding:2.855% 0}.et_pb_column_single .et_pb_module.et-first-child,.et_pb_column_single .et_pb_module:first-child{margin-top:0}.et_pb_column_single .et_pb_module.et-last-child,.et_pb_column_single .et_pb_module:last-child{margin-bottom:0}.et_pb_row .et_pb_column.et-last-child,.et_pb_row .et_pb_column:last-child,.et_pb_row_inner .et_pb_column.et-last-child,.et_pb_row_inner .et_pb_column:last-child{margin-right:0!important}.et_pb_row.et_pb_equal_columns,.et_pb_row_inner.et_pb_equal_columns,.et_pb_section.et_pb_equal_columns>.et_pb_row{display:-webkit-box;display:-ms-flexbox;display:flex}.rtl .et_pb_row.et_pb_equal_columns,.rtl .et_pb_row_inner.et_pb_equal_columns,.rtl .et_pb_section.et_pb_equal_columns>.et_pb_row{-webkit-box-orient:horizontal;-webkit-box-direction:reverse;-ms-flex-direction:row-reverse;flex-direction:row-reverse}.et_pb_row.et_pb_equal_columns>.et_pb_column,.et_pb_section.et_pb_equal_columns>.et_pb_row>.et_pb_column{-webkit-box-ordinal-group:2;-ms-flex-order:1;order:1}}@media (max-width:980px){.et_pb_row{max-width:1080px}body.et_pb_pagebuilder_layout.et_pb_show_title .post-password-required .et_pb_row,body:not(.et_pb_pagebuilder_layout) .post-password-required .et_pb_row{padding:0;width:100%}.et_pb_column .et_pb_row_inner,.et_pb_row{padding:30px 0}.et_section_specialty>.et_pb_row{padding:0}.et_pb_column{width:100%;margin-bottom:30px}.et_pb_bottom_divider .et_pb_row:nth-last-child(2) .et_pb_column:last-child,.et_pb_row .et_pb_column.et-last-child,.et_pb_row .et_pb_column:last-child{margin-bottom:0}.et_section_specialty .et_pb_row>.et_pb_column{padding-bottom:0}.et_pb_column.et_pb_column_empty{display:none}.et_pb_row_1-2_1-4_1-4,.et_pb_row_1-2_1-6_1-6_1-6,.et_pb_row_1-4_1-4,.et_pb_row_1-4_1-4_1-2,.et_pb_row_1-5_1-5_3-5,.et_pb_row_1-6_1-6_1-6,.et_pb_row_1-6_1-6_1-6_1-2,.et_pb_row_1-6_1-6_1-6_1-6,.et_pb_row_3-5_1-5_1-5,.et_pb_row_4col,.et_pb_row_5col,.et_pb_row_6col{display:-webkit-box;display:-ms-flexbox;display:flex;-ms-flex-wrap:wrap;flex-wrap:wrap}.et_pb_row_1-4_1-4>.et_pb_column.et_pb_column_1_4,.et_pb_row_1-4_1-4_1-2>.et_pb_column.et_pb_column_1_4,.et_pb_row_4col>.et_pb_column.et_pb_column_1_4{width:47.25%;margin-right:5.5%}.et_pb_row_1-4_1-4>.et_pb_column.et_pb_column_1_4:nth-child(2n),.et_pb_row_1-4_1-4_1-2>.et_pb_column.et_pb_column_1_4:nth-child(2n),.et_pb_row_4col>.et_pb_column.et_pb_column_1_4:nth-child(2n){margin-right:0}.et_pb_row_1-2_1-4_1-4>.et_pb_column.et_pb_column_1_4{width:47.25%;margin-right:5.5%}.et_pb_row_1-2_1-4_1-4>.et_pb_column.et_pb_column_1_2,.et_pb_row_1-2_1-4_1-4>.et_pb_column.et_pb_column_1_4:nth-child(odd){margin-right:0}.et_pb_row_1-2_1-4_1-4 .et_pb_column:nth-last-child(-n+2),.et_pb_row_1-4_1-4 .et_pb_column:nth-last-child(-n+2),.et_pb_row_4col .et_pb_column:nth-last-child(-n+2){margin-bottom:0}.et_pb_row_1-5_1-5_3-5>.et_pb_column.et_pb_column_1_5,.et_pb_row_5col>.et_pb_column.et_pb_column_1_5{width:47.25%;margin-right:5.5%}.et_pb_row_1-5_1-5_3-5>.et_pb_column.et_pb_column_1_5:nth-child(2n),.et_pb_row_5col>.et_pb_column.et_pb_column_1_5:nth-child(2n){margin-right:0}.et_pb_row_3-5_1-5_1-5>.et_pb_column.et_pb_column_1_5{width:47.25%;margin-right:5.5%}.et_pb_row_3-5_1-5_1-5>.et_pb_column.et_pb_column_1_5:nth-child(odd),.et_pb_row_3-5_1-5_1-5>.et_pb_column.et_pb_column_3_5{margin-right:0}.et_pb_row_3-5_1-5_1-5 .et_pb_column:nth-last-child(-n+2),.et_pb_row_5col .et_pb_column:last-child{margin-bottom:0}.et_pb_row_1-6_1-6_1-6_1-2>.et_pb_column.et_pb_column_1_6,.et_pb_row_6col>.et_pb_column.et_pb_column_1_6{width:29.666%;margin-right:5.5%}.et_pb_row_1-6_1-6_1-6_1-2>.et_pb_column.et_pb_column_1_6:nth-child(3n),.et_pb_row_6col>.et_pb_column.et_pb_column_1_6:nth-child(3n){margin-right:0}.et_pb_row_1-2_1-6_1-6_1-6>.et_pb_column.et_pb_column_1_6{width:29.666%;margin-right:5.5%}.et_pb_row_1-2_1-6_1-6_1-6>.et_pb_column.et_pb_column_1_2,.et_pb_row_1-2_1-6_1-6_1-6>.et_pb_column.et_pb_column_1_6:last-child{margin-right:0}.et_pb_row_1-2_1-2 .et_pb_column.et_pb_column_1_2,.et_pb_row_1-2_1-6_1-6_1-6 .et_pb_column:nth-last-child(-n+3),.et_pb_row_6col .et_pb_column:nth-last-child(-n+3){margin-bottom:0}.et_pb_row_1-2_1-2 .et_pb_column.et_pb_column_1_2 .et_pb_column.et_pb_column_1_6{width:29.666%;margin-right:5.5%;margin-bottom:0}.et_pb_row_1-2_1-2 .et_pb_column.et_pb_column_1_2 .et_pb_column.et_pb_column_1_6:last-child{margin-right:0}.et_pb_row_1-6_1-6_1-6_1-6>.et_pb_column.et_pb_column_1_6{width:47.25%;margin-right:5.5%}.et_pb_row_1-6_1-6_1-6_1-6>.et_pb_column.et_pb_column_1_6:nth-child(2n){margin-right:0}.et_pb_row_1-6_1-6_1-6_1-6:nth-last-child(-n+3){margin-bottom:0}}@media (max-width:479px){.et_pb_row .et_pb_column.et_pb_column_1_4,.et_pb_row .et_pb_column.et_pb_column_1_5,.et_pb_row .et_pb_column.et_pb_column_1_6{width:100%;margin:0 0 30px}.et_pb_row .et_pb_column.et_pb_column_1_4.et-last-child,.et_pb_row .et_pb_column.et_pb_column_1_4:last-child,.et_pb_row .et_pb_column.et_pb_column_1_5.et-last-child,.et_pb_row .et_pb_column.et_pb_column_1_5:last-child,.et_pb_row .et_pb_column.et_pb_column_1_6.et-last-child,.et_pb_row .et_pb_column.et_pb_column_1_6:last-child{margin-bottom:0}.et_pb_row_1-2_1-2 .et_pb_column.et_pb_column_1_2 .et_pb_column.et_pb_column_1_6{width:100%;margin:0 0 30px}.et_pb_row_1-2_1-2 .et_pb_column.et_pb_column_1_2 .et_pb_column.et_pb_column_1_6.et-last-child,.et_pb_row_1-2_1-2 .et_pb_column.et_pb_column_1_2 .et_pb_column.et_pb_column_1_6:last-child{margin-bottom:0}.et_pb_column{width:100%!important}}\\n.et_pb_text{word-wrap:break-word}.et_pb_text ol,.et_pb_text ul{padding-bottom:1em}.et_pb_text>:last-child{padding-bottom:0}.et_pb_text_inner{position:relative}\\n.et_pb_search .screen-reader-text{display:none}.et_pb_search{border:1px solid #ddd;border-radius:3px;overflow:hidden}.et_pb_search input.et_pb_s,.et_pb_search input.et_pb_searchsubmit{padding:.715em;margin:0;font-size:14px;line-height:normal!important;border:none;color:#666}.et_pb_search input.et_pb_s::-webkit-input-placeholder{color:#666}.et_pb_search input.et_pb_s::-moz-placeholder{color:#666}.et_pb_search input.et_pb_s:-ms-input-placeholder{color:#666}.et_pb_search input.et_pb_s{-webkit-appearance:none;background:transparent;display:inline-block;padding-right:80px;-webkit-box-flex:1;-ms-flex:1;flex:1;min-width:0}.et_pb_search .et_pb_searchform{position:relative}.et_pb_search .et_pb_searchform>div{display:-webkit-box;display:-ms-flexbox;display:flex}.et_pb_search input.et_pb_searchsubmit{min-height:100%!important;background-color:#ddd;cursor:pointer}.et_pb_search.et_pb_text_align_right .et_pb_searchform>div{-webkit-box-orient:horizontal;-webkit-box-direction:reverse;-ms-flex-direction:row-reverse;flex-direction:row-reverse}.et_pb_search.et_pb_text_align_right input.et_pb_s{text-align:right;padding-left:80px;padding-right:.7em}.et_pb_search.et_pb_text_align_center input.et_pb_s{text-align:center}.et_pb_search.et_pb_hide_search_button input.et_pb_searchsubmit{display:none}.et_pb_search.et_pb_hide_search_button input.et_pb_s{padding-left:.7em;padding-right:.7em}.et_pb_search.et_pb_bg_layout_dark input.et_pb_s{color:#fff;border:2px solid #fff}.et_pb_search.et_pb_bg_layout_dark input.et_pb_s::-webkit-input-placeholder{color:#fff}.et_pb_search.et_pb_bg_layout_dark input.et_pb_s::-moz-placeholder{color:#fff}.et_pb_search.et_pb_bg_layout_dark input.et_pb_s:-ms-input-placeholder{color:#fff}.et_pb_search.et_pb_bg_layout_dark input.et_pb_searchsubmit{background-color:transparent;color:#fff;font-weight:500;border:2px solid #fff}@media (max-width:980px){.et_pb_bg_layout_light_tablet.et_pb_search input.et_pb_s{border:none;color:#666}.et_pb_bg_layout_light_tablet.et_pb_search input.et_pb_s::-webkit-input-placeholder{color:#666}.et_pb_bg_layout_light_tablet.et_pb_search input.et_pb_searchsubmit{border:none;color:#666;background-color:#ddd}.et_pb_bg_layout_dark_tablet.et_pb_search input.et_pb_s{color:#fff;border:2px solid #fff}.et_pb_bg_layout_dark_tablet.et_pb_search input.et_pb_s::-webkit-input-placeholder{color:#fff}.et_pb_bg_layout_dark_tablet.et_pb_search input.et_pb_s::-moz-placeholder{color:#fff}.et_pb_bg_layout_dark_tablet.et_pb_search input.et_pb_s:-ms-input-placeholder{color:#fff}.et_pb_bg_layout_dark_tablet.et_pb_search input.et_pb_searchsubmit{background-color:transparent;color:#fff;font-weight:500;border:2px solid #fff}.et_pb_search.et_pb_text_align_right-tablet .et_pb_searchform>div{-webkit-box-orient:horizontal;-webkit-box-direction:reverse;-ms-flex-direction:row-reverse;flex-direction:row-reverse}.et_pb_search.et_pb_text_align_right-tablet input.et_pb_s{text-align:right;padding-left:80px;padding-right:.7em}.et_pb_search.et_pb_text_align_center-tablet input.et_pb_s{text-align:center}.et_pb_search.et_pb_text_align_left-tablet .et_pb_searchsubmit{left:auto}.et_pb_search.et_pb_text_align_left-tablet input.et_pb_s{text-align:left;padding-left:.715em}.et_pb_search.et_pb_text_align_center-tablet input.et_pb_s{padding-left:.715em;padding-right:.715em}}@media (max-width:767px){.et_pb_bg_layout_light_phone.et_pb_search input.et_pb_s{border:none;color:#666}.et_pb_bg_layout_light_phone.et_pb_search input.et_pb_s::-webkit-input-placeholder{color:#666}.et_pb_bg_layout_light_phone.et_pb_search input.et_pb_searchsubmit{border:none;color:#666;background-color:#ddd}.et_pb_bg_layout_dark_phone.et_pb_search input.et_pb_s{color:#fff;border:2px solid #fff}.et_pb_bg_layout_dark_phone.et_pb_search input.et_pb_s::-webkit-input-placeholder{color:#fff}.et_pb_bg_layout_dark_phone.et_pb_search input.et_pb_s::-moz-placeholder{color:#fff}.et_pb_bg_layout_dark_phone.et_pb_search input.et_pb_s:-ms-input-placeholder{color:#fff}.et_pb_bg_layout_dark_phone.et_pb_search input.et_pb_searchsubmit{background-color:transparent;color:#fff;font-weight:500;border:2px solid #fff}.et_pb_search.et_pb_text_align_right-phone .et_pb_searchform>div{-webkit-box-orient:horizontal;-webkit-box-direction:reverse;-ms-flex-direction:row-reverse;flex-direction:row-reverse}.et_pb_search.et_pb_text_align_right-phone input.et_pb_s{text-align:right;padding-left:80px;padding-right:.7em}.et_pb_search.et_pb_text_align_center-phone input.et_pb_s{text-align:center}.et_pb_search.et_pb_text_align_left-tablet .et_pb_searchsubmit{left:auto}.et_pb_search.et_pb_text_align_left-tablet input.et_pb_s{text-align:left;padding-left:.715em}.et_pb_search.et_pb_text_align_center-tablet input.et_pb_s{padding-left:.715em;padding-right:.715em}}\\n.et-menu li{display:inline-block;font-size:14px;padding-right:22px}.et-menu>li:last-child{padding-right:0}.et-menu a{color:rgba(0,0,0,.6);text-decoration:none;display:block;position:relative}.et-menu a,.et-menu a:hover{-webkit-transition:all .4s ease-in-out;transition:all .4s ease-in-out}.et-menu a:hover{opacity:.7}.et-menu li>a{padding-bottom:29px;word-wrap:break-word}a.et_pb_menu__icon,button.et_pb_menu__icon{display:-webkit-box;display:-ms-flexbox;display:flex;-webkit-box-align:center;-ms-flex-align:center;align-items:center;padding:0;margin:0 11px;font-family:ETmodules;font-size:17px;line-height:normal;background:none;border:0;cursor:pointer}.et_pb_menu__wrap .mobile_menu_bar{-webkit-transform:translateY(3%);transform:translateY(3%)}.et_pb_menu__wrap .mobile_menu_bar:before{top:0}.et_pb_menu__logo{overflow:hidden}.et_pb_menu__logo img{display:block}.et_pb_menu__logo img[src$=\".svg\"]{width:100%}.et_pb_menu__search-button:after{content:\"U\"}.et_pb_menu__cart-button:after{content:\"\\\\E07A\"}@media (max-width:980px){.et-menu{display:none}.et_mobile_nav_menu{display:block;margin-top:-1px}}\\n.et_pb_with_border.et_pb_menu .et_pb_menu__logo img{border:0 solid #333}.et_pb_menu.et_hover_enabled:hover{z-index:auto}.et_pb_menu .et-menu-nav,.et_pb_menu .et-menu-nav>ul{float:none}.et_pb_menu .et-menu-nav>ul{padding:0!important;line-height:1.7em}.et_pb_menu .et-menu-nav>ul ul{padding:20px 0;text-align:left}.et_pb_bg_layout_dark.et_pb_menu ul li a{color:#fff}.et_pb_bg_layout_dark.et_pb_menu ul li a:hover{color:hsla(0,0%,100%,.8)}.et-menu li li.menu-item-has-children>a:first-child:after{top:12px}.et_pb_menu .et-menu-nav>ul.upwards li ul{bottom:100%;top:auto;border-top:none;border-bottom:3px solid #2ea3f2;-webkit-box-shadow:2px -2px 5px rgba(0,0,0,.1);box-shadow:2px -2px 5px rgba(0,0,0,.1)}.et_pb_menu .et-menu-nav>ul.upwards li ul li ul{bottom:-23px}.et_pb_menu .et-menu-nav>ul.upwards li.mega-menu ul ul{bottom:0;top:auto;border:none}.et_pb_menu_inner_container{position:relative}.et_pb_menu .et_pb_menu__wrap{-webkit-box-flex:1;-ms-flex:1 1 auto;flex:1 1 auto;display:-webkit-box;display:-ms-flexbox;display:flex;-webkit-box-pack:start;-ms-flex-pack:start;justify-content:flex-start;-webkit-box-align:stretch;-ms-flex-align:stretch;align-items:stretch;-ms-flex-wrap:wrap;flex-wrap:wrap;opacity:1}.et_pb_menu .et_pb_menu__wrap--visible{-webkit-animation:fadeInBottom 1s cubic-bezier(.77,0,.175,1) 1;animation:fadeInBottom 1s cubic-bezier(.77,0,.175,1) 1}.et_pb_menu .et_pb_menu__wrap--hidden{opacity:0;-webkit-animation:fadeOutBottom 1s cubic-bezier(.77,0,.175,1) 1;animation:fadeOutBottom 1s cubic-bezier(.77,0,.175,1) 1}.et_pb_menu .et_pb_menu__menu{-webkit-box-flex:0;-ms-flex:0 1 auto;flex:0 1 auto;-webkit-box-pack:start;-ms-flex-pack:start;justify-content:flex-start}.et_pb_menu .et_pb_menu__menu,.et_pb_menu .et_pb_menu__menu>nav,.et_pb_menu .et_pb_menu__menu>nav>ul{display:-webkit-box;display:-ms-flexbox;display:flex;-webkit-box-align:stretch;-ms-flex-align:stretch;align-items:stretch}.et_pb_menu .et_pb_menu__menu>nav>ul{-ms-flex-wrap:wrap;flex-wrap:wrap;-webkit-box-pack:start;-ms-flex-pack:start;justify-content:flex-start}.et_pb_menu .et_pb_menu__menu>nav>ul>li{position:relative;display:-webkit-box;display:-ms-flexbox;display:flex;-webkit-box-align:stretch;-ms-flex-align:stretch;align-items:stretch;margin:0}.et_pb_menu .et_pb_menu__menu>nav>ul>li.mega-menu{position:static}.et_pb_menu .et_pb_menu__menu>nav>ul>li>ul{top:calc(100% - 1px);left:0}.et_pb_menu .et_pb_menu__menu>nav>ul.upwards>li>ul{top:auto;bottom:calc(100% - 1px)}.et_pb_menu--with-logo .et_pb_menu__menu>nav>ul>li>a{display:-webkit-box;display:-ms-flexbox;display:flex;-webkit-box-align:center;-ms-flex-align:center;align-items:center;padding:31px 0;white-space:nowrap}.et_pb_menu--with-logo .et_pb_menu__menu>nav>ul>li>a:after{top:50%!important;-webkit-transform:translateY(-50%);transform:translateY(-50%)}.et_pb_menu--without-logo .et_pb_menu__menu>nav>ul{padding:0!important}.et_pb_menu--without-logo .et_pb_menu__menu>nav>ul>li{margin-top:8px}.et_pb_menu--without-logo .et_pb_menu__menu>nav>ul>li>a{padding-bottom:8px}.et_pb_menu--without-logo .et_pb_menu__menu>nav>ul.upwards>li{margin-top:0;margin-bottom:8px}.et_pb_menu--without-logo .et_pb_menu__menu>nav>ul.upwards>li>a{padding-top:8px;padding-bottom:0}.et_pb_menu--without-logo .et_pb_menu__menu>nav>ul.upwards>li>a:after{top:auto;bottom:0}.et_pb_menu .et_pb_menu__icon{-webkit-box-flex:0;-ms-flex:0 0 auto;flex:0 0 auto}.et_pb_menu .et-menu{margin-left:-11px;margin-right:-11px}.et_pb_menu .et-menu>li{padding-left:11px;padding-right:11px}.et_pb_menu--style-left_aligned .et_pb_menu_inner_container,.et_pb_menu--style-left_aligned .et_pb_row{display:-webkit-box;display:-ms-flexbox;display:flex;-webkit-box-align:stretch;-ms-flex-align:stretch;align-items:stretch}.et_pb_menu--style-left_aligned .et_pb_menu__logo-wrap{-webkit-box-flex:0;-ms-flex:0 1 auto;flex:0 1 auto;display:-webkit-box;display:-ms-flexbox;display:flex;-webkit-box-align:center;-ms-flex-align:center;align-items:center}.et_pb_menu--style-left_aligned .et_pb_menu__logo{margin-right:30px}.rtl .et_pb_menu--style-left_aligned .et_pb_menu__logo{margin-right:0;margin-left:30px}.et_pb_menu--style-left_aligned.et_pb_text_align_center .et_pb_menu__menu>nav>ul,.et_pb_menu--style-left_aligned.et_pb_text_align_center .et_pb_menu__wrap{-webkit-box-pack:center;-ms-flex-pack:center;justify-content:center}.et_pb_menu--style-left_aligned.et_pb_text_align_right .et_pb_menu__menu>nav>ul,.et_pb_menu--style-left_aligned.et_pb_text_align_right .et_pb_menu__wrap{-webkit-box-pack:end;-ms-flex-pack:end;justify-content:flex-end}.et_pb_menu--style-left_aligned.et_pb_text_align_justified .et_pb_menu__menu,.et_pb_menu--style-left_aligned.et_pb_text_align_justified .et_pb_menu__menu>nav,.et_pb_menu--style-left_aligned.et_pb_text_align_justified .et_pb_menu__wrap{-webkit-box-flex:1;-ms-flex-positive:1;flex-grow:1}.et_pb_menu--style-left_aligned.et_pb_text_align_justified .et_pb_menu__menu>nav>ul{-webkit-box-flex:1;-ms-flex-positive:1;flex-grow:1;-webkit-box-pack:justify;-ms-flex-pack:justify;justify-content:space-between}.et_pb_menu--style-centered .et_pb_menu__logo-wrap{display:-webkit-box;display:-ms-flexbox;display:flex;-webkit-box-orient:vertical;-webkit-box-direction:normal;-ms-flex-direction:column;flex-direction:column;-webkit-box-align:center;-ms-flex-align:center;align-items:center}.et_pb_menu--style-centered .et_pb_menu__logo-wrap,.et_pb_menu--style-centered .et_pb_menu__logo img{margin:0 auto}.et_pb_menu--style-centered .et_pb_menu__menu>nav>ul,.et_pb_menu--style-centered .et_pb_menu__wrap{-webkit-box-pack:center;-ms-flex-pack:center;justify-content:center}.et_pb_menu--style-inline_centered_logo .et_pb_menu_inner_container>.et_pb_menu__logo-wrap,.et_pb_menu--style-inline_centered_logo .et_pb_row>.et_pb_menu__logo-wrap{display:none;margin-bottom:30px}.et_pb_menu--style-inline_centered_logo .et_pb_menu__logo{display:-webkit-box;display:-ms-flexbox;display:flex;-webkit-box-align:center;-ms-flex-align:center;align-items:center}.et_pb_menu--style-inline_centered_logo .et_pb_menu__logo,.et_pb_menu--style-inline_centered_logo .et_pb_menu__logo img{margin:0 auto}.et_pb_menu--style-inline_centered_logo .et_pb_menu__wrap{-webkit-box-pack:center;-ms-flex-pack:center;justify-content:center}.et_pb_menu--style-inline_centered_logo .et_pb_menu__logo-slot{-webkit-box-align:center!important;-ms-flex-align:center!important;align-items:center!important}.et_pb_menu--style-inline_centered_logo .et_pb_menu__logo-slot .et_pb_menu__logo,.et_pb_menu--style-inline_centered_logo .et_pb_menu__logo-slot .et_pb_menu__logo-wrap{width:100%;height:100%}.et_pb_menu--style-inline_centered_logo .et_pb_menu__logo-slot img{max-height:100%}.et_pb_menu .et_pb_menu__logo-slot .et-fb-content-placeholder{min-width:96px}.et_pb_menu .et_pb_menu__search-container{position:absolute;display:-webkit-box;display:-ms-flexbox;display:flex;-webkit-box-pack:stretch;-ms-flex-pack:stretch;justify-content:stretch;-ms-flex-line-pack:stretch;align-content:stretch;left:0;bottom:0;width:100%;height:100%;opacity:0;z-index:999}.et_pb_menu .et_pb_menu__search-container--visible{opacity:1;-webkit-animation:fadeInTop 1s cubic-bezier(.77,0,.175,1) 1;animation:fadeInTop 1s cubic-bezier(.77,0,.175,1) 1}.et_pb_menu .et_pb_menu__search-container--hidden{-webkit-animation:fadeOutTop 1s cubic-bezier(.77,0,.175,1) 1;animation:fadeOutTop 1s cubic-bezier(.77,0,.175,1) 1}.et_pb_menu .et_pb_menu__search-container--disabled{display:none}.et_pb_menu .et_pb_menu__search{-webkit-box-flex:1;-ms-flex:1 1 auto;flex:1 1 auto;display:-webkit-box;display:-ms-flexbox;display:flex;-webkit-box-pack:stretch;-ms-flex-pack:stretch;justify-content:stretch;-webkit-box-align:center;-ms-flex-align:center;align-items:center}.et_pb_menu .et_pb_menu__search-form{-webkit-box-flex:1;-ms-flex:1 1 auto;flex:1 1 auto}.et_pb_menu .et_pb_menu__search-input{border:0;width:100%;color:#333;background:transparent}.et_pb_menu .et_pb_menu__close-search-button{-webkit-box-flex:0;-ms-flex:0 0 auto;flex:0 0 auto}.et_pb_menu .et_pb_menu__close-search-button:after{content:\"M\";font-size:1.7em}@media (min-width:981px){.et_dropdown_animation_fade.et_pb_menu ul li:hover>ul{-webkit-transition:all .2s ease-in-out;transition:all .2s ease-in-out}.et_dropdown_animation_slide.et_pb_menu ul li:hover>ul{-webkit-animation:fadeLeft .4s ease-in-out;animation:fadeLeft .4s ease-in-out}.et_dropdown_animation_expand.et_pb_menu ul li:hover>ul{-webkit-transform-origin:0 0;-webkit-animation:Grow .4s ease-in-out;animation:Grow .4s ease-in-out;-webkit-backface-visibility:visible!important;backface-visibility:visible!important}.et_dropdown_animation_flip.et_pb_menu ul li ul li:hover>ul{-webkit-animation:flipInX .6s ease-in-out;animation:flipInX .6s ease-in-out;-webkit-backface-visibility:visible!important;backface-visibility:visible!important}.et_dropdown_animation_flip.et_pb_menu ul li:hover>ul{-webkit-animation:flipInY .6s ease-in-out;animation:flipInY .6s ease-in-out;-webkit-backface-visibility:visible!important;backface-visibility:visible!important}.et_pb_menu.et_pb_menu_fullwidth .et_pb_row{width:100%;max-width:100%;padding:0 30px!important}}@media (max-width:980px){.et_pb_menu--style-left_aligned .et_pb_menu_inner_container,.et_pb_menu--style-left_aligned .et_pb_row{-webkit-box-align:center;-ms-flex-align:center;align-items:center}.et_pb_menu--style-left_aligned .et_pb_menu__wrap{-webkit-box-pack:end;-ms-flex-pack:end;justify-content:flex-end}.et_pb_menu--style-left_aligned.et_pb_text_align_center .et_pb_menu__wrap{-webkit-box-pack:center;-ms-flex-pack:center;justify-content:center}.et_pb_menu--style-left_aligned.et_pb_text_align_right .et_pb_menu__wrap{-webkit-box-pack:end;-ms-flex-pack:end;justify-content:flex-end}.et_pb_menu--style-left_aligned.et_pb_text_align_justified .et_pb_menu__wrap{-webkit-box-pack:justify;-ms-flex-pack:justify;justify-content:space-between}.et_pb_menu--style-inline_centered_logo .et_pb_menu_inner_container>.et_pb_menu__logo-wrap,.et_pb_menu--style-inline_centered_logo .et_pb_row>.et_pb_menu__logo-wrap{display:-webkit-box;display:-ms-flexbox;display:flex;-webkit-box-orient:vertical;-webkit-box-direction:normal;-ms-flex-direction:column;flex-direction:column;-webkit-box-align:center;-ms-flex-align:center;align-items:center}.et_pb_menu--style-inline_centered_logo .et_pb_menu_inner_container>.et_pb_menu__logo,.et_pb_menu--style-inline_centered_logo .et_pb_row>.et_pb_menu__logo{margin:0 auto}.et_pb_menu--style-inline_centered_logo .et_pb_menu__logo-slot{display:none}.et_pb_menu .et_pb_row{min-height:81px}.et_pb_menu .et_pb_menu__menu{display:none}.et_pb_menu .et_mobile_nav_menu{float:none;margin:0 6px;display:-webkit-box;display:-ms-flexbox;display:flex;-webkit-box-align:center;-ms-flex-align:center;align-items:center}.et_pb_menu .et_mobile_menu{top:100%;padding:5%}.et_pb_menu .et_mobile_menu,.et_pb_menu .et_mobile_menu ul{list-style:none!important;text-align:left}.et_pb_menu .et_mobile_menu ul{padding:0}.et_pb_menu .et_pb_mobile_menu_upwards .et_mobile_menu{top:auto;bottom:100%}}\\n@-webkit-keyframes fadeOutTop{0%{opacity:1;-webkit-transform:translatey(0);transform:translatey(0)}to{opacity:0;-webkit-transform:translatey(-60%);transform:translatey(-60%)}}@keyframes fadeOutTop{0%{opacity:1;-webkit-transform:translatey(0);transform:translatey(0)}to{opacity:0;-webkit-transform:translatey(-60%);transform:translatey(-60%)}}@-webkit-keyframes fadeInTop{0%{opacity:0;-webkit-transform:translatey(-60%);transform:translatey(-60%)}to{opacity:1;-webkit-transform:translatey(0);transform:translatey(0)}}@keyframes fadeInTop{0%{opacity:0;-webkit-transform:translatey(-60%);transform:translatey(-60%)}to{opacity:1;-webkit-transform:translatey(0);transform:translatey(0)}}@-webkit-keyframes fadeInBottom{0%{opacity:0;-webkit-transform:translatey(60%);transform:translatey(60%)}to{opacity:1;-webkit-transform:translatey(0);transform:translatey(0)}}@keyframes fadeInBottom{0%{opacity:0;-webkit-transform:translatey(60%);transform:translatey(60%)}to{opacity:1;-webkit-transform:translatey(0);transform:translatey(0)}}@-webkit-keyframes fadeOutBottom{0%{opacity:1;-webkit-transform:translatey(0);transform:translatey(0)}to{opacity:0;-webkit-transform:translatey(60%);transform:translatey(60%)}}@keyframes fadeOutBottom{0%{opacity:1;-webkit-transform:translatey(0);transform:translatey(0)}to{opacity:0;-webkit-transform:translatey(60%);transform:translatey(60%)}}@-webkit-keyframes Grow{0%{opacity:0;-webkit-transform:scaleY(.5);transform:scaleY(.5)}to{opacity:1;-webkit-transform:scale(1);transform:scale(1)}}@keyframes Grow{0%{opacity:0;-webkit-transform:scaleY(.5);transform:scaleY(.5)}to{opacity:1;-webkit-transform:scale(1);transform:scale(1)}}/*!\\n\\t  * Animate.css - http://daneden.me/animate\\n\\t  * Licensed under the MIT license - http://opensource.org/licenses/MIT\\n\\t  * Copyright (c) 2015 Daniel Eden\\n\\t */@-webkit-keyframes flipInX{0%{-webkit-transform:perspective(400px) rotateX(90deg);transform:perspective(400px) rotateX(90deg);-webkit-animation-timing-function:ease-in;animation-timing-function:ease-in;opacity:0}40%{-webkit-transform:perspective(400px) rotateX(-20deg);transform:perspective(400px) rotateX(-20deg);-webkit-animation-timing-function:ease-in;animation-timing-function:ease-in}60%{-webkit-transform:perspective(400px) rotateX(10deg);transform:perspective(400px) rotateX(10deg);opacity:1}80%{-webkit-transform:perspective(400px) rotateX(-5deg);transform:perspective(400px) rotateX(-5deg)}to{-webkit-transform:perspective(400px);transform:perspective(400px)}}@keyframes flipInX{0%{-webkit-transform:perspective(400px) rotateX(90deg);transform:perspective(400px) rotateX(90deg);-webkit-animation-timing-function:ease-in;animation-timing-function:ease-in;opacity:0}40%{-webkit-transform:perspective(400px) rotateX(-20deg);transform:perspective(400px) rotateX(-20deg);-webkit-animation-timing-function:ease-in;animation-timing-function:ease-in}60%{-webkit-transform:perspective(400px) rotateX(10deg);transform:perspective(400px) rotateX(10deg);opacity:1}80%{-webkit-transform:perspective(400px) rotateX(-5deg);transform:perspective(400px) rotateX(-5deg)}to{-webkit-transform:perspective(400px);transform:perspective(400px)}}@-webkit-keyframes flipInY{0%{-webkit-transform:perspective(400px) rotateY(90deg);transform:perspective(400px) rotateY(90deg);-webkit-animation-timing-function:ease-in;animation-timing-function:ease-in;opacity:0}40%{-webkit-transform:perspective(400px) rotateY(-20deg);transform:perspective(400px) rotateY(-20deg);-webkit-animation-timing-function:ease-in;animation-timing-function:ease-in}60%{-webkit-transform:perspective(400px) rotateY(10deg);transform:perspective(400px) rotateY(10deg);opacity:1}80%{-webkit-transform:perspective(400px) rotateY(-5deg);transform:perspective(400px) rotateY(-5deg)}to{-webkit-transform:perspective(400px);transform:perspective(400px)}}@keyframes flipInY{0%{-webkit-transform:perspective(400px) rotateY(90deg);transform:perspective(400px) rotateY(90deg);-webkit-animation-timing-function:ease-in;animation-timing-function:ease-in;opacity:0}40%{-webkit-transform:perspective(400px) rotateY(-20deg);transform:perspective(400px) rotateY(-20deg);-webkit-animation-timing-function:ease-in;animation-timing-function:ease-in}60%{-webkit-transform:perspective(400px) rotateY(10deg);transform:perspective(400px) rotateY(10deg);opacity:1}80%{-webkit-transform:perspective(400px) rotateY(-5deg);transform:perspective(400px) rotateY(-5deg)}to{-webkit-transform:perspective(400px);transform:perspective(400px)}}\\n#main-header{line-height:23px;font-weight:500;top:0;background-color:#fff;width:100%;-webkit-box-shadow:0 1px 0 rgba(0,0,0,.1);box-shadow:0 1px 0 rgba(0,0,0,.1);position:relative;z-index:99999}.nav li li{padding:0 20px;margin:0}.et-menu li li a{padding:6px 20px;width:200px}.nav li{position:relative;line-height:1em}.nav li li{position:relative;line-height:2em}.nav li ul{position:absolute;padding:20px 0;z-index:9999;width:240px;background:#fff;visibility:hidden;opacity:0;border-top:3px solid #2ea3f2;box-shadow:0 2px 5px rgba(0,0,0,.1);-moz-box-shadow:0 2px 5px rgba(0,0,0,.1);-webkit-box-shadow:0 2px 5px rgba(0,0,0,.1);-webkit-transform:translateZ(0);text-align:left}.nav li.et-hover>ul{visibility:visible}.nav li.et-touch-hover>ul,.nav li:hover>ul{opacity:1;visibility:visible}.nav li li ul{z-index:1000;top:-23px;left:240px}.nav li.et-reverse-direction-nav li ul{left:auto;right:240px}.nav li:hover{visibility:inherit}.et_mobile_menu li a,.nav li li a{font-size:14px;-webkit-transition:all .2s ease-in-out;transition:all .2s ease-in-out}.et_mobile_menu li a:hover,.nav ul li a:hover{background-color:rgba(0,0,0,.03);opacity:.7}.et-dropdown-removing>ul{display:none}.mega-menu .et-dropdown-removing>ul{display:block}.et-menu .menu-item-has-children>a:first-child:after{font-family:ETmodules;content:\"3\";font-size:16px;position:absolute;right:0;top:0;font-weight:800}.et-menu .menu-item-has-children>a:first-child{padding-right:20px}.et-menu li li.menu-item-has-children>a:first-child:after{right:20px;top:6px}.et-menu-nav li.mega-menu{position:inherit}.et-menu-nav li.mega-menu>ul{padding:30px 20px;position:absolute!important;width:100%;left:0!important}.et-menu-nav li.mega-menu ul li{margin:0;float:left!important;display:block!important;padding:0!important}.et-menu-nav li.mega-menu li>ul{-webkit-animation:none!important;animation:none!important;padding:0;border:none;left:auto;top:auto;width:240px!important;position:relative;box-shadow:none;-webkit-box-shadow:none}.et-menu-nav li.mega-menu li ul{visibility:visible;opacity:1;display:none}.et-menu-nav li.mega-menu.et-hover li ul,.et-menu-nav li.mega-menu:hover li ul{display:block}.et-menu-nav li.mega-menu:hover>ul{opacity:1!important;visibility:visible!important}.et-menu-nav li.mega-menu>ul>li>a:first-child{padding-top:0!important;font-weight:700;border-bottom:1px solid rgba(0,0,0,.03)}.et-menu-nav li.mega-menu>ul>li>a:first-child:hover{background-color:transparent!important}.et-menu-nav li.mega-menu li>a{width:200px!important}.et-menu-nav li.mega-menu.mega-menu-parent li>a,.et-menu-nav li.mega-menu.mega-menu-parent li li{width:100%!important}.et-menu-nav li.mega-menu.mega-menu-parent li>.sub-menu{float:left;width:100%!important}.et-menu-nav li.mega-menu>ul>li{width:25%;margin:0}.et-menu-nav li.mega-menu.mega-menu-parent-3>ul>li{width:33.33%}.et-menu-nav li.mega-menu.mega-menu-parent-2>ul>li{width:50%}.et-menu-nav li.mega-menu.mega-menu-parent-1>ul>li{width:100%}.et_pb_fullwidth_menu li.mega-menu .menu-item-has-children>a:first-child:after,.et_pb_menu li.mega-menu .menu-item-has-children>a:first-child:after{display:none}.et_fullwidth_nav #top-menu li.mega-menu>ul{width:auto;left:30px!important;right:30px!important}.et_mobile_menu{position:absolute;left:0;padding:5%;background:#fff;width:100%;visibility:visible;opacity:1;display:none;z-index:9999;border-top:3px solid #2ea3f2;box-shadow:0 2px 5px rgba(0,0,0,.1);-moz-box-shadow:0 2px 5px rgba(0,0,0,.1);-webkit-box-shadow:0 2px 5px rgba(0,0,0,.1)}#main-header .et_mobile_menu li ul,.et_pb_fullwidth_menu .et_mobile_menu li ul,.et_pb_menu .et_mobile_menu li ul{visibility:visible!important;display:block!important;padding-left:10px}.et_mobile_menu li li{padding-left:5%}.et_mobile_menu li a{border-bottom:1px solid rgba(0,0,0,.03);color:#666;padding:10px 5%;display:block}.et_mobile_menu .menu-item-has-children>a{font-weight:700;background-color:rgba(0,0,0,.03)}.et_mobile_menu li .menu-item-has-children>a{background-color:transparent}.et_mobile_nav_menu{float:right;display:none}.mobile_menu_bar{position:relative;display:block;line-height:0}.mobile_menu_bar:before{content:\"a\";font-size:32px;position:relative;left:0;top:0;cursor:pointer}.et_pb_module .mobile_menu_bar:before{top:2px}.mobile_nav .select_page{display:none}\\n.et_pb_bg_layout_light.et_pb_module.et_pb_button{color:#2ea3f2}.et_pb_module.et_pb_button{display:inline-block;color:inherit}.et_pb_button_module_wrapper.et_pb_button_alignment_left{text-align:left}.et_pb_button_module_wrapper.et_pb_button_alignment_right{text-align:right}.et_pb_button_module_wrapper.et_pb_button_alignment_center{text-align:center}.et_pb_button_module_wrapper>a{display:inline-block}@media (max-width:980px){.et_pb_button_module_wrapper.et_pb_button_alignment_tablet_left{text-align:left}.et_pb_button_module_wrapper.et_pb_button_alignment_tablet_right{text-align:right}.et_pb_button_module_wrapper.et_pb_button_alignment_tablet_center{text-align:center}}@media (max-width:767px){.et_pb_button_module_wrapper.et_pb_button_alignment_phone_left{text-align:left}.et_pb_button_module_wrapper.et_pb_button_alignment_phone_right{text-align:right}.et_pb_button_module_wrapper.et_pb_button_alignment_phone_center{text-align:center}}\\n.et_pb_button[data-icon]:not([data-icon=\"\"]):after{content:attr(data-icon)}@media (max-width:980px){.et_pb_button[data-icon-tablet]:not([data-icon-tablet=\"\"]):after{content:attr(data-icon-tablet)}}@media (max-width:767px){.et_pb_button[data-icon-phone]:not([data-icon-phone=\"\"]):after{content:attr(data-icon-phone)}}\\n.et_pb_code_inner{position:relative}\\nul.et_pb_social_media_follow{list-style-type:none!important;margin:0 0 22px;padding:0}.et_pb_social_media_follow li{display:inline-block;margin-bottom:8px;position:relative}.et_pb_social_media_follow li a{margin-right:8px;display:inline-block;text-decoration:none;text-align:center;position:relative}.et_pb_social_media_follow li a.follow_button{padding:0 12px;margin-top:5px;margin-right:25px;font-size:14px;line-height:1.6em;background:rgba(0,0,0,.1);color:rgba(0,0,0,.5);border-radius:3px;border-width:0;border-style:solid;-webkit-transition:all .3s;transition:all .3s}.et_pb_social_media_follow li.last-child a,.et_pb_social_media_follow li:last-child a{margin-right:0}.et_pb_social_media_follow.has_follow_button li.last-child a.icon,.et_pb_social_media_follow.has_follow_button li:last-child a.icon{margin-right:8px}.et_pb_social_media_follow li a.follow_button:hover{background:rgba(0,0,0,.2);color:rgba(0,0,0,.6)}.et_pb_social_media_follow.et_pb_bg_layout_dark li a.follow_button{background:rgba(0,0,0,.6);color:hsla(0,0%,100%,.8)}.et_pb_social_media_follow.et_pb_bg_layout_dark li a.follow_button:hover{background:rgba(0,0,0,.7);color:#fff}.et_pb_social_media_follow li a.icon{height:32px;width:32px;padding:0;-webkit-box-sizing:content-box;box-sizing:content-box}.et_pb_social_media_follow li a.icon:before{height:32px;width:32px;font-size:16px;line-height:32px;display:block;color:#fff;-webkit-transition:color .3s;transition:color .3s;position:relative;z-index:10}.et_pb_social_media_follow li a.icon:hover:before{color:hsla(0,0%,100%,.7)}.et_pb_social_media_follow li a.icon{border-radius:3px}.et_pb_social_media_follow_network_name{display:none}.et_pb_social_icon a.icon{vertical-align:middle}.et_pb_social_icon a.icon:before{font-family:ETmodules;speak:none;font-style:normal;font-weight:400;font-variant:normal;text-transform:none;line-height:1;-webkit-font-smoothing:antialiased;-moz-osx-font-smoothing:grayscale;text-shadow:0 0;direction:ltr}.et-pb-social-fa-icon a.icon:before{font-family:FontAwesome}.et-social-telegram a.icon:before{content:\"\\\\F3FE\"}.et-social-amazon a.icon:before{content:\"\\\\F270\"}.et-social-bandcamp a.icon:before{content:\"\\\\F2D5\"}.et-social-bitbucket a.icon:before{content:\"\\\\F171\"}.et-social-behance a.icon:before{content:\"\\\\F1B4\"}.et-social-buffer a.icon:before{content:\"\\\\F837\"}.et-social-codepen a.icon:before{content:\"\\\\F1CB\"}.et-social-deviantart a.icon:before{content:\"\\\\F1BD\"}.et-social-flipboard a.icon:before{content:\"\\\\F44D\"}.et-social-foursquare a.icon:before{content:\"\\\\F180\"}.et-social-github a.icon:before{content:\"\\\\F09B\"}.et-social-goodreads a.icon:before{content:\"\\\\F3A9\"}.et-social-google a.icon:before{content:\"\\\\F1A0\"}.et-social-houzz a.icon:before{content:\"\\\\F27C\"}.et-social-itunes a.icon:before{content:\"\\\\F3B5\"}.et-social-last_fm a.icon:before{content:\"\\\\F202\"}.et-social-line a.icon:before{content:\"\\\\F3C0\"}.et-social-medium a.icon:before,.et-social-meetup a.icon:before{content:\"\\\\F3C7\"}.et-social-odnoklassniki a.icon:before{content:\"\\\\F263\"}.et-social-patreon a.icon:before{content:\"\\\\F3D9\"}.et-social-periscope a.icon:before{content:\"\\\\F3DA\"}.et-social-quora a.icon:before{content:\"\\\\F2C4\"}.et-social-researchgate a.icon:before{content:\"\\\\F4F8\"}.et-social-reddit a.icon:before{content:\"\\\\F281\"}.et-social-snapchat a.icon:before{content:\"\\\\F2AC\"}.et-social-soundcloud a.icon:before{content:\"\\\\F1BE\"}.et-social-spotify a.icon:before{content:\"\\\\F1BC\"}.et-social-steam a.icon:before{content:\"\\\\F3F6\"}.et-social-tripadvisor a.icon:before{content:\"\\\\F262\"}.et-social-tiktok a.icon:before{content:\"\\\\E07B\"}.et-social-twitch a.icon:before{content:\"\\\\F1E8\"}.et-social-vk a.icon:before{content:\"\\\\F189\"}.et-social-weibo a.icon:before{content:\"\\\\F18A\"}.et-social-whatsapp a.icon:before{content:\"\\\\F232\"}.et-social-xing a.icon:before{content:\"\\\\F168\"}.et-social-yelp a.icon:before{content:\"\\\\F1E9\"}.et-social-pinterest a.icon:before{content:\"\\\\E095\"}.et-social-linkedin a.icon:before{content:\"\\\\E09D\"}.et-social-tumblr a.icon:before{content:\"\\\\E097\"}.et-social-skype a.icon:before{content:\"\\\\E0A2\"}.et-social-flikr a.icon:before{content:\"\\\\E0A6\"}.et-social-myspace a.icon:before{content:\"\\\\E0A1\"}.et-social-dribbble a.icon:before{content:\"\\\\E09B\"}.et-social-youtube a.icon:before{content:\"\\\\E0A3\"}.et-social-vimeo a.icon:before{content:\"\\\\E09C\"}@media (max-width:980px){.et_pb_bg_layout_light_tablet.et_pb_social_media_follow li a.follow_button{background:rgba(0,0,0,.1);color:rgba(0,0,0,.5)}.et_pb_bg_layout_light_tablet.et_pb_social_media_follow li a.follow_button:hover{background:rgba(0,0,0,.2);color:rgba(0,0,0,.6)}.et_pb_bg_layout_dark_tablet.et_pb_social_media_follow li a.follow_button{background:rgba(0,0,0,.6);color:hsla(0,0%,100%,.8)}.et_pb_bg_layout_dark_tablet.et_pb_social_media_follow li a.follow_button:hover{background:rgba(0,0,0,.7);color:#fff}}@media (max-width:767px){.et_pb_bg_layout_light_phone.et_pb_social_media_follow li a.follow_button{background:rgba(0,0,0,.1);color:rgba(0,0,0,.5)}.et_pb_bg_layout_light_phone.et_pb_social_media_follow li a.follow_button:hover{background:rgba(0,0,0,.2);color:rgba(0,0,0,.6)}.et_pb_bg_layout_dark_phone.et_pb_social_media_follow li a.follow_button{background:rgba(0,0,0,.6);color:hsla(0,0%,100%,.8)}.et_pb_bg_layout_dark_phone.et_pb_social_media_follow li a.follow_button:hover{background:rgba(0,0,0,.7);color:#fff}}\\n.et_pb_with_border .et_pb_image_wrap{border:0 solid #333}.et_pb_image{margin-left:auto;margin-right:auto;line-height:0}.et_pb_image.aligncenter{text-align:center}.et_pb_image.et_pb_has_overlay a.et_pb_lightbox_image{display:block;position:relative}.et_pb_image{display:block}.et_pb_image .et_pb_image_wrap{display:inline-block;position:relative;max-width:100%}.et_pb_image .et_pb_image_wrap img[src*=\".svg\"]{width:auto}.et_pb_image img{position:relative}.et_pb_image_sticky{margin-bottom:0!important;display:inherit}.et_pb_image.et_pb_has_overlay .et_pb_image_wrap:hover .et_overlay{z-index:3;opacity:1}@media (min-width:981px){.et_pb_section_sticky,.et_pb_section_sticky.et_pb_bottom_divider .et_pb_row:nth-last-child(2),.et_pb_section_sticky .et_pb_column_single,.et_pb_section_sticky .et_pb_row.et-last-child,.et_pb_section_sticky .et_pb_row:last-child,.et_pb_section_sticky .et_pb_specialty_column .et_pb_row_inner.et-last-child,.et_pb_section_sticky .et_pb_specialty_column .et_pb_row_inner:last-child{padding-bottom:0!important}}@media (max-width:980px){.et_pb_image_sticky_tablet{margin-bottom:0!important;display:inherit}.et_pb_section_sticky_mobile,.et_pb_section_sticky_mobile.et_pb_bottom_divider .et_pb_row:nth-last-child(2),.et_pb_section_sticky_mobile .et_pb_column_single,.et_pb_section_sticky_mobile .et_pb_row.et-last-child,.et_pb_section_sticky_mobile .et_pb_row:last-child,.et_pb_section_sticky_mobile .et_pb_specialty_column .et_pb_row_inner.et-last-child,.et_pb_section_sticky_mobile .et_pb_specialty_column .et_pb_row_inner:last-child{padding-bottom:0!important}.et_pb_section_sticky .et_pb_row.et-last-child .et_pb_column.et_pb_row_sticky.et-last-child,.et_pb_section_sticky .et_pb_row:last-child .et_pb_column.et_pb_row_sticky:last-child{margin-bottom:0}.et_pb_image_bottom_space_tablet{margin-bottom:30px!important;display:block}.et_always_center_on_mobile{text-align:center!important;margin-left:auto!important;margin-right:auto!important}}@media (max-width:767px){.et_pb_image_sticky_phone{margin-bottom:0!important;display:inherit}.et_pb_image_bottom_space_phone{margin-bottom:30px!important;display:block}}\\n</style>\\n<link rel=\\'preload\\' id=\\'divi-dynamic-late-css\\' href=\\'https://tribucodeup.wpenginepowered.com/wp-content/et-cache/home/et-divi-dynamic-tb-120-tb-16587-tb-101-late.css?ver=1683693425\\' as=\\'style\\' media=\\'all\\' onload=\"this.onload=null;this.rel=\\'stylesheet\\'\" />\\n<link rel=\\'preload\\' id=\\'divi-dynamic-css\\' href=\\'https://tribucodeup.wpenginepowered.com/wp-content/et-cache/home/et-divi-dynamic-tb-120-tb-16587-tb-101.css?ver=1683693425\\' as=\\'style\\' media=\\'all\\' onload=\"this.onload=null;this.rel=\\'stylesheet\\'\" />\\n<link rel=\\'stylesheet\\' id=\\'divi-event-calendar-module-styles-css\\' href=\\'https://tribucodeup.wpenginepowered.com/wp-content/plugins/divi-event-calendar-module/styles/style.min.css?ver=1.0.0\\' type=\\'text/css\\' media=\\'all\\' />\\n<link rel=\\'stylesheet\\' id=\\'divi-mobile-styles-css\\' href=\\'https://tribucodeup.wpenginepowered.com/wp-content/plugins/divi-mobile/styles/style.min.css?ver=1.0.0\\' type=\\'text/css\\' media=\\'all\\' />\\n<link rel=\\'stylesheet\\' id=\\'divi-style-css\\' href=\\'https://tribucodeup.wpenginepowered.com/wp-content/themes/Divi-Child-Theme/style.css?ver=4.18.0\\' type=\\'text/css\\' media=\\'all\\' />\\n<script type=\\'text/javascript\\' src=\\'https://tribucodeup.wpenginepowered.com/wp-includes/js/jquery/jquery.min.js?ver=3.6.1\\' id=\\'jquery-core-js\\'></script>\\n<script type=\\'text/javascript\\' src=\\'https://tribucodeup.wpenginepowered.com/wp-includes/js/jquery/jquery-migrate.min.js?ver=3.3.2\\' id=\\'jquery-migrate-js\\'></script>\\n<script type=\\'text/javascript\\' id=\\'jquery-js-after\\'>\\njqueryParams.length&&$.each(jqueryParams,function(e,r){if(\"function\"==typeof r){var n=String(r);n.replace(\"$\",\"jQuery\");var a=new Function(\"return \"+n)();$(document).ready(a)}});\\n</script>\\n<script type=\\'text/javascript\\' id=\\'cookie-law-info-js-extra\\'>\\n/* <![CDATA[ */\\nvar Cli_Data = {\"nn_cookie_ids\":[],\"cookielist\":[],\"non_necessary_cookies\":[],\"ccpaEnabled\":\"1\",\"ccpaRegionBased\":\"\",\"ccpaBarEnabled\":\"\",\"strictlyEnabled\":[\"necessary\",\"obligatoire\"],\"ccpaType\":\"ccpa_gdpr\",\"js_blocking\":\"1\",\"custom_integration\":\"\",\"triggerDomRefresh\":\"\",\"secure_cookies\":\"\"};\\nvar cli_cookiebar_settings = {\"animate_speed_hide\":\"500\",\"animate_speed_show\":\"500\",\"background\":\"#FFF\",\"border\":\"#b1a6a6c2\",\"border_on\":\"\",\"button_1_button_colour\":\"#cccccc\",\"button_1_button_hover\":\"#a3a3a3\",\"button_1_link_colour\":\"#000000\",\"button_1_as_button\":\"1\",\"button_1_new_win\":\"\",\"button_2_button_colour\":\"#333\",\"button_2_button_hover\":\"#292929\",\"button_2_link_colour\":\"#444\",\"button_2_as_button\":\"\",\"button_2_hidebar\":\"\",\"button_3_button_colour\":\"#dedfe0\",\"button_3_button_hover\":\"#b2b2b3\",\"button_3_link_colour\":\"#333333\",\"button_3_as_button\":\"1\",\"button_3_new_win\":\"\",\"button_4_button_colour\":\"#dedfe0\",\"button_4_button_hover\":\"#b2b2b3\",\"button_4_link_colour\":\"#333333\",\"button_4_as_button\":\"1\",\"button_7_button_colour\":\"#cccccc\",\"button_7_button_hover\":\"#a3a3a3\",\"button_7_link_colour\":\"#000000\",\"button_7_as_button\":\"1\",\"button_7_new_win\":\"\",\"font_family\":\"inherit\",\"header_fix\":\"\",\"notify_animate_hide\":\"1\",\"notify_animate_show\":\"\",\"notify_div_id\":\"#cookie-law-info-bar\",\"notify_position_horizontal\":\"right\",\"notify_position_vertical\":\"bottom\",\"scroll_close\":\"\",\"scroll_close_reload\":\"\",\"accept_close_reload\":\"\",\"reject_close_reload\":\"\",\"showagain_tab\":\"\",\"showagain_background\":\"#fff\",\"showagain_border\":\"#000\",\"showagain_div_id\":\"#cookie-law-info-again\",\"showagain_x_position\":\"100px\",\"text\":\"#333333\",\"show_once_yn\":\"\",\"show_once\":\"10000\",\"logging_on\":\"\",\"as_popup\":\"\",\"popup_overlay\":\"1\",\"bar_heading_text\":\"\",\"cookie_bar_as\":\"banner\",\"popup_showagain_position\":\"bottom-right\",\"widget_position\":\"left\"};\\nvar log_object = {\"ajax_url\":\"https:\\\\/\\\\/codeup.com\\\\/wp-admin\\\\/admin-ajax.php\"};\\n/* ]]> */\\n</script>\\n<script type=\\'text/javascript\\' src=\\'https://tribucodeup.wpenginepowered.com/wp-content/plugins/cookie-law-info/legacy/public/js/cookie-law-info-public.js?ver=3.0.8\\' id=\\'cookie-law-info-js\\'></script>\\n<script type=\\'text/javascript\\' id=\\'cookie-law-info-ccpa-js-extra\\'>\\n/* <![CDATA[ */\\nvar ccpa_data = {\"opt_out_prompt\":\"Do you really wish to opt out?\",\"opt_out_confirm\":\"Confirm\",\"opt_out_cancel\":\"Cancel\"};\\n/* ]]> */\\n</script>\\n<script type=\\'text/javascript\\' src=\\'https://tribucodeup.wpenginepowered.com/wp-content/plugins/cookie-law-info/legacy/admin/modules/ccpa/assets/js/cookie-law-info-ccpa.js?ver=3.0.8\\' id=\\'cookie-law-info-ccpa-js\\'></script>\\n<script type=\\'text/javascript\\' src=\\'https://tribucodeup.wpenginepowered.com/wp-content/plugins/popups-for-divi/scripts/ie-compat.min.js?ver=3.0.5\\' id=\\'dap-ie-js\\'></script>\\n<link rel=\"https://api.w.org/\" href=\"https://codeup.com/wp-json/\" /><link rel=\"EditURI\" type=\"application/rsd+xml\" title=\"RSD\" href=\"https://codeup.com/xmlrpc.php?rsd\" />\\n<link rel=\"wlwmanifest\" type=\"application/wlwmanifest+xml\" href=\"https://tribucodeup.wpenginepowered.com/wp-includes/wlwmanifest.xml\" />\\n\\t\\t\\t<!-- DO NOT COPY THIS SNIPPET! Start of Page Analytics Tracking for HubSpot WordPress plugin v10.0.25-->\\n\\t\\t\\t<script type=\"text/javascript\" class=\"hsq-set-content-id\" data-content-id=\"standard-page\">\\n\\t\\t\\t\\tvar _hsq = _hsq || [];\\n\\t\\t\\t\\t_hsq.push([\"setContentType\", \"standard-page\"]);\\n\\t\\t\\t</script>\\n\\t\\t\\t<!-- DO NOT COPY THIS SNIPPET! End of Page Analytics Tracking for HubSpot WordPress plugin -->\\n\\t\\t\\t<meta name=\"tec-api-version\" content=\"v1\"><meta name=\"tec-api-origin\" content=\"https://codeup.com\"><link rel=\"alternate\" href=\"https://codeup.com/wp-json/tribe/events/v1/\" /><meta name=\"viewport\" content=\"width=device-width, initial-scale=1.0, maximum-scale=1.0, user-scalable=0\" /><style id=\"divi-mobile-burger-menu-inline-styles\">.show-menu .hamburger-box .hamburger-inner::after {bottom: -1px!important;}.show-menu .hamburger--elastic .hamburger-box .hamburger-inner::after {bottom: -19px!important;}.show-menu .hamburger--squeeze .hamburger-box .hamburger-inner::after {bottom: 0px!important;}.show-menu .hamburger--arrow .hamburger-box .hamburger-inner::before {top: -7px!important;}.show-menu .hamburger--arrow .hamburger-box .hamburger-inner::after {bottom: -6px!important;}.show-menu .hamburger--arrowalt .hamburger-box .hamburger-inner::before {top: 4px!important;}.show-menu .hamburger--arrowalt .hamburger-box .hamburger-inner::after {bottom: 4px!important;}.show-menu .hamburger--arrowturn .hamburger-box .hamburger-inner::after {bottom: -6px!important;}.show-menu .hamburger--arrowturn .hamburger-box .hamburger-inner::before {top: -6px!important;}.show-menu .hamburger--emphatic .hamburger-box .hamburger-inner::before {top: -79px!important;}.show-menu .hamburger--collapse .hamburger-box .hamburger-inner::before {top: 0px!important;}.show-menu .hamburger--stand .hamburger-box .hamburger-inner::after {bottom: 0px!important;}.show-menu .hamburger--stand .hamburger-box .hamburger-inner::before {top: 0px!important;}.show-menu .hamburger--3dx .hamburger-box .hamburger-inner::after {bottom: -11px!important;}.show-menu .hamburger--3dy .hamburger-box .hamburger-inner::after {bottom: -10px!important;}.show-menu .hamburger--3dxy .hamburger-box .hamburger-inner::after {bottom: -11px!important;}.menu-text {line-height:1.1em;text-shadow:;}.hamburger-box {left: 16px;top: 1px;}.hamburger-inner, .hamburger-inner::before, .hamburger-inner::after {background-color:#ffffff;}.hamburger.is-active .hamburger-inner, .hamburger.is-active .hamburger-inner::before, .hamburger.is-active .hamburger-inner::after {background-color:#ffffff;}.hamburger-inner, .hamburger-inner::before, .hamburger-inner::after {width: 27px;height: 3px;border-radius: 4px;}.hamburger-inner::before {top: -8px!important;}.hamburger-inner::after {bottom: -8px!important;}.menu-wrap::before {background-color: #4e5e33;}.hamburger {background-color:#4e5e33;width:60px;height:60px;border-radius:60px;right: 8px;top: 10px;-webkit-box-shadow: 0px 6px 30px 0px rgba(0,0,0,0.2);-moz-box-shadow: 0px 6px 30px 0px rgba(0,0,0,0.2);box-shadow: 0px 6px 30px 0px rgba(0,0,0,0.2);}.menu-button:hover {opacity: 0.6;}.menu-text {position: absolute;top: 20px;left: -25px;font-size: 14px;color: #ffffff;}</style><style id=\"divi-mobile-menu-inline-styles\">#dm-menu li a, .et-db #et-boc .et-l #dm-menu.nav li a {line-height:1.1em;text-shadow:;}.scroll_section {justify-content :flex-start}#dm-menu.nav li {text-align: left;width: 100%;}#dm-menu.nav li .sub-menu > li {text-align: left !important;}#dm_nav .menu-wrap__inner .menu-item-has-children > a:after {transform: rotate(0deg);transition: all 300ms ease 0ms;}#dm_nav .menu-wrap__inner .menu-item-has-children.visible > a:after {transform: rotate(0deg);}.menu-wrap__inner {padding-top: 0px !important;}#dm_nav .menu-wrap__inner .sub-menu, .et-db #et-boc .et-l #dm-menu.nav li ul.sub-menu {padding-top: 0px !important;}.menu-wrap {background-color: #4e5e33;right: 0;-webkit-transform: translate3d(300px,0,0);transform: translate3d(300px,0,0);max-width: 300px;}#dm_nav .menu-wrap__inner .sub-menu, .et-db #et-boc .et-l #dm-menu.nav li ul.sub-menu {right: 0;-webkit-transform: translate3d(300px,0,0);transform: translate3d(300px,0,0);}.menu-wrap a {display: block;color: #ffffff !important;font-size: 20px !important;padding-top: 14px !important;padding-bottom: 14px !important;}.menu-wrap a:hover,.menu-wrap a:focus {color: #efefef !important;}#dm_nav .nav li li {padding: 0;line-height: 1em;}</style><style id=\"divi-mobile-general-inline-styles\">body .menu-wrap { height: 100vh;top: 0;}body .menu-wrap.menuclosed {width: 0 !important;}body.show-menu .menu-wrap {width: 100% !important;}body .menu-wrap, body .divi-mobile-menu .menu-button {position: fixed;}#dm-menu a {display: block;}#dm_nav .menu-wrap__inner .menu-item-has-children > a:after,.clickthrough {color: #ffffff;font-size: 20px !important;right: 0px;}.clickthrough {position: absolute;width: 30px;height: 100%;z-index: 200;top: 0;cursor: pointer;}#dm_nav li ul.sub-menu,.et-db #et-boc .et-l #dm_nav .nav li ul {background-color: rgba(0,0,0,0);}#dm_nav li ul.sub-menu ul.sub-menu { background-color: rgba(0,0,0,0); } #dm_nav li ul.sub-menu a {line-height:0.5em;}#dm_nav li ul.sub-menu a {color: #ffffff !important;font-size: 16px !important;padding-top: 16px !important;padding-bottom: 16px !important;}#dm_nav li ul.sub-menu a:hover {color: #efefef !important;}@media only screen and (max-width: 980px) {html, body {position: relative;overflow-x: hidden !important}body.et-fb-root-ancestor {overflow-x: visible !important}#et-top-navigation{min-height: 80px;}#dm_nav .et_pb_fullwidth_menu .et_pb_menu__menu, #dm_nav .et_pb_menu .et_pb_menu__menu {display: block !important}#top-menu, .et-l--header .mobile_menu_bar, .et-l--header, #et-navigation, .dm-custom-header #main-header, #main-header .mobile_menu_bar {display: none !important;}.et-l--header.et-fb-root-ancestor {display: block !important;}.logo_container {min-height: 80px;}#et-top-navigation, .divi-mobile-menu {display: block !important;}body #et_mobile_nav_menu{display: none !important;}body.wp-admin{overflow-x:initial!important}}@media only screen and (min-width: 981px) {.divi-mobile-menu, #dm-header {display: none !important;}body #top-menu, body #main-header{display: block !important;}body #et_mobile_nav_menu{display: none !important;}}.slidein-minicart-active #dm-header {z-index: 999999999999999999999999;}.slidein-minicart-active #open-button {z-index: -1;}html, body.show-menu, .show-menu #page-container, .show-menu #et-main-area {overflow-y: visible !important;//height: 100% !important; } #wpadminbar {z-index: 9999999999999;}.inject_menu_remove #dm-menu .menu-item-has-children[class*=\"dm-\"] .sub-menu > .menu-item {display: none;} }</style><style id=\"divi-mobile-custom-header-inline-styles\">#dm-header {position: fixed;background-color: #ffffff;top: 0;width: 100%;display: block;z-index: 9999;-webkit-transition: background-color 0.4s, color 0.4s, transform 0.4s, opacity 0.4s ease-in-out;-moz-transition: background-color 0.4s, color 0.4s, transform 0.4s, opacity 0.4s ease-in-out;transition: background-color 0.4s, color 0.4s, transform 0.4s, opacity 0.4s ease-in-out;display: flex;flex-direction: column;justify-content: center;-webkit-box-shadow: 0px 6px 30px 0px rgba(0,0,0,0.3);-moz-box-shadow: 0px 6px 30px 0px rgba(0,0,0,0.3);box-shadow: 0px 6px 30px 0px rgba(0,0,0,0.3);-webkit-transition: all 0.2s;transition: all 0.2s;}.dm-header-cont {height: 80px;position: relative;} body .divi-mobile-menu .menu-button {z-index: 10000;position: fixed;}body.show-menu .menu-button {z-index: 99999999999999999999 !important;}#main-header {display: none !important;}#dm-header.fixed-header {background-color: #ffffff;}.fixed-header .dm-header-cont {height: 40px;}#dm-header.fixed-header #dm-logo {max-height: 50px;max-height: 50px;}#dm-logo {color: #ffffff;font-size: 14px;font-style: inherit;font-weight: inherit;letter-spacing: 0px;}.dm-fixed-header .hamburger {top: -23px;}.dm-fixed-header .dm-cart {top: 0px;}.dm-fixed-header .dm-search {top: -21px;}.dm-fixed-header .hamburger .hamburger-inner,.dm-fixed-header .hamburger .hamburger-inner::before,.dm-fixed-header .hamburger .hamburger-inner::after {background-color: ;}.dm-fixed-header #nav-icon .dots{fill: ;}.dm-fixed-header .dm-cart .et-cart-info span:before{color: ;}.dm-fixed-header .cart-icon svg path {fill: ;}.dm-fixed-header .dm-fixed-header .dm-search:before{color: ;}.dm-branding {float: left;position: relative;left: 12px;top: 0px;height: 100%;}#dm-header .flex-div {display: flex;flex-direction: column;justify-content: center;}.dm-branding a {height: 100%;float: left;position: relative;display: flex;flex-direction: column;justify-content: center;}#dm-logo, .logo-scroll {max-height: 60px;max-width: 115px;}#dm-logo.svg-logo, .logo-scroll.svg-logo {width: 100%;height: 100%;}.dm-cart {display: block;position: absolute;left: 60px;width: inherit;margin-top: 20px;}.dm-cart .et-cart-info span:before {color: #000000;font-size: 18px;}.dm-search {width: 41px;display: block;max-width: 200px;position: absolute;right: 74px;margin-top: 4px;z-index: 99999;}.dm-search form.et-search-form{padding-right: 30px;}.dm-search .et-search-form input,.dm-search .et-search-form input::-webkit-input-placeholder {color: #000000;font-size: 18px;}.dm-search #et_search_icon:before {position: relative;top: 0 !important;color: #000000;font-size: 21px;}.dm-search .et-search-form input {position: relative;}.dm-search form.et-search-form{width: 100%;margin: 0;left: auto;right: auto;bottom: auto;position: relative;}.et_hide_search_icon #dm-header #et_top_search_mob {display: block !important;}.et_header_style_centered .dm-search #et_top_search_mob, .et_vertical_nav.et_header_style_centered #main-header .dm-search #et_top_search_mob {display: block !important;}#dm-header #et_top_search_mob {float: none !important;margin: 3px 0 0 22px;display: block;text-align: center;white-space: nowrap;margin: 0 10px;opacity: 1;width: 100%;height: 80px;}#dm-header #et_top_search_mob #et_search_icon {position: absolute;top: 50%;transform: translateY(-50%);right: auto;cursor: pointer;text-decoration: none;text-transform: uppercase;font-size: 13px;font-weight: 500;display: inline-block;margin: 0;left: 0;}.dm-search-box {position: absolute;left: 30px;top: 50%;display: -ms-inline-flexbox;display: inline-flex;width: 100%;padding: 0;overflow: hidden;transform: translateY(-50%);}.dm-search .et-search-form input {width: 100%;height: 100%;background: none;padding: 0 0 0 10px;line-height: 1.5;position: relative;top: 0;text-overflow: ellipsis;right: auto;left: 0;}.menu-wrap__inner #et_top_search_mob {width: 100% !important;}.menu-wrap__inner .dm-search {max-width: 90%;}.menu-wrap__inner #et_search_icon {position: absolute;}@media only screen and (max-width: 980px) {body .cart-icon svg path {fill: #000000;}.dm-custom-header #page-container {padding-top: 80px !important;margin-top: 0 !important;}.dm-search-icon-header .dm-search-box .close:before {color: #000000 !important;font-size: 22px !important;}.dm-search .et-search-form {background-color: transparent;}.dm-search .et-search-field {border: none;}#dm-header {overflow: visible !important;}.dm-search-box {transform: translateY(0) !important;}.dm-search-icon-header .dm-search-box {position: fixed !important;display: block !important;width: 100%;left: 0;right: 0;padding: 10px 0;background-color: #ffffff;top: -200px;opacity: 0;-webkit-transition: all 0.5s;-moz-transition: all 0.5s;transition: all 0.5s;}.dm-search-box .close {display: none;}.dm-search-icon-header .dm-search-box .close {display: block;}.dm-search-icon-header .active .dm-search-box {top: 80px;opacity: 1 !important;}.dm-fixed-header.dm-search-icon-header .active .dm-search-box {top: 40px;opacity: 1 !important;}.dm-search-icon-header .dm-search-box .close {position: absolute;top: 10px;right: 10px;z-index: 99999;}.dm-search-icon-header .dm-search-box .close:before {text-shadow: 0 0;font-family: ETmodules!important;font-weight: 400;font-style: normal;font-variant: normal;-webkit-font-smoothing: antialiased;-moz-osx-font-smoothing: grayscale;line-height: 1;text-transform: none;speak: none;font-size: 22px;content: \"\\\\4d\";color: #000000;}.scroll_section .dm-search {width: 100%; }.menu-wrap__inner .scroll_section .dm-search {max-width: 90%;position: relative;padding: 10px 0;max-width: 100%;}.menu-wrap__inner .scroll_section #et_search_icon {right: 0;position: absolute;z-index: 9999;display: block;}.scroll_section .dm-search .et-search-form input {padding: 0;}.dm-account {width: 40px;display: block;position: absolute;none: 120px;z-index: 99999;top: 25px;height: 40px; } .dm-header-cont .dm-account span {font-family: ETmodules!important;content: attr(data-icon);font-size: 28px;color: #000000;}.dm-fixed-header .dm-header-cont .dm-account {top: 25;}.dm-fixed-header .dm-header-cont .dm-account span {color: ;}}</style><style id=\"divi-mobile-menu-submenu-inline-styles\">body #dm_nav .menu-wrap__inner .sub-menu,.et-db #et-boc .et-l #dm-menu.nav li ul.sub-menu {right: auto !important;-webkit-transform: translate3d(0px,0,0) !important;transform: translate3d(0px,0,0) !important;z-index: 1000;top: 0;left: 0;}#dm_nav .menu-wrap__inner .menu-item-has-children.visible > a:after {content: \"\\\\33\" !important;color: #ffffff;margin-top: 0px;margin-left: 0px;font-size: 20px;}#dm_nav .menu-wrap__inner .menu-item-has-children > a { background-color: transparent; position: relative; }#dm_nav .menu-wrap__inner .menu-item-has-children > a:after { font-family: \"ETmodules\"; text-align: center; speak: none; font-weight: normal; font-variant: normal; text-transform: none; -webkit-font-smoothing: antialiased; position: absolute; }#dm_nav .menu-wrap__inner .menu-item-has-children > a:after { font-size: 16px; content: \"\\\\32\"; }#dm_nav .menu-wrap__inner .menu-item-has-children.visible > a:after { content: \"\\\\4d\"; }#dm_nav .menu-wrap__inner ul.sub-menu { display: none !important; visibility: hidden !important;transition: all 1.5s ease-in-out;}#dm_nav .menu-wrap__inner .visible > ul.sub-menu,.et-db #et-boc .et-l #dm_nav .nav li.visible > ul.sub-menu {display: block !important; visibility: visible !important;width: 100% !important;position: relative !important;opacity: 1 !important;}.open-icon {position: absolute;top: 0;right: 0;width: 40px;height: 47px;z-index: 20;}.open-icon:after {cursor: pointer;font-family: \"ETmodules\";text-align: center;speak: none;font-weight: normal;font-variant: normal;text-transform: none;-webkit-font-smoothing: antialiased;position: absolute;font-size: 23px;content: \"\\\\4c\";top: 13px;right: 10px;color: #26c9b7;}</style><style type=\"text/css\" id=\"custom-background-css\">\\nbody.custom-background { background-color: #ffffff; }\\n</style>\\n\\t<link rel=\"stylesheet\" href=\"https://use.fontawesome.com/releases/v5.7.1/css/all.css\" integrity=\"sha384-fnmOCqbTlWIlj8LyTjo7mOUStjsKC4pOpQbqyi7RrhN7udi9RwhKkMHpvLbHG9Sr\" crossorigin=\"anonymous\">\\r\\n\\t\\t\\t\\t\\t\\t<script>\\r\\n\\t\\t\\t\\t(function() {\\r\\n\\t\\t\\t\\t\\tvar hbspt = window.hbspt = window.hbspt || {};\\r\\n\\t\\t\\t\\t\\thbspt.forms = hbspt.forms || {};\\r\\n\\t\\t\\t\\t\\thbspt._wpFormsQueue = [];\\r\\n\\t\\t\\t\\t\\thbspt.enqueueForm = function(formDef) {\\r\\n\\t\\t\\t\\t\\t\\tif (hbspt.forms && hbspt.forms.create) {\\r\\n\\t\\t\\t\\t\\t\\t\\thbspt.forms.create(formDef);\\r\\n\\t\\t\\t\\t\\t\\t} else {\\r\\n\\t\\t\\t\\t\\t\\t\\thbspt._wpFormsQueue.push(formDef);\\r\\n\\t\\t\\t\\t\\t\\t}\\r\\n\\t\\t\\t\\t\\t}\\r\\n\\t\\t\\t\\t\\tif (!window.hbspt.forms.create) {\\r\\n\\t\\t\\t\\t\\t\\tObject.defineProperty(window.hbspt.forms, \\'create\\', {\\r\\n\\t\\t\\t\\t\\t\\t\\tconfigurable: true,\\r\\n\\t\\t\\t\\t\\t\\t\\tget: function() {\\r\\n\\t\\t\\t\\t\\t\\t\\t\\treturn hbspt._wpCreateForm;\\r\\n\\t\\t\\t\\t\\t\\t\\t},\\r\\n\\t\\t\\t\\t\\t\\t\\tset: function(value) {\\r\\n\\t\\t\\t\\t\\t\\t\\t\\thbspt._wpCreateForm = value;\\r\\n\\t\\t\\t\\t\\t\\t\\t\\twhile (hbspt._wpFormsQueue.length) {\\r\\n\\t\\t\\t\\t\\t\\t\\t\\t\\tvar formDef = hbspt._wpFormsQueue.shift();\\r\\n\\t\\t\\t\\t\\t\\t\\t\\t\\tif (!document.currentScript) {\\r\\n\\t\\t\\t\\t\\t\\t\\t\\t\\t\\tvar formScriptId = \\'leadin-forms-v2-js\\';\\r\\n\\t\\t\\t\\t\\t\\t\\t\\t\\t\\thubspot.utils.currentScript = document.getElementById(formScriptId);\\r\\n\\t\\t\\t\\t\\t\\t\\t\\t\\t}\\r\\n\\t\\t\\t\\t\\t\\t\\t\\t\\thbspt._wpCreateForm.call(hbspt.forms, formDef);\\r\\n\\t\\t\\t\\t\\t\\t\\t\\t}\\r\\n\\t\\t\\t\\t\\t\\t\\t},\\r\\n\\t\\t\\t\\t\\t\\t});\\r\\n\\t\\t\\t\\t\\t}\\r\\n\\t\\t\\t\\t})();\\r\\n\\t\\t\\t</script>\\r\\n\\t\\t<!-- Tracking tag. Place in the <body> section of webpage -->\\r\\n<!-- Privacy policy at http://tag.brandcdn.com/privacy -->\\r\\n<script type=\"text/javascript\" src=\"//tag.brandcdn.com/autoscript/codeup_vfzsuk1vmuvtvda9/codeup.js\"></script>\\r\\n\\r\\n\\r\\n<!-- Global site tag (gtag.js) - Google Analytics -->\\r\\n<script async src=\"https://www.googletagmanager.com/gtag/js?id=UA-80979492-1\"></script>\\r\\n<script>\\r\\n  window.dataLayer = window.dataLayer || [];\\r\\n  function gtag(){dataLayer.push(arguments);}\\r\\n  gtag(\\'js\\', new Date());\\r\\n\\r\\n  gtag(\\'config\\', \\'UA-80979492-1\\');\\r\\n</script>\\r\\n\\r\\n<!-- Global site tag (gtag.js) - Google Analytics -->\\r\\n<script async src=\"https://www.googletagmanager.com/gtag/js?id=G-T28MWJ54LC\"></script>\\r\\n<script>\\r\\n  window.dataLayer = window.dataLayer || [];\\r\\n  function gtag(){dataLayer.push(arguments);}\\r\\n  gtag(\\'js\\', new Date());\\r\\n\\r\\n  gtag(\\'config\\', \\'G-T28MWJ54LC\\');\\r\\n</script>\\r\\n\\r\\n<!-- Global site tag (gtag.js) - Google Analytics -->\\r\\n<script async src=\"https://www.googletagmanager.com/gtag/js?id=UA-157296047-1\"></script>\\r\\n<script>\\r\\n  window.dataLayer = window.dataLayer || [];\\r\\n  function gtag(){dataLayer.push(arguments);}\\r\\n  gtag(\\'js\\', new Date());\\r\\n  gtag(\\'config\\', \\'UA-157296047-1\\');\\r\\n</script>\\r\\n\\r\\n<!-- Global site tag (gtag.js) - Google Ads: 881084489 -->\\r\\n<script async src=\"https://www.googletagmanager.com/gtag/js?id=AW-881084489\"></script>\\r\\n<script>\\r\\n  window.dataLayer = window.dataLayer || [];\\r\\n  function gtag(){dataLayer.push(arguments);}\\r\\n  gtag(\\'js\\', new Date());\\r\\n\\r\\n  gtag(\\'config\\', \\'AW-881084489\\');\\r\\n</script>                                                \\t\\t<script>\\r\\n\\t\\t\\tdocument.documentElement.className = document.documentElement.className.replace( \\'no-js\\', \\'js\\' );\\r\\n\\t\\t</script>\\r\\n\\t\\t\\t\\t<style>\\r\\n\\t\\t\\t.no-js img.lazyload { display: none; }\\r\\n\\t\\t\\tfigure.wp-block-image img.lazyloading { min-width: 150px; }\\r\\n\\t\\t\\t\\t\\t\\t\\t.lazyload, .lazyloading { opacity: 0; }\\r\\n\\t\\t\\t\\t.lazyloaded {\\r\\n\\t\\t\\t\\t\\topacity: 1;\\r\\n\\t\\t\\t\\t\\ttransition: opacity 400ms;\\r\\n\\t\\t\\t\\t\\ttransition-delay: 0ms;\\r\\n\\t\\t\\t\\t}\\r\\n\\t\\t\\t\\t\\t</style>\\r\\n\\t\\t<!-- Facebook Pixel Code -->\\r\\n<script>\\r\\n!function(f,b,e,v,n,t,s)\\r\\n{if(f.fbq)return;n=f.fbq=function(){n.callMethod?\\r\\nn.callMethod.apply(n,arguments):n.queue.push(arguments)};\\r\\nif(!f._fbq)f._fbq=n;n.push=n;n.loaded=!0;n.version=\\'2.0\\';\\r\\nn.queue=[];t=b.createElement(e);t.async=!0;\\r\\nt.src=v;s=b.getElementsByTagName(e)[0];\\r\\ns.parentNode.insertBefore(t,s)}(window, document,\\'script\\',\\r\\n\\'https://connect.facebook.net/en_US/fbevents.js\\');\\r\\nfbq(\\'init\\', \\'3940550992837075\\');\\r\\nfbq(\\'track\\', \\'PageView\\');\\r\\n</script>\\r\\n<noscript><img height=\"1\" width=\"1\" alt=\"facebook\" style=\"display:none\" src=\"https://www.facebook.com/tr?id=3940550992837075&amp;ev=PageView&amp;noscript=1\"></noscript>\\r\\n<!-- End Facebook Pixel Code -->\\r\\n<!-- Hot Jar Tracking added 10-11-21 -->\\r\\n<!-- Hotjar Tracking Code for https://codeup.com -->\\r\\n<script>\\r\\n    (function(h,o,t,j,a,r){\\r\\n        h.hj=h.hj||function(){(h.hj.q=h.hj.q||[]).push(arguments)};\\r\\n        h._hjSettings={hjid:2644609,hjsv:6};\\r\\n        a=o.getElementsByTagName(\\'head\\')[0];\\r\\n        r=o.createElement(\\'script\\');r.async=1;\\r\\n        r.src=t+h._hjSettings.hjid+j+h._hjSettings.hjsv;\\r\\n        a.appendChild(r);\\r\\n    })(window,document,\\'https://static.hotjar.com/c/hotjar-\\',\\'.js?sv=\\');\\r\\n</script>\\r\\n<!-- REMOVE AFTER March 2022 Conversion Pixel for [lead]- DO NOT MODIFY -->\\r\\n<img src=\"https://data.adxcel-ec2.com/pixel/?ad_log=referer&amp;action=lead&amp;pixid=6307c137-c722-4f43-9a74-72a844c08ec5\" width=\"1\" height=\"1\" border=\"0\" alt=\"\">\\r\\n<!-- End of Conversion Pixel -->\\r\\n\\r\\n<!-- Global site tag (gtag.js) - Google Ads: 881084489 -->\\r\\n<script async src=\"https://www.googletagmanager.com/gtag/js?id=AW-881084489\"></script>\\r\\n<script>\\r\\n  window.dataLayer = window.dataLayer || [];\\r\\n  function gtag(){dataLayer.push(arguments);}\\r\\n  gtag(\\'js\\', new Date());\\r\\n\\r\\n  gtag(\\'config\\', \\'AW-881084489\\');\\r\\n</script>\\r\\n<!-- Global site tag (gtag.js) - Google Ads: 881084489 -->\\r\\n<script async src=\"https://www.googletagmanager.com/gtag/js?id=AW-881084489\"></script>\\r\\n<script>\\r\\n  window.dataLayer = window.dataLayer || [];\\r\\n  function gtag(){dataLayer.push(arguments);}\\r\\n  gtag(\\'js\\', new Date());\\r\\n\\r\\n  gtag(\\'config\\', \\'AW-881084489\\');\\r\\n</script>\\r\\n\\r\\n<!-- Hotjar Tracking Code for https://codeup.com/ -->\\r\\n<script>\\r\\n    (function(h,o,t,j,a,r){\\r\\n        h.hj=h.hj||function(){(h.hj.q=h.hj.q||[]).push(arguments)};\\r\\n        h._hjSettings={hjid:1666465,hjsv:6};\\r\\n        a=o.getElementsByTagName(\\'head\\')[0];\\r\\n        r=o.createElement(\\'script\\');r.async=1;\\r\\n        r.src=t+h._hjSettings.hjid+j+h._hjSettings.hjsv;\\r\\n        a.appendChild(r);\\r\\n    })(window,document,\\'https://static.hotjar.com/c/hotjar-\\',\\'.js?sv=\\');\\r\\n</script>\\r\\n<meta name=\"facebook-domain-verification\" content=\"pd52bhwp7sfz07d94wpoeo1q2phtbm\">\\r\\n<!-- Google Tag Manager -->\\r\\n\\r\\n<script>(function(w,d,s,l,i){w[l]=w[l]||[];w[l].push({\\'gtm.start\\':\\r\\n\\r\\nnew Date().getTime(),event:\\'gtm.js\\'});var f=d.getElementsByTagName(s)[0],\\r\\n\\r\\nj=d.createElement(s),dl=l!=\\'dataLayer\\'?\\'&l=\\'+l:\\'\\';j.async=true;j.src=\\r\\n\\r\\n\\'https://www.googletagmanager.com/gtm.js?id=\\'+i+dl;f.parentNode.insertBefore(j,f);\\r\\n\\r\\n})(window,document,\\'script\\',\\'dataLayer\\',\\'GTM-5HBXRV7\\');</script>\\r\\n\\r\\n<!-- End Google Tag Manager -->\\r\\n<link rel=\"icon\" href=\"https://tribucodeup.wpenginepowered.com/wp-content/uploads/2021/10/cropped-favicon-32x32.png\" sizes=\"32x32\" />\\n<link rel=\"icon\" href=\"https://tribucodeup.wpenginepowered.com/wp-content/uploads/2021/10/cropped-favicon-192x192.png\" sizes=\"192x192\" />\\n<link rel=\"apple-touch-icon\" href=\"https://tribucodeup.wpenginepowered.com/wp-content/uploads/2021/10/cropped-favicon-180x180.png\" />\\n<meta name=\"msapplication-TileImage\" content=\"https://tribucodeup.wpenginepowered.com/wp-content/uploads/2021/10/cropped-favicon-270x270.png\" />\\n<style id=\"et-divi-customizer-global-cached-inline-styles\">#et_search_icon:hover,.mobile_menu_bar:before,.mobile_menu_bar:after,.et_toggle_slide_menu:after,.et-social-icon a:hover,.et_pb_sum,.et_pb_pricing li a,.et_pb_pricing_table_button,.et_overlay:before,.entry-summary p.price ins,.et_pb_member_social_links a:hover,.et_pb_widget li a:hover,.et_pb_filterable_portfolio .et_pb_portfolio_filters li a.active,.et_pb_filterable_portfolio .et_pb_portofolio_pagination ul li a.active,.et_pb_gallery .et_pb_gallery_pagination ul li a.active,.wp-pagenavi span.current,.wp-pagenavi a:hover,.nav-single a,.tagged_as a,.posted_in a{color:#4e5e33}.et_pb_contact_submit,.et_password_protected_form .et_submit_button,.et_pb_bg_layout_light .et_pb_newsletter_button,.comment-reply-link,.form-submit .et_pb_button,.et_pb_bg_layout_light .et_pb_promo_button,.et_pb_bg_layout_light .et_pb_more_button,.et_pb_contact p input[type=\"checkbox\"]:checked+label i:before,.et_pb_bg_layout_light.et_pb_module.et_pb_button{color:#4e5e33}.footer-widget h4{color:#4e5e33}.et-search-form,.nav li ul,.et_mobile_menu,.footer-widget li:before,.et_pb_pricing li:before,blockquote{border-color:#4e5e33}.et_pb_counter_amount,.et_pb_featured_table .et_pb_pricing_heading,.et_quote_content,.et_link_content,.et_audio_content,.et_pb_post_slider.et_pb_bg_layout_dark,.et_slide_in_menu_container,.et_pb_contact p input[type=\"radio\"]:checked+label i:before{background-color:#4e5e33}a{color:#e9573f}.nav li ul{border-color:#79a04a}#top-header,#et-secondary-nav li ul{background-color:#4e5e33}.et_header_style_centered .mobile_nav .select_page,.et_header_style_split .mobile_nav .select_page,.et_nav_text_color_light #top-menu>li>a,.et_nav_text_color_dark #top-menu>li>a,#top-menu a,.et_mobile_menu li a,.et_nav_text_color_light .et_mobile_menu li a,.et_nav_text_color_dark .et_mobile_menu li a,#et_search_icon:before,.et_search_form_container input,span.et_close_search_field:after,#et-top-navigation .et-cart-info{color:#181d32}.et_search_form_container input::-moz-placeholder{color:#181d32}.et_search_form_container input::-webkit-input-placeholder{color:#181d32}.et_search_form_container input:-ms-input-placeholder{color:#181d32}#top-menu li a{font-size:16px}body.et_vertical_nav .container.et_search_form_container .et-search-form input{font-size:16px!important}#top-menu li.current-menu-ancestor>a,#top-menu li.current-menu-item>a,#top-menu li.current_page_item>a{color:#4e5e33}#main-footer .footer-widget h4,#main-footer .widget_block h1,#main-footer .widget_block h2,#main-footer .widget_block h3,#main-footer .widget_block h4,#main-footer .widget_block h5,#main-footer .widget_block h6{color:#4e5e33}.footer-widget li:before{border-color:#4e5e33}@media only screen and (min-width:981px){.et_header_style_left #et-top-navigation,.et_header_style_split #et-top-navigation{padding:50px 0 0 0}.et_header_style_left #et-top-navigation nav>ul>li>a,.et_header_style_split #et-top-navigation nav>ul>li>a{padding-bottom:50px}.et_header_style_split .centered-inline-logo-wrap{width:99px;margin:-99px 0}.et_header_style_split .centered-inline-logo-wrap #logo{max-height:99px}.et_pb_svg_logo.et_header_style_split .centered-inline-logo-wrap #logo{height:99px}.et_header_style_centered #top-menu>li>a{padding-bottom:18px}.et_header_style_slide #et-top-navigation,.et_header_style_fullscreen #et-top-navigation{padding:41px 0 41px 0!important}.et_header_style_centered #main-header .logo_container{height:99px}#logo{max-height:80%}.et_pb_svg_logo #logo{height:80%}.et-fixed-header#top-header,.et-fixed-header#top-header #et-secondary-nav li ul{background-color:#79a04a}.et-fixed-header#main-header,.et-fixed-header#main-header .nav li ul,.et-fixed-header .et-search-form{background-color:#4e5e33}.et-fixed-header #top-menu a,.et-fixed-header #et_search_icon:before,.et-fixed-header #et_top_search .et-search-form input,.et-fixed-header .et_search_form_container input,.et-fixed-header .et_close_search_field:after,.et-fixed-header #et-top-navigation .et-cart-info{color:#ffffff!important}.et-fixed-header .et_search_form_container input::-moz-placeholder{color:#ffffff!important}.et-fixed-header .et_search_form_container input::-webkit-input-placeholder{color:#ffffff!important}.et-fixed-header .et_search_form_container input:-ms-input-placeholder{color:#ffffff!important}.et-fixed-header #top-menu li.current-menu-ancestor>a,.et-fixed-header #top-menu li.current-menu-item>a,.et-fixed-header #top-menu li.current_page_item>a{color:#ffffff!important}}@media only screen and (min-width:1350px){.et_pb_row{padding:27px 0}.et_pb_section{padding:54px 0}.single.et_pb_pagebuilder_layout.et_full_width_page .et_post_meta_wrapper{padding-top:81px}.et_pb_fullwidth_section{padding:0}}\\th1,h2,h3,h4,h5,h6{font-family:\\'Bebas Neue\\',display}body,input,textarea,select{font-family:\\'Poppins\\',Helvetica,Arial,Lucida,sans-serif}.menu-item-39 a{background-color:#79A04A;padding:10px 30px;color:#ffffff!important}.menu-item-16492 a{background-color:#FFC20E;padding:10px 30px;color:#4E5E33!important;margin-top:20px}.et-fixed-header #logo{content:url(/wp-content/uploads/2021/06/Codeup_White.png)}h1,h2,h3,h4,h5{font-family:\\'Bebas Neue\\',display}p{font-family:\\'Poppins\\',Helvetica,Arial,Lucida,sans-serif}span.newsletter{font-size:40px}span.newsletter:after{content:url(/wp-content/uploads/2021/09/Chevron_300x300-e1632152740352.png);display:inline-block}.projects-image-height img{height:300px!important;object-fit:cover}.projects-image-height{height:300!important}.bio-module img{object-fit:cover;height:200px}#dm-header #et_top_search_mob{display:none!important}#et-boc .area-outer-wrap .da-close{font-size:30px}.staff_img img{filter:grayscale(1);width:512px;transition:.5s}.staff_img img:hover{filter:none}img.wp-image-18488.aligncenter.size-full{width:30px;filter:none;position:absolute;top:6px;right:8px}img.wp-image-18506.aligncenter.size-full{width:40px;filter:none;position:absolute;top:6px;right:8px}img.wp-image-18623.aligncenter.size-full{width:40px;filter:none;position:absolute;top:6px;right:8px}.staff_img .et_pb_member_social_links li{display:inline-block;margin-right:30px;position:absolute;top:200px;left:5px}</style></head>\\n<body class=\"blog custom-background et-tb-has-template et-tb-has-header et-tb-has-body et-tb-has-footer tribe-no-js et_pb_button_helper_class et_cover_background et_pb_gutter et_pb_gutters3 et_smooth_scroll et_divi_theme et-db\">\\n\\t<svg xmlns=\"http://www.w3.org/2000/svg\" viewBox=\"0 0 0 0\" width=\"0\" height=\"0\" focusable=\"false\" role=\"none\" style=\"visibility: hidden; position: absolute; left: -9999px; overflow: hidden;\" ><defs><filter id=\"wp-duotone-dark-grayscale\"><feColorMatrix color-interpolation-filters=\"sRGB\" type=\"matrix\" values=\" .299 .587 .114 0 0 .299 .587 .114 0 0 .299 .587 .114 0 0 .299 .587 .114 0 0 \" /><feComponentTransfer color-interpolation-filters=\"sRGB\" ><feFuncR type=\"table\" tableValues=\"0 0.498039215686\" /><feFuncG type=\"table\" tableValues=\"0 0.498039215686\" /><feFuncB type=\"table\" tableValues=\"0 0.498039215686\" /><feFuncA type=\"table\" tableValues=\"1 1\" /></feComponentTransfer><feComposite in2=\"SourceGraphic\" operator=\"in\" /></filter></defs></svg><svg xmlns=\"http://www.w3.org/2000/svg\" viewBox=\"0 0 0 0\" width=\"0\" height=\"0\" focusable=\"false\" role=\"none\" style=\"visibility: hidden; position: absolute; left: -9999px; overflow: hidden;\" ><defs><filter id=\"wp-duotone-grayscale\"><feColorMatrix color-interpolation-filters=\"sRGB\" type=\"matrix\" values=\" .299 .587 .114 0 0 .299 .587 .114 0 0 .299 .587 .114 0 0 .299 .587 .114 0 0 \" /><feComponentTransfer color-interpolation-filters=\"sRGB\" ><feFuncR type=\"table\" tableValues=\"0 1\" /><feFuncG type=\"table\" tableValues=\"0 1\" /><feFuncB type=\"table\" tableValues=\"0 1\" /><feFuncA type=\"table\" tableValues=\"1 1\" /></feComponentTransfer><feComposite in2=\"SourceGraphic\" operator=\"in\" /></filter></defs></svg><svg xmlns=\"http://www.w3.org/2000/svg\" viewBox=\"0 0 0 0\" width=\"0\" height=\"0\" focusable=\"false\" role=\"none\" style=\"visibility: hidden; position: absolute; left: -9999px; overflow: hidden;\" ><defs><filter id=\"wp-duotone-purple-yellow\"><feColorMatrix color-interpolation-filters=\"sRGB\" type=\"matrix\" values=\" .299 .587 .114 0 0 .299 .587 .114 0 0 .299 .587 .114 0 0 .299 .587 .114 0 0 \" /><feComponentTransfer color-interpolation-filters=\"sRGB\" ><feFuncR type=\"table\" tableValues=\"0.549019607843 0.988235294118\" /><feFuncG type=\"table\" tableValues=\"0 1\" /><feFuncB type=\"table\" tableValues=\"0.717647058824 0.254901960784\" /><feFuncA type=\"table\" tableValues=\"1 1\" /></feComponentTransfer><feComposite in2=\"SourceGraphic\" operator=\"in\" /></filter></defs></svg><svg xmlns=\"http://www.w3.org/2000/svg\" viewBox=\"0 0 0 0\" width=\"0\" height=\"0\" focusable=\"false\" role=\"none\" style=\"visibility: hidden; position: absolute; left: -9999px; overflow: hidden;\" ><defs><filter id=\"wp-duotone-blue-red\"><feColorMatrix color-interpolation-filters=\"sRGB\" type=\"matrix\" values=\" .299 .587 .114 0 0 .299 .587 .114 0 0 .299 .587 .114 0 0 .299 .587 .114 0 0 \" /><feComponentTransfer color-interpolation-filters=\"sRGB\" ><feFuncR type=\"table\" tableValues=\"0 1\" /><feFuncG type=\"table\" tableValues=\"0 0.278431372549\" /><feFuncB type=\"table\" tableValues=\"0.592156862745 0.278431372549\" /><feFuncA type=\"table\" tableValues=\"1 1\" /></feComponentTransfer><feComposite in2=\"SourceGraphic\" operator=\"in\" /></filter></defs></svg><svg xmlns=\"http://www.w3.org/2000/svg\" viewBox=\"0 0 0 0\" width=\"0\" height=\"0\" focusable=\"false\" role=\"none\" style=\"visibility: hidden; position: absolute; left: -9999px; overflow: hidden;\" ><defs><filter id=\"wp-duotone-midnight\"><feColorMatrix color-interpolation-filters=\"sRGB\" type=\"matrix\" values=\" .299 .587 .114 0 0 .299 .587 .114 0 0 .299 .587 .114 0 0 .299 .587 .114 0 0 \" /><feComponentTransfer color-interpolation-filters=\"sRGB\" ><feFuncR type=\"table\" tableValues=\"0 0\" /><feFuncG type=\"table\" tableValues=\"0 0.647058823529\" /><feFuncB type=\"table\" tableValues=\"0 1\" /><feFuncA type=\"table\" tableValues=\"1 1\" /></feComponentTransfer><feComposite in2=\"SourceGraphic\" operator=\"in\" /></filter></defs></svg><svg xmlns=\"http://www.w3.org/2000/svg\" viewBox=\"0 0 0 0\" width=\"0\" height=\"0\" focusable=\"false\" role=\"none\" style=\"visibility: hidden; position: absolute; left: -9999px; overflow: hidden;\" ><defs><filter id=\"wp-duotone-magenta-yellow\"><feColorMatrix color-interpolation-filters=\"sRGB\" type=\"matrix\" values=\" .299 .587 .114 0 0 .299 .587 .114 0 0 .299 .587 .114 0 0 .299 .587 .114 0 0 \" /><feComponentTransfer color-interpolation-filters=\"sRGB\" ><feFuncR type=\"table\" tableValues=\"0.780392156863 1\" /><feFuncG type=\"table\" tableValues=\"0 0.949019607843\" /><feFuncB type=\"table\" tableValues=\"0.352941176471 0.470588235294\" /><feFuncA type=\"table\" tableValues=\"1 1\" /></feComponentTransfer><feComposite in2=\"SourceGraphic\" operator=\"in\" /></filter></defs></svg><svg xmlns=\"http://www.w3.org/2000/svg\" viewBox=\"0 0 0 0\" width=\"0\" height=\"0\" focusable=\"false\" role=\"none\" style=\"visibility: hidden; position: absolute; left: -9999px; overflow: hidden;\" ><defs><filter id=\"wp-duotone-purple-green\"><feColorMatrix color-interpolation-filters=\"sRGB\" type=\"matrix\" values=\" .299 .587 .114 0 0 .299 .587 .114 0 0 .299 .587 .114 0 0 .299 .587 .114 0 0 \" /><feComponentTransfer color-interpolation-filters=\"sRGB\" ><feFuncR type=\"table\" tableValues=\"0.650980392157 0.403921568627\" /><feFuncG type=\"table\" tableValues=\"0 1\" /><feFuncB type=\"table\" tableValues=\"0.447058823529 0.4\" /><feFuncA type=\"table\" tableValues=\"1 1\" /></feComponentTransfer><feComposite in2=\"SourceGraphic\" operator=\"in\" /></filter></defs></svg><svg xmlns=\"http://www.w3.org/2000/svg\" viewBox=\"0 0 0 0\" width=\"0\" height=\"0\" focusable=\"false\" role=\"none\" style=\"visibility: hidden; position: absolute; left: -9999px; overflow: hidden;\" ><defs><filter id=\"wp-duotone-blue-orange\"><feColorMatrix color-interpolation-filters=\"sRGB\" type=\"matrix\" values=\" .299 .587 .114 0 0 .299 .587 .114 0 0 .299 .587 .114 0 0 .299 .587 .114 0 0 \" /><feComponentTransfer color-interpolation-filters=\"sRGB\" ><feFuncR type=\"table\" tableValues=\"0.0980392156863 1\" /><feFuncG type=\"table\" tableValues=\"0 0.662745098039\" /><feFuncB type=\"table\" tableValues=\"0.847058823529 0.419607843137\" /><feFuncA type=\"table\" tableValues=\"1 1\" /></feComponentTransfer><feComposite in2=\"SourceGraphic\" operator=\"in\" /></filter></defs></svg><div class=\"divi-mobile-menu\">\\r\\n  <div id=\"dm_nav\" class=\"menu-wrap menuclosed\">\\r\\n    <div class=\"menu-wrap__inner\">\\r\\n      <div class=\"scroll_section\">\\r\\n        <nav class=\"menu-top\"></nav>\\r\\n        <nav class=\"menu-side\">\\r\\n        <span class=\"menu-name-behind\"></span>\\r\\n<ul id=\"dm-menu\" class=\"nav\"><li class=\"menu-item menu-item-type-post_type menu-item-object-page menu-item-home menu-item-16491\"><a href=\"https://codeup.com/\">Home</a></li>\\n<li class=\"menu-item menu-item-type-custom menu-item-object-custom menu-item-18125\"><a href=\"https://codeup.com/program/cloud-adminsitration/\">Cloud Administration</a></li>\\n<li class=\"menu-item menu-item-type-post_type menu-item-object-course menu-item-16497\"><a href=\"https://codeup.com/program/full-stack-web-development/\">Full Stack Web Development</a></li>\\n<li class=\"menu-item menu-item-type-post_type menu-item-object-course menu-item-16496\"><a href=\"https://codeup.com/program/data-science/\">Data Science</a></li>\\n<li class=\"menu-item menu-item-type-custom menu-item-object-custom menu-item-has-children menu-item-18628\"><a href=\"/events/\">Workshops</a>\\n<ul class=\"sub-menu\">\\n\\t<li class=\"menu-item menu-item-type-custom menu-item-object-custom menu-item-18896\"><a href=\"/san-antonio-events/\">San Antonio</a></li>\\n\\t<li class=\"menu-item menu-item-type-custom menu-item-object-custom menu-item-18897\"><a href=\"/dallas-events/\">Dallas</a></li>\\n</ul>\\n</li>\\n<li class=\"menu-item menu-item-type-post_type menu-item-object-page menu-item-16498\"><a href=\"https://codeup.com/financial-aid/\">Financial Aid</a></li>\\n<li class=\"menu-item menu-item-type-post_type menu-item-object-page menu-item-16501\"><a href=\"https://codeup.com/veterans/\">Military</a></li>\\n<li class=\"menu-item menu-item-type-post_type menu-item-object-page menu-item-16502\"><a href=\"https://codeup.com/hire-tech-talent/\">Hire Tech Talent</a></li>\\n<li class=\"menu-item menu-item-type-custom menu-item-object-custom menu-item-17178\"><a href=\"https://alumni.codeup.com/\">Alumni</a></li>\\n<li class=\"menu-item menu-item-type-post_type menu-item-object-page current-menu-ancestor current-menu-parent current_page_parent current_page_ancestor menu-item-has-children menu-item-16503\"><a href=\"https://codeup.com/resources/\">Resources</a>\\n<ul class=\"sub-menu\">\\n\\t<li class=\"menu-item menu-item-type-custom menu-item-object-custom menu-item-16895\"><a href=\"/my-story/\">Student Reviews</a></li>\\n\\t<li class=\"menu-item menu-item-type-post_type menu-item-object-page current-menu-item page_item page-item-16037 current_page_item current_page_parent menu-item-16504\"><a href=\"https://codeup.com/blog/\" aria-current=\"page\">Blog</a></li>\\n\\t<li class=\"menu-item menu-item-type-post_type menu-item-object-page menu-item-16505\"><a href=\"https://codeup.com/frequently-asked-questions/\">Common Questions</a></li>\\n\\t<li class=\"menu-item menu-item-type-post_type menu-item-object-page menu-item-16685\"><a href=\"https://codeup.com/podcast/\">Hire Tech Podcast</a></li>\\n</ul>\\n</li>\\n<li class=\"cta-nav menu-item menu-item-type-post_type menu-item-object-page menu-item-16492\"><a href=\"https://codeup.com/apply-now/\">Apply Now</a></li>\\n</ul>        </nav>\\r\\n      </div>\\r\\n    </div>\\r\\n  </div>\\r\\n<button id=\"open-button\" class=\"hamburger menu-button hamburger--arrowturn\" type=\"button\">\\r\\n  <span class=\"menu-text\"></span>\\r\\n  <span class=\"hamburger-box\">\\r\\n<span class=\"hamburger-inner\"></span>\\r\\n</span>\\r\\n\\r\\n</button>\\r\\n\\r\\n<header id=\"dm-header\">\\r\\n  \\r\\n<div class=\"dm-header-cont\">\\r\\n\\r\\n<div class=\"dm-branding\">\\r\\n    <a href=\"https://codeup.com/\">\\r\\n                <img class=\"main-logo normal-logo \" src=\"https://tribucodeup.wpenginepowered.com/wp-content/uploads/2021/08/CodeupFullColorLogo.png\" alt=\"Codeup\" title=\"\" id=\"dm-logo\" />\\r\\n              </a>\\r\\n</div>\\r\\n<div class=\"dm-search\">\\r\\n  <div id=\"et_top_search_mob\">\\r\\n    <span id=\"et_search_icon\"></span>\\r\\n<div class=\"dm-search-box\" style=\"opacity: 0;\">\\r\\n      <form role=\"search\" method=\"get\" class=\"et-search-form\" action=\"https://codeup.com/\">\\r\\n      <input type=\"search\" class=\"et-search-field\" placeholder=\"Search &hellip;\" value=\"\" name=\"s\" title=\"Search for:\" />      </form>\\r\\n      <span class=\"close\"></span>\\r\\n  </div>\\r\\n  </div>\\r\\n</div>\\r\\n</div>\\r\\n</header>\\r\\n</div>\\r\\n<div id=\"page-container\">\\n<div id=\"et-boc\" class=\"et-boc\">\\n\\t\\t\\t\\n\\t\\t<header class=\"et-l et-l--header\">\\n\\t\\t\\t<div class=\"et_builder_inner_content et_pb_gutters3\">\\n\\t\\t<div class=\"et_pb_section et_pb_section_0_tb_header et_pb_with_background et_section_regular\" >\\n\\t\\t\\t\\t\\n\\t\\t\\t\\t\\n\\t\\t\\t\\t\\n\\t\\t\\t\\t\\n\\t\\t\\t\\t\\n\\t\\t\\t\\t\\n\\t\\t\\t\\t<div class=\"et_pb_row et_pb_row_0_tb_header\">\\n\\t\\t\\t\\t<div class=\"et_pb_column et_pb_column_1_2 et_pb_column_0_tb_header  et_pb_css_mix_blend_mode_passthrough\">\\n\\t\\t\\t\\t\\n\\t\\t\\t\\t\\n\\t\\t\\t\\t\\n\\t\\t\\t\\t\\n\\t\\t\\t\\t<div class=\"et_pb_module et_pb_text et_pb_text_0_tb_header  et_pb_text_align_right et_pb_bg_layout_light\">\\n\\t\\t\\t\\t\\n\\t\\t\\t\\t\\n\\t\\t\\t\\t\\n\\t\\t\\t\\t\\n\\t\\t\\t\\t<div class=\"et_pb_text_inner\"><a href=\"/about-codeup/\">About</a>  |  <a href=\"/category/behind-the-billboards/\">Behind The Billboards</a>  |  <a href=\"/careers/\">Careers</a></div>\\n\\t\\t\\t</div>\\n\\t\\t\\t</div><div class=\"et_pb_column et_pb_column_1_2 et_pb_column_1_tb_header  et_pb_css_mix_blend_mode_passthrough et-last-child\">\\n\\t\\t\\t\\t\\n\\t\\t\\t\\t\\n\\t\\t\\t\\t\\n\\t\\t\\t\\t\\n\\t\\t\\t\\t<div class=\"et_pb_module et_pb_search et_pb_search_0_tb_header  et_pb_text_align_left et_pb_bg_layout_light\">\\n\\t\\t\\t\\t\\n\\t\\t\\t\\t\\n\\t\\t\\t\\t\\n\\t\\t\\t\\t\\n\\t\\t\\t\\t<form role=\"search\" method=\"get\" class=\"et_pb_searchform\" action=\"https://codeup.com/\">\\n\\t\\t\\t\\t\\t<div>\\n\\t\\t\\t\\t\\t\\t<label class=\"screen-reader-text\" for=\"s\">Search for:</label>\\n\\t\\t\\t\\t\\t\\t<input type=\"text\" name=\"s\" placeholder=\"Example: &quot;Cloud Admin Program&quot;\" class=\"et_pb_s\" />\\n\\t\\t\\t\\t\\t\\t<input type=\"hidden\" name=\"et_pb_searchform_submit\" value=\"et_search_proccess\" />\\n\\t\\t\\t\\t\\t\\t<input type=\"hidden\" name=\"et_pb_search_cat\" value=\"1,27,11,69,91\" />\\n\\t\\t\\t\\t\\t\\t<input type=\"hidden\" name=\"et_pb_include_posts\" value=\"yes\" />\\n\\t\\t\\t\\t\\t\\t<input type=\"hidden\" name=\"et_pb_include_pages\" value=\"yes\" />\\n\\t\\t\\t\\t\\t\\t<input type=\"submit\" value=\"Search\" class=\"et_pb_searchsubmit\">\\n\\t\\t\\t\\t\\t</div>\\n\\t\\t\\t\\t</form>\\n\\t\\t\\t</div>\\n\\t\\t\\t</div>\\n\\t\\t\\t\\t\\n\\t\\t\\t\\t\\n\\t\\t\\t\\t\\n\\t\\t\\t\\t\\n\\t\\t\\t</div>\\n\\t\\t\\t\\t\\n\\t\\t\\t\\t\\n\\t\\t\\t</div><div class=\"et_pb_with_border et_pb_section et_pb_section_1_tb_header et_pb_sticky_module et_section_regular et_pb_section--with-menu\" >\\n\\t\\t\\t\\t\\n\\t\\t\\t\\t\\n\\t\\t\\t\\t\\n\\t\\t\\t\\t\\n\\t\\t\\t\\t\\n\\t\\t\\t\\t\\n\\t\\t\\t\\t<div class=\"et_pb_row et_pb_row_1_tb_header et_pb_row--with-menu\">\\n\\t\\t\\t\\t<div class=\"et_pb_column et_pb_column_3_4 et_pb_column_2_tb_header  et_pb_css_mix_blend_mode_passthrough et_pb_column--with-menu\">\\n\\t\\t\\t\\t\\n\\t\\t\\t\\t\\n\\t\\t\\t\\t\\n\\t\\t\\t\\t\\n\\t\\t\\t\\t<div class=\"et_pb_module et_pb_menu et_pb_menu_0_tb_header et_pb_bg_layout_light  et_pb_text_align_right et_dropdown_animation_fade et_pb_menu--with-logo et_pb_menu--style-left_aligned\">\\n\\t\\t\\t\\t\\t\\n\\t\\t\\t\\t\\t\\n\\t\\t\\t\\t\\t\\n\\t\\t\\t\\t\\t\\n\\t\\t\\t\\t\\t<div class=\"et_pb_menu_inner_container clearfix\">\\n\\t\\t\\t\\t\\t\\t<div class=\"et_pb_menu__logo-wrap\">\\n\\t\\t\\t  <div class=\"et_pb_menu__logo\">\\n\\t\\t\\t\\t<a href=\"/index.php/\" ><img decoding=\"async\" loading=\"lazy\" width=\"2140\" height=\"730\" src=\"https://tribucodeup.wpenginepowered.com/wp-content/uploads/2021/08/CodeupFullColorLogo.png\" alt=\"Codeup Best Coding Bootcamp\" srcset=\"https://tribucodeup.wpenginepowered.com/wp-content/uploads/2021/08/CodeupFullColorLogo.png 2140w, https://tribucodeup.wpenginepowered.com/wp-content/uploads/2021/08/CodeupFullColorLogo-1280x437.png 1280w, https://tribucodeup.wpenginepowered.com/wp-content/uploads/2021/08/CodeupFullColorLogo-980x334.png 980w, https://tribucodeup.wpenginepowered.com/wp-content/uploads/2021/08/CodeupFullColorLogo-480x164.png 480w\" sizes=\"(min-width: 0px) and (max-width: 480px) 480px, (min-width: 481px) and (max-width: 980px) 980px, (min-width: 981px) and (max-width: 1280px) 1280px, (min-width: 1281px) 2140px, 100vw\" class=\"wp-image-15393\" /></a>\\n\\t\\t\\t  </div>\\n\\t\\t\\t</div>\\n\\t\\t\\t\\t\\t\\t<div class=\"et_pb_menu__wrap\">\\n\\t\\t\\t\\t\\t\\t\\t<div class=\"et_pb_menu__menu\">\\n\\t\\t\\t\\t\\t\\t\\t\\t<nav class=\"et-menu-nav\"><ul id=\"menu-main\" class=\"et-menu nav\"><li class=\"et_pb_menu_page_id-16686 menu-item menu-item-type-post_type menu-item-object-page menu-item-has-children menu-item-16721\"><a title=\"Coding Programs\" href=\"https://codeup.com/programs/\">Programs</a>\\n<ul class=\"sub-menu\">\\n\\t<li class=\"et_pb_menu_page_id-186 menu-item menu-item-type-post_type menu-item-object-course menu-item-16296\"><a title=\"Data Science Bootcamp in Texas\" href=\"https://codeup.com/program/data-science/\">Data Science</a></li>\\n\\t<li class=\"et_pb_menu_page_id-941 menu-item menu-item-type-post_type menu-item-object-course menu-item-18130\"><a href=\"https://codeup.com/program/cloud-administration/\">Cloud Administration</a></li>\\n\\t<li class=\"et_pb_menu_page_id-161 menu-item menu-item-type-post_type menu-item-object-course menu-item-16294\"><a title=\"Full Stack Web Development Bootcamp\" href=\"https://codeup.com/program/full-stack-web-development/\">Web Development</a></li>\\n</ul>\\n</li>\\n<li class=\"et_pb_menu_page_id-19688 menu-item menu-item-type-custom menu-item-object-custom menu-item-19688\"><a href=\"https://codeup.com/events/\">Workshops</a></li>\\n<li class=\"et_pb_menu_page_id-16037 menu-item menu-item-type-post_type menu-item-object-page current-menu-item page_item page-item-16037 current_page_item current_page_parent menu-item-16301\"><a href=\"https://codeup.com/blog/\" aria-current=\"page\">Blog</a></li>\\n<li class=\"et_pb_menu_page_id-34 menu-item menu-item-type-custom menu-item-object-custom menu-item-has-children menu-item-34\"><a>Campuses</a>\\n<ul class=\"sub-menu\">\\n\\t<li class=\"et_pb_menu_page_id-16174 menu-item menu-item-type-post_type menu-item-object-page menu-item-16509\"><a href=\"https://codeup.com/san-antonio/\">San Antonio</a></li>\\n\\t<li class=\"et_pb_menu_page_id-1139 menu-item menu-item-type-post_type menu-item-object-page menu-item-16075\"><a href=\"https://codeup.com/dallas/\">Dallas</a></li>\\n</ul>\\n</li>\\n<li class=\"et_pb_menu_page_id-528 menu-item menu-item-type-post_type menu-item-object-page menu-item-has-children menu-item-16076\"><a title=\"Hire Diversified Tech Talent\" href=\"https://codeup.com/hire-tech-talent/\">Hire</a>\\n<ul class=\"sub-menu\">\\n\\t<li class=\"et_pb_menu_page_id-528 menu-item menu-item-type-post_type menu-item-object-page menu-item-17180\"><a href=\"https://codeup.com/hire-tech-talent/\">Hire Our Grads</a></li>\\n\\t<li class=\"et_pb_menu_page_id-17179 menu-item menu-item-type-custom menu-item-object-custom menu-item-17179\"><a href=\"https://alumni.codeup.com/\">Alumni Portal</a></li>\\n</ul>\\n</li>\\n<li class=\"et_pb_menu_page_id-736 menu-item menu-item-type-post_type menu-item-object-page menu-item-has-children menu-item-16163\"><a href=\"https://codeup.com/resources/\">Resources</a>\\n<ul class=\"sub-menu\">\\n\\t<li class=\"et_pb_menu_page_id-547 menu-item menu-item-type-custom menu-item-object-custom menu-item-547\"><a href=\"/financial-aid/\">Financing</a></li>\\n\\t<li class=\"et_pb_menu_page_id-16083 menu-item menu-item-type-post_type menu-item-object-page menu-item-16162\"><a href=\"https://codeup.com/veterans/\">Military</a></li>\\n\\t<li class=\"et_pb_menu_page_id-16896 menu-item menu-item-type-custom menu-item-object-custom menu-item-16896\"><a href=\"/my-story/\">Alumni Stories</a></li>\\n\\t<li class=\"et_pb_menu_page_id-449 menu-item menu-item-type-post_type menu-item-object-page menu-item-16302\"><a href=\"https://codeup.com/frequently-asked-questions/\">Common Questions</a></li>\\n</ul>\\n</li>\\n</ul></nav>\\n\\t\\t\\t\\t\\t\\t\\t</div>\\n\\t\\t\\t\\t\\t\\t\\t\\n\\t\\t\\t\\t\\t\\t\\t\\n\\t\\t\\t\\t\\t\\t\\t<div class=\"et_mobile_nav_menu\">\\n\\t\\t\\t\\t<div class=\"mobile_nav closed\">\\n\\t\\t\\t\\t\\t<span class=\"mobile_menu_bar\"></span>\\n\\t\\t\\t\\t</div>\\n\\t\\t\\t</div>\\n\\t\\t\\t\\t\\t\\t</div>\\n\\t\\t\\t\\t\\t\\t\\n\\t\\t\\t\\t\\t</div>\\n\\t\\t\\t\\t</div>\\n\\t\\t\\t</div><div class=\"et_pb_column et_pb_column_1_4 et_pb_column_3_tb_header  et_pb_css_mix_blend_mode_passthrough et-last-child\">\\n\\t\\t\\t\\t\\n\\t\\t\\t\\t\\n\\t\\t\\t\\t\\n\\t\\t\\t\\t\\n\\t\\t\\t\\t<div class=\"et_pb_button_module_wrapper et_pb_button_0_tb_header_wrapper et_pb_button_alignment_right et_pb_module \">\\n\\t\\t\\t\\t<a class=\"et_pb_button et_pb_button_0_tb_header et_pb_bg_layout_light\" href=\"/apply-now/\">Start Now</a>\\n\\t\\t\\t</div>\\n\\t\\t\\t</div>\\n\\t\\t\\t\\t\\n\\t\\t\\t\\t\\n\\t\\t\\t\\t\\n\\t\\t\\t\\t\\n\\t\\t\\t</div>\\n\\t\\t\\t\\t\\n\\t\\t\\t\\t\\n\\t\\t\\t</div>\\t\\t</div>\\n\\t</header>\\n\\t<div id=\"et-main-area\">\\n\\t\\n    <div id=\"main-content\">\\n    <div class=\"et-l et-l--body\">\\n\\t\\t\\t<div class=\"et_builder_inner_content et_pb_gutters3\">\\n\\t\\t<div class=\"et_pb_section et_pb_section_0_tb_body et_pb_with_background et_section_regular\" >\\n\\t\\t\\t\\t\\n\\t\\t\\t\\t\\n\\t\\t\\t\\t\\n\\t\\t\\t\\t\\n\\t\\t\\t\\t\\n\\t\\t\\t\\t\\n\\t\\t\\t\\t<div class=\"et_pb_row et_pb_row_0_tb_body\">\\n\\t\\t\\t\\t<div class=\"et_pb_column et_pb_column_4_4 et_pb_column_0_tb_body  et_pb_css_mix_blend_mode_passthrough et-last-child\">\\n\\t\\t\\t\\t\\n\\t\\t\\t\\t\\n\\t\\t\\t\\t\\n\\t\\t\\t\\t\\n\\t\\t\\t\\t<div class=\"et_pb_module et_pb_text et_pb_text_0_tb_body  et_pb_text_align_left et_pb_bg_layout_light\">\\n\\t\\t\\t\\t\\n\\t\\t\\t\\t\\n\\t\\t\\t\\t\\n\\t\\t\\t\\t\\n\\t\\t\\t\\t<div class=\"et_pb_text_inner\"><h1>Codeup Blog</h1></div>\\n\\t\\t\\t</div><div class=\"et_pb_with_border et_pb_module et_pb_search et_pb_search_0_tb_body  et_pb_text_align_left et_pb_bg_layout_light\">\\n\\t\\t\\t\\t\\n\\t\\t\\t\\t\\n\\t\\t\\t\\t\\n\\t\\t\\t\\t\\n\\t\\t\\t\\t<form role=\"search\" method=\"get\" class=\"et_pb_searchform\" action=\"https://codeup.com/\">\\n\\t\\t\\t\\t\\t<div>\\n\\t\\t\\t\\t\\t\\t<label class=\"screen-reader-text\" for=\"s\">Search for:</label>\\n\\t\\t\\t\\t\\t\\t<input type=\"text\" name=\"s\" placeholder=\"Search Library (ex: What is Cloud Administration?)\" class=\"et_pb_s\" />\\n\\t\\t\\t\\t\\t\\t<input type=\"hidden\" name=\"et_pb_searchform_submit\" value=\"et_search_proccess\" />\\n\\t\\t\\t\\t\\t\\t\\n\\t\\t\\t\\t\\t\\t<input type=\"hidden\" name=\"et_pb_include_posts\" value=\"yes\" />\\n\\t\\t\\t\\t\\t\\t\\n\\t\\t\\t\\t\\t\\t<input type=\"submit\" value=\"Search\" class=\"et_pb_searchsubmit\">\\n\\t\\t\\t\\t\\t</div>\\n\\t\\t\\t\\t</form>\\n\\t\\t\\t</div>\\n\\t\\t\\t</div>\\n\\t\\t\\t\\t\\n\\t\\t\\t\\t\\n\\t\\t\\t\\t\\n\\t\\t\\t\\t\\n\\t\\t\\t</div>\\n\\t\\t\\t\\t\\n\\t\\t\\t\\t\\n\\t\\t\\t</div><div class=\"et_pb_section et_pb_section_1_tb_body et_pb_with_background et_section_regular section_has_divider et_pb_top_divider\" >\\n\\t\\t\\t\\t<div class=\"et_pb_top_inside_divider et-no-transition\"></div>\\n\\t\\t\\t\\t\\n\\t\\t\\t\\t\\n\\t\\t\\t\\t\\n\\t\\t\\t\\t\\n\\t\\t\\t\\t\\n\\t\\t\\t\\t<div class=\"et_pb_row et_pb_row_1_tb_body\">\\n\\t\\t\\t\\t<div class=\"et_pb_column et_pb_column_4_4 et_pb_column_1_tb_body  et_pb_css_mix_blend_mode_passthrough et-last-child\">\\n\\t\\t\\t\\t\\n\\t\\t\\t\\t\\n\\t\\t\\t\\t\\n\\t\\t\\t\\t\\n\\t\\t\\t\\t<div class=\"et_pb_with_border et_pb_module et_pb_blog_0_tb_body et_pb_blog_grid_wrapper et_pb_bg_layout_light\">\\n\\t\\t\\t\\t\\t<div class=\"et_pb_blog_grid clearfix \">\\n\\t\\t\\t\\t\\t\\n\\t\\t\\t\\t\\t\\n\\t\\t\\t\\t\\t\\n\\t\\t\\t\\t\\t\\n\\t\\t\\t\\t\\t<div class=\"et_pb_ajax_pagination_container\">\\n\\t\\t\\t\\t\\t\\t<div class=\"et_pb_salvattore_content\" data-columns>\\n\\t\\t\\t<article id=\"post-19782\" class=\"et_pb_post clearfix et_pb_blog_item_0_0 post-19782 post type-post status-publish format-standard has-post-thumbnail hentry category-events category-featured\">\\n\\n\\t\\t\\t\\t<div class=\"et_pb_image_container\"><a href=\"https://codeup.com/featured/women-in-tech-panelist-spotlight/\" class=\"entry-featured-image-url\"><img decoding=\"async\" loading=\"lazy\" src=\"https://tribucodeup.wpenginepowered.com/wp-content/uploads/2023/03/WOMEN-IN-TECH-1920-\\xc3\\x97-1080-px-3-1-400x250.png\" alt=\"Women in tech: Panelist Spotlight \\xe2\\x80\\x93 Magdalena Rahn\" class=\"\" srcset=\"https://tribucodeup.wpenginepowered.com/wp-content/uploads/2023/03/WOMEN-IN-TECH-1920-\\xc3\\x97-1080-px-3-1.png 479w, https://tribucodeup.wpenginepowered.com/wp-content/uploads/2023/03/WOMEN-IN-TECH-1920-\\xc3\\x97-1080-px-3-1-400x250.png 480w \" sizes=\"(max-width:479px) 479px, 100vw \"  width=\"400\" height=\"250\" /></a></div>\\n\\t\\t\\t\\t\\t\\t\\t\\t\\t\\t\\t\\t\\t\\t<h2 class=\"entry-title\"><a href=\"https://codeup.com/featured/women-in-tech-panelist-spotlight/\">Women in tech: Panelist Spotlight \\xe2\\x80\\x93 Magdalena Rahn</a></h2>\\n\\t\\t\\t\\t\\n\\t\\t\\t\\t\\t<p class=\"post-meta\"><span class=\"published\">Mar 28, 2023</span></p><div class=\"post-content\"><div class=\"post-content-inner\"><p>Women in tech: Panelist Spotlight \\xe2\\x80\\x93 Magdalena Rahn Codeup is hosting a Women in Tech Panel in honor of Women\\xe2\\x80\\x99s History...</p>\\n</div><a href=\"https://codeup.com/featured/women-in-tech-panelist-spotlight/\" class=\"more-link\">read more</a></div>\\t\\t\\t\\n\\t\\t\\t</article>\\n\\t\\t\\t\\t\\n\\t\\t\\t<article id=\"post-19756\" class=\"et_pb_post clearfix et_pb_blog_item_0_1 post-19756 post type-post status-publish format-standard has-post-thumbnail hentry category-events category-featured\">\\n\\n\\t\\t\\t\\t<div class=\"et_pb_image_container\"><a href=\"https://codeup.com/featured/women-in-tech-rachel-robbins-mayhill/\" class=\"entry-featured-image-url\"><img decoding=\"async\" loading=\"lazy\" src=\"https://tribucodeup.wpenginepowered.com/wp-content/uploads/2023/03/WOMEN-IN-TECH-1920-\\xc3\\x97-1080-px-2-400x250.png\" alt=\"Women in tech: Panelist Spotlight &#8211; Rachel Robbins-Mayhill\" class=\"\" srcset=\"https://tribucodeup.wpenginepowered.com/wp-content/uploads/2023/03/WOMEN-IN-TECH-1920-\\xc3\\x97-1080-px-2.png 479w, https://tribucodeup.wpenginepowered.com/wp-content/uploads/2023/03/WOMEN-IN-TECH-1920-\\xc3\\x97-1080-px-2-400x250.png 480w \" sizes=\"(max-width:479px) 479px, 100vw \"  width=\"400\" height=\"250\" /></a></div>\\n\\t\\t\\t\\t\\t\\t\\t\\t\\t\\t\\t\\t\\t\\t<h2 class=\"entry-title\"><a href=\"https://codeup.com/featured/women-in-tech-rachel-robbins-mayhill/\">Women in tech: Panelist Spotlight &#8211; Rachel Robbins-Mayhill</a></h2>\\n\\t\\t\\t\\t\\n\\t\\t\\t\\t\\t<p class=\"post-meta\"><span class=\"published\">Mar 20, 2023</span></p><div class=\"post-content\"><div class=\"post-content-inner\"><p>Women in tech: Panelist Spotlight - Rachel Robbins-Mayhill Codeup is hosting a Women in Tech Panel in honor of Women\\xe2\\x80\\x99s...</p>\\n</div><a href=\"https://codeup.com/featured/women-in-tech-rachel-robbins-mayhill/\" class=\"more-link\">read more</a></div>\\t\\t\\t\\n\\t\\t\\t</article>\\n\\t\\t\\t\\t\\n\\t\\t\\t<article id=\"post-19738\" class=\"et_pb_post clearfix et_pb_blog_item_0_2 post-19738 post type-post status-publish format-standard has-post-thumbnail hentry category-codeup-news category-featured\">\\n\\n\\t\\t\\t\\t<div class=\"et_pb_image_container\"><a href=\"https://codeup.com/codeup-news/women-in-tech-panelist-spotlight-sarah-mellor/\" class=\"entry-featured-image-url\"><img decoding=\"async\" loading=\"lazy\" src=\"https://tribucodeup.wpenginepowered.com/wp-content/uploads/2023/03/WOMEN-IN-TECH-1920-\\xc3\\x97-1080-px-1-400x250.png\" alt=\"Women in Tech: Panelist Spotlight &#8211; Sarah Mellor\" class=\"\" srcset=\"https://tribucodeup.wpenginepowered.com/wp-content/uploads/2023/03/WOMEN-IN-TECH-1920-\\xc3\\x97-1080-px-1.png 479w, https://tribucodeup.wpenginepowered.com/wp-content/uploads/2023/03/WOMEN-IN-TECH-1920-\\xc3\\x97-1080-px-1-400x250.png 480w \" sizes=\"(max-width:479px) 479px, 100vw \"  width=\"400\" height=\"250\" /></a></div>\\n\\t\\t\\t\\t\\t\\t\\t\\t\\t\\t\\t\\t\\t\\t<h2 class=\"entry-title\"><a href=\"https://codeup.com/codeup-news/women-in-tech-panelist-spotlight-sarah-mellor/\">Women in Tech: Panelist Spotlight &#8211; Sarah Mellor</a></h2>\\n\\t\\t\\t\\t\\n\\t\\t\\t\\t\\t<p class=\"post-meta\"><span class=\"published\">Mar 13, 2023</span></p><div class=\"post-content\"><div class=\"post-content-inner\"><p>Women in tech: Panelist Spotlight - Sarah Mellor\\xc2\\xa0 Codeup is hosting a Women in Tech Panel in honor of Women\\xe2\\x80\\x99s History...</p>\\n</div><a href=\"https://codeup.com/codeup-news/women-in-tech-panelist-spotlight-sarah-mellor/\" class=\"more-link\">read more</a></div>\\t\\t\\t\\n\\t\\t\\t</article>\\n\\t\\t\\t\\t\\n\\t\\t\\t<article id=\"post-19689\" class=\"et_pb_post clearfix et_pb_blog_item_0_3 post-19689 post type-post status-publish format-standard has-post-thumbnail hentry category-events category-featured\">\\n\\n\\t\\t\\t\\t<div class=\"et_pb_image_container\"><a href=\"https://codeup.com/events/women-in-tech-madeleine/\" class=\"entry-featured-image-url\"><img decoding=\"async\" loading=\"lazy\" src=\"https://tribucodeup.wpenginepowered.com/wp-content/uploads/2023/03/Madeleine-C.-400x250.png\" alt=\"Women in Tech: Panelist Spotlight &#8211; Madeleine Capper\" class=\"\" srcset=\"https://tribucodeup.wpenginepowered.com/wp-content/uploads/2023/03/Madeleine-C..png 479w, https://tribucodeup.wpenginepowered.com/wp-content/uploads/2023/03/Madeleine-C.-400x250.png 480w \" sizes=\"(max-width:479px) 479px, 100vw \"  width=\"400\" height=\"250\" /></a></div>\\n\\t\\t\\t\\t\\t\\t\\t\\t\\t\\t\\t\\t\\t\\t<h2 class=\"entry-title\"><a href=\"https://codeup.com/events/women-in-tech-madeleine/\">Women in Tech: Panelist Spotlight &#8211; Madeleine Capper</a></h2>\\n\\t\\t\\t\\t\\n\\t\\t\\t\\t\\t<p class=\"post-meta\"><span class=\"published\">Mar 6, 2023</span></p><div class=\"post-content\"><div class=\"post-content-inner\"><p>Women in tech: Panelist Spotlight - Madeleine Capper Codeup is hosting a Women in Tech Panel in honor of Women\\xe2\\x80\\x99s...</p>\\n</div><a href=\"https://codeup.com/events/women-in-tech-madeleine/\" class=\"more-link\">read more</a></div>\\t\\t\\t\\n\\t\\t\\t</article>\\n\\t\\t\\t\\t\\n\\t\\t\\t<article id=\"post-19632\" class=\"et_pb_post clearfix et_pb_blog_item_0_4 post-19632 post type-post status-publish format-standard has-post-thumbnail hentry category-codeup-news category-events category-featured\">\\n\\n\\t\\t\\t\\t<div class=\"et_pb_image_container\"><a href=\"https://codeup.com/codeup-news/panelist-spotlight-4/\" class=\"entry-featured-image-url\"><img decoding=\"async\" loading=\"lazy\" src=\"https://tribucodeup.wpenginepowered.com/wp-content/uploads/2023/02/Black-Excellence-in-Tech-1920-\\xc3\\x97-1080-px-400x250.png\" alt=\"Black Excellence in Tech: Panelist Spotlight &#8211; Wilmarie De La Cruz Mejia\" class=\"\" srcset=\"https://tribucodeup.wpenginepowered.com/wp-content/uploads/2023/02/Black-Excellence-in-Tech-1920-\\xc3\\x97-1080-px.png 479w, https://tribucodeup.wpenginepowered.com/wp-content/uploads/2023/02/Black-Excellence-in-Tech-1920-\\xc3\\x97-1080-px-400x250.png 480w \" sizes=\"(max-width:479px) 479px, 100vw \"  width=\"400\" height=\"250\" /></a></div>\\n\\t\\t\\t\\t\\t\\t\\t\\t\\t\\t\\t\\t\\t\\t<h2 class=\"entry-title\"><a href=\"https://codeup.com/codeup-news/panelist-spotlight-4/\">Black Excellence in Tech: Panelist Spotlight &#8211; Wilmarie De La Cruz Mejia</a></h2>\\n\\t\\t\\t\\t\\n\\t\\t\\t\\t\\t<p class=\"post-meta\"><span class=\"published\">Feb 16, 2023</span></p><div class=\"post-content\"><div class=\"post-content-inner\"><p>Black excellence in tech: Panelist Spotlight - Wilmarie De La Cruz Mejia Codeup is hosting a Black Excellence in Tech...</p>\\n</div><a href=\"https://codeup.com/codeup-news/panelist-spotlight-4/\" class=\"more-link\">read more</a></div>\\t\\t\\t\\n\\t\\t\\t</article>\\n\\t\\t\\t\\t\\n\\t\\t\\t<article id=\"post-19623\" class=\"et_pb_post clearfix et_pb_blog_item_0_5 post-19623 post type-post status-publish format-standard has-post-thumbnail hentry category-codeup-news category-events category-featured\">\\n\\n\\t\\t\\t\\t<div class=\"et_pb_image_container\"><a href=\"https://codeup.com/events/black-excellence-in-tech-panelist-spotlight-stephanie-jones/\" class=\"entry-featured-image-url\"><img decoding=\"async\" loading=\"lazy\" src=\"https://tribucodeup.wpenginepowered.com/wp-content/uploads/2023/02/2.13.23-Black-Excellence-in-Tech-1920-\\xc3\\x97-1080-px-Stephanie-400x250.png\" alt=\"Black excellence in tech: Panelist Spotlight &#8211; Stephanie Jones\" class=\"\" srcset=\"https://tribucodeup.wpenginepowered.com/wp-content/uploads/2023/02/2.13.23-Black-Excellence-in-Tech-1920-\\xc3\\x97-1080-px-Stephanie.png 479w, https://tribucodeup.wpenginepowered.com/wp-content/uploads/2023/02/2.13.23-Black-Excellence-in-Tech-1920-\\xc3\\x97-1080-px-Stephanie-400x250.png 480w \" sizes=\"(max-width:479px) 479px, 100vw \"  width=\"400\" height=\"250\" /></a></div>\\n\\t\\t\\t\\t\\t\\t\\t\\t\\t\\t\\t\\t\\t\\t<h2 class=\"entry-title\"><a href=\"https://codeup.com/events/black-excellence-in-tech-panelist-spotlight-stephanie-jones/\">Black excellence in tech: Panelist Spotlight &#8211; Stephanie Jones</a></h2>\\n\\t\\t\\t\\t\\n\\t\\t\\t\\t\\t<p class=\"post-meta\"><span class=\"published\">Feb 13, 2023</span></p><div class=\"post-content\"><div class=\"post-content-inner\"><p>Black excellence in tech: Panelist Spotlight - Stephanie Jones Codeup is hosting our second Black Excellence in Tech...</p>\\n</div><a href=\"https://codeup.com/events/black-excellence-in-tech-panelist-spotlight-stephanie-jones/\" class=\"more-link\">read more</a></div>\\t\\t\\t\\n\\t\\t\\t</article>\\n\\t\\t\\t\\t</div><div><div class=\"pagination clearfix\">\\n\\t<div class=\"alignleft\"><a href=\"https://codeup.com/blog/page/2/?et_blog\" >&laquo; Older Entries</a></div>\\n\\t<div class=\"alignright\"></div>\\n</div></div></div>\\n\\t\\t\\t\\t\\t</div>\\n\\t\\t\\t\\t\\t \\n\\t\\t\\t\\t</div>\\n\\t\\t\\t</div>\\n\\t\\t\\t\\t\\n\\t\\t\\t\\t\\n\\t\\t\\t\\t\\n\\t\\t\\t\\t\\n\\t\\t\\t</div><div class=\"et_pb_row et_pb_row_2_tb_body\">\\n\\t\\t\\t\\t<div class=\"et_pb_column et_pb_column_4_4 et_pb_column_2_tb_body  et_pb_css_mix_blend_mode_passthrough et-last-child\">\\n\\t\\t\\t\\t\\n\\t\\t\\t\\t\\n\\t\\t\\t\\t\\n\\t\\t\\t\\t\\n\\t\\t\\t\\t<div class=\"et_pb_module et_pb_text et_pb_text_1_tb_body  et_pb_text_align_left et_pb_bg_layout_light\">\\n\\t\\t\\t\\t\\n\\t\\t\\t\\t\\n\\t\\t\\t\\t\\n\\t\\t\\t\\t\\n\\t\\t\\t\\t<div class=\"et_pb_text_inner\"><h2 style=\"text-align: center;\">Git <strong>Codeup</strong>dates</h2>\\n<p style=\"text-align: center;\">Sign up for the Codeup Newsletter below and get notified on upcoming events, workshops and <em>Codeup</em>dates.</p></div>\\n\\t\\t\\t</div><div class=\"et_pb_module et_pb_code et_pb_code_0_tb_body\">\\n\\t\\t\\t\\t\\n\\t\\t\\t\\t\\n\\t\\t\\t\\t\\n\\t\\t\\t\\t\\n\\t\\t\\t\\t<div class=\"et_pb_code_inner\">\\n\\t\\t\\t\\t\\t<script>\\n\\t\\t\\t\\t\\t\\twindow.hsFormsOnReady = window.hsFormsOnReady || [];\\n\\t\\t\\t\\t\\t\\twindow.hsFormsOnReady.push(()=>{\\n\\t\\t\\t\\t\\t\\t\\thbspt.forms.create({\\n\\t\\t\\t\\t\\t\\t\\t\\tportalId: 2817329,\\n\\t\\t\\t\\t\\t\\t\\t\\tformId: \"914dd8d5-4f03-4a05-9b04-f17e9db7f2f9\",\\n\\t\\t\\t\\t\\t\\t\\t\\ttarget: \"#hbspt-form-1683736499000-1300941204\",\\n\\t\\t\\t\\t\\t\\t\\t\\tregion: \"\",\\n\\t\\t\\t\\t\\t\\t\\t\\t\\n\\t\\t\\t\\t\\t\\t})});\\n\\t\\t\\t\\t\\t</script>\\n\\t\\t\\t\\t\\t<div class=\"hbspt-form\" id=\"hbspt-form-1683736499000-1300941204\"></div></div>\\n\\t\\t\\t</div>\\n\\t\\t\\t</div>\\n\\t\\t\\t\\t\\n\\t\\t\\t\\t\\n\\t\\t\\t\\t\\n\\t\\t\\t\\t\\n\\t\\t\\t</div>\\n\\t\\t\\t\\t\\n\\t\\t\\t\\t\\n\\t\\t\\t</div>\\t\\t</div>\\n\\t</div>\\n\\t    </div>\\n    \\n\\t<footer class=\"et-l et-l--footer\">\\n\\t\\t\\t<div class=\"et_builder_inner_content et_pb_gutters3\">\\n\\t\\t<div class=\"et_pb_section et_pb_section_0_tb_footer et_pb_with_background et_section_regular\" >\\n\\t\\t\\t\\t\\n\\t\\t\\t\\t\\n\\t\\t\\t\\t\\n\\t\\t\\t\\t\\n\\t\\t\\t\\t\\n\\t\\t\\t\\t\\n\\t\\t\\t\\t<div class=\"et_pb_row et_pb_row_0_tb_footer\">\\n\\t\\t\\t\\t<div class=\"et_pb_column et_pb_column_4_4 et_pb_column_0_tb_footer  et_pb_css_mix_blend_mode_passthrough et-last-child\">\\n\\t\\t\\t\\t\\n\\t\\t\\t\\t\\n\\t\\t\\t\\t\\n\\t\\t\\t\\t\\n\\t\\t\\t\\t<div class=\"et_pb_module et_pb_text et_pb_text_0_tb_footer  et_pb_text_align_left et_pb_bg_layout_light\">\\n\\t\\t\\t\\t\\n\\t\\t\\t\\t\\n\\t\\t\\t\\t\\n\\t\\t\\t\\t\\n\\t\\t\\t\\t<div class=\"et_pb_text_inner\"><h3 style=\"text-align: center;\">Get Program Details &amp; Pricing</h3>\\n<p style=\"text-align: center;\">Submit your email address to gain access to more information about our programs, financial aid, and benefits.</p></div>\\n\\t\\t\\t</div><div class=\"et_pb_module et_pb_code et_pb_code_0_tb_footer\">\\n\\t\\t\\t\\t\\n\\t\\t\\t\\t\\n\\t\\t\\t\\t\\n\\t\\t\\t\\t\\n\\t\\t\\t\\t<div class=\"et_pb_code_inner\"><script charset=\"utf-8\" type=\"text/javascript\" src=\"//js.hsforms.net/forms/embed/v2.js\"></script>\\n<script>\\n  hbspt.forms.create({\\n    region: \"na1\",\\n    portalId: \"2817329\",\\n    formId: \"b4e26b07-f878-4405-9525-9fb4a1db34b1\"\\n  });\\n</script></div>\\n\\t\\t\\t</div>\\n\\t\\t\\t</div>\\n\\t\\t\\t\\t\\n\\t\\t\\t\\t\\n\\t\\t\\t\\t\\n\\t\\t\\t\\t\\n\\t\\t\\t</div>\\n\\t\\t\\t\\t\\n\\t\\t\\t\\t\\n\\t\\t\\t</div><div class=\"et_pb_section et_pb_section_1_tb_footer et_pb_with_background et_pb_section_parallax et_section_regular\" >\\n\\t\\t\\t\\t\\n\\t\\t\\t\\t\\n\\t\\t\\t\\t\\n\\t\\t\\t\\t\\n\\t\\t\\t\\t\\n\\t\\t\\t\\t\\n\\t\\t\\t\\t<div class=\"et_pb_row et_pb_row_1_tb_footer et_pb_gutters2\">\\n\\t\\t\\t\\t<div class=\"et_pb_column et_pb_column_1_2 et_pb_column_1_tb_footer  et_pb_css_mix_blend_mode_passthrough\">\\n\\t\\t\\t\\t\\n\\t\\t\\t\\t\\n\\t\\t\\t\\t\\n\\t\\t\\t\\t\\n\\t\\t\\t\\t<div class=\"et_pb_module et_pb_text et_pb_text_1_tb_footer  et_pb_text_align_center et_pb_bg_layout_light\">\\n\\t\\t\\t\\t\\n\\t\\t\\t\\t\\n\\t\\t\\t\\t\\n\\t\\t\\t\\t\\n\\t\\t\\t\\t<div class=\"et_pb_text_inner\"><h3>Phone</h3>\\n<p><a href=\"tel:12108027289\" title=\"call Codeup\">(210) 802\\xe2\\x80\\x937289</a></p></div>\\n\\t\\t\\t</div><ul class=\"et_pb_module et_pb_social_media_follow et_pb_social_media_follow_0_tb_footer clearfix  et_pb_text_align_center et_pb_bg_layout_light\">\\n\\t\\t\\t\\t\\n\\t\\t\\t\\t\\n\\t\\t\\t\\t\\n\\t\\t\\t\\t\\n\\t\\t\\t\\t<li\\n            class=\\'et_pb_social_media_follow_network_0_tb_footer et_pb_social_icon et_pb_social_network_link  et-social-facebook\\'><a\\n              href=\\'https://www.facebook.com/GoCodeup/\\'\\n              class=\\'icon et_pb_with_border\\'\\n              title=\\'Follow on Facebook\\'\\n               target=\"_blank\"><span\\n                class=\\'et_pb_social_media_follow_network_name\\'\\n                aria-hidden=\\'true\\'\\n                >Follow</span></a></li><li\\n            class=\\'et_pb_social_media_follow_network_1_tb_footer et_pb_social_icon et_pb_social_network_link  et-social-twitter\\'><a\\n              href=\\'https://twitter.com/gocodeup\\'\\n              class=\\'icon et_pb_with_border\\'\\n              title=\\'Follow on Twitter\\'\\n               target=\"_blank\"><span\\n                class=\\'et_pb_social_media_follow_network_name\\'\\n                aria-hidden=\\'true\\'\\n                >Follow</span></a></li><li\\n            class=\\'et_pb_social_media_follow_network_2_tb_footer et_pb_social_icon et_pb_social_network_link  et-social-instagram\\'><a\\n              href=\\'https://www.instagram.com/gocodeup/?hl=en\\'\\n              class=\\'icon et_pb_with_border\\'\\n              title=\\'Follow on Instagram\\'\\n               target=\"_blank\"><span\\n                class=\\'et_pb_social_media_follow_network_name\\'\\n                aria-hidden=\\'true\\'\\n                >Follow</span></a></li><li\\n            class=\\'et_pb_social_media_follow_network_3_tb_footer et_pb_social_icon et_pb_social_network_link  et-social-linkedin\\'><a\\n              href=\\'https://www.linkedin.com/school/3799914\\'\\n              class=\\'icon et_pb_with_border\\'\\n              title=\\'Follow on LinkedIn\\'\\n               target=\"_blank\"><span\\n                class=\\'et_pb_social_media_follow_network_name\\'\\n                aria-hidden=\\'true\\'\\n                >Follow</span></a></li><li\\n            class=\\'et_pb_social_media_follow_network_4_tb_footer et_pb_social_icon et_pb_social_network_link  et-social-rss\\'><a\\n              href=\\'/podcast/\\'\\n              class=\\'icon et_pb_with_border\\'\\n              title=\\'Follow on RSS\\'\\n               target=\"_blank\"><span\\n                class=\\'et_pb_social_media_follow_network_name\\'\\n                aria-hidden=\\'true\\'\\n                >Follow</span></a></li>\\n\\t\\t\\t</ul><div class=\"et_pb_module et_pb_text et_pb_text_2_tb_footer  et_pb_text_align_center et_pb_bg_layout_light\">\\n\\t\\t\\t\\t\\n\\t\\t\\t\\t\\n\\t\\t\\t\\t\\n\\t\\t\\t\\t\\n\\t\\t\\t\\t<div class=\"et_pb_text_inner\"><p><a href=\"/dallas\">Dallas</a> | <a href=\"/san-antonio\">San Antonio</a></p></div>\\n\\t\\t\\t</div><div class=\"et_pb_module et_pb_image et_pb_image_0_tb_footer\">\\n\\t\\t\\t\\t\\n\\t\\t\\t\\t\\n\\t\\t\\t\\t\\n\\t\\t\\t\\t\\n\\t\\t\\t\\t<a href=\"/index.php/\"><span class=\"et_pb_image_wrap \"><img decoding=\"async\" loading=\"lazy\" width=\"336\" height=\"256\" src=\"https://tribucodeup.wpenginepowered.com/wp-content/uploads/2018/08/codey-1.png\" alt=\"quack quack\" title=\"Codey\" srcset=\"https://tribucodeup.wpenginepowered.com/wp-content/uploads/2018/08/codey-1.png 336w, https://tribucodeup.wpenginepowered.com/wp-content/uploads/2018/08/codey-1-300x229.png 300w\" sizes=\"(max-width: 336px) 100vw, 336px\" class=\"wp-image-15815\" /></span></a>\\n\\t\\t\\t</div>\\n\\t\\t\\t</div><div class=\"et_pb_column et_pb_column_1_4 et_pb_column_2_tb_footer  et_pb_css_mix_blend_mode_passthrough\">\\n\\t\\t\\t\\t\\n\\t\\t\\t\\t\\n\\t\\t\\t\\t\\n\\t\\t\\t\\t\\n\\t\\t\\t\\t<div class=\"et_pb_with_border et_pb_module et_pb_text et_pb_text_3_tb_footer  et_pb_text_align_left et_pb_bg_layout_dark\">\\n\\t\\t\\t\\t\\n\\t\\t\\t\\t\\n\\t\\t\\t\\t\\n\\t\\t\\t\\t\\n\\t\\t\\t\\t<div class=\"et_pb_text_inner\"><h4>Quick Links</h4></div>\\n\\t\\t\\t</div><div class=\"et_pb_module et_pb_text et_pb_text_4_tb_footer  et_pb_text_align_left et_pb_bg_layout_dark\">\\n\\t\\t\\t\\t\\n\\t\\t\\t\\t\\n\\t\\t\\t\\t\\n\\t\\t\\t\\t\\n\\t\\t\\t\\t<div class=\"et_pb_text_inner\"><a href=\"/why-codeup/\" title=\"About Codeup\">Why Codeup?</a><br />\\n<a href=\"/financial-aid/\" title=\"how to pay for bootcamp\">Financial Aid Options</a><br />\\n<a href=\"/my-story/\" title=\"Codeup Reviews\">Student Reviews</a><br />\\n<a href=\"https://alumni.codeup.com/\" target=\"_blank\" rel=\"noopener\" title=\"Hire Our Grads\">Hire Our Grads</a><br />\\n<a href=\"/refund/\" title=\"Codeup Refund Policy\"></a><a href=\"/refund/\" title=\"Codeup Refund Policy\">Refund Policy</a><br />\\n<a href=\"/frequently-asked-questions/\" title=\"frequently asked questions\">FAQs</a><br />\\n<a href=\"/careers/\" title=\"Jobs at Codeup\">Careers</a><br />\\n<a href=\"/pr/\" title=\"press assets for Codeup\">Media Kit</a></div>\\n\\t\\t\\t</div>\\n\\t\\t\\t</div><div class=\"et_pb_column et_pb_column_1_4 et_pb_column_3_tb_footer  et_pb_css_mix_blend_mode_passthrough et-last-child\">\\n\\t\\t\\t\\t\\n\\t\\t\\t\\t\\n\\t\\t\\t\\t\\n\\t\\t\\t\\t\\n\\t\\t\\t\\t<div class=\"et_pb_with_border et_pb_module et_pb_text et_pb_text_5_tb_footer  et_pb_text_align_left et_pb_bg_layout_dark\">\\n\\t\\t\\t\\t\\n\\t\\t\\t\\t\\n\\t\\t\\t\\t\\n\\t\\t\\t\\t\\n\\t\\t\\t\\t<div class=\"et_pb_text_inner\"><h4>Choose a Program</h4></div>\\n\\t\\t\\t</div><div class=\"et_pb_module et_pb_text et_pb_text_6_tb_footer  et_pb_text_align_left et_pb_bg_layout_dark\">\\n\\t\\t\\t\\t\\n\\t\\t\\t\\t\\n\\t\\t\\t\\t\\n\\t\\t\\t\\t\\n\\t\\t\\t\\t<div class=\"et_pb_text_inner\"><a href=\"/program/full-stack-web-development/\" title=\"coding bootcamp in Texas\">Full Stack Web Development</a><br />\\n<a href=\"/program/data-science/\" title=\"data science bootcamp in Texas\">Data Science</a><br />\\n<a href=\"/cloud-administration/\" title=\"learn Cloud Administration in Texas\">Cloud Administration</a><br />\\n<a href=\"/free/\" title=\"learn to code for free\">Free Networking Course</a></div>\\n\\t\\t\\t</div><div class=\"et_pb_button_module_wrapper et_pb_button_0_tb_footer_wrapper et_pb_button_alignment_phone_center et_pb_module \">\\n\\t\\t\\t\\t<a class=\"et_pb_button et_pb_button_0_tb_footer et_pb_bg_layout_light\" href=\"/apply-now/\">Apply Now</a>\\n\\t\\t\\t</div>\\n\\t\\t\\t</div>\\n\\t\\t\\t\\t\\n\\t\\t\\t\\t\\n\\t\\t\\t\\t\\n\\t\\t\\t\\t\\n\\t\\t\\t</div><div class=\"et_pb_row et_pb_row_2_tb_footer\">\\n\\t\\t\\t\\t<div class=\"et_pb_column et_pb_column_4_4 et_pb_column_4_tb_footer  et_pb_css_mix_blend_mode_passthrough et-last-child\">\\n\\t\\t\\t\\t\\n\\t\\t\\t\\t\\n\\t\\t\\t\\t\\n\\t\\t\\t\\t\\n\\t\\t\\t\\t<div class=\"et_pb_module et_pb_text et_pb_text_7_tb_footer  et_pb_text_align_center et_pb_bg_layout_light\">\\n\\t\\t\\t\\t\\n\\t\\t\\t\\t\\n\\t\\t\\t\\t\\n\\t\\t\\t\\t\\n\\t\\t\\t\\t<div class=\"et_pb_text_inner\" data-et-multi-view=\"{&quot;schema&quot;:{&quot;content&quot;:{&quot;desktop&quot;:&quot;&lt;p&gt;\\\\u00a9 2013-2022 Copyright. &lt;a href=\\\\&quot;\\\\/privacy\\\\/\\\\&quot;&gt;Privacy Policy&lt;\\\\/a&gt; | &lt;a href=\\\\&quot;\\\\/student-complaint-policy\\\\/\\\\&quot; title=\\\\&quot;complaint policy\\\\&quot;&gt;Complaint Policy&lt;\\\\/a&gt; | &lt;a href=\\\\&quot;\\\\/codeup-news\\\\/inclusion-at-codeup-during-pride-month-and-always\\\\/\\\\&quot; title=\\\\&quot;DEI at Codeup\\\\&quot;&gt;Inclusion&lt;\\\\/a&gt; | &lt;a href=\\\\&quot;\\\\/accessibility\\\\/\\\\&quot;&gt;Accessibility&lt;\\\\/a&gt; | &lt;a href=\\\\&quot;\\\\/sitemap_index.xml\\\\&quot;&gt;Sitemap&lt;\\\\/a&gt;&lt;\\\\/p&gt;\\\\n&lt;p&gt;&lt;span style=\\\\&quot;font-size: x-small;\\\\&quot;&gt;If you love researching data and reading the fine print, you&#8217;ll do well in our programs.&lt;\\\\/span&gt;&lt;\\\\/p&gt;&quot;,&quot;tablet&quot;:&quot;&quot;,&quot;phone&quot;:&quot;&lt;p&gt;\\\\u00a9 2013-2021 Copyright.&lt;br \\\\/&gt;&lt;a href=\\\\&quot;#\\\\&quot; privacy=\\\\&quot;\\\\&quot; policy=\\\\&quot;\\\\&quot; a=\\\\&quot;\\\\&quot;&gt;Terms of Use&lt;\\\\/a&gt; | &lt;a href=\\\\&quot;\\\\/accessibility\\\\/\\\\&quot;&gt;Accessibility&lt;\\\\/a&gt; | &lt;a href=\\\\&quot;\\\\/sitemap.xml\\\\/\\\\&quot;&gt;Sitemap&lt;\\\\/a&gt;&lt;\\\\/p&gt;\\\\n&lt;p&gt;&lt;span style=\\\\&quot;font-size: x-small;\\\\&quot;&gt;If you love researching the fine print, consider our &lt;\\\\/span&gt;&lt;br \\\\/&gt;&lt;span style=\\\\&quot;font-size: x-small;\\\\&quot;&gt;Cybersecurity or Data Science Programs&lt;\\\\/span&gt;&lt;\\\\/p&gt;&quot;}},&quot;slug&quot;:&quot;et_pb_text&quot;}\" data-et-multi-view-load-tablet-hidden=\"true\" data-et-multi-view-load-phone-hidden=\"true\"><p>\\xc2\\xa9 2013-2022 Copyright. <a href=\"/privacy/\">Privacy Policy</a> | <a href=\"/student-complaint-policy/\" title=\"complaint policy\">Complaint Policy</a> | <a href=\"/codeup-news/inclusion-at-codeup-during-pride-month-and-always/\" title=\"DEI at Codeup\">Inclusion</a> | <a href=\"/accessibility/\">Accessibility</a> | <a href=\"/sitemap_index.xml\">Sitemap</a></p>\\n<p><span style=\"font-size: x-small;\">If you love researching data and reading the fine print, you&#8217;ll do well in our programs.</span></p></div>\\n\\t\\t\\t</div>\\n\\t\\t\\t</div>\\n\\t\\t\\t\\t\\n\\t\\t\\t\\t\\n\\t\\t\\t\\t\\n\\t\\t\\t\\t\\n\\t\\t\\t</div>\\n\\t\\t\\t\\t\\n\\t\\t\\t\\t\\n\\t\\t\\t</div>\\t\\t</div>\\n\\t</footer>\\n\\t\\t</div>\\n\\n\\t\\t\\t\\n\\t\\t</div>\\n\\t\\t</div>\\n\\n\\t\\t\\t<!--googleoff: all--><div id=\"cookie-law-info-bar\" data-nosnippet=\"true\"><span><div class=\"cli-bar-container cli-style-v2\"><div class=\"cli-bar-message\">We use cookies on our website to give you the most relevant experience by remembering your preferences and repeat visits. By clicking \\xe2\\x80\\x9cAccept\\xe2\\x80\\x9d, you consent to the use of ALL the cookies.</br><div class=\"wt-cli-ccpa-element\"> <a style=\"color:#333333\" class=\"wt-cli-ccpa-opt-out\">No worries, we do not sell your personal information.</a>.</div></div><div class=\"cli-bar-btn_container\"><a role=\\'button\\' class=\"medium cli-plugin-button cli-plugin-main-button cli_settings_button\" style=\"margin:0px 10px 0px 5px\">Cookie Settings</a><a role=\\'button\\' data-cli_action=\"accept\" id=\"cookie_action_close_header\" class=\"medium cli-plugin-button cli-plugin-main-button cookie_action_close_header cli_action_button wt-cli-accept-btn\" style=\"display:inline-block\">Accept</a></div></div></span></div><div id=\"cookie-law-info-again\" style=\"display:none\" data-nosnippet=\"true\"><span id=\"cookie_hdr_showagain\">Manage consent</span></div><div class=\"cli-modal\" data-nosnippet=\"true\" id=\"cliSettingsPopup\" tabindex=\"-1\" role=\"dialog\" aria-labelledby=\"cliSettingsPopup\" aria-hidden=\"true\">\\n  <div class=\"cli-modal-dialog\" role=\"document\">\\n\\t<div class=\"cli-modal-content cli-bar-popup\">\\n\\t\\t  <button type=\"button\" class=\"cli-modal-close\" id=\"cliModalClose\">\\n\\t\\t\\t<svg class=\"\" viewBox=\"0 0 24 24\"><path d=\"M19 6.41l-1.41-1.41-5.59 5.59-5.59-5.59-1.41 1.41 5.59 5.59-5.59 5.59 1.41 1.41 5.59-5.59 5.59 5.59 1.41-1.41-5.59-5.59z\"></path><path d=\"M0 0h24v24h-24z\" fill=\"none\"></path></svg>\\n\\t\\t\\t<span class=\"wt-cli-sr-only\">Close</span>\\n\\t\\t  </button>\\n\\t\\t  <div class=\"cli-modal-body\">\\n\\t\\t\\t<div class=\"cli-container-fluid cli-tab-container\">\\n\\t<div class=\"cli-row\">\\n\\t\\t<div class=\"cli-col-12 cli-align-items-stretch cli-px-0\">\\n\\t\\t\\t<div class=\"cli-privacy-overview\">\\n\\t\\t\\t\\t<h4>Privacy Overview</h4>\\t\\t\\t\\t<div class=\"cli-privacy-content\">\\n\\t\\t\\t\\t\\t<div class=\"cli-privacy-content-text\">This website uses cookies to improve your experience while you navigate through the website. Out of these, the cookies that are categorized as necessary are stored on your browser as they are essential for the working of basic functionalities of the website. We also use third-party cookies that help us analyze and understand how you use this website. These cookies will be stored in your browser only with your consent. You also have the option to opt-out of these cookies. But opting out of some of these cookies may affect your browsing experience.</div>\\n\\t\\t\\t\\t</div>\\n\\t\\t\\t\\t<a class=\"cli-privacy-readmore\" aria-label=\"Show more\" role=\"button\" data-readmore-text=\"Show more\" data-readless-text=\"Show less\"></a>\\t\\t\\t</div>\\n\\t\\t</div>\\n\\t\\t<div class=\"cli-col-12 cli-align-items-stretch cli-px-0 cli-tab-section-container\">\\n\\t\\t\\t\\t\\t\\t\\t\\t\\t\\t\\t\\t<div class=\"cli-tab-section\">\\n\\t\\t\\t\\t\\t\\t<div class=\"cli-tab-header\">\\n\\t\\t\\t\\t\\t\\t\\t<a role=\"button\" tabindex=\"0\" class=\"cli-nav-link cli-settings-mobile\" data-target=\"necessary\" data-toggle=\"cli-toggle-tab\">\\n\\t\\t\\t\\t\\t\\t\\t\\tNecessary\\t\\t\\t\\t\\t\\t\\t</a>\\n\\t\\t\\t\\t\\t\\t\\t\\t\\t\\t\\t\\t\\t\\t\\t<div class=\"wt-cli-necessary-checkbox\">\\n\\t\\t\\t\\t\\t\\t\\t\\t\\t<input type=\"checkbox\" class=\"cli-user-preference-checkbox\"  id=\"wt-cli-checkbox-necessary\" data-id=\"checkbox-necessary\" checked=\"checked\"  />\\n\\t\\t\\t\\t\\t\\t\\t\\t\\t<label class=\"form-check-label\" for=\"wt-cli-checkbox-necessary\">Necessary</label>\\n\\t\\t\\t\\t\\t\\t\\t\\t</div>\\n\\t\\t\\t\\t\\t\\t\\t\\t<span class=\"cli-necessary-caption\">Always Enabled</span>\\n\\t\\t\\t\\t\\t\\t\\t\\t\\t\\t\\t\\t\\t</div>\\n\\t\\t\\t\\t\\t\\t<div class=\"cli-tab-content\">\\n\\t\\t\\t\\t\\t\\t\\t<div class=\"cli-tab-pane cli-fade\" data-id=\"necessary\">\\n\\t\\t\\t\\t\\t\\t\\t\\t<div class=\"wt-cli-cookie-description\">\\n\\t\\t\\t\\t\\t\\t\\t\\t\\tNecessary cookies are absolutely essential for the website to function properly. These cookies ensure basic functionalities and security features of the website, anonymously.\\n<table class=\"cookielawinfo-row-cat-table cookielawinfo-winter\"><thead><tr><th class=\"cookielawinfo-column-1\">Cookie</th><th class=\"cookielawinfo-column-3\">Duration</th><th class=\"cookielawinfo-column-4\">Description</th></tr></thead><tbody><tr class=\"cookielawinfo-row\"><td class=\"cookielawinfo-column-1\">cookielawinfo-checkbox-analytics</td><td class=\"cookielawinfo-column-3\">11 months</td><td class=\"cookielawinfo-column-4\">This cookie is set by GDPR Cookie Consent plugin. The cookie is used to store the user consent for the cookies in the category \"Analytics\".</td></tr><tr class=\"cookielawinfo-row\"><td class=\"cookielawinfo-column-1\">cookielawinfo-checkbox-functional</td><td class=\"cookielawinfo-column-3\">11 months</td><td class=\"cookielawinfo-column-4\">The cookie is set by GDPR cookie consent to record the user consent for the cookies in the category \"Functional\".</td></tr><tr class=\"cookielawinfo-row\"><td class=\"cookielawinfo-column-1\">cookielawinfo-checkbox-necessary</td><td class=\"cookielawinfo-column-3\">11 months</td><td class=\"cookielawinfo-column-4\">This cookie is set by GDPR Cookie Consent plugin. The cookies is used to store the user consent for the cookies in the category \"Necessary\".</td></tr><tr class=\"cookielawinfo-row\"><td class=\"cookielawinfo-column-1\">cookielawinfo-checkbox-others</td><td class=\"cookielawinfo-column-3\">11 months</td><td class=\"cookielawinfo-column-4\">This cookie is set by GDPR Cookie Consent plugin. The cookie is used to store the user consent for the cookies in the category \"Other.</td></tr><tr class=\"cookielawinfo-row\"><td class=\"cookielawinfo-column-1\">cookielawinfo-checkbox-performance</td><td class=\"cookielawinfo-column-3\">11 months</td><td class=\"cookielawinfo-column-4\">This cookie is set by GDPR Cookie Consent plugin. The cookie is used to store the user consent for the cookies in the category \"Performance\".</td></tr><tr class=\"cookielawinfo-row\"><td class=\"cookielawinfo-column-1\">viewed_cookie_policy</td><td class=\"cookielawinfo-column-3\">11 months</td><td class=\"cookielawinfo-column-4\">The cookie is set by the GDPR Cookie Consent plugin and is used to store whether or not user has consented to the use of cookies. It does not store any personal data.</td></tr></tbody></table>\\t\\t\\t\\t\\t\\t\\t\\t</div>\\n\\t\\t\\t\\t\\t\\t\\t</div>\\n\\t\\t\\t\\t\\t\\t</div>\\n\\t\\t\\t\\t\\t</div>\\n\\t\\t\\t\\t\\t\\t\\t\\t\\t\\t\\t\\t\\t\\t\\t\\t\\t<div class=\"cli-tab-section\">\\n\\t\\t\\t\\t\\t\\t<div class=\"cli-tab-header\">\\n\\t\\t\\t\\t\\t\\t\\t<a role=\"button\" tabindex=\"0\" class=\"cli-nav-link cli-settings-mobile\" data-target=\"functional\" data-toggle=\"cli-toggle-tab\">\\n\\t\\t\\t\\t\\t\\t\\t\\tFunctional\\t\\t\\t\\t\\t\\t\\t</a>\\n\\t\\t\\t\\t\\t\\t\\t\\t\\t\\t\\t\\t\\t\\t\\t<div class=\"cli-switch\">\\n\\t\\t\\t\\t\\t\\t\\t\\t\\t<input type=\"checkbox\" id=\"wt-cli-checkbox-functional\" class=\"cli-user-preference-checkbox\"  data-id=\"checkbox-functional\" />\\n\\t\\t\\t\\t\\t\\t\\t\\t\\t<label for=\"wt-cli-checkbox-functional\" class=\"cli-slider\" data-cli-enable=\"Enabled\" data-cli-disable=\"Disabled\"><span class=\"wt-cli-sr-only\">Functional</span></label>\\n\\t\\t\\t\\t\\t\\t\\t\\t</div>\\n\\t\\t\\t\\t\\t\\t\\t\\t\\t\\t\\t\\t\\t</div>\\n\\t\\t\\t\\t\\t\\t<div class=\"cli-tab-content\">\\n\\t\\t\\t\\t\\t\\t\\t<div class=\"cli-tab-pane cli-fade\" data-id=\"functional\">\\n\\t\\t\\t\\t\\t\\t\\t\\t<div class=\"wt-cli-cookie-description\">\\n\\t\\t\\t\\t\\t\\t\\t\\t\\tFunctional cookies help to perform certain functionalities like sharing the content of the website on social media platforms, collect feedbacks, and other third-party features.\\n\\t\\t\\t\\t\\t\\t\\t\\t</div>\\n\\t\\t\\t\\t\\t\\t\\t</div>\\n\\t\\t\\t\\t\\t\\t</div>\\n\\t\\t\\t\\t\\t</div>\\n\\t\\t\\t\\t\\t\\t\\t\\t\\t\\t\\t\\t\\t\\t\\t\\t\\t<div class=\"cli-tab-section\">\\n\\t\\t\\t\\t\\t\\t<div class=\"cli-tab-header\">\\n\\t\\t\\t\\t\\t\\t\\t<a role=\"button\" tabindex=\"0\" class=\"cli-nav-link cli-settings-mobile\" data-target=\"performance\" data-toggle=\"cli-toggle-tab\">\\n\\t\\t\\t\\t\\t\\t\\t\\tPerformance\\t\\t\\t\\t\\t\\t\\t</a>\\n\\t\\t\\t\\t\\t\\t\\t\\t\\t\\t\\t\\t\\t\\t\\t<div class=\"cli-switch\">\\n\\t\\t\\t\\t\\t\\t\\t\\t\\t<input type=\"checkbox\" id=\"wt-cli-checkbox-performance\" class=\"cli-user-preference-checkbox\"  data-id=\"checkbox-performance\" />\\n\\t\\t\\t\\t\\t\\t\\t\\t\\t<label for=\"wt-cli-checkbox-performance\" class=\"cli-slider\" data-cli-enable=\"Enabled\" data-cli-disable=\"Disabled\"><span class=\"wt-cli-sr-only\">Performance</span></label>\\n\\t\\t\\t\\t\\t\\t\\t\\t</div>\\n\\t\\t\\t\\t\\t\\t\\t\\t\\t\\t\\t\\t\\t</div>\\n\\t\\t\\t\\t\\t\\t<div class=\"cli-tab-content\">\\n\\t\\t\\t\\t\\t\\t\\t<div class=\"cli-tab-pane cli-fade\" data-id=\"performance\">\\n\\t\\t\\t\\t\\t\\t\\t\\t<div class=\"wt-cli-cookie-description\">\\n\\t\\t\\t\\t\\t\\t\\t\\t\\tPerformance cookies are used to understand and analyze the key performance indexes of the website which helps in delivering a better user experience for the visitors.\\n\\t\\t\\t\\t\\t\\t\\t\\t</div>\\n\\t\\t\\t\\t\\t\\t\\t</div>\\n\\t\\t\\t\\t\\t\\t</div>\\n\\t\\t\\t\\t\\t</div>\\n\\t\\t\\t\\t\\t\\t\\t\\t\\t\\t\\t\\t\\t\\t\\t\\t\\t<div class=\"cli-tab-section\">\\n\\t\\t\\t\\t\\t\\t<div class=\"cli-tab-header\">\\n\\t\\t\\t\\t\\t\\t\\t<a role=\"button\" tabindex=\"0\" class=\"cli-nav-link cli-settings-mobile\" data-target=\"analytics\" data-toggle=\"cli-toggle-tab\">\\n\\t\\t\\t\\t\\t\\t\\t\\tAnalytics\\t\\t\\t\\t\\t\\t\\t</a>\\n\\t\\t\\t\\t\\t\\t\\t\\t\\t\\t\\t\\t\\t\\t\\t<div class=\"cli-switch\">\\n\\t\\t\\t\\t\\t\\t\\t\\t\\t<input type=\"checkbox\" id=\"wt-cli-checkbox-analytics\" class=\"cli-user-preference-checkbox\"  data-id=\"checkbox-analytics\" />\\n\\t\\t\\t\\t\\t\\t\\t\\t\\t<label for=\"wt-cli-checkbox-analytics\" class=\"cli-slider\" data-cli-enable=\"Enabled\" data-cli-disable=\"Disabled\"><span class=\"wt-cli-sr-only\">Analytics</span></label>\\n\\t\\t\\t\\t\\t\\t\\t\\t</div>\\n\\t\\t\\t\\t\\t\\t\\t\\t\\t\\t\\t\\t\\t</div>\\n\\t\\t\\t\\t\\t\\t<div class=\"cli-tab-content\">\\n\\t\\t\\t\\t\\t\\t\\t<div class=\"cli-tab-pane cli-fade\" data-id=\"analytics\">\\n\\t\\t\\t\\t\\t\\t\\t\\t<div class=\"wt-cli-cookie-description\">\\n\\t\\t\\t\\t\\t\\t\\t\\t\\tAnalytical cookies are used to understand how visitors interact with the website. These cookies help provide information on metrics the number of visitors, bounce rate, traffic source, etc.\\n\\t\\t\\t\\t\\t\\t\\t\\t</div>\\n\\t\\t\\t\\t\\t\\t\\t</div>\\n\\t\\t\\t\\t\\t\\t</div>\\n\\t\\t\\t\\t\\t</div>\\n\\t\\t\\t\\t\\t\\t\\t\\t\\t\\t\\t\\t\\t\\t\\t\\t\\t<div class=\"cli-tab-section\">\\n\\t\\t\\t\\t\\t\\t<div class=\"cli-tab-header\">\\n\\t\\t\\t\\t\\t\\t\\t<a role=\"button\" tabindex=\"0\" class=\"cli-nav-link cli-settings-mobile\" data-target=\"advertisement\" data-toggle=\"cli-toggle-tab\">\\n\\t\\t\\t\\t\\t\\t\\t\\tAdvertisement\\t\\t\\t\\t\\t\\t\\t</a>\\n\\t\\t\\t\\t\\t\\t\\t\\t\\t\\t\\t\\t\\t\\t\\t<div class=\"cli-switch\">\\n\\t\\t\\t\\t\\t\\t\\t\\t\\t<input type=\"checkbox\" id=\"wt-cli-checkbox-advertisement\" class=\"cli-user-preference-checkbox\"  data-id=\"checkbox-advertisement\" />\\n\\t\\t\\t\\t\\t\\t\\t\\t\\t<label for=\"wt-cli-checkbox-advertisement\" class=\"cli-slider\" data-cli-enable=\"Enabled\" data-cli-disable=\"Disabled\"><span class=\"wt-cli-sr-only\">Advertisement</span></label>\\n\\t\\t\\t\\t\\t\\t\\t\\t</div>\\n\\t\\t\\t\\t\\t\\t\\t\\t\\t\\t\\t\\t\\t</div>\\n\\t\\t\\t\\t\\t\\t<div class=\"cli-tab-content\">\\n\\t\\t\\t\\t\\t\\t\\t<div class=\"cli-tab-pane cli-fade\" data-id=\"advertisement\">\\n\\t\\t\\t\\t\\t\\t\\t\\t<div class=\"wt-cli-cookie-description\">\\n\\t\\t\\t\\t\\t\\t\\t\\t\\tAdvertisement cookies are used to provide visitors with relevant ads and marketing campaigns. These cookies track visitors across websites and collect information to provide customized ads.\\n\\t\\t\\t\\t\\t\\t\\t\\t</div>\\n\\t\\t\\t\\t\\t\\t\\t</div>\\n\\t\\t\\t\\t\\t\\t</div>\\n\\t\\t\\t\\t\\t</div>\\n\\t\\t\\t\\t\\t\\t\\t\\t\\t\\t\\t\\t\\t\\t\\t\\t\\t<div class=\"cli-tab-section\">\\n\\t\\t\\t\\t\\t\\t<div class=\"cli-tab-header\">\\n\\t\\t\\t\\t\\t\\t\\t<a role=\"button\" tabindex=\"0\" class=\"cli-nav-link cli-settings-mobile\" data-target=\"others\" data-toggle=\"cli-toggle-tab\">\\n\\t\\t\\t\\t\\t\\t\\t\\tOthers\\t\\t\\t\\t\\t\\t\\t</a>\\n\\t\\t\\t\\t\\t\\t\\t\\t\\t\\t\\t\\t\\t\\t\\t<div class=\"cli-switch\">\\n\\t\\t\\t\\t\\t\\t\\t\\t\\t<input type=\"checkbox\" id=\"wt-cli-checkbox-others\" class=\"cli-user-preference-checkbox\"  data-id=\"checkbox-others\" />\\n\\t\\t\\t\\t\\t\\t\\t\\t\\t<label for=\"wt-cli-checkbox-others\" class=\"cli-slider\" data-cli-enable=\"Enabled\" data-cli-disable=\"Disabled\"><span class=\"wt-cli-sr-only\">Others</span></label>\\n\\t\\t\\t\\t\\t\\t\\t\\t</div>\\n\\t\\t\\t\\t\\t\\t\\t\\t\\t\\t\\t\\t\\t</div>\\n\\t\\t\\t\\t\\t\\t<div class=\"cli-tab-content\">\\n\\t\\t\\t\\t\\t\\t\\t<div class=\"cli-tab-pane cli-fade\" data-id=\"others\">\\n\\t\\t\\t\\t\\t\\t\\t\\t<div class=\"wt-cli-cookie-description\">\\n\\t\\t\\t\\t\\t\\t\\t\\t\\tOther uncategorized cookies are those that are being analyzed and have not been classified into a category as yet.\\n\\t\\t\\t\\t\\t\\t\\t\\t</div>\\n\\t\\t\\t\\t\\t\\t\\t</div>\\n\\t\\t\\t\\t\\t\\t</div>\\n\\t\\t\\t\\t\\t</div>\\n\\t\\t\\t\\t\\t\\t\\t\\t\\t\\t</div>\\n\\t</div>\\n</div>\\n\\t\\t  </div>\\n\\t\\t  <div class=\"cli-modal-footer\">\\n\\t\\t\\t<div class=\"wt-cli-element cli-container-fluid cli-tab-container\">\\n\\t\\t\\t\\t<div class=\"cli-row\">\\n\\t\\t\\t\\t\\t<div class=\"cli-col-12 cli-align-items-stretch cli-px-0\">\\n\\t\\t\\t\\t\\t\\t<div class=\"cli-tab-footer wt-cli-privacy-overview-actions\">\\n\\t\\t\\t\\t\\t\\t\\n\\t\\t\\t\\t\\t\\t\\t\\t\\t\\t\\t\\t\\t\\t\\t<a id=\"wt-cli-privacy-save-btn\" role=\"button\" tabindex=\"0\" data-cli-action=\"accept\" class=\"wt-cli-privacy-btn cli_setting_save_button wt-cli-privacy-accept-btn cli-btn\">SAVE &amp; ACCEPT</a>\\n\\t\\t\\t\\t\\t\\t\\t\\t\\t\\t\\t\\t\\t</div>\\n\\t\\t\\t\\t\\t\\t\\n\\t\\t\\t\\t\\t</div>\\n\\t\\t\\t\\t</div>\\n\\t\\t\\t</div>\\n\\t\\t</div>\\n\\t</div>\\n  </div>\\n</div>\\n<div class=\"cli-modal-backdrop cli-fade cli-settings-overlay\"></div>\\n<div class=\"cli-modal-backdrop cli-fade cli-popupbar-overlay\"></div>\\n<!--googleon: all-->  <script>\\r\\njQuery(function($){$(\".divi-mobile-stop-stacking\").each(function(){$(this).parents(\".et_pb_row\").addClass(\"divi-mobile-stop-stacking-row\")})});\\r\\n  </script>\\r\\n  \\t\\t<script>\\n\\t\\t( function ( body ) {\\n\\t\\t\\t\\'use strict\\';\\n\\t\\t\\tbody.className = body.className.replace( /\\\\btribe-no-js\\\\b/, \\'tribe-js\\' );\\n\\t\\t} )( document.body );\\n\\t\\t</script>\\n\\t\\t\\t\\t<script type=\"application/javascript\">\\n\\t\\t\\t(function() {\\n\\t\\t\\t\\tvar file     = [\"https:\\\\/\\\\/codeup.com\\\\/wp-content\\\\/et-cache\\\\/home\\\\/et-divi-dynamic-tb-120-tb-16587-tb-101-late.css\"];\\n\\t\\t\\t\\tvar handle   = document.getElementById(\\'divi-style-parent-inline-inline-css\\');\\n\\t\\t\\t\\tvar location = handle.parentNode;\\n\\n\\t\\t\\t\\tif (0===document.querySelectorAll(\\'link[href=\"\\' + file + \\'\"]\\').length) {\\n\\t\\t\\t\\t\\tvar link  = document.createElement(\\'link\\');\\n\\t\\t\\t\\t\\tlink.rel  = \\'stylesheet\\';\\n\\t\\t\\t\\t\\tlink.id   = \\'et-dynamic-late-css\\';\\n\\t\\t\\t\\t\\tlink.href = file;\\n\\n\\t\\t\\t\\t\\tlocation.insertBefore(link, handle.nextSibling);\\n\\t\\t\\t\\t}\\n\\t\\t\\t})();\\n\\t\\t</script>\\n\\t\\t<style id=\"et-builder-googlefonts-inline\">/* Original: https://fonts.googleapis.com/css?family=Bebas+Neue:regular|Poppins:100,100italic,200,200italic,300,300italic,regular,italic,500,500italic,600,600italic,700,700italic,800,800italic,900,900italic|Nunito:200,200italic,300,300italic,regular,italic,600,600italic,700,700italic,800,800italic,900,900italic&#038;subset=latin,latin-ext,devanagari,cyrillic,cyrillic-ext,vietnamese&#038;display=swap *//* User Agent: Mozilla/5.0 (Unknown; Linux x86_64) AppleWebKit/538.1 (KHTML, like Gecko) Safari/538.1 Daum/4.1 */@font-face {font-family: \\'Bebas Neue\\';font-style: normal;font-weight: 400;font-display: swap;src: url(https://fonts.gstatic.com/s/bebasneue/v10/JTUSjIg69CK48gW7PXoo9Wdhzg.ttf) format(\\'truetype\\');}@font-face {font-family: \\'Nunito\\';font-style: italic;font-weight: 200;font-display: swap;src: url(https://fonts.gstatic.com/s/nunito/v25/XRXK3I6Li01BKofIMPyPbj8d7IEAGXNiLXAHg6bf.ttf) format(\\'truetype\\');}@font-face {font-family: \\'Nunito\\';font-style: italic;font-weight: 300;font-display: swap;src: url(https://fonts.gstatic.com/s/nunito/v25/XRXK3I6Li01BKofIMPyPbj8d7IEAGXNi83AHg6bf.ttf) format(\\'truetype\\');}@font-face {font-family: \\'Nunito\\';font-style: italic;font-weight: 400;font-display: swap;src: url(https://fonts.gstatic.com/s/nunito/v25/XRXK3I6Li01BKofIMPyPbj8d7IEAGXNirXAHg6bf.ttf) format(\\'truetype\\');}@font-face {font-family: \\'Nunito\\';font-style: italic;font-weight: 600;font-display: swap;src: url(https://fonts.gstatic.com/s/nunito/v25/XRXK3I6Li01BKofIMPyPbj8d7IEAGXNic3cHg6bf.ttf) format(\\'truetype\\');}@font-face {font-family: \\'Nunito\\';font-style: italic;font-weight: 700;font-display: swap;src: url(https://fonts.gstatic.com/s/nunito/v25/XRXK3I6Li01BKofIMPyPbj8d7IEAGXNiSncHg6bf.ttf) format(\\'truetype\\');}@font-face {font-family: \\'Nunito\\';font-style: italic;font-weight: 800;font-display: swap;src: url(https://fonts.gstatic.com/s/nunito/v25/XRXK3I6Li01BKofIMPyPbj8d7IEAGXNiLXcHg6bf.ttf) format(\\'truetype\\');}@font-face {font-family: \\'Nunito\\';font-style: italic;font-weight: 900;font-display: swap;src: url(https://fonts.gstatic.com/s/nunito/v25/XRXK3I6Li01BKofIMPyPbj8d7IEAGXNiBHcHg6bf.ttf) format(\\'truetype\\');}@font-face {font-family: \\'Nunito\\';font-style: normal;font-weight: 200;font-display: swap;src: url(https://fonts.gstatic.com/s/nunito/v25/XRXI3I6Li01BKofiOc5wtlZ2di8HDDshdTo3ig.ttf) format(\\'truetype\\');}@font-face {font-family: \\'Nunito\\';font-style: normal;font-weight: 300;font-display: swap;src: url(https://fonts.gstatic.com/s/nunito/v25/XRXI3I6Li01BKofiOc5wtlZ2di8HDOUhdTo3ig.ttf) format(\\'truetype\\');}@font-face {font-family: \\'Nunito\\';font-style: normal;font-weight: 400;font-display: swap;src: url(https://fonts.gstatic.com/s/nunito/v25/XRXI3I6Li01BKofiOc5wtlZ2di8HDLshdTo3ig.ttf) format(\\'truetype\\');}@font-face {font-family: \\'Nunito\\';font-style: normal;font-weight: 600;font-display: swap;src: url(https://fonts.gstatic.com/s/nunito/v25/XRXI3I6Li01BKofiOc5wtlZ2di8HDGUmdTo3ig.ttf) format(\\'truetype\\');}@font-face {font-family: \\'Nunito\\';font-style: normal;font-weight: 700;font-display: swap;src: url(https://fonts.gstatic.com/s/nunito/v25/XRXI3I6Li01BKofiOc5wtlZ2di8HDFwmdTo3ig.ttf) format(\\'truetype\\');}@font-face {font-family: \\'Nunito\\';font-style: normal;font-weight: 800;font-display: swap;src: url(https://fonts.gstatic.com/s/nunito/v25/XRXI3I6Li01BKofiOc5wtlZ2di8HDDsmdTo3ig.ttf) format(\\'truetype\\');}@font-face {font-family: \\'Nunito\\';font-style: normal;font-weight: 900;font-display: swap;src: url(https://fonts.gstatic.com/s/nunito/v25/XRXI3I6Li01BKofiOc5wtlZ2di8HDBImdTo3ig.ttf) format(\\'truetype\\');}@font-face {font-family: \\'Poppins\\';font-style: italic;font-weight: 100;font-display: swap;src: url(https://fonts.gstatic.com/s/poppins/v20/pxiAyp8kv8JHgFVrJJLmE0tMMPc.ttf) format(\\'truetype\\');}@font-face {font-family: \\'Poppins\\';font-style: italic;font-weight: 200;font-display: swap;src: url(https://fonts.gstatic.com/s/poppins/v20/pxiDyp8kv8JHgFVrJJLmv1pVGdeL.ttf) format(\\'truetype\\');}@font-face {font-family: \\'Poppins\\';font-style: italic;font-weight: 300;font-display: swap;src: url(https://fonts.gstatic.com/s/poppins/v20/pxiDyp8kv8JHgFVrJJLm21lVGdeL.ttf) format(\\'truetype\\');}@font-face {font-family: \\'Poppins\\';font-style: italic;font-weight: 400;font-display: swap;src: url(https://fonts.gstatic.com/s/poppins/v20/pxiGyp8kv8JHgFVrJJLufntF.ttf) format(\\'truetype\\');}@font-face {font-family: \\'Poppins\\';font-style: italic;font-weight: 500;font-display: swap;src: url(https://fonts.gstatic.com/s/poppins/v20/pxiDyp8kv8JHgFVrJJLmg1hVGdeL.ttf) format(\\'truetype\\');}@font-face {font-family: \\'Poppins\\';font-style: italic;font-weight: 600;font-display: swap;src: url(https://fonts.gstatic.com/s/poppins/v20/pxiDyp8kv8JHgFVrJJLmr19VGdeL.ttf) format(\\'truetype\\');}@font-face {font-family: \\'Poppins\\';font-style: italic;font-weight: 700;font-display: swap;src: url(https://fonts.gstatic.com/s/poppins/v20/pxiDyp8kv8JHgFVrJJLmy15VGdeL.ttf) format(\\'truetype\\');}@font-face {font-family: \\'Poppins\\';font-style: italic;font-weight: 800;font-display: swap;src: url(https://fonts.gstatic.com/s/poppins/v20/pxiDyp8kv8JHgFVrJJLm111VGdeL.ttf) format(\\'truetype\\');}@font-face {font-family: \\'Poppins\\';font-style: italic;font-weight: 900;font-display: swap;src: url(https://fonts.gstatic.com/s/poppins/v20/pxiDyp8kv8JHgFVrJJLm81xVGdeL.ttf) format(\\'truetype\\');}@font-face {font-family: \\'Poppins\\';font-style: normal;font-weight: 100;font-display: swap;src: url(https://fonts.gstatic.com/s/poppins/v20/pxiGyp8kv8JHgFVrLPTufntF.ttf) format(\\'truetype\\');}@font-face {font-family: \\'Poppins\\';font-style: normal;font-weight: 200;font-display: swap;src: url(https://fonts.gstatic.com/s/poppins/v20/pxiByp8kv8JHgFVrLFj_Z1JlEA.ttf) format(\\'truetype\\');}@font-face {font-family: \\'Poppins\\';font-style: normal;font-weight: 300;font-display: swap;src: url(https://fonts.gstatic.com/s/poppins/v20/pxiByp8kv8JHgFVrLDz8Z1JlEA.ttf) format(\\'truetype\\');}@font-face {font-family: \\'Poppins\\';font-style: normal;font-weight: 400;font-display: swap;src: url(https://fonts.gstatic.com/s/poppins/v20/pxiEyp8kv8JHgFVrJJnedw.ttf) format(\\'truetype\\');}@font-face {font-family: \\'Poppins\\';font-style: normal;font-weight: 500;font-display: swap;src: url(https://fonts.gstatic.com/s/poppins/v20/pxiByp8kv8JHgFVrLGT9Z1JlEA.ttf) format(\\'truetype\\');}@font-face {font-family: \\'Poppins\\';font-style: normal;font-weight: 600;font-display: swap;src: url(https://fonts.gstatic.com/s/poppins/v20/pxiByp8kv8JHgFVrLEj6Z1JlEA.ttf) format(\\'truetype\\');}@font-face {font-family: \\'Poppins\\';font-style: normal;font-weight: 700;font-display: swap;src: url(https://fonts.gstatic.com/s/poppins/v20/pxiByp8kv8JHgFVrLCz7Z1JlEA.ttf) format(\\'truetype\\');}@font-face {font-family: \\'Poppins\\';font-style: normal;font-weight: 800;font-display: swap;src: url(https://fonts.gstatic.com/s/poppins/v20/pxiByp8kv8JHgFVrLDD4Z1JlEA.ttf) format(\\'truetype\\');}@font-face {font-family: \\'Poppins\\';font-style: normal;font-weight: 900;font-display: swap;src: url(https://fonts.gstatic.com/s/poppins/v20/pxiByp8kv8JHgFVrLBT5Z1JlEA.ttf) format(\\'truetype\\');}/* User Agent: Mozilla/5.0 (Windows NT 6.1; WOW64; rv:27.0) Gecko/20100101 Firefox/27.0 */@font-face {font-family: \\'Bebas Neue\\';font-style: normal;font-weight: 400;font-display: swap;src: url(https://fonts.gstatic.com/s/bebasneue/v10/JTUSjIg69CK48gW7PXoo9WdhzQ.woff) format(\\'woff\\');}@font-face {font-family: \\'Nunito\\';font-style: italic;font-weight: 200;font-display: swap;src: url(https://fonts.gstatic.com/s/nunito/v25/XRXK3I6Li01BKofIMPyPbj8d7IEAGXNiLXAHg6bc.woff) format(\\'woff\\');}@font-face {font-family: \\'Nunito\\';font-style: italic;font-weight: 300;font-display: swap;src: url(https://fonts.gstatic.com/s/nunito/v25/XRXK3I6Li01BKofIMPyPbj8d7IEAGXNi83AHg6bc.woff) format(\\'woff\\');}@font-face {font-family: \\'Nunito\\';font-style: italic;font-weight: 400;font-display: swap;src: url(https://fonts.gstatic.com/s/nunito/v25/XRXK3I6Li01BKofIMPyPbj8d7IEAGXNirXAHg6bc.woff) format(\\'woff\\');}@font-face {font-family: \\'Nunito\\';font-style: italic;font-weight: 600;font-display: swap;src: url(https://fonts.gstatic.com/s/nunito/v25/XRXK3I6Li01BKofIMPyPbj8d7IEAGXNic3cHg6bc.woff) format(\\'woff\\');}@font-face {font-family: \\'Nunito\\';font-style: italic;font-weight: 700;font-display: swap;src: url(https://fonts.gstatic.com/s/nunito/v25/XRXK3I6Li01BKofIMPyPbj8d7IEAGXNiSncHg6bc.woff) format(\\'woff\\');}@font-face {font-family: \\'Nunito\\';font-style: italic;font-weight: 800;font-display: swap;src: url(https://fonts.gstatic.com/s/nunito/v25/XRXK3I6Li01BKofIMPyPbj8d7IEAGXNiLXcHg6bc.woff) format(\\'woff\\');}@font-face {font-family: \\'Nunito\\';font-style: italic;font-weight: 900;font-display: swap;src: url(https://fonts.gstatic.com/s/nunito/v25/XRXK3I6Li01BKofIMPyPbj8d7IEAGXNiBHcHg6bc.woff) format(\\'woff\\');}@font-face {font-family: \\'Nunito\\';font-style: normal;font-weight: 200;font-display: swap;src: url(https://fonts.gstatic.com/s/nunito/v25/XRXI3I6Li01BKofiOc5wtlZ2di8HDDshdTo3iQ.woff) format(\\'woff\\');}@font-face {font-family: \\'Nunito\\';font-style: normal;font-weight: 300;font-display: swap;src: url(https://fonts.gstatic.com/s/nunito/v25/XRXI3I6Li01BKofiOc5wtlZ2di8HDOUhdTo3iQ.woff) format(\\'woff\\');}@font-face {font-family: \\'Nunito\\';font-style: normal;font-weight: 400;font-display: swap;src: url(https://fonts.gstatic.com/s/nunito/v25/XRXI3I6Li01BKofiOc5wtlZ2di8HDLshdTo3iQ.woff) format(\\'woff\\');}@font-face {font-family: \\'Nunito\\';font-style: normal;font-weight: 600;font-display: swap;src: url(https://fonts.gstatic.com/s/nunito/v25/XRXI3I6Li01BKofiOc5wtlZ2di8HDGUmdTo3iQ.woff) format(\\'woff\\');}@font-face {font-family: \\'Nunito\\';font-style: normal;font-weight: 700;font-display: swap;src: url(https://fonts.gstatic.com/s/nunito/v25/XRXI3I6Li01BKofiOc5wtlZ2di8HDFwmdTo3iQ.woff) format(\\'woff\\');}@font-face {font-family: \\'Nunito\\';font-style: normal;font-weight: 800;font-display: swap;src: url(https://fonts.gstatic.com/s/nunito/v25/XRXI3I6Li01BKofiOc5wtlZ2di8HDDsmdTo3iQ.woff) format(\\'woff\\');}@font-face {font-family: \\'Nunito\\';font-style: normal;font-weight: 900;font-display: swap;src: url(https://fonts.gstatic.com/s/nunito/v25/XRXI3I6Li01BKofiOc5wtlZ2di8HDBImdTo3iQ.woff) format(\\'woff\\');}@font-face {font-family: \\'Poppins\\';font-style: italic;font-weight: 100;font-display: swap;src: url(https://fonts.gstatic.com/s/poppins/v20/pxiAyp8kv8JHgFVrJJLmE0tMMPQ.woff) format(\\'woff\\');}@font-face {font-family: \\'Poppins\\';font-style: italic;font-weight: 200;font-display: swap;src: url(https://fonts.gstatic.com/s/poppins/v20/pxiDyp8kv8JHgFVrJJLmv1pVGdeI.woff) format(\\'woff\\');}@font-face {font-family: \\'Poppins\\';font-style: italic;font-weight: 300;font-display: swap;src: url(https://fonts.gstatic.com/s/poppins/v20/pxiDyp8kv8JHgFVrJJLm21lVGdeI.woff) format(\\'woff\\');}@font-face {font-family: \\'Poppins\\';font-style: italic;font-weight: 400;font-display: swap;src: url(https://fonts.gstatic.com/s/poppins/v20/pxiGyp8kv8JHgFVrJJLufntG.woff) format(\\'woff\\');}@font-face {font-family: \\'Poppins\\';font-style: italic;font-weight: 500;font-display: swap;src: url(https://fonts.gstatic.com/s/poppins/v20/pxiDyp8kv8JHgFVrJJLmg1hVGdeI.woff) format(\\'woff\\');}@font-face {font-family: \\'Poppins\\';font-style: italic;font-weight: 600;font-display: swap;src: url(https://fonts.gstatic.com/s/poppins/v20/pxiDyp8kv8JHgFVrJJLmr19VGdeI.woff) format(\\'woff\\');}@font-face {font-family: \\'Poppins\\';font-style: italic;font-weight: 700;font-display: swap;src: url(https://fonts.gstatic.com/s/poppins/v20/pxiDyp8kv8JHgFVrJJLmy15VGdeI.woff) format(\\'woff\\');}@font-face {font-family: \\'Poppins\\';font-style: italic;font-weight: 800;font-display: swap;src: url(https://fonts.gstatic.com/s/poppins/v20/pxiDyp8kv8JHgFVrJJLm111VGdeI.woff) format(\\'woff\\');}@font-face {font-family: \\'Poppins\\';font-style: italic;font-weight: 900;font-display: swap;src: url(https://fonts.gstatic.com/s/poppins/v20/pxiDyp8kv8JHgFVrJJLm81xVGdeI.woff) format(\\'woff\\');}@font-face {font-family: \\'Poppins\\';font-style: normal;font-weight: 100;font-display: swap;src: url(https://fonts.gstatic.com/s/poppins/v20/pxiGyp8kv8JHgFVrLPTufntG.woff) format(\\'woff\\');}@font-face {font-family: \\'Poppins\\';font-style: normal;font-weight: 200;font-display: swap;src: url(https://fonts.gstatic.com/s/poppins/v20/pxiByp8kv8JHgFVrLFj_Z1JlEw.woff) format(\\'woff\\');}@font-face {font-family: \\'Poppins\\';font-style: normal;font-weight: 300;font-display: swap;src: url(https://fonts.gstatic.com/s/poppins/v20/pxiByp8kv8JHgFVrLDz8Z1JlEw.woff) format(\\'woff\\');}@font-face {font-family: \\'Poppins\\';font-style: normal;font-weight: 400;font-display: swap;src: url(https://fonts.gstatic.com/s/poppins/v20/pxiEyp8kv8JHgFVrJJnedA.woff) format(\\'woff\\');}@font-face {font-family: \\'Poppins\\';font-style: normal;font-weight: 500;font-display: swap;src: url(https://fonts.gstatic.com/s/poppins/v20/pxiByp8kv8JHgFVrLGT9Z1JlEw.woff) format(\\'woff\\');}@font-face {font-family: \\'Poppins\\';font-style: normal;font-weight: 600;font-display: swap;src: url(https://fonts.gstatic.com/s/poppins/v20/pxiByp8kv8JHgFVrLEj6Z1JlEw.woff) format(\\'woff\\');}@font-face {font-family: \\'Poppins\\';font-style: normal;font-weight: 700;font-display: swap;src: url(https://fonts.gstatic.com/s/poppins/v20/pxiByp8kv8JHgFVrLCz7Z1JlEw.woff) format(\\'woff\\');}@font-face {font-family: \\'Poppins\\';font-style: normal;font-weight: 800;font-display: swap;src: url(https://fonts.gstatic.com/s/poppins/v20/pxiByp8kv8JHgFVrLDD4Z1JlEw.woff) format(\\'woff\\');}@font-face {font-family: \\'Poppins\\';font-style: normal;font-weight: 900;font-display: swap;src: url(https://fonts.gstatic.com/s/poppins/v20/pxiByp8kv8JHgFVrLBT5Z1JlEw.woff) format(\\'woff\\');}/* User Agent: Mozilla/5.0 (Windows NT 6.3; rv:39.0) Gecko/20100101 Firefox/39.0 */@font-face {font-family: \\'Bebas Neue\\';font-style: normal;font-weight: 400;font-display: swap;src: url(https://fonts.gstatic.com/s/bebasneue/v10/JTUSjIg69CK48gW7PXoo9Wdhyw.woff2) format(\\'woff2\\');}@font-face {font-family: \\'Nunito\\';font-style: italic;font-weight: 200;font-display: swap;src: url(https://fonts.gstatic.com/s/nunito/v25/XRXK3I6Li01BKofIMPyPbj8d7IEAGXNiLXAHg6ba.woff2) format(\\'woff2\\');}@font-face {font-family: \\'Nunito\\';font-style: italic;font-weight: 300;font-display: swap;src: url(https://fonts.gstatic.com/s/nunito/v25/XRXK3I6Li01BKofIMPyPbj8d7IEAGXNi83AHg6ba.woff2) format(\\'woff2\\');}@font-face {font-family: \\'Nunito\\';font-style: italic;font-weight: 400;font-display: swap;src: url(https://fonts.gstatic.com/s/nunito/v25/XRXK3I6Li01BKofIMPyPbj8d7IEAGXNirXAHg6ba.woff2) format(\\'woff2\\');}@font-face {font-family: \\'Nunito\\';font-style: italic;font-weight: 600;font-display: swap;src: url(https://fonts.gstatic.com/s/nunito/v25/XRXK3I6Li01BKofIMPyPbj8d7IEAGXNic3cHg6ba.woff2) format(\\'woff2\\');}@font-face {font-family: \\'Nunito\\';font-style: italic;font-weight: 700;font-display: swap;src: url(https://fonts.gstatic.com/s/nunito/v25/XRXK3I6Li01BKofIMPyPbj8d7IEAGXNiSncHg6ba.woff2) format(\\'woff2\\');}@font-face {font-family: \\'Nunito\\';font-style: italic;font-weight: 800;font-display: swap;src: url(https://fonts.gstatic.com/s/nunito/v25/XRXK3I6Li01BKofIMPyPbj8d7IEAGXNiLXcHg6ba.woff2) format(\\'woff2\\');}@font-face {font-family: \\'Nunito\\';font-style: italic;font-weight: 900;font-display: swap;src: url(https://fonts.gstatic.com/s/nunito/v25/XRXK3I6Li01BKofIMPyPbj8d7IEAGXNiBHcHg6ba.woff2) format(\\'woff2\\');}@font-face {font-family: \\'Nunito\\';font-style: normal;font-weight: 200;font-display: swap;src: url(https://fonts.gstatic.com/s/nunito/v25/XRXI3I6Li01BKofiOc5wtlZ2di8HDDshdTo3jw.woff2) format(\\'woff2\\');}@font-face {font-family: \\'Nunito\\';font-style: normal;font-weight: 300;font-display: swap;src: url(https://fonts.gstatic.com/s/nunito/v25/XRXI3I6Li01BKofiOc5wtlZ2di8HDOUhdTo3jw.woff2) format(\\'woff2\\');}@font-face {font-family: \\'Nunito\\';font-style: normal;font-weight: 400;font-display: swap;src: url(https://fonts.gstatic.com/s/nunito/v25/XRXI3I6Li01BKofiOc5wtlZ2di8HDLshdTo3jw.woff2) format(\\'woff2\\');}@font-face {font-family: \\'Nunito\\';font-style: normal;font-weight: 600;font-display: swap;src: url(https://fonts.gstatic.com/s/nunito/v25/XRXI3I6Li01BKofiOc5wtlZ2di8HDGUmdTo3jw.woff2) format(\\'woff2\\');}@font-face {font-family: \\'Nunito\\';font-style: normal;font-weight: 700;font-display: swap;src: url(https://fonts.gstatic.com/s/nunito/v25/XRXI3I6Li01BKofiOc5wtlZ2di8HDFwmdTo3jw.woff2) format(\\'woff2\\');}@font-face {font-family: \\'Nunito\\';font-style: normal;font-weight: 800;font-display: swap;src: url(https://fonts.gstatic.com/s/nunito/v25/XRXI3I6Li01BKofiOc5wtlZ2di8HDDsmdTo3jw.woff2) format(\\'woff2\\');}@font-face {font-family: \\'Nunito\\';font-style: normal;font-weight: 900;font-display: swap;src: url(https://fonts.gstatic.com/s/nunito/v25/XRXI3I6Li01BKofiOc5wtlZ2di8HDBImdTo3jw.woff2) format(\\'woff2\\');}@font-face {font-family: \\'Poppins\\';font-style: italic;font-weight: 100;font-display: swap;src: url(https://fonts.gstatic.com/s/poppins/v20/pxiAyp8kv8JHgFVrJJLmE0tMMPI.woff2) format(\\'woff2\\');}@font-face {font-family: \\'Poppins\\';font-style: italic;font-weight: 200;font-display: swap;src: url(https://fonts.gstatic.com/s/poppins/v20/pxiDyp8kv8JHgFVrJJLmv1pVGdeO.woff2) format(\\'woff2\\');}@font-face {font-family: \\'Poppins\\';font-style: italic;font-weight: 300;font-display: swap;src: url(https://fonts.gstatic.com/s/poppins/v20/pxiDyp8kv8JHgFVrJJLm21lVGdeO.woff2) format(\\'woff2\\');}@font-face {font-family: \\'Poppins\\';font-style: italic;font-weight: 400;font-display: swap;src: url(https://fonts.gstatic.com/s/poppins/v20/pxiGyp8kv8JHgFVrJJLufntA.woff2) format(\\'woff2\\');}@font-face {font-family: \\'Poppins\\';font-style: italic;font-weight: 500;font-display: swap;src: url(https://fonts.gstatic.com/s/poppins/v20/pxiDyp8kv8JHgFVrJJLmg1hVGdeO.woff2) format(\\'woff2\\');}@font-face {font-family: \\'Poppins\\';font-style: italic;font-weight: 600;font-display: swap;src: url(https://fonts.gstatic.com/s/poppins/v20/pxiDyp8kv8JHgFVrJJLmr19VGdeO.woff2) format(\\'woff2\\');}@font-face {font-family: \\'Poppins\\';font-style: italic;font-weight: 700;font-display: swap;src: url(https://fonts.gstatic.com/s/poppins/v20/pxiDyp8kv8JHgFVrJJLmy15VGdeO.woff2) format(\\'woff2\\');}@font-face {font-family: \\'Poppins\\';font-style: italic;font-weight: 800;font-display: swap;src: url(https://fonts.gstatic.com/s/poppins/v20/pxiDyp8kv8JHgFVrJJLm111VGdeO.woff2) format(\\'woff2\\');}@font-face {font-family: \\'Poppins\\';font-style: italic;font-weight: 900;font-display: swap;src: url(https://fonts.gstatic.com/s/poppins/v20/pxiDyp8kv8JHgFVrJJLm81xVGdeO.woff2) format(\\'woff2\\');}@font-face {font-family: \\'Poppins\\';font-style: normal;font-weight: 100;font-display: swap;src: url(https://fonts.gstatic.com/s/poppins/v20/pxiGyp8kv8JHgFVrLPTufntA.woff2) format(\\'woff2\\');}@font-face {font-family: \\'Poppins\\';font-style: normal;font-weight: 200;font-display: swap;src: url(https://fonts.gstatic.com/s/poppins/v20/pxiByp8kv8JHgFVrLFj_Z1JlFQ.woff2) format(\\'woff2\\');}@font-face {font-family: \\'Poppins\\';font-style: normal;font-weight: 300;font-display: swap;src: url(https://fonts.gstatic.com/s/poppins/v20/pxiByp8kv8JHgFVrLDz8Z1JlFQ.woff2) format(\\'woff2\\');}@font-face {font-family: \\'Poppins\\';font-style: normal;font-weight: 400;font-display: swap;src: url(https://fonts.gstatic.com/s/poppins/v20/pxiEyp8kv8JHgFVrJJnecg.woff2) format(\\'woff2\\');}@font-face {font-family: \\'Poppins\\';font-style: normal;font-weight: 500;font-display: swap;src: url(https://fonts.gstatic.com/s/poppins/v20/pxiByp8kv8JHgFVrLGT9Z1JlFQ.woff2) format(\\'woff2\\');}@font-face {font-family: \\'Poppins\\';font-style: normal;font-weight: 600;font-display: swap;src: url(https://fonts.gstatic.com/s/poppins/v20/pxiByp8kv8JHgFVrLEj6Z1JlFQ.woff2) format(\\'woff2\\');}@font-face {font-family: \\'Poppins\\';font-style: normal;font-weight: 700;font-display: swap;src: url(https://fonts.gstatic.com/s/poppins/v20/pxiByp8kv8JHgFVrLCz7Z1JlFQ.woff2) format(\\'woff2\\');}@font-face {font-family: \\'Poppins\\';font-style: normal;font-weight: 800;font-display: swap;src: url(https://fonts.gstatic.com/s/poppins/v20/pxiByp8kv8JHgFVrLDD4Z1JlFQ.woff2) format(\\'woff2\\');}@font-face {font-family: \\'Poppins\\';font-style: normal;font-weight: 900;font-display: swap;src: url(https://fonts.gstatic.com/s/poppins/v20/pxiByp8kv8JHgFVrLBT5Z1JlFQ.woff2) format(\\'woff2\\');}</style><script type=\"text/javascript\">\\r\\njQuery(document).ready(function( $ ) {\\r\\n  if ( $(\\'#main-header\\').length > 0 && $(\\'.et-l--header\\').length == 0  ) {\\r\\n  } else if ( $(\\'.et-l--header\\').length > 0 && $(\\'#main-header\\').length == 0 ) {\\r\\n  } else {\\r\\n    $(\\'.divi-mobile-menu\\').remove();\\r\\n    $(\\'body\\').addClass(\"no-mobile-menu\");\\r\\n  }\\r\\n$(\"body\").addClass(\"dm-custom-header\");\\r\\n  function check_from_top(){\\r\\n    var scroll = $(window).scrollTop();\\r\\n    if (scroll >= 300) {\\r\\n      $(\"#dm-header\").addClass(\"fixed-header\");\\r\\n      $(\"body\").addClass(\"dm-fixed-header\");\\r\\n    } else {\\r\\n      $(\"#dm-header\").removeClass(\"fixed-header\");\\r\\n      $(\"body\").removeClass(\"dm-fixed-header\");\\r\\n    }\\r\\n    \\r\\n    if (scroll >= 50) {\\r\\n      $(\".dm-not-fixed-scroll #dm-header #et_top_search_mob\").removeClass(\"active\");\\r\\n      $(\"body.dm-not-fixed-scroll\").removeClass(\"search-active\");\\r\\n    }\\r\\n  }\\r\\n  \\r\\n  check_from_top();\\r\\n  \\r\\n  $(window).scroll(function() {\\r\\n    check_from_top();\\r\\n  });\\r\\n  $(\"body\").addClass(\"dm-bm-pos-right\");\\r\\n$(\"body\").addClass(\"dm-off-canvas\");\\r\\n$(\"body\").addClass(\"dm-side-slide\");\\r\\n$(\"body\").addClass(\"dm-circle-expand\");\\r\\n$(\"body\").addClass(\"dm-menuside-right\");\\r\\n\\r\\nvar get_one_click = false;\\r\\njQuery(document).on(\\'touchstart click\\', \".anchorpoint\", function(e){\\r\\n  var _this = jQuery(e.target);\\r\\n  if (jQuery(\"body\").hasClass(\"show-menu\")) {\\r\\n    jQuery(\\'#open-button\\').trigger(\\'click\\');\\r\\n  }\\r\\n\\r\\n  var getLink = _this.find(\\'a\\').attr(\\'href\\');\\r\\n  var currentUrl = window.location.href;\\r\\n  var linkUrlPart = \\'\\';\\r\\n  var linkAnchorPart = \\'\\';\\r\\n  var currentUrlPart = currentUrl;\\r\\n\\r\\n  e.preventDefault();\\r\\n\\r\\n  if(currentUrl.indexOf(\"#\") != -1){\\r\\n    currentUrlPart = getLink.substring(0, getLink.indexOf(\"#\") );\\r\\n  }\\r\\n\\r\\n  if(getLink.indexOf(\"#\") == 0){\\r\\n    linkUrlPart = currentUrlPart;\\r\\n    linkAnchorPart = getLink.substring(1);\\r\\n  }else if (getLink.indexOf(\"#\") != -1 ){\\r\\n    linkUrlPart = getLink.substring(0, getLink.indexOf(\"#\") );\\r\\n    linkAnchorPart = getLink.substring(getLink.indexOf(\"#\")+1);\\r\\n  }\\r\\n\\r\\n  if ( linkUrlPart == currentUrlPart ){\\r\\n    // Same Url\\r\\n    if (jQuery(\\'#\\' + linkAnchorPart).length) {\\r\\n      if ( linkAnchorPart != \\'\\' ){\\r\\n          document.getElementById(linkAnchorPart).scrollIntoView({ behavior: \"smooth\" });\\r\\n      }\\r\\n    } else {\\r\\n      window.location.href = getLink;\\r\\n    }\\r\\n  } else {\\r\\n    window.location.href = getLink;\\r\\n  }\\r\\n});\\r\\n\\r\\n\\r\\n});\\r\\n\\r\\ndocument.getElementsByClassName(\"menu-wrap__inner\")[0].children[0].onscroll = function(){\\r\\n    if (this.scrollTop >= \\'80\\') {\\r\\n      jQuery(\\'body\\').addClass(\\'menu-wrap-scroll\\');\\r\\n    } else {\\r\\n      jQuery(\\'body\\').removeClass(\\'menu-wrap-scroll\\');\\r\\n    }\\r\\n}\\r\\n</script>\\r\\n\\r\\n<script>\\r\\n\\r\\njQuery(document).ready(function($){\\r\\n\\tvar isOpen = false;\\r\\n\\tvar bodyEl = document.body,\\r\\n\\t\\tdm_nav = document.getElementById( \\'dm_nav\\' );\\r\\n\\t$(document).on(\\'click\\', \\'#open-button\\', function(ev){\\r\\n\\t\\ttoggleMenu(ev);\\r\\n\\t});\\r\\n\\r\\n\\t$(document).on(\\'click\\', \\'#close-button\\', function(ev){\\r\\n\\t\\ttoggleMenu(ev);\\r\\n\\t})\\r\\n\\r\\n\\t\\t// close the menu element if the target it\\xc2\\xb4s not the menu element or one of its descendants..\\r\\n\\t$(document).on( \\'click\\', \\'#et-main-area\\', function(ev) {\\r\\n\\t\\tvar target = $(ev.target);\\r\\n\\t\\tif( isOpen && target !== $(\\'#open-button\\') ) {\\r\\n\\t\\t\\ttoggleMenu(ev);\\r\\n\\t\\t\\t}\\r\\n\\t\\t} );\\r\\n\\r\\n\\tfunction toggleMenu(event) {\\r\\n\\tevent.stopPropagation();\\r\\n\\tevent.preventDefault();\\r\\n\\t\\tif( isOpen ) {\\r\\n\\t\\t\\t$(bodyEl).removeClass( \\'show-menu\\' );\\r\\n\\t\\t\\t$(\\'#open-button\\').removeClass( \\'is-active\\' );\\r\\n\\t\\t\\t$( dm_nav ).removeClass( \\'active\\' );\\r\\n\\t\\t\\t\\tsetTimeout(function (){\\r\\n\\t\\t\\t\\t$(dm_nav).addClass( \\'menuclosed\\' );\\r\\n\\t\\t\\t\\t}, 800);\\r\\n\\t\\t}else {\\r\\n\\t\\t\\t$(bodyEl).addClass( \\'show-menu\\' );\\r\\n\\t\\t\\t$(\\'#open-button\\').addClass( \\'is-active\\' );\\r\\n\\t\\t\\t$( dm_nav ).addClass( \\'active\\' );\\r\\n\\t\\t\\t$( dm_nav ).removeClass( \\'menuclosed\\' );\\r\\n\\t\\t}\\r\\n\\t\\tisOpen = !isOpen;\\r\\n\\t}\\r\\n});\\r\\n</script>\\r\\n\\r\\n<script type=\"text/javascript\">\\r\\njQuery(document).ready(function( $ ) {\\r\\n\\r\\n  $(\"body\").addClass(\"dm-ch-logo-pos-left\");\\r\\n$(\"body\").addClass(\"dm-ch-cart-icon-pos-none\");\\r\\n$(\"body\").addClass(\"dm-ch-search-icon-pos-right\");\\r\\n$(\"body\").addClass(\"dm-ch-account-icon-pos-none\");\\r\\n  $(\"body\").addClass(\"dm-search-icon-header\");\\r\\n\\r\\n  $(\"#dm-header #et_top_search_mob #et_search_icon\").on(\\'touchstart click\\', function(event) {\\r\\n          $(\"#dm-header #et_top_search_mob\").addClass(\"active\");\\r\\n          setTimeout(\\r\\n  function()\\r\\n  {\\r\\n  $(\"body\").addClass(\"search-active\");\\r\\n}, 500);\\r\\n  });\\r\\n\\r\\n\\r\\n  $(document).on(\\'touchstart click\\', \".search-active #et_top_search_mob #et_search_icon\" , function(event){\\r\\n    console.log(\"added\");\\r\\n    $( \".et-search-form\" ).submit();\\r\\n  });\\r\\n\\r\\n  $(\"#dm-header #et_top_search_mob .close\").on(\\'touchstart click\\', function(event) {\\r\\n          $(\"#dm-header #et_top_search_mob\").removeClass(\"active\");\\r\\n          $(\"body\").removeClass(\"search-active\");\\r\\n  });\\r\\n\\r\\n    $(\"body\").addClass(\"dm-fixed-scroll\");\\r\\n  \\r\\n\\r\\n\\r\\n});\\r\\n</script>\\r\\n<script type=\"text/javascript\">\\r\\njQuery(document).ready(function( $ ) {\\r\\n    \\r\\n    $(\"body\").addClass(\"collapse-submenu\");\\r\\n    function dm_setup_collapsible_submenus() {\\r\\n        var $menu = $(\\'#dm_nav\\'),\\r\\n        top_level_link = \\'.menu-wrap__inner .menu-item-has-children > a\\';\\r\\n        \\r\\n        $menu.find(\\'a\\').each(function() {\\r\\n            $(this).off(\\'touchstart click\\');\\r\\n                        var click_through = $(this);\\r\\n            if ( $(this).is(top_level_link) ) {\\r\\n                $(this).attr(\\'href\\', \\'#\\');\\r\\n            }\\r\\n                        \\r\\n            if ( ! $(this).siblings(\\'.sub-menu\\').length ) {\\r\\n                $(this).on(\\'touchstart click\\', function(event) {\\r\\n                    // $(\"#dm-menu.nav li\").removeClass(\\'visible\\');\\r\\n                    $(this).parents(\\'.mobile_nav\\').trigger(\\'click\\');\\r\\n                });\\r\\n            } else {\\r\\n\\r\\n            }\\r\\n        });\\r\\n    }\\r\\n    \\r\\n    $(window).on(\\'load\\', function(){\\r\\n        setTimeout(function() {\\r\\n            dm_setup_collapsible_submenus();\\r\\n        }, 700);\\r\\n    });\\r\\n    \\r\\n        var click_through = \\'.menu-wrap__inner .menu-item-has-children > a\\';\\r\\n        \\r\\n     \\r\\n    if ($(window).width() < 980) {\\r\\n\\r\\n                \\r\\n        var touchmoved;\\r\\n        $(\\'.menu-item-has-children\\').on(\\'touchend click\\', click_through, function(e) {\\r\\n        console.log(\"clicked\");\\r\\n            if(touchmoved != true){\\r\\n                e.preventDefault();\\r\\n                e.stopPropagation();\\r\\n                                $(this).closest(\\'.menu-item\\').siblings().removeClass(\\'visible\\');\\r\\n                                $(this).closest(\\'.menu-item\\').toggleClass(\\'visible\\');\\r\\n                setTimeout(function() {\\r\\n                    jQuery(\\'.menu-item\\').removeClass(\\'et-hover\\');\\r\\n                    jQuery(\\'.menu-item\\').removeClass(\\'et-touch-hover\\');\\r\\n                }, 800);\\r\\n            }\\r\\n        }).on(\\'touchmove\\', click_through, function(e) {\\r\\n            touchmoved = true;\\r\\n        }).on(\\'touchstart\\', click_through, function(e) {\\r\\n            touchmoved = false;\\r\\n        });  \\r\\n\\r\\n    } else {\\r\\n        console.log(\"is NOT mobile\");\\r\\n        $(\\'body\\').on(\\'touchstart click\\', click_through, function(e) {\\r\\n            e.preventDefault();\\r\\n            e.stopPropagation();\\r\\n                        $(this).closest(\\'.menu-item\\').siblings().removeClass(\\'visible\\');\\r\\n                        $(this).closest(\\'.menu-item\\').toggleClass(\\'visible\\');\\r\\n            setTimeout(function() {\\r\\n                jQuery(\\'.menu-item\\').removeClass(\\'et-hover\\');\\r\\n                jQuery(\\'.menu-item\\').removeClass(\\'et-touch-hover\\');\\r\\n            }, 800);\\r\\n        });\\r\\n    }\\r\\n    \\r\\n        // If change this click function, make sure to test fully again\\r\\n    $(\"#dm_nav .menu-item\").on(\"touchstart\", \\'a\\',function(e) {\\r\\n        touchmoved = false;\\r\\n        //var addressValue = $(this).attr(\"href\");\\r\\n        //window.location.href = addressValue;\\r\\n    }).on(\"touchmove\", \\'a\\', function(e){\\r\\n        touchmoved = true;\\r\\n    }).on(\"touchend click\", \\'a\\', function(e){\\r\\n        if ( touchmoved != true ){\\r\\n            e.preventDefault();\\r\\n            e.stopPropagation();\\r\\n            if ( $(this).siblings(\\'.sub-menu\\').length > 0 ) {\\r\\n                        $(this).closest(\\'.menu-item\\').siblings().removeClass(\\'visible\\');\\r\\n                            $(this).closest(\\'.menu-item\\').toggleClass(\\'visible\\');\\r\\n                setTimeout(function() {\\r\\n                    jQuery(\\'.menu-item\\').removeClass(\\'et-hover\\');\\r\\n                    jQuery(\\'.menu-item\\').removeClass(\\'et-touch-hover\\');\\r\\n                }, 800);\\r\\n            }else{\\r\\n                var addressValue = $(this).attr(\"href\");\\r\\n                var addresstarget = $(this).attr(\\'target\\');\\r\\n                if (addresstarget == \"_blank\") {\\r\\n                    window.open(addressValue, \\'_blank\\');\\r\\n                } else {\\r\\n                    window.location.href = addressValue;\\r\\n                }\\r\\n            }\\r\\n        }\\r\\n    });\\r\\n        });\\r\\n</script>\\r\\n<script> /* <![CDATA[ */var tribe_l10n_datatables = {\"aria\":{\"sort_ascending\":\": activate to sort column ascending\",\"sort_descending\":\": activate to sort column descending\"},\"length_menu\":\"Show _MENU_ entries\",\"empty_table\":\"No data available in table\",\"info\":\"Showing _START_ to _END_ of _TOTAL_ entries\",\"info_empty\":\"Showing 0 to 0 of 0 entries\",\"info_filtered\":\"(filtered from _MAX_ total entries)\",\"zero_records\":\"No matching records found\",\"search\":\"Search:\",\"all_selected_text\":\"All items on this page were selected. \",\"select_all_link\":\"Select all pages\",\"clear_selection\":\"Clear Selection.\",\"pagination\":{\"all\":\"All\",\"next\":\"Next\",\"previous\":\"Previous\"},\"select\":{\"rows\":{\"0\":\"\",\"_\":\": Selected %d rows\",\"1\":\": Selected 1 row\"}},\"datepicker\":{\"dayNames\":[\"Sunday\",\"Monday\",\"Tuesday\",\"Wednesday\",\"Thursday\",\"Friday\",\"Saturday\"],\"dayNamesShort\":[\"Sun\",\"Mon\",\"Tue\",\"Wed\",\"Thu\",\"Fri\",\"Sat\"],\"dayNamesMin\":[\"S\",\"M\",\"T\",\"W\",\"T\",\"F\",\"S\"],\"monthNames\":[\"January\",\"February\",\"March\",\"April\",\"May\",\"June\",\"July\",\"August\",\"September\",\"October\",\"November\",\"December\"],\"monthNamesShort\":[\"January\",\"February\",\"March\",\"April\",\"May\",\"June\",\"July\",\"August\",\"September\",\"October\",\"November\",\"December\"],\"monthNamesMin\":[\"Jan\",\"Feb\",\"Mar\",\"Apr\",\"May\",\"Jun\",\"Jul\",\"Aug\",\"Sep\",\"Oct\",\"Nov\",\"Dec\"],\"nextText\":\"Next\",\"prevText\":\"Prev\",\"currentText\":\"Today\",\"closeText\":\"Done\",\"today\":\"Today\",\"clear\":\"Clear\"}};/* ]]> */ </script><!-- Tracking tag. Place in the <body> section of webpage -->\\r\\n<!-- Privacy policy at http://tag.brandcdn.com/privacy -->\\r\\n<script type=\"text/javascript\" src=\"//tag.brandcdn.com/autoscript/codeup_vfzsuk1vmuvtvda9/codeup.js\"></script>\\r\\n<!-- Google Tag Manager (noscript) -->\\r\\n<noscript><iframe src=\"https://www.googletagmanager.com/ns.html?id=GTM-5HBXRV7\"\\r\\nheight=\"0\" width=\"0\" style=\"display:none;visibility:hidden\"></iframe></noscript>\\r\\n<!-- End Google Tag Manager (noscript) -->\\r\\n\\r\\n<script type=\"text/javascript\">\\r\\n_linkedin_partner_id = \"3803418\";\\r\\nwindow._linkedin_data_partner_ids = window._linkedin_data_partner_ids || [];\\r\\nwindow._linkedin_data_partner_ids.push(_linkedin_partner_id);\\r\\n</script><script type=\"text/javascript\">\\r\\n(function(l) {\\r\\nif (!l){window.lintrk = function(a,b){window.lintrk.q.push([a,b])};\\r\\nwindow.lintrk.q=[]}\\r\\nvar s = document.getElementsByTagName(\"script\")[0];\\r\\nvar b = document.createElement(\"script\");\\r\\nb.type = \"text/javascript\";b.async = true;\\r\\nb.src = \"https://snap.licdn.com/li.lms-analytics/insight.min.js\";\\r\\ns.parentNode.insertBefore(b, s);})(window.lintrk);\\r\\n</script>\\r\\n<noscript>\\r\\n<img height=\"1\" width=\"1\" style=\"display:none;\" alt=\"\" src=\"https://px.ads.linkedin.com/collect/?pid=3803418&amp;fmt=gif\">\\r\\n</noscript>\\r\\n<!-- Tracking tag. Place in the <body> section of webpage -->\\r\\n\\r\\n<!-- Privacy policy at http://tag.brandcdn.com/privacy -->\\r\\n\\r\\n<script type=\"text/javascript\" src=\"//tag.brandcdn.com/autoscript/codeup_vgxssk1vnuvzeja9/Codeup.js\"></script>\\r\\n<!-- Google Tag Manager (noscript) -->\\r\\n\\r\\n<noscript><iframe src=https://www.googletagmanager.com/ns.html?id=GTM-5HBXRV7\\r\\n\\r\\nheight=\"0\" width=\"0\" style=\"display:none;visibility:hidden\"></iframe></noscript>\\r\\n\\r\\n<!-- End Google Tag Manager (noscript) -->\\r\\n<!-- Begin TVSquared Page Visits Tracking Code -->\\r\\n<script type=\"text/javascript\">\\r\\n    var _tvq = window._tvq = window._tvq || [];\\r\\n    (function() {\\r\\n      var u = ((\"https:\" == document.location.protocol) ?\\r\\n          \"https://collector-29348.us.tvsquared.com/\"\\r\\n          :\\r\\n          \"http://collector-29348.us.tvsquared.com/\");\\r\\n      _tvq.push([\\'setSiteId\\', \"TV-7209635418-1\"]);\\r\\n      _tvq.push([\\'setTrackerUrl\\', u + \\'tv2track.php\\']);\\r\\n      _tvq.push([function() {\\r\\n          this.deleteCustomVariable(5, \\'page\\')\\r\\n      }]);\\r\\n      _tvq.push([\\'trackPageView\\']);\\r\\n      var d = document,\\r\\n          g = d.createElement(\\'script\\'),\\r\\n          s = d.getElementsByTagName(\\'script\\')[0];\\r\\n      g.type = \\'text/javascript\\';\\r\\n      g.defer = true;\\r\\n      g.async = true;\\r\\n      g.src = u + \\'tv2track.js\\';\\r\\n      s.parentNode.insertBefore(g, s);\\r\\n    })();\\r\\n</script>\\r\\n<!-- End TVSquared Tracking Code -->\\r\\n<!-- Start of HubSpot Embed Code -->\\r\\n<script type=\"text/javascript\" id=\"hs-script-loader\" async defer src=\"//js.hs-scripts.com/2817329.js\"></script>\\r\\n<!-- End of HubSpot Embed Code --><link rel=\\'stylesheet\\' id=\\'mediaelement-css\\' href=\\'https://tribucodeup.wpenginepowered.com/wp-includes/js/mediaelement/mediaelementplayer-legacy.min.css?ver=4.2.17\\' type=\\'text/css\\' media=\\'all\\' />\\n<link rel=\\'stylesheet\\' id=\\'wp-mediaelement-css\\' href=\\'https://tribucodeup.wpenginepowered.com/wp-includes/js/mediaelement/wp-mediaelement.min.css?ver=6.1.1\\' type=\\'text/css\\' media=\\'all\\' />\\n<link rel=\\'stylesheet\\' id=\\'cookie-law-info-table-css\\' href=\\'https://tribucodeup.wpenginepowered.com/wp-content/plugins/cookie-law-info/legacy/public/css/cookie-law-info-table.css?ver=3.0.8\\' type=\\'text/css\\' media=\\'all\\' />\\n<script type=\\'text/javascript\\' src=\\'https://tribucodeup.wpenginepowered.com/wp-content/plugins/divi-mobile/js/classie.js?ver=1.7\\' id=\\'divi-mobile-classie-js-js\\'></script>\\n<script type=\\'text/javascript\\' id=\\'divi-mobile-vb-js-js-after\\'>\\njQuery(\".divi-mobile-stop-stacking\").closest(\".et_pb_row\").addClass(\"divi-mobile-stop-stacking-row\");\\n</script>\\n<script type=\\'text/javascript\\' id=\\'leadin-script-loader-js-js-extra\\'>\\n/* <![CDATA[ */\\nvar leadin_wordpress = {\"userRole\":\"visitor\",\"pageType\":\"other\",\"leadinPluginVersion\":\"10.0.25\"};\\n/* ]]> */\\n</script>\\n<script type=\\'text/javascript\\' src=\\'https://js.hs-scripts.com/2817329.js?integration=WordPress&#038;ver=10.0.25\\' async defer id=\\'hs-script-loader\\'></script>\\n<script type=\\'text/javascript\\' src=\\'https://tribucodeup.wpenginepowered.com/wp-content/plugins/popups-for-divi/scripts/front.min.js?ver=3.0.5\\' id=\\'js-divi-area-js\\'></script>\\n<script type=\\'text/javascript\\' id=\\'divi-custom-script-js-extra\\'>\\n/* <![CDATA[ */\\nvar DIVI = {\"item_count\":\"%d Item\",\"items_count\":\"%d Items\"};\\nvar et_builder_utils_params = {\"condition\":{\"diviTheme\":true,\"extraTheme\":false},\"scrollLocations\":[\"app\",\"top\"],\"builderScrollLocations\":{\"desktop\":\"app\",\"tablet\":\"app\",\"phone\":\"app\"},\"onloadScrollLocation\":\"app\",\"builderType\":\"fe\"};\\nvar et_frontend_scripts = {\"builderCssContainerPrefix\":\"#et-boc\",\"builderCssLayoutPrefix\":\"#et-boc .et-l\"};\\nvar et_pb_custom = {\"ajaxurl\":\"https:\\\\/\\\\/codeup.com\\\\/wp-admin\\\\/admin-ajax.php\",\"images_uri\":\"https:\\\\/\\\\/codeup.com\\\\/wp-content\\\\/themes\\\\/Divi\\\\/images\",\"builder_images_uri\":\"https:\\\\/\\\\/codeup.com\\\\/wp-content\\\\/themes\\\\/Divi\\\\/includes\\\\/builder\\\\/images\",\"et_frontend_nonce\":\"0f75d48a6c\",\"subscription_failed\":\"Please, check the fields below to make sure you entered the correct information.\",\"et_ab_log_nonce\":\"1b4ff2643a\",\"fill_message\":\"Please, fill in the following fields:\",\"contact_error_message\":\"Please, fix the following errors:\",\"invalid\":\"Invalid email\",\"captcha\":\"Captcha\",\"prev\":\"Prev\",\"previous\":\"Previous\",\"next\":\"Next\",\"wrong_captcha\":\"You entered the wrong number in captcha.\",\"wrong_checkbox\":\"Checkbox\",\"ignore_waypoints\":\"no\",\"is_divi_theme_used\":\"1\",\"widget_search_selector\":\".widget_search\",\"ab_tests\":[],\"is_ab_testing_active\":\"\",\"page_id\":\"19782\",\"unique_test_id\":\"\",\"ab_bounce_rate\":\"5\",\"is_cache_plugin_active\":\"yes\",\"is_shortcode_tracking\":\"\",\"tinymce_uri\":\"https:\\\\/\\\\/codeup.com\\\\/wp-content\\\\/themes\\\\/Divi\\\\/includes\\\\/builder\\\\/frontend-builder\\\\/assets\\\\/vendors\",\"waypoints_options\":[]};\\nvar et_pb_box_shadow_elements = [];\\n/* ]]> */\\n</script>\\n<script type=\\'text/javascript\\' src=\\'https://tribucodeup.wpenginepowered.com/wp-content/themes/Divi/js/scripts.min.js?ver=4.18.0\\' id=\\'divi-custom-script-js\\'></script>\\n<script type=\\'text/javascript\\' src=\\'https://tribucodeup.wpenginepowered.com/wp-content/themes/Divi/js/smoothscroll.js?ver=4.18.0\\' id=\\'smoothscroll-js\\'></script>\\n<script type=\\'text/javascript\\' src=\\'https://tribucodeup.wpenginepowered.com/wp-content/themes/Divi/includes/builder/feature/dynamic-assets/assets/js/jquery.fitvids.js?ver=4.18.0\\' id=\\'fitvids-js\\'></script>\\n<script type=\\'text/javascript\\' src=\\'https://tribucodeup.wpenginepowered.com/wp-content/themes/Divi/includes/builder/feature/dynamic-assets/assets/js/easypiechart.js?ver=4.18.0\\' id=\\'easypiechart-js\\'></script>\\n<script type=\\'text/javascript\\' src=\\'https://tribucodeup.wpenginepowered.com/wp-content/themes/Divi/includes/builder/feature/dynamic-assets/assets/js/salvattore.js?ver=4.18.0\\' id=\\'salvattore-js\\'></script>\\n<script type=\\'text/javascript\\' src=\\'https://tribucodeup.wpenginepowered.com/wp-content/plugins/divi-event-calendar-module/scripts/frontend-bundle.min.js?ver=1.0.0\\' id=\\'divi-event-calendar-module-frontend-bundle-js\\'></script>\\n<script type=\\'text/javascript\\' src=\\'https://tribucodeup.wpenginepowered.com/wp-content/plugins/divi-mobile/scripts/frontend-bundle.min.js?ver=1.0.0\\' id=\\'divi-mobile-frontend-bundle-js\\'></script>\\n<script type=\\'text/javascript\\' src=\\'https://tribucodeup.wpenginepowered.com/wp-content/themes/Divi/core/admin/js/common.js?ver=4.18.0\\' id=\\'et-core-common-js\\'></script>\\n<script type=\\'text/javascript\\' id=\\'mediaelement-core-js-before\\'>\\nvar mejsL10n = {\"language\":\"en\",\"strings\":{\"mejs.download-file\":\"Download File\",\"mejs.install-flash\":\"You are using a browser that does not have Flash player enabled or installed. Please turn on your Flash player plugin or download the latest version from https:\\\\/\\\\/get.adobe.com\\\\/flashplayer\\\\/\",\"mejs.fullscreen\":\"Fullscreen\",\"mejs.play\":\"Play\",\"mejs.pause\":\"Pause\",\"mejs.time-slider\":\"Time Slider\",\"mejs.time-help-text\":\"Use Left\\\\/Right Arrow keys to advance one second, Up\\\\/Down arrows to advance ten seconds.\",\"mejs.live-broadcast\":\"Live Broadcast\",\"mejs.volume-help-text\":\"Use Up\\\\/Down Arrow keys to increase or decrease volume.\",\"mejs.unmute\":\"Unmute\",\"mejs.mute\":\"Mute\",\"mejs.volume-slider\":\"Volume Slider\",\"mejs.video-player\":\"Video Player\",\"mejs.audio-player\":\"Audio Player\",\"mejs.captions-subtitles\":\"Captions\\\\/Subtitles\",\"mejs.captions-chapters\":\"Chapters\",\"mejs.none\":\"None\",\"mejs.afrikaans\":\"Afrikaans\",\"mejs.albanian\":\"Albanian\",\"mejs.arabic\":\"Arabic\",\"mejs.belarusian\":\"Belarusian\",\"mejs.bulgarian\":\"Bulgarian\",\"mejs.catalan\":\"Catalan\",\"mejs.chinese\":\"Chinese\",\"mejs.chinese-simplified\":\"Chinese (Simplified)\",\"mejs.chinese-traditional\":\"Chinese (Traditional)\",\"mejs.croatian\":\"Croatian\",\"mejs.czech\":\"Czech\",\"mejs.danish\":\"Danish\",\"mejs.dutch\":\"Dutch\",\"mejs.english\":\"English\",\"mejs.estonian\":\"Estonian\",\"mejs.filipino\":\"Filipino\",\"mejs.finnish\":\"Finnish\",\"mejs.french\":\"French\",\"mejs.galician\":\"Galician\",\"mejs.german\":\"German\",\"mejs.greek\":\"Greek\",\"mejs.haitian-creole\":\"Haitian Creole\",\"mejs.hebrew\":\"Hebrew\",\"mejs.hindi\":\"Hindi\",\"mejs.hungarian\":\"Hungarian\",\"mejs.icelandic\":\"Icelandic\",\"mejs.indonesian\":\"Indonesian\",\"mejs.irish\":\"Irish\",\"mejs.italian\":\"Italian\",\"mejs.japanese\":\"Japanese\",\"mejs.korean\":\"Korean\",\"mejs.latvian\":\"Latvian\",\"mejs.lithuanian\":\"Lithuanian\",\"mejs.macedonian\":\"Macedonian\",\"mejs.malay\":\"Malay\",\"mejs.maltese\":\"Maltese\",\"mejs.norwegian\":\"Norwegian\",\"mejs.persian\":\"Persian\",\"mejs.polish\":\"Polish\",\"mejs.portuguese\":\"Portuguese\",\"mejs.romanian\":\"Romanian\",\"mejs.russian\":\"Russian\",\"mejs.serbian\":\"Serbian\",\"mejs.slovak\":\"Slovak\",\"mejs.slovenian\":\"Slovenian\",\"mejs.spanish\":\"Spanish\",\"mejs.swahili\":\"Swahili\",\"mejs.swedish\":\"Swedish\",\"mejs.tagalog\":\"Tagalog\",\"mejs.thai\":\"Thai\",\"mejs.turkish\":\"Turkish\",\"mejs.ukrainian\":\"Ukrainian\",\"mejs.vietnamese\":\"Vietnamese\",\"mejs.welsh\":\"Welsh\",\"mejs.yiddish\":\"Yiddish\"}};\\n</script>\\n<script type=\\'text/javascript\\' src=\\'https://tribucodeup.wpenginepowered.com/wp-includes/js/mediaelement/mediaelement-and-player.min.js?ver=4.2.17\\' id=\\'mediaelement-core-js\\'></script>\\n<script type=\\'text/javascript\\' src=\\'https://tribucodeup.wpenginepowered.com/wp-includes/js/mediaelement/mediaelement-migrate.min.js?ver=6.1.1\\' id=\\'mediaelement-migrate-js\\'></script>\\n<script type=\\'text/javascript\\' id=\\'mediaelement-js-extra\\'>\\n/* <![CDATA[ */\\nvar _wpmejsSettings = {\"pluginPath\":\"\\\\/wp-includes\\\\/js\\\\/mediaelement\\\\/\",\"classPrefix\":\"mejs-\",\"stretching\":\"responsive\"};\\n/* ]]> */\\n</script>\\n<script type=\\'text/javascript\\' src=\\'https://tribucodeup.wpenginepowered.com/wp-includes/js/mediaelement/wp-mediaelement.min.js?ver=6.1.1\\' id=\\'wp-mediaelement-js\\'></script>\\n<script type=\\'text/javascript\\' defer src=\\'https://js.hsforms.net/forms/embed/v2.js?ver=10.0.25\\' id=\\'leadin-forms-v2-js\\'></script>\\n<script type=\\'text/javascript\\' id=\\'et-builder-modules-script-sticky-js-extra\\'>\\n/* <![CDATA[ */\\nvar et_pb_sticky_elements = {\"et_pb_section_1_tb_header\":{\"id\":\"et_pb_section_1_tb_header\",\"selector\":\".et_pb_section_1_tb_header\",\"position\":\"top\",\"topOffset\":\"0px\",\"bottomOffset\":\"0px\",\"topLimit\":\"none\",\"bottomLimit\":\"none\",\"offsetSurrounding\":\"on\",\"transition\":\"on\",\"styles\":{\"module_alignment\":{\"desktop\":\"\",\"tablet\":\"\",\"phone\":\"\"},\"positioning\":\"relative\"},\"stickyStyles\":{\"position_origin_r\":\"top_left\",\"horizontal_offset\":\"\",\"vertical_offset\":\"\"}}};\\n/* ]]> */\\n</script>\\n<script type=\\'text/javascript\\' src=\\'https://tribucodeup.wpenginepowered.com/wp-content/themes/Divi/includes/builder/feature/dynamic-assets/assets/js/sticky-elements.js?ver=4.18.0\\' id=\\'et-builder-modules-script-sticky-js\\'></script>\\n<style id=\"et-builder-module-design-deferred-120-cached-inline-styles\">.et_pb_section_0_tb_header.et_pb_section{padding-top:0px;padding-bottom:3px;background-color:#FFC20E!important}.et_pb_row_0_tb_header.et_pb_row{padding-top:11px!important;padding-bottom:10px!important;padding-top:11px;padding-bottom:10px}.et_pb_text_0_tb_header.et_pb_text,.et_pb_text_0_tb_header.et_pb_text a{color:#181D32!important}.et_pb_text_0_tb_header a{text-align:right}.et_pb_text_0_tb_header{background-color:#FFC20E;padding-top:12px!important;margin-right:-25px!important}.et_pb_search_0_tb_header .et_pb_searchform{background-color:#FFFFFF}.et_pb_search_0_tb_header{overflow-x:hidden;overflow-y:hidden}.et_pb_search_0_tb_header input.et_pb_s{padding-top:0.715em!important;padding-right:0.715em!important;padding-bottom:0.715em!important;padding-left:0.715em!important;border-color:#FFFFFF!important;height:auto;min-height:0}.et_pb_search_0_tb_header input.et_pb_searchsubmit{background-color:#FFFFFF!important;border-color:#FFFFFF!important}.et_pb_section_1_tb_header{border-color:#FFC20E;transition:border 300ms ease 0ms}.et_pb_sticky.et_pb_section_1_tb_header{border-width:0px 0px 4px 0px}.et_pb_section_1_tb_header.et_pb_section{padding-top:14px;padding-bottom:10px}.et_pb_row_1_tb_header.et_pb_row{padding-top:5px!important;padding-bottom:2px!important;padding-top:5px;padding-bottom:2px}.et_pb_menu_0_tb_header.et_pb_menu ul li a{font-weight:600;color:#000000!important}.et_pb_menu_0_tb_header.et_pb_menu{background-color:#ffffff}.et_pb_menu_0_tb_header{margin-right:-43px!important;width:115.1%}.et_pb_menu_0_tb_header.et_pb_menu .nav li ul{background-color:#ffffff!important}.et_pb_menu_0_tb_header.et_pb_menu .et_mobile_menu,.et_pb_menu_0_tb_header.et_pb_menu .et_mobile_menu ul{background-color:#4E5E33!important}.et_pb_menu_0_tb_header.et_pb_menu .et_mobile_menu a{color:#FFFFFF!important}.et_pb_menu_0_tb_header .et_pb_menu_inner_container>.et_pb_menu__logo-wrap,.et_pb_menu_0_tb_header .et_pb_menu__logo-slot{width:25%;max-width:100%}.et_pb_menu_0_tb_header .et_pb_menu_inner_container>.et_pb_menu__logo-wrap .et_pb_menu__logo img,.et_pb_menu_0_tb_header .et_pb_menu__logo-slot .et_pb_menu__logo-wrap img{height:auto;max-height:none}.et_pb_menu_0_tb_header .mobile_nav .mobile_menu_bar:before,.et_pb_menu_0_tb_header .et_pb_menu__icon.et_pb_menu__search-button,.et_pb_menu_0_tb_header .et_pb_menu__icon.et_pb_menu__close-search-button,.et_pb_menu_0_tb_header .et_pb_menu__icon.et_pb_menu__cart-button{color:#4E5E33}.et_pb_button_0_tb_header_wrapper{margin-top:20px!important}body #page-container .et_pb_section .et_pb_button_0_tb_header{color:#000000!important;border-color:#79A04A;border-radius:10px;font-size:17px;font-weight:700!important;background-color:#79A04A}body #page-container .et_pb_section .et_pb_button_0_tb_header:after{font-size:1.6em}body.et_button_custom_icon #page-container .et_pb_button_0_tb_header:after{font-size:17px}.et_pb_button_0_tb_header,.et_pb_button_0_tb_header:after{transition:all 300ms ease 0ms}@media only screen and (max-width:980px){.et_pb_section_1_tb_header{border-bottom-color:#FFC20E}body #page-container .et_pb_section .et_pb_button_0_tb_header:after{display:inline-block;opacity:0}body #page-container .et_pb_section .et_pb_button_0_tb_header:hover:after{opacity:1}}@media only screen and (min-width:768px) and (max-width:980px){.et_pb_column_3_tb_header,.et_pb_button_0_tb_header{display:none!important}}@media only screen and (max-width:767px){.et_pb_text_0_tb_header,.et_pb_column_3_tb_header,.et_pb_button_0_tb_header{display:none!important}.et_pb_section_1_tb_header{border-bottom-color:#FFC20E}.et_pb_menu_0_tb_header.et_pb_menu ul li a{font-size:16px;line-height:1.2em}body #page-container .et_pb_section .et_pb_button_0_tb_header:after{display:inline-block;opacity:0}body #page-container .et_pb_section .et_pb_button_0_tb_header:hover:after{opacity:1}}</style><style id=\"et-builder-module-design-deferred-16587-cached-inline-styles\">.et_pb_section_0_tb_body.et_pb_section{padding-bottom:16px;background-color:#4E5E33!important}.et_pb_text_0_tb_body{font-size:18px;margin-top:30px!important;margin-bottom:30px!important}.et_pb_text_0_tb_body h1{font-family:\\'Poppins\\',Helvetica,Arial,Lucida,sans-serif;font-weight:700;font-size:52px;color:#FFFFFF!important}.et_pb_text_0_tb_body h6{font-family:\\'Poppins\\',Helvetica,Arial,Lucida,sans-serif;font-size:22px;color:#FFFFFF!important}.et_pb_search_0_tb_body input.et_pb_searchsubmit{font-family:\\'Poppins\\',Helvetica,Arial,Lucida,sans-serif;font-size:16px;color:#000000!important;background-color:#FFFFFF!important;border-color:#FFFFFF!important}.et_pb_search_0_tb_body form input.et_pb_s,.et_pb_search_0_tb_body form input.et_pb_s::placeholder{font-family:\\'Poppins\\',Helvetica,Arial,Lucida,sans-serif;font-family:\\'Poppins\\',Helvetica,Arial,Lucida,sans-serif;font-family:\\'Poppins\\',Helvetica,Arial,Lucida,sans-serif;font-family:\\'Poppins\\',Helvetica,Arial,Lucida,sans-serif}.et_pb_search_0_tb_body form input.et_pb_s::-ms-input-placeholder{font-family:\\'Poppins\\',Helvetica,Arial,Lucida,sans-serif;font-family:\\'Poppins\\',Helvetica,Arial,Lucida,sans-serif;font-family:\\'Poppins\\',Helvetica,Arial,Lucida,sans-serif;font-family:\\'Poppins\\',Helvetica,Arial,Lucida,sans-serif}.et_pb_search_0_tb_body form input.et_pb_s::-webkit-input-placeholder{font-family:\\'Poppins\\',Helvetica,Arial,Lucida,sans-serif;font-family:\\'Poppins\\',Helvetica,Arial,Lucida,sans-serif;font-family:\\'Poppins\\',Helvetica,Arial,Lucida,sans-serif;font-family:\\'Poppins\\',Helvetica,Arial,Lucida,sans-serif;color:#666666!important}.et_pb_search_0_tb_body form input.et_pb_s::-moz-placeholder{font-family:\\'Poppins\\',Helvetica,Arial,Lucida,sans-serif;color:#666666!important}.et_pb_search_0_tb_body form input.et_pb_s::-moz-placeholder::-webkit-input-placeholder{font-family:\\'Poppins\\',Helvetica,Arial,Lucida,sans-serif}.et_pb_search_0_tb_body form input.et_pb_s::-moz-placeholder::-moz-placeholder{font-family:\\'Poppins\\',Helvetica,Arial,Lucida,sans-serif}.et_pb_search_0_tb_body form input.et_pb_s::-moz-placeholder::-ms-input-placeholder{font-family:\\'Poppins\\',Helvetica,Arial,Lucida,sans-serif}.et_pb_search_0_tb_body .et_pb_searchform{background-color:#FFFFFF}.et_pb_search_0_tb_body.et_pb_search{border-color:#D8E1E2}.et_pb_search_0_tb_body{overflow-x:hidden;overflow-y:hidden}.et_pb_search_0_tb_body input.et_pb_s{padding-top:0.715em!important;padding-right:0.715em!important;padding-bottom:0.715em!important;padding-left:0.715em!important;border-color:#FFFFFF!important;height:auto;min-height:0}.et_pb_search_0_tb_body form input.et_pb_s{color:#666666}.et_pb_search_0_tb_body form input.et_pb_s:-ms-input-placeholder{color:#666666!important}.et_pb_section_1_tb_body.et_pb_section{padding-bottom:0px;background-color:#FFFFFF!important}.et_pb_section_1_tb_body.section_has_divider.et_pb_top_divider .et_pb_top_inside_divider{background-image:url(data:image/svg+xml;base64,PHN2ZyB3aWR0aD0iMTAwJSIgaGVpZ2h0PSI5MHZ3IiB2aWV3Qm94PSIwIDAgMTI4MCAxNDAiIHByZXNlcnZlQXNwZWN0UmF0aW89Im5vbmUiIHhtbG5zPSJodHRwOi8vd3d3LnczLm9yZy8yMDAwL3N2ZyI+PGcgZmlsbD0icmdiYSg3Myw3OCwxMDcsMC4wNykiPjxwYXRoIGQ9Ik0wIDE0MGgxMjgwQzU3My4wOCAxNDAgMCAwIDAgMHoiIGZpbGwtb3BhY2l0eT0iLjMiLz48cGF0aCBkPSJNMCAxNDBoMTI4MEM1NzMuMDggMTQwIDAgMzAgMCAzMHoiIGZpbGwtb3BhY2l0eT0iLjUiLz48cGF0aCBkPSJNMCAxNDBoMTI4MEM1NzMuMDggMTQwIDAgNjAgMCA2MHoiLz48L2c+PC9zdmc+);background-size:100% 90vw;top:0;height:90vw;z-index:1;transform:scale(-1,-1)}.et_pb_blog_0_tb_body .et_pb_post .entry-title a,.et_pb_blog_0_tb_body .not-found-title{color:#181D32!important}.et_pb_blog_0_tb_body .et_pb_post .entry-title,.et_pb_blog_0_tb_body .not-found-title{font-size:25px!important}.et_pb_blog_0_tb_body .et_pb_post .post-meta,.et_pb_blog_0_tb_body .et_pb_post .post-meta a,#left-area .et_pb_blog_0_tb_body .et_pb_post .post-meta,#left-area .et_pb_blog_0_tb_body .et_pb_post .post-meta a{font-size:13px;color:#E9573F!important}.et_pb_blog_0_tb_body .et_pb_post div.post-content a.more-link{font-family:\\'Poppins\\',Helvetica,Arial,Lucida,sans-serif;font-weight:700;text-decoration:underline;-webkit-text-decoration-color:#79A04A;text-decoration-color:#79A04A;color:#79A04A!important}.et_pb_blog_0_tb_body .pagination a{font-size:18px;color:#79A04A!important;line-height:2em}.et_pb_blog_0_tb_body .et_pb_blog_grid .et_pb_post{border-width:0px}.et_pb_blog_0_tb_body article.et_pb_post{box-shadow:0px 2px 70px -10px rgba(25,34,49,0.3)}.et_pb_text_1_tb_body.et_pb_text{color:#000000!important}.et_pb_text_1_tb_body{font-family:\\'Poppins\\',Helvetica,Arial,Lucida,sans-serif;font-size:16px}.et_pb_text_1_tb_body h1{font-weight:900;font-size:46px;color:#4E5E33!important;letter-spacing:1px}.et_pb_text_1_tb_body h2{font-family:\\'Poppins\\',Helvetica,Arial,Lucida,sans-serif;font-weight:700;font-size:34px;color:#000000!important}@media only screen and (max-width:980px){.et_pb_text_1_tb_body h1{font-size:40px}}@media only screen and (max-width:767px){.et_pb_text_1_tb_body h1{font-size:50px}}</style><style id=\"et-builder-module-design-deferred-101-cached-inline-styles\">.et_pb_section_0_tb_footer.et_pb_section{background-color:#79A04A!important}.et_pb_text_1_tb_footer.et_pb_text a,.et_pb_text_7_tb_footer.et_pb_text a,.et_pb_text_7_tb_footer.et_pb_text,.et_pb_text_6_tb_footer.et_pb_text,.et_pb_text_0_tb_footer.et_pb_text,.et_pb_text_4_tb_footer.et_pb_text{color:#000000!important}.et_pb_text_0_tb_footer{font-family:\\'Poppins\\',Helvetica,Arial,Lucida,sans-serif;font-size:16px}.et_pb_text_0_tb_footer h3{font-family:\\'Poppins\\',Helvetica,Arial,Lucida,sans-serif;font-weight:700;color:#000000!important;line-height:1.1em}.et_pb_section_1_tb_footer.et_pb_section{padding-top:13px;padding-bottom:10px;background-color:#FFFFFF!important}.et_pb_text_1_tb_footer.et_pb_text{color:#ffffff!important}.et_pb_text_1_tb_footer{line-height:1.2em;font-family:\\'Poppins\\',Helvetica,Arial,Lucida,sans-serif;font-size:40px;letter-spacing:0.05em;line-height:1.2em;margin-bottom:6px!important}.et_pb_text_1_tb_footer a{font-family:\\'Poppins\\',Helvetica,Arial,Lucida,sans-serif}.et_pb_text_1_tb_footer h3{font-family:\\'Poppins\\',Helvetica,Arial,Lucida,sans-serif;color:#4E5E33!important}ul.et_pb_social_media_follow_0_tb_footer{margin-bottom:8px!important}.et_pb_social_media_follow_0_tb_footer li a.icon:before{transition:color 300ms ease 0ms}.et_pb_social_media_follow_0_tb_footer li.et_pb_social_icon a.icon:before{color:#4E5E33}.et_pb_social_media_follow_0_tb_footer li.et_pb_social_icon a.icon:hover:before{color:#ea3900}.et_pb_text_2_tb_footer.et_pb_text,.et_pb_text_2_tb_footer.et_pb_text a{color:#4E5E33!important}.et_pb_image_0_tb_footer{padding-bottom:0px;text-align:center}.et_pb_text_3_tb_footer h4{font-family:\\'Poppins\\',Helvetica,Arial,Lucida,sans-serif;font-size:22px;color:#000000!important;letter-spacing:1px;line-height:1.6em}.et_pb_text_3_tb_footer,.et_pb_text_5_tb_footer{border-color:#FFC20E;border-bottom-width:5px}.et_pb_text_4_tb_footer,.et_pb_text_6_tb_footer{line-height:2em;font-weight:600;font-size:16px;line-height:2em}.et_pb_text_4_tb_footer.et_pb_text a,.et_pb_text_6_tb_footer.et_pb_text a{color:#000000!important;transition:color 300ms ease 0ms}.et_pb_text_6_tb_footer.et_pb_text a:hover,.et_pb_text_4_tb_footer.et_pb_text a:hover{color:#ea3900!important}.et_pb_text_6_tb_footer a,.et_pb_text_4_tb_footer a{line-height:2.5em}.et_pb_text_5_tb_footer h4{font-family:\\'Poppins\\',Helvetica,Arial,Lucida,sans-serif;font-size:22px;color:#000000!important;line-height:1.6em}body #page-container .et_pb_section .et_pb_button_0_tb_footer{color:#000000!important;border-color:#FFC20E;border-radius:10px;font-size:18px;font-family:\\'Poppins\\',Helvetica,Arial,Lucida,sans-serif!important;background-color:#FFC20E}body #page-container .et_pb_section .et_pb_button_0_tb_footer:after{font-size:1.6em}body.et_button_custom_icon #page-container .et_pb_button_0_tb_footer:after{font-size:18px}.et_pb_button_0_tb_footer,.et_pb_button_0_tb_footer:after{transition:all 300ms ease 0ms}.et_pb_row_2_tb_footer.et_pb_row{padding-top:7px!important;padding-bottom:9px!important;padding-top:7px;padding-bottom:9px}.et_pb_text_7_tb_footer h6{font-family:\\'Nunito\\',Helvetica,Arial,Lucida,sans-serif;font-size:11px;color:#FFFFFF!important}.et_pb_row_1_tb_footer.et_pb_row{padding-bottom:5px!important;margin-left:auto!important;margin-right:auto!important;padding-bottom:5px}@media only screen and (max-width:980px){.et_pb_text_1_tb_footer{font-size:30px}.et_pb_image_0_tb_footer .et_pb_image_wrap img{width:auto}.et_pb_text_3_tb_footer h4,.et_pb_text_5_tb_footer h4{font-size:20px}.et_pb_text_3_tb_footer,.et_pb_text_5_tb_footer{border-bottom-width:5px}body #page-container .et_pb_section .et_pb_button_0_tb_footer:after{display:inline-block;opacity:0}body #page-container .et_pb_section .et_pb_button_0_tb_footer:hover:after{opacity:1}}@media only screen and (max-width:767px){.et_pb_text_1_tb_footer{font-size:22px}.et_pb_image_0_tb_footer .et_pb_image_wrap img{width:auto}.et_pb_text_3_tb_footer h4,.et_pb_text_5_tb_footer h4{font-size:25px}.et_pb_text_3_tb_footer,.et_pb_text_5_tb_footer{border-bottom-width:5px}.et_pb_text_4_tb_footer,.et_pb_text_6_tb_footer{font-size:14px}.et_pb_button_0_tb_footer_wrapper{margin-bottom:20px!important}body #page-container .et_pb_section .et_pb_button_0_tb_footer:after{display:inline-block;opacity:0}body #page-container .et_pb_section .et_pb_button_0_tb_footer:hover:after{opacity:1}.et_pb_text_7_tb_footer{font-size:12px}}</style>\\t\\n\\t\\t\\t<span class=\"et_pb_scroll_top et-pb-icon\"></span>\\n\\t</body>\\n</html>\\n'"
      ]
     },
     "execution_count": 9,
     "metadata": {},
     "output_type": "execute_result"
    }
   ],
   "source": [
    "response.content"
   ]
  },
  {
   "cell_type": "code",
   "execution_count": 13,
   "id": "761fbfc6",
   "metadata": {},
   "outputs": [
    {
     "name": "stdout",
     "output_type": "stream",
     "text": [
      "y\n"
     ]
    }
   ],
   "source": [
    "if response.status_code == 200:\n",
    "    soup = BeautifulSoup(response.content, 'html.parser')\n",
    "    if soup:\n",
    "        print('y')"
   ]
  },
  {
   "cell_type": "code",
   "execution_count": 15,
   "id": "7fc1b1de",
   "metadata": {
    "collapsed": true
   },
   "outputs": [
    {
     "data": {
      "text/plain": [
       "[<a class=\"entry-featured-image-url\" href=\"https://codeup.com/featured/women-in-tech-panelist-spotlight/\"><img alt=\"Women in tech: Panelist Spotlight – Magdalena Rahn\" class=\"\" decoding=\"async\" height=\"250\" loading=\"lazy\" sizes=\"(max-width:479px) 479px, 100vw \" src=\"https://tribucodeup.wpenginepowered.com/wp-content/uploads/2023/03/WOMEN-IN-TECH-1920-×-1080-px-3-1-400x250.png\" srcset=\"https://tribucodeup.wpenginepowered.com/wp-content/uploads/2023/03/WOMEN-IN-TECH-1920-×-1080-px-3-1.png 479w, https://tribucodeup.wpenginepowered.com/wp-content/uploads/2023/03/WOMEN-IN-TECH-1920-×-1080-px-3-1-400x250.png 480w \" width=\"400\"/></a>,\n",
       " <a class=\"entry-featured-image-url\" href=\"https://codeup.com/featured/women-in-tech-rachel-robbins-mayhill/\"><img alt=\"Women in tech: Panelist Spotlight – Rachel Robbins-Mayhill\" class=\"\" decoding=\"async\" height=\"250\" loading=\"lazy\" sizes=\"(max-width:479px) 479px, 100vw \" src=\"https://tribucodeup.wpenginepowered.com/wp-content/uploads/2023/03/WOMEN-IN-TECH-1920-×-1080-px-2-400x250.png\" srcset=\"https://tribucodeup.wpenginepowered.com/wp-content/uploads/2023/03/WOMEN-IN-TECH-1920-×-1080-px-2.png 479w, https://tribucodeup.wpenginepowered.com/wp-content/uploads/2023/03/WOMEN-IN-TECH-1920-×-1080-px-2-400x250.png 480w \" width=\"400\"/></a>,\n",
       " <a class=\"entry-featured-image-url\" href=\"https://codeup.com/codeup-news/women-in-tech-panelist-spotlight-sarah-mellor/\"><img alt=\"Women in Tech: Panelist Spotlight – Sarah Mellor\" class=\"\" decoding=\"async\" height=\"250\" loading=\"lazy\" sizes=\"(max-width:479px) 479px, 100vw \" src=\"https://tribucodeup.wpenginepowered.com/wp-content/uploads/2023/03/WOMEN-IN-TECH-1920-×-1080-px-1-400x250.png\" srcset=\"https://tribucodeup.wpenginepowered.com/wp-content/uploads/2023/03/WOMEN-IN-TECH-1920-×-1080-px-1.png 479w, https://tribucodeup.wpenginepowered.com/wp-content/uploads/2023/03/WOMEN-IN-TECH-1920-×-1080-px-1-400x250.png 480w \" width=\"400\"/></a>,\n",
       " <a class=\"entry-featured-image-url\" href=\"https://codeup.com/events/women-in-tech-madeleine/\"><img alt=\"Women in Tech: Panelist Spotlight – Madeleine Capper\" class=\"\" decoding=\"async\" height=\"250\" loading=\"lazy\" sizes=\"(max-width:479px) 479px, 100vw \" src=\"https://tribucodeup.wpenginepowered.com/wp-content/uploads/2023/03/Madeleine-C.-400x250.png\" srcset=\"https://tribucodeup.wpenginepowered.com/wp-content/uploads/2023/03/Madeleine-C..png 479w, https://tribucodeup.wpenginepowered.com/wp-content/uploads/2023/03/Madeleine-C.-400x250.png 480w \" width=\"400\"/></a>,\n",
       " <a class=\"entry-featured-image-url\" href=\"https://codeup.com/codeup-news/panelist-spotlight-4/\"><img alt=\"Black Excellence in Tech: Panelist Spotlight – Wilmarie De La Cruz Mejia\" class=\"\" decoding=\"async\" height=\"250\" loading=\"lazy\" sizes=\"(max-width:479px) 479px, 100vw \" src=\"https://tribucodeup.wpenginepowered.com/wp-content/uploads/2023/02/Black-Excellence-in-Tech-1920-×-1080-px-400x250.png\" srcset=\"https://tribucodeup.wpenginepowered.com/wp-content/uploads/2023/02/Black-Excellence-in-Tech-1920-×-1080-px.png 479w, https://tribucodeup.wpenginepowered.com/wp-content/uploads/2023/02/Black-Excellence-in-Tech-1920-×-1080-px-400x250.png 480w \" width=\"400\"/></a>,\n",
       " <a class=\"entry-featured-image-url\" href=\"https://codeup.com/events/black-excellence-in-tech-panelist-spotlight-stephanie-jones/\"><img alt=\"Black excellence in tech: Panelist Spotlight – Stephanie Jones\" class=\"\" decoding=\"async\" height=\"250\" loading=\"lazy\" sizes=\"(max-width:479px) 479px, 100vw \" src=\"https://tribucodeup.wpenginepowered.com/wp-content/uploads/2023/02/2.13.23-Black-Excellence-in-Tech-1920-×-1080-px-Stephanie-400x250.png\" srcset=\"https://tribucodeup.wpenginepowered.com/wp-content/uploads/2023/02/2.13.23-Black-Excellence-in-Tech-1920-×-1080-px-Stephanie.png 479w, https://tribucodeup.wpenginepowered.com/wp-content/uploads/2023/02/2.13.23-Black-Excellence-in-Tech-1920-×-1080-px-Stephanie-400x250.png 480w \" width=\"400\"/></a>]"
      ]
     },
     "execution_count": 15,
     "metadata": {},
     "output_type": "execute_result"
    }
   ],
   "source": [
    "soup.find_all('a', class_='entry-featured-image-url')"
   ]
  },
  {
   "cell_type": "code",
   "execution_count": 27,
   "id": "aa5cefc1",
   "metadata": {},
   "outputs": [],
   "source": [
    "article_list = soup.find_all('a', class_='entry-featured-image-url')"
   ]
  },
  {
   "cell_type": "code",
   "execution_count": 28,
   "id": "6258260a",
   "metadata": {},
   "outputs": [
    {
     "data": {
      "text/plain": [
       "'https://codeup.com/featured/women-in-tech-panelist-spotlight/'"
      ]
     },
     "execution_count": 28,
     "metadata": {},
     "output_type": "execute_result"
    }
   ],
   "source": [
    "article_list[0]['href']"
   ]
  },
  {
   "cell_type": "code",
   "execution_count": 29,
   "id": "e747595c",
   "metadata": {},
   "outputs": [],
   "source": [
    "link_list = [article['href'] for article in article_list]"
   ]
  },
  {
   "cell_type": "code",
   "execution_count": 30,
   "id": "8ea21945",
   "metadata": {},
   "outputs": [
    {
     "data": {
      "text/plain": [
       "'https://codeup.com/featured/women-in-tech-panelist-spotlight/'"
      ]
     },
     "execution_count": 30,
     "metadata": {},
     "output_type": "execute_result"
    }
   ],
   "source": [
    "link_list[0]"
   ]
  },
  {
   "cell_type": "code",
   "execution_count": 223,
   "id": "fcd7b2ab",
   "metadata": {},
   "outputs": [],
   "source": [
    "url = 'https://codeup.com/featured/women-in-tech-panelist-spotlight/'\n",
    "# Some websites don't accept the pyhon-requests default user-agent\n",
    "headers = {'User-Agent': 'Codeup Data Science'} \n",
    "response = requests.get(url, headers=headers)"
   ]
  },
  {
   "cell_type": "code",
   "execution_count": 224,
   "id": "798aba09",
   "metadata": {},
   "outputs": [
    {
     "name": "stdout",
     "output_type": "stream",
     "text": [
      "y\n"
     ]
    }
   ],
   "source": [
    "if response.status_code == 200:\n",
    "    soup = BeautifulSoup(response.content, 'html.parser')\n",
    "    if soup:\n",
    "        print('y')"
   ]
  },
  {
   "cell_type": "code",
   "execution_count": 272,
   "id": "41928753",
   "metadata": {},
   "outputs": [],
   "source": [
    "title = soup.find('h1', class_='entry-title').text"
   ]
  },
  {
   "cell_type": "code",
   "execution_count": 273,
   "id": "8bbe5f18",
   "metadata": {},
   "outputs": [
    {
     "data": {
      "text/plain": [
       "'Women in tech: Panelist Spotlight – Magdalena Rahn'"
      ]
     },
     "execution_count": 273,
     "metadata": {},
     "output_type": "execute_result"
    }
   ],
   "source": [
    "title"
   ]
  },
  {
   "cell_type": "code",
   "execution_count": 260,
   "id": "7ba61e5c",
   "metadata": {},
   "outputs": [],
   "source": [
    "content = soup.find('div', class_='entry-content').text.strip()"
   ]
  },
  {
   "cell_type": "code",
   "execution_count": 261,
   "id": "dd1e46b5",
   "metadata": {},
   "outputs": [
    {
     "data": {
      "text/plain": [
       "'Women in tech: Panelist Spotlight – Magdalena Rahn\\nCodeup is hosting a Women in Tech Panel in honor of Women’s History Month on March 29th, 2023! To further celebrate, we’d like to spotlight each of our panelists leading up to the discussion to learn a bit about their respective experiences as women in the tech industry!\\n\\nMeet Magdalena!\\nMagdalena Rahn is a current Codeup student in a Data Science cohort in San Antonio, Texas. She has a professional background in cross-cultural communications, international business development, the wine industry and journalism. After serving in the US Navy, she decided to complement her professional skill set by attending the Data Science program at Codeup; she is set to graduate in March 2023. Magdalena is fluent in French, Bulgarian, Chinese-Mandarin, Spanish and Italian.\\nWe asked Magdalena how Codeup impacted her career, and she replied “Codeup has provided a solid foundation in analytical processes, programming and data science methods, and it’s been an encouragement to have such supportive instructors and wonderful classmates.”\\nDon’t forget to tune in on March 29th to sit in on an insightful conversation with Magdalena.'"
      ]
     },
     "execution_count": 261,
     "metadata": {},
     "output_type": "execute_result"
    }
   ],
   "source": [
    "content"
   ]
  },
  {
   "cell_type": "code",
   "execution_count": 277,
   "id": "7b523cc2",
   "metadata": {},
   "outputs": [],
   "source": [
    "compiled = re.compile(re.escape(title), re.IGNORECASE)\n",
    "content = compiled.sub('', content)"
   ]
  },
  {
   "cell_type": "code",
   "execution_count": 278,
   "id": "72399c9e",
   "metadata": {},
   "outputs": [
    {
     "data": {
      "text/plain": [
       "'\\nCodeup is hosting a Women in Tech Panel in honor of Women’s History Month on March 29th, 2023! To further celebrate, we’d like to spotlight each of our panelists leading up to the discussion to learn a bit about their respective experiences as women in the tech industry!\\n\\nMeet Magdalena!\\nMagdalena Rahn is a current Codeup student in a Data Science cohort in San Antonio, Texas. She has a professional background in cross-cultural communications, international business development, the wine industry and journalism. After serving in the US Navy, she decided to complement her professional skill set by attending the Data Science program at Codeup; she is set to graduate in March 2023. Magdalena is fluent in French, Bulgarian, Chinese-Mandarin, Spanish and Italian.\\nWe asked Magdalena how Codeup impacted her career, and she replied “Codeup has provided a solid foundation in analytical processes, programming and data science methods, and it’s been an encouragement to have such supportive instructors and wonderful classmates.”\\nDon’t forget to tune in on March 29th to sit in on an insightful conversation with Magdalena.'"
      ]
     },
     "execution_count": 278,
     "metadata": {},
     "output_type": "execute_result"
    }
   ],
   "source": [
    "content"
   ]
  },
  {
   "cell_type": "code",
   "execution_count": 243,
   "id": "d5d70eee",
   "metadata": {},
   "outputs": [
    {
     "ename": "AttributeError",
     "evalue": "ResultSet object has no attribute 'text'. You're probably treating a list of elements like a single element. Did you call find_all() when you meant to call find()?",
     "output_type": "error",
     "traceback": [
      "\u001b[0;31m---------------------------------------------------------------------------\u001b[0m",
      "\u001b[0;31mAttributeError\u001b[0m                            Traceback (most recent call last)",
      "\u001b[0;32m/var/folders/49/v6sf5vy165dghytk4qv6jfhc0000gn/T/ipykernel_1882/2677873723.py\u001b[0m in \u001b[0;36m<module>\u001b[0;34m\u001b[0m\n\u001b[0;32m----> 1\u001b[0;31m \u001b[0mcontent_list\u001b[0m \u001b[0;34m=\u001b[0m \u001b[0mcontent\u001b[0m\u001b[0;34m.\u001b[0m\u001b[0mtext\u001b[0m\u001b[0;34m\u001b[0m\u001b[0;34m\u001b[0m\u001b[0m\n\u001b[0m",
      "\u001b[0;32m/opt/anaconda3/lib/python3.9/site-packages/bs4/element.py\u001b[0m in \u001b[0;36m__getattr__\u001b[0;34m(self, key)\u001b[0m\n\u001b[1;32m   2287\u001b[0m     \u001b[0;32mdef\u001b[0m \u001b[0m__getattr__\u001b[0m\u001b[0;34m(\u001b[0m\u001b[0mself\u001b[0m\u001b[0;34m,\u001b[0m \u001b[0mkey\u001b[0m\u001b[0;34m)\u001b[0m\u001b[0;34m:\u001b[0m\u001b[0;34m\u001b[0m\u001b[0;34m\u001b[0m\u001b[0m\n\u001b[1;32m   2288\u001b[0m         \u001b[0;34m\"\"\"Raise a helpful exception to explain a common code fix.\"\"\"\u001b[0m\u001b[0;34m\u001b[0m\u001b[0;34m\u001b[0m\u001b[0m\n\u001b[0;32m-> 2289\u001b[0;31m         raise AttributeError(\n\u001b[0m\u001b[1;32m   2290\u001b[0m             \u001b[0;34m\"ResultSet object has no attribute '%s'. You're probably treating a list of elements like a single element. Did you call find_all() when you meant to call find()?\"\u001b[0m \u001b[0;34m%\u001b[0m \u001b[0mkey\u001b[0m\u001b[0;34m\u001b[0m\u001b[0;34m\u001b[0m\u001b[0m\n\u001b[1;32m   2291\u001b[0m         )\n",
      "\u001b[0;31mAttributeError\u001b[0m: ResultSet object has no attribute 'text'. You're probably treating a list of elements like a single element. Did you call find_all() when you meant to call find()?"
     ]
    }
   ],
   "source": [
    "content_list = content.text"
   ]
  },
  {
   "cell_type": "code",
   "execution_count": 232,
   "id": "c861f0d8",
   "metadata": {},
   "outputs": [
    {
     "data": {
      "text/plain": [
       "[]"
      ]
     },
     "execution_count": 232,
     "metadata": {},
     "output_type": "execute_result"
    }
   ],
   "source": [
    "content_list"
   ]
  },
  {
   "cell_type": "code",
   "execution_count": 46,
   "id": "2bbf8802",
   "metadata": {},
   "outputs": [],
   "source": [
    "text_list = [i.text for i in content_list]"
   ]
  },
  {
   "cell_type": "code",
   "execution_count": 47,
   "id": "6441889b",
   "metadata": {},
   "outputs": [
    {
     "data": {
      "text/plain": [
       "['Mar 28, 2023 | Events, Featured',\n",
       " 'Codeup is hosting a Women in Tech Panel in honor of Women’s History Month on March 29th, 2023! To further celebrate, we’d like to spotlight each of our panelists leading up to the discussion to learn a bit about their respective experiences as women in the tech industry!',\n",
       " '',\n",
       " 'Meet Magdalena!',\n",
       " 'Magdalena Rahn is a current Codeup student in a Data Science cohort in San Antonio, Texas. She has a professional background in cross-cultural communications, international business development, the wine industry and journalism. After serving in the US Navy, she decided to complement her professional skill set by attending the Data Science program at Codeup; she is set to graduate in March 2023. Magdalena is fluent in French, Bulgarian, Chinese-Mandarin, Spanish and Italian.',\n",
       " 'We asked Magdalena how Codeup impacted her career, and she replied “Codeup has provided a solid foundation in analytical processes, programming and data science methods, and it’s been an encouragement to have such supportive instructors and wonderful classmates.”',\n",
       " 'Don’t forget to tune in on March 29th to sit in on an insightful conversation with Magdalena.',\n",
       " '',\n",
       " '',\n",
       " '',\n",
       " 'Submit your email address to gain access to more information about our programs, financial aid, and benefits.',\n",
       " '(210) 802–7289',\n",
       " 'Dallas | San Antonio',\n",
       " '© 2013-2022 Copyright. Privacy Policy | Complaint Policy | Inclusion | Accessibility | Sitemap',\n",
       " 'If you love researching data and reading the fine print, you’ll do well in our programs.']"
      ]
     },
     "execution_count": 47,
     "metadata": {},
     "output_type": "execute_result"
    }
   ],
   "source": [
    "text_list"
   ]
  },
  {
   "cell_type": "code",
   "execution_count": 51,
   "id": "8a1fae9a",
   "metadata": {},
   "outputs": [],
   "source": [
    "# Some websites don't accept the pyhon-requests default user-agent so change the headers\n",
    "headers = {'User-Agent': 'Codeup Data Science'} \n",
    "# set the base url that we are looking at\n",
    "url = 'https://codeup.com/blog/'"
   ]
  },
  {
   "cell_type": "code",
   "execution_count": 49,
   "id": "accdd42e",
   "metadata": {},
   "outputs": [],
   "source": [
    "# def get_blog_urls(url, headers):\n",
    "#     # get a list of blog urls from the blog main page\n",
    "#     response = requests.get(url, headers=headers)\n",
    "    \n",
    "#     # check if we have correct response and if there is content in our response\n",
    "#     if response.status_code == 200:\n",
    "#         # convert our received content into soup object\n",
    "#         soup = BeautifulSoup(response.content, 'html.parser')\n",
    "#         # have content, will travel\n",
    "#         if soup:\n",
    "#             article_list = soup.find_all('a', class_='entry-featured-image-url')\n",
    "#             link_list = [article['href'] for article in article_list]\n",
    "#     return link_list"
   ]
  },
  {
   "cell_type": "code",
   "execution_count": 52,
   "id": "45740fd4",
   "metadata": {},
   "outputs": [],
   "source": [
    "blog_links = get_blog_urls(url, headers)"
   ]
  },
  {
   "cell_type": "code",
   "execution_count": 53,
   "id": "29ff13d5",
   "metadata": {},
   "outputs": [
    {
     "data": {
      "text/plain": [
       "['https://codeup.com/featured/women-in-tech-panelist-spotlight/',\n",
       " 'https://codeup.com/featured/women-in-tech-rachel-robbins-mayhill/',\n",
       " 'https://codeup.com/codeup-news/women-in-tech-panelist-spotlight-sarah-mellor/',\n",
       " 'https://codeup.com/events/women-in-tech-madeleine/',\n",
       " 'https://codeup.com/codeup-news/panelist-spotlight-4/',\n",
       " 'https://codeup.com/events/black-excellence-in-tech-panelist-spotlight-stephanie-jones/']"
      ]
     },
     "execution_count": 53,
     "metadata": {},
     "output_type": "execute_result"
    }
   ],
   "source": [
    "blog_links"
   ]
  },
  {
   "cell_type": "code",
   "execution_count": null,
   "id": "09e020aa",
   "metadata": {},
   "outputs": [],
   "source": []
  },
  {
   "cell_type": "code",
   "execution_count": 58,
   "id": "62ad5894",
   "metadata": {},
   "outputs": [],
   "source": [
    "url = 'https://codeup.com/featured/women-in-tech-panelist-spotlight/'\n",
    "content_dict['title'], content_dict['content'] = get_blog_content(url, headers)"
   ]
  },
  {
   "cell_type": "code",
   "execution_count": 60,
   "id": "df4555c5",
   "metadata": {},
   "outputs": [
    {
     "data": {
      "text/plain": [
       "{'title': 'Women in tech: Panelist Spotlight – Magdalena Rahn',\n",
       " 'content': ['Mar 28, 2023 | Events, Featured',\n",
       "  'Codeup is hosting a Women in Tech Panel in honor of Women’s History Month on March 29th, 2023! To further celebrate, we’d like to spotlight each of our panelists leading up to the discussion to learn a bit about their respective experiences as women in the tech industry!',\n",
       "  '',\n",
       "  'Meet Magdalena!',\n",
       "  'Magdalena Rahn is a current Codeup student in a Data Science cohort in San Antonio, Texas. She has a professional background in cross-cultural communications, international business development, the wine industry and journalism. After serving in the US Navy, she decided to complement her professional skill set by attending the Data Science program at Codeup; she is set to graduate in March 2023. Magdalena is fluent in French, Bulgarian, Chinese-Mandarin, Spanish and Italian.',\n",
       "  'We asked Magdalena how Codeup impacted her career, and she replied “Codeup has provided a solid foundation in analytical processes, programming and data science methods, and it’s been an encouragement to have such supportive instructors and wonderful classmates.”',\n",
       "  'Don’t forget to tune in on March 29th to sit in on an insightful conversation with Magdalena.',\n",
       "  '',\n",
       "  '',\n",
       "  '',\n",
       "  'Submit your email address to gain access to more information about our programs, financial aid, and benefits.',\n",
       "  '(210) 802–7289',\n",
       "  'Dallas | San Antonio',\n",
       "  '© 2013-2022 Copyright. Privacy Policy | Complaint Policy | Inclusion | Accessibility | Sitemap',\n",
       "  'If you love researching data and reading the fine print, you’ll do well in our programs.']}"
      ]
     },
     "execution_count": 60,
     "metadata": {},
     "output_type": "execute_result"
    }
   ],
   "source": [
    "content_dict"
   ]
  },
  {
   "cell_type": "code",
   "execution_count": 73,
   "id": "76637d89",
   "metadata": {},
   "outputs": [
    {
     "ename": "AttributeError",
     "evalue": "'dict' object has no attribute 'T'",
     "output_type": "error",
     "traceback": [
      "\u001b[0;31m---------------------------------------------------------------------------\u001b[0m",
      "\u001b[0;31mAttributeError\u001b[0m                            Traceback (most recent call last)",
      "\u001b[0;32m/var/folders/49/v6sf5vy165dghytk4qv6jfhc0000gn/T/ipykernel_1882/1298241519.py\u001b[0m in \u001b[0;36m<module>\u001b[0;34m\u001b[0m\n\u001b[1;32m      4\u001b[0m     \u001b[0mcontent_dict\u001b[0m\u001b[0;34m[\u001b[0m\u001b[0mi\u001b[0m\u001b[0;34m]\u001b[0m \u001b[0;34m=\u001b[0m \u001b[0mtitle\u001b[0m\u001b[0;34m,\u001b[0m \u001b[0mblog\u001b[0m\u001b[0;34m,\u001b[0m \u001b[0mcontent\u001b[0m\u001b[0;34m\u001b[0m\u001b[0;34m\u001b[0m\u001b[0m\n\u001b[1;32m      5\u001b[0m \u001b[0;34m\u001b[0m\u001b[0m\n\u001b[0;32m----> 6\u001b[0;31m \u001b[0mpd\u001b[0m\u001b[0;34m.\u001b[0m\u001b[0mDataFrame\u001b[0m\u001b[0;34m(\u001b[0m\u001b[0mcontent_dict\u001b[0m\u001b[0;34m.\u001b[0m\u001b[0mT\u001b[0m\u001b[0;34m)\u001b[0m\u001b[0;34m\u001b[0m\u001b[0;34m\u001b[0m\u001b[0m\n\u001b[0m",
      "\u001b[0;31mAttributeError\u001b[0m: 'dict' object has no attribute 'T'"
     ]
    }
   ],
   "source": [
    "content_dict = {}\n",
    "for i, blog in enumerate(blog_links):\n",
    "    title, content = get_blog_content(blog, headers)\n",
    "    content_dict[i] = title, blog, content"
   ]
  },
  {
   "cell_type": "code",
   "execution_count": 76,
   "id": "19ea36bb",
   "metadata": {},
   "outputs": [],
   "source": [
    "blog_content = pd.DataFrame(content_dict).T.\\\n",
    "    rename(columns={0:'title', 1:'url', 2:'content'})"
   ]
  },
  {
   "cell_type": "code",
   "execution_count": 77,
   "id": "6c6a3513",
   "metadata": {},
   "outputs": [
    {
     "data": {
      "text/html": [
       "<div>\n",
       "<style scoped>\n",
       "    .dataframe tbody tr th:only-of-type {\n",
       "        vertical-align: middle;\n",
       "    }\n",
       "\n",
       "    .dataframe tbody tr th {\n",
       "        vertical-align: top;\n",
       "    }\n",
       "\n",
       "    .dataframe thead th {\n",
       "        text-align: right;\n",
       "    }\n",
       "</style>\n",
       "<table border=\"1\" class=\"dataframe\">\n",
       "  <thead>\n",
       "    <tr style=\"text-align: right;\">\n",
       "      <th></th>\n",
       "      <th>title</th>\n",
       "      <th>url</th>\n",
       "      <th>content</th>\n",
       "    </tr>\n",
       "  </thead>\n",
       "  <tbody>\n",
       "    <tr>\n",
       "      <th>0</th>\n",
       "      <td>Women in tech: Panelist Spotlight – Magdalena ...</td>\n",
       "      <td>https://codeup.com/featured/women-in-tech-pane...</td>\n",
       "      <td>[Mar 28, 2023 | Events, Featured, Codeup is ho...</td>\n",
       "    </tr>\n",
       "    <tr>\n",
       "      <th>1</th>\n",
       "      <td>Women in tech: Panelist Spotlight – Rachel Rob...</td>\n",
       "      <td>https://codeup.com/featured/women-in-tech-rach...</td>\n",
       "      <td>[Mar 20, 2023 | Events, Featured, Codeup is ho...</td>\n",
       "    </tr>\n",
       "    <tr>\n",
       "      <th>2</th>\n",
       "      <td>Women in tech: Panelist Spotlight – Sarah Mellor</td>\n",
       "      <td>https://codeup.com/codeup-news/women-in-tech-p...</td>\n",
       "      <td>[Mar 13, 2023 | Codeup News, Featured, Codeup ...</td>\n",
       "    </tr>\n",
       "    <tr>\n",
       "      <th>3</th>\n",
       "      <td>Women in tech: Panelist Spotlight – Madeleine ...</td>\n",
       "      <td>https://codeup.com/events/women-in-tech-madele...</td>\n",
       "      <td>[Mar 6, 2023 | Events, Featured, Codeup is hos...</td>\n",
       "    </tr>\n",
       "    <tr>\n",
       "      <th>4</th>\n",
       "      <td>Black excellence in tech: Panelist Spotlight –...</td>\n",
       "      <td>https://codeup.com/codeup-news/panelist-spotli...</td>\n",
       "      <td>[Feb 16, 2023 | Codeup News, Events, Featured,...</td>\n",
       "    </tr>\n",
       "    <tr>\n",
       "      <th>5</th>\n",
       "      <td>Black excellence in tech: Panelist Spotlight –...</td>\n",
       "      <td>https://codeup.com/events/black-excellence-in-...</td>\n",
       "      <td>[Feb 13, 2023 | Codeup News, Events, Featured,...</td>\n",
       "    </tr>\n",
       "  </tbody>\n",
       "</table>\n",
       "</div>"
      ],
      "text/plain": [
       "                                               title  \\\n",
       "0  Women in tech: Panelist Spotlight – Magdalena ...   \n",
       "1  Women in tech: Panelist Spotlight – Rachel Rob...   \n",
       "2  Women in tech: Panelist Spotlight – Sarah Mellor    \n",
       "3  Women in tech: Panelist Spotlight – Madeleine ...   \n",
       "4  Black excellence in tech: Panelist Spotlight –...   \n",
       "5  Black excellence in tech: Panelist Spotlight –...   \n",
       "\n",
       "                                                 url  \\\n",
       "0  https://codeup.com/featured/women-in-tech-pane...   \n",
       "1  https://codeup.com/featured/women-in-tech-rach...   \n",
       "2  https://codeup.com/codeup-news/women-in-tech-p...   \n",
       "3  https://codeup.com/events/women-in-tech-madele...   \n",
       "4  https://codeup.com/codeup-news/panelist-spotli...   \n",
       "5  https://codeup.com/events/black-excellence-in-...   \n",
       "\n",
       "                                             content  \n",
       "0  [Mar 28, 2023 | Events, Featured, Codeup is ho...  \n",
       "1  [Mar 20, 2023 | Events, Featured, Codeup is ho...  \n",
       "2  [Mar 13, 2023 | Codeup News, Featured, Codeup ...  \n",
       "3  [Mar 6, 2023 | Events, Featured, Codeup is hos...  \n",
       "4  [Feb 16, 2023 | Codeup News, Events, Featured,...  \n",
       "5  [Feb 13, 2023 | Codeup News, Events, Featured,...  "
      ]
     },
     "execution_count": 77,
     "metadata": {},
     "output_type": "execute_result"
    }
   ],
   "source": [
    "blog_content"
   ]
  },
  {
   "cell_type": "code",
   "execution_count": 98,
   "id": "7f7161c2",
   "metadata": {},
   "outputs": [],
   "source": [
    "url = 'https://codeup.com/blog/page/'\n",
    "# Some websites don't accept the pyhon-requests default user-agent\n",
    "headers = {'User-Agent': 'Codeup Data Science'} \n",
    "response = requests.get(url, headers=headers)"
   ]
  },
  {
   "cell_type": "code",
   "execution_count": 79,
   "id": "cea6de8b",
   "metadata": {},
   "outputs": [
    {
     "data": {
      "text/plain": [
       "404"
      ]
     },
     "execution_count": 79,
     "metadata": {},
     "output_type": "execute_result"
    }
   ],
   "source": [
    "response.status_code"
   ]
  },
  {
   "cell_type": "code",
   "execution_count": 99,
   "id": "b4b3819c",
   "metadata": {},
   "outputs": [],
   "source": [
    "page=1"
   ]
  },
  {
   "cell_type": "code",
   "execution_count": 100,
   "id": "ff66ab1e",
   "metadata": {},
   "outputs": [
    {
     "data": {
      "text/plain": [
       "'https://codeup.com/blog/page/1'"
      ]
     },
     "execution_count": 100,
     "metadata": {},
     "output_type": "execute_result"
    }
   ],
   "source": [
    "f'{url}{page}'"
   ]
  },
  {
   "cell_type": "code",
   "execution_count": 96,
   "id": "fd63581f",
   "metadata": {},
   "outputs": [
    {
     "data": {
      "text/plain": [
       "['https://codeup.com/featured/women-in-tech-panelist-spotlight/',\n",
       " 'https://codeup.com/featured/women-in-tech-rachel-robbins-mayhill/',\n",
       " 'https://codeup.com/codeup-news/women-in-tech-panelist-spotlight-sarah-mellor/',\n",
       " 'https://codeup.com/events/women-in-tech-madeleine/',\n",
       " 'https://codeup.com/codeup-news/panelist-spotlight-4/',\n",
       " 'https://codeup.com/events/black-excellence-in-tech-panelist-spotlight-stephanie-jones/',\n",
       " 'https://codeup.com/events/black-excellence-in-tech-panelist-spotlight-james-cooper/',\n",
       " 'https://codeup.com/events/black-excellence-in-tech-panelist-spotlight/',\n",
       " 'https://codeup.com/tips-for-prospective-students/coding-bootcamp-or-self-learning/',\n",
       " 'https://codeup.com/codeup-news/codeup-best-bootcamps/',\n",
       " 'https://codeup.com/data-science/become-a-data-scientist/',\n",
       " 'https://codeup.com/employers/hiring-tech-talent/',\n",
       " 'https://codeup.com/cloud-administration/cap-funding-options/',\n",
       " 'https://codeup.com/dallas-info/it-professionals-dallas/',\n",
       " 'https://codeup.com/codeup-news/codeup-voted-1-technical-school-in-dfw/',\n",
       " 'https://codeup.com/tips-for-prospective-students/financing/codeups-scholarships/',\n",
       " 'https://codeup.com/data-science/what-is-the-future-of-data-science/',\n",
       " 'https://codeup.com/codeup-news/codeup-is-accredited/',\n",
       " 'https://codeup.com/tips-for-prospective-students/change-careers/',\n",
       " 'https://codeup.com/tips-for-prospective-students/why-should-you-learn-to-code/',\n",
       " 'https://codeup.com/tips-for-prospective-students/coding-bootcamp-vs-college/',\n",
       " 'https://codeup.com/codeup-news/dei-report/',\n",
       " 'https://codeup.com/codeup-news/diversity-and-inclusion-award/',\n",
       " 'https://codeup.com/featured/financing-career-transition/']"
      ]
     },
     "execution_count": 96,
     "metadata": {},
     "output_type": "execute_result"
    }
   ],
   "source": [
    "link_list"
   ]
  },
  {
   "cell_type": "markdown",
   "id": "3d35094c",
   "metadata": {},
   "source": [
    "# 2. Gathering from https://inshorts.com/en/read\n",
    "Write a function that scrapes the news articles for the following topics:\n",
    "- Business\n",
    "- Sports\n",
    "- Technology\n",
    "- Entertainment\n",
    "\n",
    "{\n",
    "    'title': 'The article title',\n",
    "    'content': 'The article content',\n",
    "    'category': 'business' # for example\n",
    "}\n"
   ]
  },
  {
   "cell_type": "code",
   "execution_count": 281,
   "id": "0c01d99b",
   "metadata": {},
   "outputs": [],
   "source": [
    "url = 'https://inshorts.com/en/read/'"
   ]
  },
  {
   "cell_type": "code",
   "execution_count": 206,
   "id": "d485dd82",
   "metadata": {},
   "outputs": [],
   "source": [
    "def get_news_articles_1():\n",
    "    '''\n",
    "    This will gather news articles from https://inshorts.com in the categories:\n",
    "    business, sports, technology and entertainment. it will return the news articles\n",
    "    as a dictionary\n",
    "    '''\n",
    "    # set a list of urls for each category\n",
    "    category_urls = {\n",
    "    0: {'category':'business', 'url':'https://inshorts.com/en/read/business'},\n",
    "    1: {'category':'sports', 'url':'https://inshorts.com/en/read/sports'},\n",
    "    2: {'category':'technology', 'url':'https://inshorts.com/en/read/technology'},\n",
    "    3: {'category':'entertainment', 'url':'https://inshorts.com/en/read/entertainment'}}\n",
    "    # create an empty dictionary for the results\n",
    "    content_dict = {}\n",
    "    # create a counter\n",
    "    item = 0\n",
    "    # cycle through the category urls\n",
    "    for i in range(len(category_urls)):\n",
    "        # assign a category variable to this categoy's info\n",
    "        category = category_urls[i]['category']\n",
    "        # assign a url for this category's url\n",
    "        url = category_urls[i]['url']\n",
    "        # gather the data from this category's url\n",
    "        response = requests.get(url)\n",
    "        # parse the html using beautiful soup\n",
    "        soup = BeautifulSoup(response.content, 'html.parser')\n",
    "        # assign the article content to a variable\n",
    "        content = soup.find_all('span', itemprop='headline')\n",
    "        # assign the article title to a varialbe\n",
    "        titles = soup.find_all('div', class_='news-card-title news-right-box')\n",
    "        # cycle through all the gathered titles for this category\n",
    "        for j in range(len(titles)):\n",
    "            # add a dictionary item with the title, content and category\n",
    "            content_dict[item] = {'title':titles[j].text,\n",
    "                               'content':content[j].text,\n",
    "                               'category':category}\n",
    "            # iterate the item counter\n",
    "            item += 1\n",
    "    # return the article content dictionary\n",
    "    return content_dict"
   ]
  },
  {
   "cell_type": "code",
   "execution_count": 183,
   "id": "29bcea0e",
   "metadata": {},
   "outputs": [],
   "source": [
    "category_urls = {\n",
    "    0: {'category':'business', 'url':'https://inshorts.com/en/read/business'},\n",
    "    1: {'category':'sports', 'url':'https://inshorts.com/en/read/sports'},\n",
    "    2: {'category':'technology', 'url':'https://inshorts.com/en/read/technology'},\n",
    "    3: {'category':'entertainment', 'url':'https://inshorts.com/en/read/entertainment'}}"
   ]
  },
  {
   "cell_type": "code",
   "execution_count": 184,
   "id": "03c42a25",
   "metadata": {},
   "outputs": [
    {
     "data": {
      "text/plain": [
       "{'category': 'business', 'url': 'https://inshorts.com/en/read/business'}"
      ]
     },
     "execution_count": 184,
     "metadata": {},
     "output_type": "execute_result"
    }
   ],
   "source": [
    "category_urls[0]"
   ]
  },
  {
   "cell_type": "code",
   "execution_count": 282,
   "id": "d659f21f",
   "metadata": {},
   "outputs": [
    {
     "data": {
      "text/plain": [
       "<Response [200]>"
      ]
     },
     "execution_count": 282,
     "metadata": {},
     "output_type": "execute_result"
    }
   ],
   "source": [
    "response = requests.get(url)\n",
    "response"
   ]
  },
  {
   "cell_type": "code",
   "execution_count": 283,
   "id": "78cc4c32",
   "metadata": {},
   "outputs": [],
   "source": [
    "soup = BeautifulSoup(response.content, 'html.parser')"
   ]
  },
  {
   "cell_type": "code",
   "execution_count": 285,
   "id": "e2691c1f",
   "metadata": {},
   "outputs": [
    {
     "data": {
      "text/plain": [
       "'Kriti Sanon wears saree with 24-carat gold print, Abu Jani & Sandeep Khosla share pics'"
      ]
     },
     "execution_count": 285,
     "metadata": {},
     "output_type": "execute_result"
    }
   ],
   "source": [
    "soup.find_all('span', itemprop='headline')[0].text"
   ]
  },
  {
   "cell_type": "code",
   "execution_count": 151,
   "id": "0e070d93",
   "metadata": {},
   "outputs": [],
   "source": [
    "# soup"
   ]
  },
  {
   "cell_type": "code",
   "execution_count": 149,
   "id": "213aaeeb",
   "metadata": {},
   "outputs": [],
   "source": [
    "titles = soup.find_all('div', class_='news-card-title news-right-box')"
   ]
  },
  {
   "cell_type": "code",
   "execution_count": 150,
   "id": "87ea9f8b",
   "metadata": {},
   "outputs": [],
   "source": [
    "content = soup.find_all('div', class_='news-card-content news-right-box')"
   ]
  },
  {
   "cell_type": "code",
   "execution_count": 172,
   "id": "dafdad74",
   "metadata": {},
   "outputs": [
    {
     "data": {
      "text/plain": [
       "\"\\n\\nIndia's high streets for shopping ranked, Bengaluru's MG Road bags top spot\\n\\n\\nshort by Pragya Swastik / \\n      07:46 pm on 10 May 2023,Wednesday\\n\\n\""
      ]
     },
     "execution_count": 172,
     "metadata": {},
     "output_type": "execute_result"
    }
   ],
   "source": [
    "titles[2].text"
   ]
  },
  {
   "cell_type": "code",
   "execution_count": 176,
   "id": "bc68822e",
   "metadata": {},
   "outputs": [],
   "source": [
    "content_dict = {}\n",
    "# for i in range(len(category_urls)):\n",
    "url = 'https://inshorts.com/en/read/business'\n",
    "soup = BeautifulSoup(response.content, 'html.parser')\n",
    "content = soup.find_all('span', itemprop='headline')\n",
    "titles = soup.find_all('div', class_='news-card-title news-right-box')\n",
    "\n",
    "for i in range(len(titles)):\n",
    "    content_dict[i] = {'title':titles[i].text,\n",
    "                       'content':content[i].text,\n",
    "                       'category':'business'}"
   ]
  },
  {
   "cell_type": "code",
   "execution_count": 189,
   "id": "d40f8c4b",
   "metadata": {},
   "outputs": [
    {
     "data": {
      "text/plain": [
       "\"\\n\\nMicrosoft won't give salary hikes to full-time employees this year\\n\\n\\nshort by Pragya Swastik / \\n      10:23 pm on 10 May 2023,Wednesday\\n\\n\""
      ]
     },
     "execution_count": 189,
     "metadata": {},
     "output_type": "execute_result"
    }
   ],
   "source": [
    "content_dict[0]['title']"
   ]
  },
  {
   "cell_type": "code",
   "execution_count": 194,
   "id": "bc05fd05",
   "metadata": {},
   "outputs": [
    {
     "data": {
      "text/plain": [
       "['business', 'sports', 'technology', 'entertainment']"
      ]
     },
     "execution_count": 194,
     "metadata": {},
     "output_type": "execute_result"
    }
   ],
   "source": [
    "[category_urls[i]['category'] for i in category_urls]"
   ]
  },
  {
   "cell_type": "code",
   "execution_count": null,
   "id": "c79ae6ce",
   "metadata": {},
   "outputs": [],
   "source": []
  },
  {
   "cell_type": "code",
   "execution_count": 288,
   "id": "9ba43b9b",
   "metadata": {},
   "outputs": [
    {
     "data": {
      "text/plain": [
       "[<li class=\"active-category selected\">All News</li>,\n",
       " <li class=\"active-category\">India</li>,\n",
       " <li class=\"active-category\">Business</li>,\n",
       " <li class=\"active-category\">Sports</li>,\n",
       " <li class=\"active-category\">World</li>,\n",
       " <li class=\"active-category\">Politics</li>,\n",
       " <li class=\"active-category\">Technology</li>,\n",
       " <li class=\"active-category\">Startup</li>,\n",
       " <li class=\"active-category\">Entertainment</li>,\n",
       " <li class=\"active-category\">Miscellaneous</li>,\n",
       " <li class=\"active-category\">Hatke</li>,\n",
       " <li class=\"active-category\">Science</li>,\n",
       " <li class=\"active-category\">Automobile</li>]"
      ]
     },
     "execution_count": 288,
     "metadata": {},
     "output_type": "execute_result"
    }
   ],
   "source": [
    "# select the category links\n",
    "soup.select('li')"
   ]
  },
  {
   "cell_type": "code",
   "execution_count": 290,
   "id": "1e999682",
   "metadata": {},
   "outputs": [
    {
     "data": {
      "text/plain": [
       "['all news',\n",
       " 'india',\n",
       " 'business',\n",
       " 'sports',\n",
       " 'world',\n",
       " 'politics',\n",
       " 'technology',\n",
       " 'startup',\n",
       " 'entertainment',\n",
       " 'miscellaneous',\n",
       " 'hatke',\n",
       " 'science',\n",
       " 'automobile']"
      ]
     },
     "execution_count": 290,
     "metadata": {},
     "output_type": "execute_result"
    }
   ],
   "source": [
    "[li.text.lower() for li in soup.select('li')]"
   ]
  },
  {
   "cell_type": "code",
   "execution_count": 293,
   "id": "9399c1fb",
   "metadata": {},
   "outputs": [],
   "source": [
    "# get rid of the all news\n",
    "categories = [li.text.lower() for li in soup.select('li')][1:]\n",
    "# the india category link is actually 'national'\n",
    "categories[0] = 'national'"
   ]
  },
  {
   "cell_type": "code",
   "execution_count": 294,
   "id": "e37c66b9",
   "metadata": {},
   "outputs": [
    {
     "data": {
      "text/plain": [
       "['national',\n",
       " 'business',\n",
       " 'sports',\n",
       " 'world',\n",
       " 'politics',\n",
       " 'technology',\n",
       " 'startup',\n",
       " 'entertainment',\n",
       " 'miscellaneous',\n",
       " 'hatke',\n",
       " 'science',\n",
       " 'automobile']"
      ]
     },
     "execution_count": 294,
     "metadata": {},
     "output_type": "execute_result"
    }
   ],
   "source": [
    "categories"
   ]
  },
  {
   "cell_type": "code",
   "execution_count": 73,
   "id": "bc5f7b24",
   "metadata": {},
   "outputs": [],
   "source": [
    "def get_news_articles(fresh=False):\n",
    "    '''\n",
    "    This will gather news articles from https://inshorts.com in the categories:\n",
    "    business, sports, technology and entertainment. it will return the news articles\n",
    "    as a dictionary\n",
    "    '''\n",
    "    filename = 'inshorts_news.csv'\n",
    "    # check if we need fresh data\n",
    "    if not fresh:\n",
    "        # if we don't need fresh data, open the cached data \n",
    "        # check if data csv exists\n",
    "        if os.path.exists(filename):\n",
    "            # print status message\n",
    "            print(f'Opening news data from local file {filename}')\n",
    "            # open the local csv data\n",
    "            inshorts = pd.read_csv(filename, index_col=False).T.to_dict()\n",
    "            # return the dataset (ending the function)\n",
    "            return inshorts\n",
    "        # if the file is not found\n",
    "        else:\n",
    "            # print status message\n",
    "            print(f'File {filename} not found in local directory')\n",
    "    # download the data\n",
    "    # print status message\n",
    "    print('downloading news data from inshorts.com')\n",
    "    # assign the url\n",
    "    url = 'https://inshorts.com/en/read/'\n",
    "    # request the data from the url\n",
    "    response = requests.get(url)\n",
    "    # check if good status code\n",
    "    \n",
    "    if response.status_code != 200:\n",
    "        # print error status message\n",
    "        print('error code from http request')\n",
    "        return\n",
    "    # if there is no error with the request\n",
    "    # turn data into soup\n",
    "    soup = BeautifulSoup(response.content, 'html.parser')\n",
    "    # if we dont have soup, give an error\n",
    "    if not soup:\n",
    "        print('no content found on page')\n",
    "        return\n",
    "    # have soup, will travel\n",
    "    \n",
    "    # <li> is the category list\n",
    "    # get rid of the all news category\n",
    "    categories = [li.text.lower() for li in soup.select('li')][1:]\n",
    "    # the india category link is actually 'national'\n",
    "    categories[0] = 'national'\n",
    "    # create an empty list to store data\n",
    "    inshorts = []\n",
    "    # cycle through every category\n",
    "    for category in categories:\n",
    "        # set the url\n",
    "        url = 'https://inshorts.com/en/read/' + category\n",
    "        # get the data\n",
    "        response = requests.get(url)\n",
    "        \n",
    "        if response.status_code != 200:\n",
    "            # print error status message\n",
    "            print('error code from http request')\n",
    "            return\n",
    "        # if there is no error with the request\n",
    "        # turn data into soup\n",
    "        soup = BeautifulSoup(response.content, 'html.parser')\n",
    "        # if we dont have soup, give an error\n",
    "        if not soup:\n",
    "            print('no content found on page')\n",
    "            return\n",
    "            \n",
    "        # have soup, will travel\n",
    "        # get the article titles\n",
    "        titles = [span.text for span in soup.find_all('span', \n",
    "                                                  itemprop='headline')]\n",
    "        # get the article content\n",
    "        content = [div.text for div in soup.find_all('div', \n",
    "                                                 itemprop='articleBody')]\n",
    "        # cycle through all the titles\n",
    "        for i in range(len(titles)):\n",
    "            # create a dictionary containing the current article\n",
    "            article = {\n",
    "                'title': titles[i],\n",
    "                'content': content[i],\n",
    "                'category': category\n",
    "            }\n",
    "            # add each article to our list of articles\n",
    "            inshorts.append(article)\n",
    "    \n",
    "    # cache the dictionary data to a csv\n",
    "    pd.DataFrame(inshorts).to_csv(filename, index=False)\n",
    "    # return the news articles\n",
    "    return inshorts"
   ]
  },
  {
   "cell_type": "code",
   "execution_count": 75,
   "id": "9d1a3579",
   "metadata": {},
   "outputs": [
    {
     "name": "stdout",
     "output_type": "stream",
     "text": [
      "Opening news data from local file inshorts_news.csv\n"
     ]
    }
   ],
   "source": [
    "inshorts = get_news_articles()"
   ]
  },
  {
   "cell_type": "code",
   "execution_count": 76,
   "id": "e17aea58",
   "metadata": {},
   "outputs": [
    {
     "data": {
      "text/plain": [
       "{0: {'title': 'Delhi govt removes Services Secretary Ashish More after SC verdict',\n",
       "  'content': 'The Delhi government removed its Services Secretary Ashish More on Thursday, hours after the Supreme Court passed a verdict in its favour on the issue of services control. The decision was announced by Chief Minister Arvind Kejriwal. The Supreme Court has unanimously ruled that Delhi government has legislative and executive powers over services, except for public order, police, and land.\\n',\n",
       "  'category': 'national'},\n",
       " 1: {'title': 'No possibility of 3rd front, BJD will go solo in 2024 polls: Odisha CM',\n",
       "  'content': 'After meeting Prime Minister Narendra Modi in Delhi, Odisha CM Naveen Patnaik on Thursday ruled out the possibility of a \\'third front\\' to challenge the BJP in the 2024 Lok Sabha elections. \"No, as far as I am concerned. Not now,\" he said on being questioned about the same by mediapersons. Patnaik added that BJD would fight the elections solo.',\n",
       "  'category': 'national'},\n",
       " 2: {'title': 'EVMs never sent to SA, expose source of info: EC tells Congress MP',\n",
       "  'content': 'EC has denied Congress MP Randeep Surjewala\\'s allegation that EVMs used in Karnataka Assembly polls were earlier used in South Africa, saying it has never sent the EVMs there. EC asked him to expose sources of \\'false information\\' so that the party\\'s \"long-standing reputation of a responsible stakeholder of Indian electoral system is not dented\". ',\n",
       "  'category': 'national'},\n",
       " 3: {'title': \"73.19% voter turnout in K'taka poll, new record created: Poll body\",\n",
       "  'content': 'Karnataka registered a voter turnout of 73.19% in the Assembly polls, according to the state Chief Electoral Office\\'s figures released on Thursday. \"Karnataka has created a new record for itself,\" it added. Chikkaballapur district recorded the highest voter turnout of 85.56%, followed by Bengaluru Rural at 85.08%. The lowest voter turnout was reported in BBMP (South) limits at 52.33%.',\n",
       "  'category': 'national'},\n",
       " 4: {'title': \"Bihar moves SC challenging HC's interim stay on caste-based census\",\n",
       "  'content': \"The Bihar government on Thursday moved the Supreme Court, challenging the Patna High Court's order putting an interim stay on the caste-based census in the state. The Patna High Court on Tuesday rejected the state government's petition, seeking an early hearing of its interim stay on the caste census. The court said the hearing will take place on July 3.\",\n",
       "  'category': 'national'},\n",
       " 5: {'title': '38 bovine deaths due to lumpy skin disease reported in Uttarakhand',\n",
       "  'content': 'As many as 38 bovines died due to lumpy skin disease (LSD) in the last few days in Uttarakhand. Animal Husbandry Department Minister Saurabh Bahuguna said that over 3,514 cases have been detected in the last 10 days, while the number of active cases till Wednesday evening was 1,648. LSD is caused by a virus of the family Poxviridae.',\n",
       "  'category': 'national'},\n",
       " 6: {'title': 'HC sets up SIT to probe rape & murder of teen girl in West Bengal',\n",
       "  'content': 'The Calcutta High Court on Thursday set up a special investigation team (SIT) to probe the alleged rape and murder of a teenage girl in West Bengal\\'s Uttar Dinajpur that had triggered violent protests in the area in April. \"We wanted a CBI probe. We\\'re not satisfied with the high court\\'s order of an SIT investigation,\" the girl\\'s grandfather said.',\n",
       "  'category': 'national'},\n",
       " 7: {'title': \"'Mocha' to intensify into severe cyclonic storm by midnight: IMD\",\n",
       "  'content': 'Cyclonic storm \\'Mocha\\' over the southeast Bay of Bengal is expected to intensify in the next few hours, India Meteorological Department (IMD) said. It will \"intensify into a severe cyclonic storm by midnight\", it said in a tweet on Thursday. Meanwhile, the Indian Coast Guard (ICG) issued a statement saying it has placed its units on high alert.',\n",
       "  'category': 'national'},\n",
       " 8: {'title': \"Indian Army raises 'Bajrang Bali Ki Jai' slogan during drill in UK\",\n",
       "  'content': \"Soldiers of the Indian Army raised 'Bajrang Bali Ki Jai' slogans during the 7th edition of the India-UK joint military exercise 'Ajeya Warrior-23' in the UK, a video of which has surfaced. Notably, the slogan was recently used by PM Narendra Modi and other BJP leaders during the Karnataka election campaign.\",\n",
       "  'category': 'national'},\n",
       " 9: {'title': \"Decision to protect people of WB: TMC on banning 'Kerala Story'\",\n",
       "  'content': 'TMC leader Madan Mitra on Thursday said \\'The Kerala Story\\' was banned in West Bengal to protect the people of the state. \"Mamata Banerjee has no resentment against \\'The Kerala Story\\', but after some incidents in...the country, the decision...[was taken] for maintaining law and order,\" he said. On Wednesday, BJP workers protested in Siliguri against the ban on the movie.',\n",
       "  'category': 'national'},\n",
       " 10: {'title': \"Protesting wrestlers wear black bands, call it a 'Black Day'\",\n",
       "  'content': \"Wrestlers protesting against the alleged sexual harassment by WFI chief Brij Bhushan Singh wore black bands on Thursday as a mark of protest and called it a 'Black Day'. Vinesh Phogat, Bajrang Punia, Sakshee Malikkh and Satyawart Kadian were spotted wearing black bands on their foreheads, while some supporters wore them on their arms. \",\n",
       "  'category': 'national'},\n",
       " 11: {'title': 'PM Modi launches ₹5,800-cr projects on National Technology Day',\n",
       "  'content': 'Prime Minister Narendra Modi on Thursday laid the foundation stone and dedicated to the country multiple projects worth over ₹5,800 crore on the occasion of National Technology Day. Laser Interferometer Gravitational Wave Observatory and Homi Bhabha Cancer Hospital and Research Centre were among the projects for which foundation stone was laid. PM also unveiled a commemorative stamp and coin.',\n",
       "  'category': 'national'},\n",
       " 12: {'title': 'Voters allege names deleted from voters list during K’taka polls',\n",
       "  'content': 'Voters from Bengaluru\\'s Shivajinagar have alleged that their names were deleted from voters\\' list during the Karnataka Assembly elections. In a video shared by The Quint, a 36-year-old man said, \"When I questioned the authorities present at the polling booths, no one gave any answers. I don\\'t know what to do now.\"',\n",
       "  'category': 'national'},\n",
       " 13: {'title': 'Kejriwal got what he was desperate for: BJP leader on SC order ',\n",
       "  'content': 'BJP Delhi president Virendraa Sachdeva on Thursday said that the party respects the SC\\'s ruling that gave the AAP government control of administrative services in Delhi. Sachdeva said CM Arvind Kejriwal got what he was desperate for, adding that \"he will now make transfer posting an industry\". Responding to SC\\'s decision, Kejriwal said \"democracy won\". ',\n",
       "  'category': 'national'},\n",
       " 14: {'title': 'Confident we will get comfortable majority: Bommai on exit polls',\n",
       "  'content': 'After exit poll results from various surveys predicted Congress\\' lead in Karnataka, CM Basavaraj Bommai on Thursday said that the BJP will come to power with a \"comfortable majority\". \"We will get an absolute majority, mark my words,\" Bommai said. \"Last time...exit polls predicted only 80 seats for BJP and 107 for Congress, but it came reverse,\" he added.',\n",
       "  'category': 'national'},\n",
       " 15: {'title': \"'Operation Lotus' not needed, will win 120-125 seats: BJP leader\",\n",
       "  'content': 'Union Minister Shobha Karandlaje said there will be no need for \\'Operation Lotus\\' in Karnataka as BJP will win 120-125 seats. She added that the party would prove the exit polls wrong. \"According to the primary reports obtained from our booth-level workers, we are winning 120 to 125 seats,\" Karandlaje said.',\n",
       "  'category': 'national'},\n",
       " 16: {'title': 'Victory of democracy: Atishi on SC verdict over LG-Delhi govt row',\n",
       "  'content': 'After the Supreme Court ruled in favour of AAP government over the control of administrative services in Delhi, minister Atishi called it the victory of democracy, Constitution and people of Delhi. \"We saw how the Modi government tried to snatch the rights of a democratically chosen government,\" she said. \"The verdict is a slap on the Modi government,\" she added.',\n",
       "  'category': 'national'},\n",
       " 17: {'title': \"Indira gave her life but didn't allow Khalistan formation: Gehlot\",\n",
       "  'content': 'Rajasthan CM Ashok Gehlot on Thursday said that Indira Gandhi gave her life but didn\\'t allow the formation of Khalistan. \"They (BJP) didn\\'t get even a finger cut during the freedom movement & are sitting in power and making tall claims. It is easy to instigate in the name of religion and caste,\" he said. ',\n",
       "  'category': 'national'},\n",
       " 18: {'title': \"Ahmedabad BJP organises screenings of 'Kerala Story' for members\",\n",
       "  'content': 'BJP\\'s Ahmedabad city unit on Thursday organised screenings of \\'The Kerala Story\\' for its workers. BJP\\'s MLAs, MPs, councillors, office-bearers and members of its women\\'s cell attended the screenings. \"Our objective behind organising screenings...is to make women aware about this issue. It\\'s our collective responsibility to ensure that our women don\\'t get trapped in love jihad,\" a BJP leader said.',\n",
       "  'category': 'national'},\n",
       " 19: {'title': \"Himanta watches 'Kerala Story', calls ban on film 'wrong decision'\",\n",
       "  'content': 'Assam CM Himanta Biswa Sarma on Thursday said he watched the film \\'The Kerala Story\\' and said  whoever decided to ban the film took a wrong decision. \"They\\'re under the notion that this film is against...Muslim community,\" Sarma said. \"\\'The Kerala Story\\'...exposes the brutal design of terrorist organisation which exists in our country in the name of religion,\" he added.',\n",
       "  'category': 'national'},\n",
       " 20: {'title': 'UP family kills couple, hangs them from tree as girl marries Dalit',\n",
       "  'content': \"A couple was allegedly killed by the girl's relatives and the bodies hung from a tree in a UP village to make it look like suicide, police said on Thursday. An official said that the girl's family killed the boy first and then hung them together as her family was against her relationship with a Dalit man.\",\n",
       "  'category': 'national'},\n",
       " 21: {'title': 'UP teacher gives fake COVID certificate to evade poll duty, booked',\n",
       "  'content': \"An assistant teacher, Renu Tomar, has been booked for allegedly submitting a fake COVID-19 positive medical certificate to get exemption from polling duty in Uttar Pradesh municipal elections. The incident took place in Pilibhit's Puranpur tehsil. The report was found to be counterfeit during verification and was registered to another person, police said, adding she is yet to be arrested.\",\n",
       "  'category': 'national'},\n",
       " 22: {'title': 'Bride shouts slogans demanding jobs at wedding reception in Bengal',\n",
       "  'content': 'A 27-year-old bride, along with her friends, raised slogans demanding jobs for qualified Teacher Eligibility Test (TET) candidates at her wedding reception in West Bengal\\'s Purba Bardhaman district. A video of the incident went viral. \"We want appointment, all deprived candidates should get appointment,\" the TET-qualified bride shouted as the guests looked on.',\n",
       "  'category': 'national'},\n",
       " 23: {'title': '43-yr-old peon molests 4-yr-old girl in Delhi school, arrested',\n",
       "  'content': \"A 43-year-old man working as a peon in a school in Delhi's Rohini has been arrested for allegedly molesting a four-year-old girl student, police said. A senior police official said that the police only had one clue, which was that the accused had a moustache. The girl underwent medical examination and also received counselling later, the official added. \",\n",
       "  'category': 'national'},\n",
       " 24: {'title': 'Kerala train fire accused inspired by preacher Zakir Naik: NIA',\n",
       "  'content': \"The National Investigation Agency (NIA), which is probing the train arson case which killed three persons in Kerala, said that accused Shahrukh Saifi was inspired by Islamic preacher Zakir Naik. As part of the investigation, NIA conducted searches at ten locations in Delhi's Shaheen Bagh area, where the accused hails from, and covered the properties of Saifi besides other suspects.\",\n",
       "  'category': 'national'},\n",
       " 25: {'title': 'Video shows moment cake is thrown at Porsche Chairman during meeting',\n",
       "  'content': \"A video captured the moment a cake was thrown at Porsche SE Chairman, Wolfgang Porsche, during parent company Volkswagen's shareholder meeting in Berlin. It also sent bits flying toward Volkswagen supervisory board Chairman Hans Dieter Poetsch. An activist threw the cake in protest against Volkswagen's factory in China's Xinjiang, accusing the company of ignoring human rights abuses in the region.\",\n",
       "  'category': 'business'},\n",
       " 26: {'title': 'Pakistan rupee falls to all-time low of 300 a US dollar',\n",
       "  'content': \"Pakistan's rupee slumped to a new record low of 300 a US dollar on Thursday. The fall comes amid the military stepping in to squash violent protests that erupted after former Prime Minister Imran Khan's arrest this week. Dollar bonds due 2031 rose from the lowest since November and were indicated at 33.44 cents on the dollar.\",\n",
       "  'category': 'business'},\n",
       " 27: {'title': 'Wells Fargo ex-VP in US invited female employee to shower with him: Lawsuit',\n",
       "  'content': 'Carl Nelson, a former Senior VP at financial services company Wells Fargo, invited a female subordinate to his house to \"exercise and shower with him\", according to a lawsuit filed in the Los Angeles Superior Court. He allegedly gave her unwanted massages because she \"looked tense\". Nelson also threatened to deny her job opportunities if she didn\\'t date him.',\n",
       "  'category': 'business'},\n",
       " 28: {'title': \"Who is Robyn Grew, Man Group's first female CEO in 240 years?\",\n",
       "  'content': 'London-based Man Group, the largest publicly listed hedge fund, appointed 54-year-old Robyn Grew as its first female CEO in 240 years. Currently the Group President, Robyn is a qualified barrister who attended Coventry University to study business law and Bar School in London. She has worked in the investment industry since 1994 with companies like Lehman Brothers and Barclays Capital.',\n",
       "  'category': 'business'},\n",
       " 29: {'title': 'Bank of England raises lending rates to 4.5% in 12th straight hike',\n",
       "  'content': 'Bank of England (BoE) raised its benchmark lending rate to 4.5%, the highest level since 2008. This is the 12th straight hike as the BoE is fighting double-digit price increases. BoE no longer predicts recession after it revised up its growth forecasts from gloomy numbers released in February, the biggest such improvement since it first published forecasts in 1997.',\n",
       "  'category': 'business'},\n",
       " 30: {'title': \"Dr Reddy's stock falls 7% after Q4 result, is Nifty 50's top loser\",\n",
       "  'content': \"Dr Reddy's Laboratories' shares fell nearly 7% on NSE and were the top loser on the Nifty 50 index on Thursday after analysts cut ratings and estimates after the company's fourth-quarter profit missed estimates. Dr Reddy's Laboratories' stock was trading 6.81% lower at ₹4,552/share at 3:03 pm on NSE. Its net profit rose to ₹960 crore in the March quarter.\\n\\n\\n\",\n",
       "  'category': 'business'},\n",
       " 31: {'title': 'Peloton recalls 2 mn exercise bikes over seat post breaking issue',\n",
       "  'content': 'US-based exercise equipment firm Peloton has recalled 20 lakh exercise bikes in the US over the possibility of the seat post breaking while in use, the US Consumer Product Safety Commission (CPSC) said. The firm has received 35 reports of the seat post breaking and detaching from the bike during use. There have been 13 reports of injuries.',\n",
       "  'category': 'business'},\n",
       " 32: {'title': 'Joining ONDC will become market compulsion for e-comm giants: CEO',\n",
       "  'content': 'Open Network for Digital Commerce (ONDC) CEO T Koshy said it will become a \"market compulsion\" for e-commerce giants like Amazon and Flipkart to join the government-backed network. \"As a policy, we encourage everyone to come to ONDC with their main platforms...We never force anyone to do anything...In the long run, our intention is to bring everyone onboard,\" Koshy said.\\n',\n",
       "  'category': 'business'},\n",
       " 33: {'title': 'Karnataka HC quashes GST notice of ₹21,000-cr against Gameskraft',\n",
       "  'content': 'The Karnataka High Court on Thursday quashed a GST notice against Bengaluru-based online gaming company Gameskraft Technology for alleged evasion of ₹21,000 crore, the biggest such claim in the history of indirect taxation. In September 2022, a GST intelligence unit issued a show-cause notice to Gameskraft for the alleged evasion. Gameskraft was also accused of promoting online betting.\\n',\n",
       "  'category': 'business'},\n",
       " 34: {'title': 'UK blocks Microsoft, Activision from buying interest in each other',\n",
       "  'content': \"UK's Competition and Markets Authority (CMA) published an interim order on Thursday that restricts Microsoft and 'Call of Duty' maker Activision Blizzard from acquiring an interest in each other without its consent. This comes weeks after the competition regulator blocked Microsoft's $69-billion acquisition of Activision. The deal was blocked over concerns it'd affect competition in cloud gaming.\",\n",
       "  'category': 'business'},\n",
       " 35: {'title': 'ONDC caps incentives for sellers amid surge in orders',\n",
       "  'content': 'The government-backed Open Network for Digital Commerce (ONDC) has capped incentives for seller-side apps amid a surge in daily orders. An incentive of up to ₹75, which was being provided for logistics-related costs for every eligible order, has been capped at a maximum of ₹2.25 lakh per seller-side app per day. ONDC has also made changes related to hyperlocal deliveries.',\n",
       "  'category': 'business'},\n",
       " 36: {'title': \"Can't simply restart investments, need to evaluate: SoftBank CFO \",\n",
       "  'content': 'SoftBank CFO Yoshimitsu Goto said while the company has seen signs of improvement in the last three months, it \"can\\'t simply restart investments\". He stated that SoftBank would look at the ongoing \"technological evolution\" and invest in AI-related opportunities. \"It\\'s not that we will only invest in generative AI, but AI is kind of our main focus,\" he added.',\n",
       "  'category': 'business'},\n",
       " 37: {'title': 'BharatPe is a $3 bn write-off, value destroyed by Rajnish: Grover',\n",
       "  'content': 'After the Delhi Police Economic Offences Wing registered an FIR against Ashneer Grover and his family, the BharatPe Co-founder said the company is a $3 billion write-off and its value has been destroyed by Chairman Rajnish Kumar. \"I\\'ve said earlier also that hiring him (Kumar) was my mistake...The company has seen zero growth...since I left BharatPe,\" Grover told Moneycontrol.\\n',\n",
       "  'category': 'business'},\n",
       " 38: {'title': 'Burning Yeezy shoes sitting in storage not a solution: Adidas CEO',\n",
       "  'content': 'Adidas CEO Bjoern Gulden has said that the firm will sell some of the merchandise from its defunct Yeezy partnership with rapper Kanye West and that burning the shoes sitting in storage would not be a solution. Millions of Yeezy shoes, having a retail value of $1.3 billion, are in storage after their sale was put on hold. ',\n",
       "  'category': 'business'},\n",
       " 39: {'title': 'METRO Cash & Carry completes ₹2,850 cr deal with Reliance Retail',\n",
       "  'content': 'German retailer METRO AG announced the completion of the sale of its Indian business to Reliance Retail Ventures for ₹2,850 crore. The deal includes all 31 wholesale stores operated by METRO Cash & Carry India and the entire real estate portfolio to Reliance. All METRO India stores will continue to operate under the METRO brand during the agreed transition period.',\n",
       "  'category': 'business'},\n",
       " 40: {'title': 'NIIF appoints COO Rajiv Dhar as interim CEO, MD',\n",
       "  'content': \"National Investment and Infrastructure Fund (NIIF), an investment platform for international and Indian investors, has appointed COO Rajiv Dhar as the MD and CEO of the company on interim basis. The succession follows Sujoy Bose's request to relieve him from his responsibilities as MD and CEO, the company said. Dhar has been part of NIIF since 2017.\",\n",
       "  'category': 'business'},\n",
       " 41: {'title': 'Asian Paints net profit rises 45% to ₹1,268 crore in Q4',\n",
       "  'content': 'The net profit of Asian Paints jumped 45.11% to ₹1,268.41 crore for the quarter ended March 31, 2023. The Mumbai-headquartered company had reported a net profit of ₹874.05 crore in the year-ago quarter. Its revenue from sales went up 10.91% to ₹8,750.85 crore, while its revenue from operations rose 11.33% to ₹8,787.34 crore in quarter four.',\n",
       "  'category': 'business'},\n",
       " 42: {'title': \"We need crew to stick to us to restart operations: Go First's IRP\",\n",
       "  'content': 'Go First\\'s IRP Abhilash Lal, on Thursday, reassured the airline\\'s employees that all steps are being taken to ensure that it resumes operations soon. \"Go First cannot restart without a crew...we need all of you to stick with us while we figure out how to restart operations,\" Lal was quoted as saying by an employee who spoke to Moneycontrol.',\n",
       "  'category': 'business'},\n",
       " 43: {'title': \"Gautam Adani's 3 firms planning to raise $5 billion: Report\",\n",
       "  'content': \"Billionaire Gautam Adani-led three companies are planning to raise funds up to $5 billion, Bloomberg reported. The board of Adani Enterprises, Adani Green Energy and Adani Transmission will meet on Saturday to discuss a fundraise via sale of shares or other securities, an exchange filing stated. Earlier this year, Adani Group's market value dipped following a report from Hindenburg Research.\",\n",
       "  'category': 'business'},\n",
       " 44: {'title': 'Govt lowers GST e-invoicing threshold to ₹5 crore from Aug 1',\n",
       "  'content': 'The government said that e-invoicing will be required from registered entities with an annual turnover of ₹5 crore from August 1, 2023. This move is a part of the phased reduction in the turnover limit for e-invoicing. Earlier, this limit was fixed at ₹10 crore, as per the official notification issued in August 2022.',\n",
       "  'category': 'business'},\n",
       " 45: {'title': 'Emirates Group reports record annual profit of $3 bn in 2022-23',\n",
       "  'content': 'Dubai\\'s Emirates Group has reported a record annual profit of $3 billion in 2022-23. Its revenue increased 81% to $32.6 billion. Emirates airline also reported its most profitable year ever with a profit of $ 2.9 billion. The airline had made a \"full recovery\" since the hit to demand caused by COVID-19, CEO Sheikh Ahmed bin Saeed Al Maktoum said.',\n",
       "  'category': 'business'},\n",
       " 46: {'title': 'Weekly jobless claims in US jump to highest level since late 2021',\n",
       "  'content': \"The amount of Americans filing new claims for jobless benefits rose to its highest level since October 2021 last week. The labor department's data showed that initial claims for state unemployment benefits increased 22,000 to a seasonally adjusted 2,64,000 for the week ended May 6. The Federal Reserve raised its benchmark interest rate to a 16-year high earlier this month.\",\n",
       "  'category': 'business'},\n",
       " 47: {'title': 'McD sued for $15,000 after its food allegedly burns 4-yr-old in US',\n",
       "  'content': \"McDonald's has been sued for $15,000 in the US by the parents of a four-year-old after their daughter allegedly suffered second-degree burns due to the outlet's chicken nugget in 2019. The incident reportedly occurred when they bought a 'Chicken McNugget' meal at a drive-thru. The McNugget dropped and got wedged between her thigh and the seatbelt for approximately two minutes.\",\n",
       "  'category': 'business'},\n",
       " 48: {'title': 'Too early for Fed to declare victory on inflation: US billionaire',\n",
       "  'content': 'US billionaire David Rubenstein has warned it\\'s too early for the US Federal Reserve to declare victory on inflation after several rate increases in the past year. \"It\\'s premature to have rate cuts this summer,\" Rubenstein said. \"The Fed has said its target is 2% inflation. There\\'s no way in the world you get to 2% this summer,\" he added.',\n",
       "  'category': 'business'},\n",
       " 49: {'title': \"Billionaire Icahn's firm failed to address key issues: Hindenburg\",\n",
       "  'content': 'Hindenburg Research has said that billionaire Carl Icahn\\'s investment firm Icahn Enterprises LP (IEP) has failed to address every key issue it had raised. The short seller has initiated a short position in IEP bonds. Earlier, Icahn called Hindenburg\\'s report against his firm \"self-serving\" and vowed to take all appropriate steps to \"fight back\".',\n",
       "  'category': 'business'},\n",
       " 50: {'title': \"RR's Yashasvi Jaiswal smashes fastest fifty in IPL history\",\n",
       "  'content': 'Rajasthan Royals (RR) opener Yashasvi Jaiswal on Thursday broke the record for slamming the fastest fifty in the history of IPL. The 21-year-old reached his half-century off 13 deliveries against Kolkata Knight Riders (KKR) at Eden Gardens in Kolkata. The previous record was jointly held by KL Rahul and Pat Cummins, who had taken 14 deliveries each.\\n\\n\\n\\n\\n\\n',\n",
       "  'category': 'sports'},\n",
       " 51: {'title': \"Jadeja likes 'Trauma' tweet that criticised CSK fans wanting him to get out to see Dhoni\",\n",
       "  'content': 'CSK\\'s Ravindra Jadeja liked a tweet that criticised CSK fans wanting him to get out to see MS Dhoni bat. Referring to Jadeja\\'s remark that CSK fans wait for him to get out, the tweet stated, \"Jaddu saying this with...smile...but lot of pain inside...it\\'s...trauma! Imagine your own team spectators not supporting you...Criticising you even after...three Man of the Match [awards]!\"',\n",
       "  'category': 'sports'},\n",
       " 52: {'title': \"RR to bowl first against KKR, Trent Boult returns to RR's playing XI\",\n",
       "  'content': 'Rajasthan Royals (RR) captain Sanju Samson won the toss and elected to bowl first against Kolkata Knight Riders (KKR) in their IPL 2023 match on Thursday. KKR have won their previous two matches, while RR have suffered three defeats in a row in the tournament. RR have included Trent Boult and KM Asif in their playing XI.',\n",
       "  'category': 'sports'},\n",
       " 53: {'title': 'Yuzvendra Chahal creates history, takes most wickets in IPL',\n",
       "  'content': 'RR leg-spinner Yuzvendra Chahal has created history by becoming the highest wicket-taker in IPL. By dismissing KKR captain Nitish Rana in their IPL 2023 match on Thursday, Chahal took his tally of wickets in IPL to 184. He overtook Dwayne Bravo, who was the previous highest wicket-taker in IPL with 183 scalps.',\n",
       "  'category': 'sports'},\n",
       " 54: {'title': \"I came home crying, shaved my head: KKR's Suyash Sharma on U-19 trials snub\",\n",
       "  'content': 'Talking about not being selected after giving trials for Under-19 last year, KKR\\'s Suyash Sharma said, \"I came home crying and shaved my head.\" He added, \"I was quite disappointed. Couldn’t believe despite doing well...this was happening to me.\" He further said, “I vowed to work on my skills so much so that one day...they will call me up themselves.\"',\n",
       "  'category': 'sports'},\n",
       " 55: {'title': \"'Mera Meme Bana Diya' song fits perfectly with my knock: Tewatia on his 5 sixes in 1 over\",\n",
       "  'content': 'On being asked about his five sixes in an over for RR against KXIP in IPL 2020, GT all-rounder Rahul Tewatia said, \"I like watching videos of my performances from...past.\"  Referring to an edited video of his knock which had \\'Edit Karke Image Tune Mera Meme Bana Diya\\' song in background, Tewatia said, \"It fits perfectly with the innings.\"',\n",
       "  'category': 'sports'},\n",
       " 56: {'title': \"It's all lies: Ronaldo's mother on\\xa0reports of his relationship problems with girlfriend\",\n",
       "  'content': 'Cristiano Ronaldo\\'s mother Dolores has refuted rumours of relationship problems between Ronaldo and his girlfriend Georgina Rodriguez. \"It’s all lies...Every couple argues, but what’s been written is a lie,\" Dolores said. Earlier, Georgina, in an Instagram post, had said, \"The jealous one invents a rumour, the gossipy one spreads it and the idiot believes it.\"',\n",
       "  'category': 'sports'},\n",
       " 57: {'title': 'ICC releases annual ODI rankings, Pakistan overtake India to take 2nd spot',\n",
       "  'content': 'The ICC on Thursday released the annual ODI rankings, with Pakistan overtaking India to be ranked second. Australia retained their number one spot with 118 rating points, while Pakistan are second with 116 points and India are third with 115 points. The finalists of 2019 World Cup, New Zealand and England, are ranked fourth and fifth, respectively.',\n",
       "  'category': 'sports'},\n",
       " 58: {'title': 'Glenn Maxwell, wife Vini Raman expecting rainbow baby, share pic of ultrasound',\n",
       "  'content': 'Australia all-rounder Glenn Maxwell and his wife Vini Raman took to Instagram to announce their rainbow baby is due in September 2023. Sharing picture of an ultrasound, Vini wrote, \"It\\'s so important for us to acknowledge this journey hasn\\'t been...smoothest or easiest.\" Notably, rainbow baby is a term coined for baby born after miscarriage, stillbirth or loss of an infant.',\n",
       "  'category': 'sports'},\n",
       " 59: {'title': \"You'll never win if there are 34 dot balls: Ponting on DC's loss\",\n",
       "  'content': 'DC head coach Ricky Ponting said there were 34 dot balls during DC\\'s chase against CSK, adding that a team can never win while chasing down a target if there are so many dot balls. \"This match marked the...seventh time this season where we\\'ve lost a wicket in the game\\'s first over...We didn\\'t show any urgency against spinners,\" he stated.',\n",
       "  'category': 'sports'},\n",
       " 60: {'title': \"Few T20 cameos won't make SKY a great ODI player: Sivaramakrishnan\",\n",
       "  'content': 'Reacting to his earlier tweet where he had termed Suryakumar Yadav as a great example of only certain players being protected, ex-India spinner Laxman Sivaramakrishnan tweeted, \"I still stand by it.\" \"A few cameos in T20s...[won\\'t] make Suryakumar a great player [in] ODIs,\" added Sivaramakrishnan. \"You can\\'t pick a player based on T20 performance for all formats,\" he\\'d earlier tweeted.',\n",
       "  'category': 'sports'},\n",
       " 61: {'title': \"Ganguly keeps switching seats if we are struggling: DC's Ponting\",\n",
       "  'content': 'DC head coach Ricky Ponting said DC\\'s Director of Cricket Sourav Ganguly keeps switching his seat in case the team isn\\'t performing well during a game. \"When things start to turn, he comes back and sits next to me,\" added Ponting. \"He...doesn\\'t show it as much...as I do but he\\'s just as nervous as most of us,\" he stated.',\n",
       "  'category': 'sports'},\n",
       " 62: {'title': 'Harsha compares facing CSK at Chepauk to a spider inviting a fly',\n",
       "  'content': 'Talking about facing MS Dhoni-led CSK on a slow turner at Chepauk Stadium, commentator Harsha Bhogle tweeted, \"[It\\'s] like a spider inviting a fly.\" \"Hopefully, the spider doesn\\'t get caught in its own web,\" read a reaction. Ex-India cricketer Irfan Pathan had earlier stated that Dhoni \"closes the door\" of the stadium, \"thrashes the opposition\" mercilessly in CSK\\'s home matches.',\n",
       "  'category': 'sports'},\n",
       " 63: {'title': \"Pathirana's brutal at 20, I hadn't understood bowling then: Bishop\",\n",
       "  'content': 'Ex-West Indies pacer Ian Bishop said CSK pacer Matheesha Pathirana is \"exciting as heck\" at the age of 20, adding that the delivery bowled by Pathirana to dismiss DC\\'s Manish Pandey recently was \"brutal\". \"What was I doing at 20? I didn\\'t understand bowling [then],\" stated Bishop. \"I haven\\'t seen Pathirana look intimidated so far this season,\" he said.',\n",
       "  'category': 'sports'},\n",
       " 64: {'title': \"Dad said 'People taunted me a lot, you shut them up': RR's Jurel\",\n",
       "  'content': 'Sharing his father\\'s reaction following his 34 off 15 balls against CSK, RR\\'s Dhruv Jurel said, \"My father said, \\'People taunted me a lot that I\\'m spoiling your life by not forcing you to study but you shut everyone up\\'.\" \"My parents were very emotional,\" added Jurel. \"When my gloves would tear, papa would stitch...by hand,\" Jurel had earlier stated.',\n",
       "  'category': 'sports'},\n",
       " 65: {'title': \"MSD told Jadeja 'Wrist's dropping, you're undercutting': Dasgupta\",\n",
       "  'content': 'Ex-India cricketer Deep Dasgupta said MS Dhoni spoke to Ravindra Jadeja throughout the second innings in CSK\\'s IPL 2023 match against DC. \"Dhoni said that Jadeja\\'s wrist is dropping and he is undercutting,\" he added. Discussing DC opener Phil Salt\\'s dismissal, Dasgupta stated, \"Every time Phil sees the ball swinging...he charges. Before he could do that, MS was up there.\"',\n",
       "  'category': 'sports'},\n",
       " 66: {'title': \"Yelled as loud as I can, everyone only heard 'Dhoni, Dhoni': Boult\",\n",
       "  'content': 'RR\\'s Trent Boult said he tried to yell as loudly as he could during his team\\'s huddle before taking the field in the recent IPL 2023 match against CSK. \"Everyone could only hear, \\'Dhoni, Dhoni\\' getting screamed across the ground,\" added Boult. The pacer termed Sanju Samson as \"quite funny\", adding that Yuzvendra Chahal\\'s the heartbeat of their dressing room.',\n",
       "  'category': 'sports'},\n",
       " 67: {'title': \"Zlatan said 'I live on building top so God can look over': Tomori\",\n",
       "  'content': 'Recalling his conversation with Zlatan Ibrahimović, AC Milan defender Fikayo Tomori said, \"He...[asked] me where I lived...It was actually a building close to his.\" The defender stated that Ibrahimović said he lived at the top of his building so that \"God can look over the city\". \"I remember thinking, \\'So, this is the Zlatan I...[saw] on social media!\" said Tomori.',\n",
       "  'category': 'sports'},\n",
       " 68: {'title': 'MS Dhoni has found his best again this season of IPL: Graeme Smith',\n",
       "  'content': 'Ex-South Africa captain Graeme Smith said there\\'s \"enormous pressure\" on CSK captain MS Dhoni every time he goes to bat. \"The roars every time he gets on strike, and the crowd goes berserk. It\\'s incredible to watch [and] this IPL season he has found his best again,\" Smith added. Dhoni scored 20 runs off nine balls against DC on Wednesday.',\n",
       "  'category': 'sports'},\n",
       " 69: {'title': 'Village kid playing in chaddi baniyan now finisher in IPL: Tewatia',\n",
       "  'content': 'Speaking about his journey in the IPL, GT all-rounder Rahul Tewatia said, \"A kid from...village, playing in \\'chaddi baniyan\\' on...streets, is now playing the role of a finisher in an IPL team.\" On being asked if he still dreams of playing for India, Tewatia stated that dream has been there \"since I was a kid watching cricket on television\".\\n\\n\\n\\n',\n",
       "  'category': 'sports'},\n",
       " 70: {'title': \"His journey is a life lesson: Harbhajan on KKR's Rinku Singh\",\n",
       "  'content': 'Former India cricketer Harbhajan Singh said KKR\\'s Rinku Singh\\'s journey is a life lesson and all young kids should learn from him. \"He\\'s such an inspirational player. He has run all the hard yards and worked very hard to get to where he\\'s today,\" Harbhajan added. He further stated, \"That India cap is not far away from Rinku Singh\\'s head.\"',\n",
       "  'category': 'sports'},\n",
       " 71: {'title': 'No one manages spinners better than Dhoni on slow pitch: Irfan',\n",
       "  'content': 'Ex-India all-rounder Irfan Pathan praised MS Dhoni for the way he managed his spinners in the Chennai Super Kings (CSK) match against Delhi Capitals (DC) on Wednesday. \"If it\\'s a slow pitch, no one manages the spinners better than Dhoni,\" Irfan said. He added that Dhoni wasn\\'t only involved in managing his bowlers but also in formulating strategies with them. ',\n",
       "  'category': 'sports'},\n",
       " 72: {'title': \"Protesting wrestlers wear black bands, call it a 'Black Day'\",\n",
       "  'content': \"Wrestlers protesting against the alleged sexual harassment by WFI chief Brij Bhushan Singh wore black bands on Thursday as a mark of protest and called it a 'Black Day'. Vinesh Phogat, Bajrang Punia, Sakshee Malikkh and Satyawart Kadian were spotted wearing black bands on their foreheads, while some supporters wore them on their arms. \",\n",
       "  'category': 'sports'},\n",
       " 73: {'title': \"He should fix knee & return next year: Harbhajan on Dhoni's injury\",\n",
       "  'content': 'Talking about CSK captain MS Dhoni\\'s injury, ex-India cricketer Harbhajan Singh said the former should \"fix that knee and come back next year\". \"Whatever the talk is going on over this being Dhoni\\'s last season, I think that should be put to rest,\" Singh stated. Dhoni was seen limping while running between the wickets in the match against DC.\\n',\n",
       "  'category': 'sports'},\n",
       " 74: {'title': \"He will be more impactful in new franchise: Daren on KKR's Narine\",\n",
       "  'content': 'Former West Indies captain Daren Ganga, while talking about KKR spinner Sunil Narine\\'s form in IPL 2023, said the latter should change his franchise to freshen up and be more impactful. He added that Narine is still a \"formidable force\" and has been \"consistent with line and lengths\". Narine is playing for KKR since 2012.',\n",
       "  'category': 'sports'},\n",
       " 75: {'title': \"Former Pak PM Imran Khan's arrest illegal, release him immediately: Pak Supreme Court\",\n",
       "  'content': 'PTI Chairman and former Pakistan PM Imran Khan\\'s arrest has been declared illegal by Pakistan\\'s Supreme Court which also ordered that he be released \"immediately\". \"What dignity remains of the court if 90 people entered its premises? How can any individual be arrested from court premises?\" the Chief Justice said. Khan was arrested by paramilitary force outside Islamabad High Court.  ',\n",
       "  'category': 'world'},\n",
       " 76: {'title': 'Monkeypox no longer a global health emergency, declares WHO',\n",
       "  'content': 'WHO declared that Monkeypox is no longer a global health emergency. \"Yesterday...emergency committee...recommended...that...Monkeypox no longer represents a public health emergency of international concern,\" said WHO Director-General Tedros Adhanom Ghebreyesus. \"However...that doesn\\'t mean...work is over. Monkeypox continues to pose significant public health challenges,\" he added.',\n",
       "  'category': 'world'},\n",
       " 77: {'title': '2 killed in shooting at Mercedes plant in Germany, suspect held',\n",
       "  'content': \"Two persons were killed in a shooting inside a Mercedes-Benz plant in Germany's Sindelfingen. The 53-year-old suspect has been arrested by police. Production at one of the company's factory halls in Sindelfingen has been suspended until the end of the week. The gunman and the two victims belonged to an external services provider, Mercedes said reacting to the shooting.\",\n",
       "  'category': 'world'},\n",
       " 78: {'title': 'Pakistan rupee falls to all-time low of 300 a US dollar',\n",
       "  'content': \"Pakistan's rupee slumped to a new record low of 300 a US dollar on Thursday. The fall comes amid the military stepping in to squash violent protests that erupted after former Prime Minister Imran Khan's arrest this week. Dollar bonds due 2031 rose from the lowest since November and were indicated at 33.44 cents on the dollar.\",\n",
       "  'category': 'world'},\n",
       " 79: {'title': 'Produce Imran Khan in 1 hour: Pak SC directs anti-corruption body',\n",
       "  'content': 'Pakistan\\'s Supreme Court has ordered the country\\'s anti-corruption body, National Accountability Bureau (NAB), to produce ex-PM Imran Khan in court within 1 hour. The court observed that the NAB had committed \"contempt of court\" by entering its premises and arresting him without seeking permission. Khan has been remanded in eight-day custody of the NAB in the Al-Qadir Trust case.',\n",
       "  'category': 'world'},\n",
       " 80: {'title': 'Mysterious fireball spotted over the sky in Japan',\n",
       "  'content': 'Videos of streaks of light spotted at night over southern Japan have surfaced online. Several people from the area shared videos of what looked like one large \"fireball\", leaving smaller ones streaking behind it, lighting up the sky on Wednesday night. Japanese officials said the phenomenon was likely caused by the debris of a rocket launched from China.',\n",
       "  'category': 'world'},\n",
       " 81: {'title': \"Was beaten with sticks, didn't know reason of arrest: Imran Khan\",\n",
       "  'content': 'Former Pakistan PM Imran Khan told the Supreme Court on Thursday that he was abducted from the High Court and was beaten with sticks. \"I had no idea where I was being taken and on what charge I was arrested for,\" he said. He also appealed to his supporters to maintain peace and not damage government and private property. ',\n",
       "  'category': 'world'},\n",
       " 82: {'title': \"Explosion in Italy's Milan leaves several cars on fire, videos surface\",\n",
       "  'content': 'Several vehicles caught fire in the center of Milan in northern Italy after an explosion, with several videos from the scene surfacing online. As per preliminary information, the explosion took place in a parked van. No casualties have been reported so far while investigation is underway, reports said.',\n",
       "  'category': 'world'},\n",
       " 83: {'title': \"Imagine Dragons films music video in war-torn Ukraine's front line\",\n",
       "  'content': \"Musical band Imagine Dragons has released a music video which it filmed on the front lines of war-torn Ukraine. The video for the group's song 'Crushed' follows a Ukrainian boy, named Sasha, who endured months of shelling in his town. The band said it hopes to raise money for the victims of the war, which broke out in February 2022.\",\n",
       "  'category': 'world'},\n",
       " 84: {'title': 'Video shows Russian soldier pleading Ukraine drone not to bomb him',\n",
       "  'content': \"A video has surfaced online showing a Russian soldier pleading with an unmanned Ukrainian drone to not drop a bomb on him. The soldier was fighting in Bakhmut when the drone spotted him and dropped a note near the person, instructing him on how to surrender. The soldier is now under Ukraine's custody, former Ukrainian Deputy PM Mykhailo Fedorov said.\",\n",
       "  'category': 'world'},\n",
       " 85: {'title': \"Can't lose more people: Ukraine on counteroffensive against Russia\",\n",
       "  'content': \"Ukraine President Volodymyr Zelenskyy said the country cannot afford to lose more people while stating that Ukraine needs more time to launch a counteroffensive against Russia. Zelenskyy's remarks came shortly before the UK said it had sent air-launched cruise missiles to Ukraine. Separately, Ukraine claimed that Russian forces in Bakhmut had been pushed back by two kilometres in some areas.\",\n",
       "  'category': 'world'},\n",
       " 86: {'title': \"PM's upcoming US visit historic, good for world: Ambassador Sandhu\",\n",
       "  'content': 'Indian Ambassador to the US Taranjit Singh Sandhu said that Prime Minister Narendra Modi\\'s visit to the US next month, at the invitation of President Joe Biden, is \"historic\". \"The visit will also underscore that India-US partnership is people-centric and people-driven and that it is not just for the two countries, but for the world at large,\" Sandhu added.',\n",
       "  'category': 'world'},\n",
       " 87: {'title': \"27 people injured after bridge collapses in Finland's Espoo\",\n",
       "  'content': \"Around 27 people, mostly children, were injured on Thursday after a temporary pedestrian bridge collapsed in Finland's Espoo, which is located near the national capital Helsinki. The children were part of a group of eighth-grade students, returning from a field trip when the incident occurred. The bridge had been built from plywood while construction was ongoing in the area.\",\n",
       "  'category': 'world'},\n",
       " 88: {'title': \"Poland's decision to rename Kaliningrad is a hostile act: Russia\",\n",
       "  'content': 'Reacting to Poland\\'s decision of renaming the Russian city of Kaliningrad to Krolewiec in its official documents, Russia said the move is a \"hostile act\" against it. Kremlin spokesman Dmitry Peskov stated the move \"bordered on madness\". The city was annexed by Soviet Union after World War II and was renamed after politician Mikhail Kalinin. Poland is a NATO member. \\n ',\n",
       "  'category': 'world'},\n",
       " 89: {'title': 'Elderly woman hit by police motorcycle escorting UK royal',\n",
       "  'content': 'An elderly woman in her 80s was left critically injured after being hit by a police motorcycle escorting Duchess of Edinburgh Sophie, the wife of Prince Edward, in London on Wednesday. Police confirmed the incident occurred at an intersection. Buckingham Palace issued a statement on behalf of Sophie, expressing her heartfelt thoughts and prayers for the woman and her family. ',\n",
       "  'category': 'world'},\n",
       " 90: {'title': '3 Indian-origin men sell drugs on dark web in UK, convicted',\n",
       "  'content': 'An Indian-origin father-son duo and another person have been convicted for running a fake pharmaceutical firm in the UK. The accused, identified as Allen, Roshan and Krunal, sold drugs on the dark web in exchange for cryptocurrency. The trio reportedly made approximately £3.5 million (approximately ₹36 crore) by producing and selling Benzodiazepines, a type of sedative.',\n",
       "  'category': 'world'},\n",
       " 91: {'title': 'Israel kills another militant commander in Gaza',\n",
       "  'content': \"The Israeli military carried out new strikes against the Islamic Jihad militant group and said a senior commander in charge of the group's rocket launching force was killed, Israel Defense Forces said on Thursday. Ali Ghali was reportedly killed after his apartment was hit. Earlier, Israeli military claimed that it had killed three Islamic Jihad commanders in Gaza airstrikes.\",\n",
       "  'category': 'world'},\n",
       " 92: {'title': \"Imran Khan's supporters set police station ablaze over his arrest \",\n",
       "  'content': 'Former Pakistan Prime Minister Imran Khan\\'s supporters, while protesting against his arrest, set a police station on fire in Islamabad, the police have said. \"Cases will be registered against those responsible, including those who spread disorder and agitation,\" Islamabad Police stated. The Pakistan Tehreek-e-Insaf chief was arrested on May 9 on corruption charges.\\n',\n",
       "  'category': 'world'},\n",
       " 93: {'title': '8-yr-old missing boy survives 2 days in US forest by eating snow',\n",
       "  'content': \"An eight-year-old boy who went missing in a forest in US' Michigan survived by eating snow and sleeping under a log, authorities said. The boy, identified as Nante Niemi, went missing while gathering firewood for his family's campsite. Niemi was found by rescue volunteers three kilometres away from the campsite two days after he went missing.\",\n",
       "  'category': 'world'},\n",
       " 94: {'title': \"UK island that inspired Agatha Christie's novels goes on sale\",\n",
       "  'content': \"An island that inspired some novels by author Agatha Christie has gone on sale for £15 million (approximately ₹155 crore). Burgh Island, located off the South Devon coastline in UK, also includes Christie's beach house and a hotel. The island had inspired the novel 'And Then There Were None' and it was also featured in 'Evil Under the Sun'.\",\n",
       "  'category': 'world'},\n",
       " 95: {'title': 'Women workers harassed, restricted by Taliban in Afghanistan: UN',\n",
       "  'content': \"The United Nations has accused the Taliban of harassing and imposing severe restrictions on Afghan women working with the agency. This follows after the Taliban banned women from working with the UN in April, which stopped humanitarian work in Afghanistan. These 'unlawful' measures will have disastrous effects on the country's prospects for prosperity, stability and peace, the UN report stated.\",\n",
       "  'category': 'world'},\n",
       " 96: {'title': 'Video shows British WW II bomb being detonated on Belgian beach',\n",
       "  'content': \"A video has surfaced showing a British World War II bomb, which was found on a beach in Belgium, being detonated. The bomb was reported to have contained 30 kg of explosives. The beach was closed when crews carried out the controlled explosion. The bomb was detonated to rid the beach, located in Belgium's Koksijde, of explosives.\",\n",
       "  'category': 'world'},\n",
       " 97: {'title': 'Imran reaches Pak SC after order, roads to court cordoned off',\n",
       "  'content': 'Former Pakistan PM Imran Khan reached the Supreme Court amid tight security on Thursday after the country\\'s anti-corruption body, National Accountability Bureau (NAB), was ordered to produce Khan in court within one hour. The roads leading to the court were also cordoned off. The Supreme Court termed NAB\\'s move to arrest Khan on Tuesday as \"contempt of court\".',\n",
       "  'category': 'world'},\n",
       " 98: {'title': \"S'pore jails Indian woman for punching maid, throwing vomit at her\",\n",
       "  'content': 'A 37-year-old Indian woman has been sent to jail for 16 weeks for assaulting her 25-year-old domestic help as she was unhappy with her work in Singapore. The maid was cleaning toys when the woman, apparently dissatisfied with the cleaning, raised her voice and punched her in the face thrice. According to reports, she also threw vomit at her face.',\n",
       "  'category': 'world'},\n",
       " 99: {'title': 'Body of teen found who was lost in New Zealand cave amid floods',\n",
       "  'content': 'A body has been found in a New Zealand cave where a teenager went missing during a school trip on Tuesday. The deceased teen was accompanied by a group of 15 students and two adults, but the others managed to make it out of the cave safely. A state of emergency was issued for Auckland following the floods.',\n",
       "  'category': 'world'},\n",
       " 100: {'title': 'Uddhav quit over numbers, not morality: Fadnavis on SC verdict ',\n",
       "  'content': 'Maharashtra Deputy CM Devendra Fadnavis on Thursday responded to former CM Uddhav Thackeray\\'s remark that Eknath Shinde should resign on moral grounds. \"It doesn\\'t suit Uddhav Thackeray to talk about morality. He had not resigned on moral grounds but due to fear after people who were with him left him,\" Fadnavis said, adding there was no question of Shinde resigning. ',\n",
       "  'category': 'politics'},\n",
       " 101: {'title': \"73.19% voter turnout in K'taka poll, new record created: Poll body\",\n",
       "  'content': 'Karnataka registered a voter turnout of 73.19% in the Assembly polls, according to the state Chief Electoral Office\\'s figures released on Thursday. \"Karnataka has created a new record for itself,\" it added. Chikkaballapur district recorded the highest voter turnout of 85.56%, followed by Bengaluru Rural at 85.08%. The lowest voter turnout was reported in BBMP (South) limits at 52.33%.',\n",
       "  'category': 'politics'},\n",
       " 102: {'title': 'I took all decisions carefully: Ex-Maha Guv Koshyari on SC verdict',\n",
       "  'content': 'Former Maharashtra Governor Bhagat Singh Koshyari replied to Supreme Court\\'s verdict in the Maharashtra political crisis case, saying he took all decisions after careful consideration. \"I only know parliamentary traditions...I took all decisions at that time after careful consideration,\" Koshyari said. \"If I\\'ve received someone\\'s resignation, should I ask them not to resign?\" he added.',\n",
       "  'category': 'politics'},\n",
       " 103: {'title': 'CJI Chandrachud is a hero, will inspire kids like Amitabh did: AAP',\n",
       "  'content': \"After the Supreme Court ruled in favour of Delhi government in its case against the Centre, AAP leader Saurabh Bharadwaj hailed CJI DY Chandrachud as a hero. Actor Amitabh Bachchan inspired us to be Police Inspector when we were children. Now, every child who understands the judiciary and the country's situation would want to be a judge.\",\n",
       "  'category': 'politics'},\n",
       " 104: {'title': \"Bihar moves SC challenging HC's interim stay on caste-based census\",\n",
       "  'content': \"The Bihar government on Thursday moved the Supreme Court, challenging the Patna High Court's order putting an interim stay on the caste-based census in the state. The Patna High Court on Tuesday rejected the state government's petition, seeking an early hearing of its interim stay on the caste census. The court said the hearing will take place on July 3.\",\n",
       "  'category': 'politics'},\n",
       " 105: {'title': 'Sudden hostel visit beyond dignity: DU in notice to Rahul Gandhi',\n",
       "  'content': 'Delhi University has sent a notice to Congress leader Rahul Gandhi over his \"sudden\" visit to PG men\\'s hostel, saying \"such a conduct from a national party\\'s leader who has Z-plus security is beyond dignity\". The hostel\\'s management committee \"condemned this incident amounting to trespass\", the notice read. It asked Gandhi to \"cease and desist\" from such actions in future.',\n",
       "  'category': 'politics'},\n",
       " 106: {'title': 'No possibility of 3rd front, BJD will go solo in 2024 polls: Odisha CM',\n",
       "  'content': 'After meeting Prime Minister Narendra Modi in Delhi, Odisha CM Naveen Patnaik on Thursday ruled out the possibility of a \\'third front\\' to challenge the BJP in the 2024 Lok Sabha elections. \"No, as far as I am concerned. Not now,\" he said on being questioned about the same by mediapersons. Patnaik added that BJD would fight the elections solo.',\n",
       "  'category': 'politics'},\n",
       " 107: {'title': 'EVMs never sent to SA, expose source of info: EC tells Congress MP',\n",
       "  'content': 'EC has denied Congress MP Randeep Surjewala\\'s allegation that EVMs used in Karnataka Assembly polls were earlier used in South Africa, saying it has never sent the EVMs there. EC asked him to expose sources of \\'false information\\' so that the party\\'s \"long-standing reputation of a responsible stakeholder of Indian electoral system is not dented\". ',\n",
       "  'category': 'politics'},\n",
       " 108: {'title': \"Navjot Sidhu shares video of wife's 1st chemotherapy, says 'Submitting to god's will'\",\n",
       "  'content': 'Congress leader Navjot Singh Sidhu took to Twitter to share a video of his wife Navjot Kaur undergoing her first chemotherapy. \"When you accept the good and bad of life as god\\'s grace everything flows like a river...submitting to god\\'s will,\" he wrote. Navjot Kaur was diagnosed with stage 2 invasive cancer in March.',\n",
       "  'category': 'politics'},\n",
       " 109: {'title': 'Confident we will get comfortable majority: Bommai on exit polls',\n",
       "  'content': 'After exit poll results from various surveys predicted Congress\\' lead in Karnataka, CM Basavaraj Bommai on Thursday said that the BJP will come to power with a \"comfortable majority\". \"We will get an absolute majority, mark my words,\" Bommai said. \"Last time...exit polls predicted only 80 seats for BJP and 107 for Congress, but it came reverse,\" he added.',\n",
       "  'category': 'politics'},\n",
       " 110: {'title': \"'Operation Lotus' not needed, will win 120-125 seats: BJP leader\",\n",
       "  'content': 'Union Minister Shobha Karandlaje said there will be no need for \\'Operation Lotus\\' in Karnataka as BJP will win 120-125 seats. She added that the party would prove the exit polls wrong. \"According to the primary reports obtained from our booth-level workers, we are winning 120 to 125 seats,\" Karandlaje said.',\n",
       "  'category': 'politics'},\n",
       " 111: {'title': \"Delhi L-G only has right to see papers: Atishi after SC's verdict\",\n",
       "  'content': 'After Supreme Court ruled in favour of Delhi government over control of administrative services, minister Atishi said, \"[Delhi-LG VK Saxena] has the right to only look at papers and doesn\\'t have the right to make decisions on them.\" She added that L-G is \"bound\" to accept all of elected Delhi government\\'s decisions except on land, law and order and police.',\n",
       "  'category': 'politics'},\n",
       " 112: {'title': 'Delhi CM garlanded, offered sweets by AAP leaders after SC verdict',\n",
       "  'content': 'AAP leaders garlanded CM Arvind Kejriwal and offered him sweets at Delhi Secretariat after Supreme Court ruled in favour of the Delhi government over control of administrative services. \"Grand welcome after the grand victory,\" AAP tweeted as it shared video of Kejriwal being garlanded. A video also showed AAP workers dancing, bursting firecrackers and eating sweets to celebrate the verdict.',\n",
       "  'category': 'politics'},\n",
       " 113: {'title': \"Indira gave her life but didn't allow Khalistan formation: Gehlot\",\n",
       "  'content': 'Rajasthan CM Ashok Gehlot on Thursday said that Indira Gandhi gave her life but didn\\'t allow the formation of Khalistan. \"They (BJP) didn\\'t get even a finger cut during the freedom movement & are sitting in power and making tall claims. It is easy to instigate in the name of religion and caste,\" he said. ',\n",
       "  'category': 'politics'},\n",
       " 114: {'title': 'Victory of democracy: Atishi on SC verdict over LG-Delhi govt row',\n",
       "  'content': 'After the Supreme Court ruled in favour of AAP government over the control of administrative services in Delhi, minister Atishi called it the victory of democracy, Constitution and people of Delhi. \"We saw how the Modi government tried to snatch the rights of a democratically chosen government,\" she said. \"The verdict is a slap on the Modi government,\" she added.',\n",
       "  'category': 'politics'},\n",
       " 115: {'title': 'Speaker should disqualify MLAs: Abhishek Singhvi on SC verdict',\n",
       "  'content': 'Abhishek Manu Singhvi, who argued for Uddhav Thackeray side in Supreme Court in Sena versus Sena case, said the Speaker should disqualify the MLAs. \"What moral and legal right does this government has to continue...when there are findings against the Governor, Speaker and...recognition of the Whip,\" he said, adding decision on disqualification petitions should be taken in a time-bound manner.',\n",
       "  'category': 'politics'},\n",
       " 116: {'title': \"Satyamev Jayate: MP Chadha after SC's verdict on LG-Delhi govt row\",\n",
       "  'content': 'After Supreme Court ruled in favour of Delhi government over control of administrative services, AAP MP Raghav Chadha tweeted, \"Satyamev Jayate. Delhi wins.\" He said the decision sends a message that officers working with Delhi government are meant to serve Delhiites through the elected government, not \"unelected usurpers (Lieutenant Governor) parachuted by Centre\". ',\n",
       "  'category': 'politics'},\n",
       " 117: {'title': \"Pilot begins 'Jan Sangharsh Padyatra' from Ajmer, video surfaces\",\n",
       "  'content': 'Congress leader Sachin Pilot on Thursday began his \\'Jan Sangharsh Padyatra\\' from Rajasthan\\'s Ajmer. A video of the march has surfaced online. The five-day march from Ajmer to Jaipur is being held against the alleged corruption and paper leak in the state. \"No matter what anyone says...we have decided to hold this yatra because people believe in us,\" he said.',\n",
       "  'category': 'politics'},\n",
       " 118: {'title': 'Will be delightful: Nitish on prospect of Pawar leading Opposition',\n",
       "  'content': 'Bihar CM Nitish Kumar, who is looking forward to unite Opposition parties before the 2024 general elections, met NCP leader Sharad Pawar on Thursday. On being asked if Pawar will be the main face of Opposition alliance, the CM said, \"There will be nothing more delightful than that.\" Meanwhile, Pawar said, \"We\\'ve to work together, face will be decided later.\"',\n",
       "  'category': 'politics'},\n",
       " 119: {'title': 'Voters allege names deleted from voters list during K’taka polls',\n",
       "  'content': 'Voters from Bengaluru\\'s Shivajinagar have alleged that their names were deleted from voters\\' list during the Karnataka Assembly elections. In a video shared by The Quint, a 36-year-old man said, \"When I questioned the authorities present at the polling booths, no one gave any answers. I don\\'t know what to do now.\"',\n",
       "  'category': 'politics'},\n",
       " 120: {'title': 'Kejriwal got what he was desperate for: BJP leader on SC order ',\n",
       "  'content': 'BJP Delhi president Virendraa Sachdeva on Thursday said that the party respects the SC\\'s ruling that gave the AAP government control of administrative services in Delhi. Sachdeva said CM Arvind Kejriwal got what he was desperate for, adding that \"he will now make transfer posting an industry\". Responding to SC\\'s decision, Kejriwal said \"democracy won\". ',\n",
       "  'category': 'politics'},\n",
       " 121: {'title': 'SC gave a message to whole country: Gehlot on Sena case verdict',\n",
       "  'content': 'Reacting to Supreme Court\\'s verdict on Maharashtra political crisis, Rajasthan CM Ashok Gehlot said that the apex court gave a message to the whole country today and its verdict is a slap on face of BJP which did \"horse-trading\" in the state. \"BJP, RSS consist of fascist people and to them, it doesn\\'t matter what Supreme Court says,\" he added.',\n",
       "  'category': 'politics'},\n",
       " 122: {'title': \"SC's verdict loud & clear: Mahua Moitra on Delhi govt vs L-G case\",\n",
       "  'content': 'Reacting to Supreme Court\\'s verdict in Delhi government versus L-G case, TMC MP Mahua Moitra said that the court\\'s verdict that L-G, who represents Centre in Delhi, is bound by decision of elected government was \"loud and clear\". \"Hope this reaffirms federal structure and stops non-elected chairs from grabbing power,\" Moitra said in a tweet. ',\n",
       "  'category': 'politics'},\n",
       " 123: {'title': \"Nitish loves words starting with 'C': RCP Singh on joining BJP\",\n",
       "  'content': 'Former JD(U) leader RCP Singh joined BJP on Thursday and said that Bihar CM Nitish Kumar \"loves words starting with \\'C\\'\". He said that the word \\'chair\\' also begins with \\'C\\', adding that CM Kumar was doing everything for a chair these days. Singh added Kumar was and will \"remain PM\" as it stands for \"Palti Maar\". ',\n",
       "  'category': 'politics'},\n",
       " 124: {'title': 'HC directs jail to allow Manish Sisodia to video call ailing wife',\n",
       "  'content': 'The Delhi High Court on Thursday directed the Tihar jail superintendent to allow video calls between former Deputy Chief Minister Manish Sisodia and his ailing wife Seema Sisodia for an hour every alternate day till the bail pleas are decided. Sisodia is in judicial custody in connection with the Delhi excise policy case. His wife is suffering from multiple sclerosis.',\n",
       "  'category': 'politics'},\n",
       " 125: {'title': \"WhatsApp responds to int'l calls scam, announces new move to cut calls by 50%\",\n",
       "  'content': 'WhatsApp has ramped up its AI and machine learning systems to deal with the issue of users receiving spam calls from international numbers. \"Our new enforcement will reduce the current calling rate by at least 50%,\" a WhatsApp spokesperson said. \"By missed call, bad actors lead curious users to call or message back only to get scammed,\" the spokesperson added.',\n",
       "  'category': 'technology'},\n",
       " 126: {'title': \"What is the Universal Translator tool announced at Google's I/O developer conference?\",\n",
       "  'content': 'At its I/O developer conference, Google announced it is testing a translation service that redubs video in a new language while also synchronising speaker\\'s lips with words they never spoke. Called \"Universal Translator\", the tool transcribes the speech; translates it; regenerates the speech in that language; and then edits video so that speaker\\'s lips more closely match the new audio.',\n",
       "  'category': 'technology'},\n",
       " 127: {'title': 'Google Search to show AI-powered results; shares first look',\n",
       "  'content': 'Google during its annual I/O conference announced it will experiment with generative AI capabilities in Google Search. \"You’ll see an AI-powered snapshot of key information to consider, with links to dig deeper,\" Google said. Google will also help users shop with generative AI by providing them with a snapshot of noteworthy factors to consider and products that fit the bill.',\n",
       "  'category': 'technology'},\n",
       " 128: {'title': 'Govt to send notice to WhatsApp on international spam calls',\n",
       "  'content': 'The Ministry of Electronics and Information Technology (MeitY) will send a notice to WhatsApp on the issue of international spam calls to users, MoS IT Rajeev Chandrasekhar said. \"It is a part of the normal scope of activity of MeitY...We ask questions proactively and they will respond,\" he said. \"One issue is how do these numbers get out,\" he added.',\n",
       "  'category': 'technology'},\n",
       " 129: {'title': \"Fixing bug that falsely shows WhatsApp used phone's mic: Google\",\n",
       "  'content': 'Google has said it\\'s working on a fix after a Twitter engineer claimed WhatsApp was using his Android phone\\'s microphone in the background when he was asleep. \"This reported bug in Android affecting WhatsApp users produces incorrect privacy indicators and notifications in the Privacy Dashboard,\" Google said. Earlier, WhatsApp also said an Android bug is behind the issue.',\n",
       "  'category': 'technology'},\n",
       " 130: {'title': 'Joining ONDC will become market compulsion for e-comm giants: CEO',\n",
       "  'content': 'Open Network for Digital Commerce (ONDC) CEO T Koshy said it will become a \"market compulsion\" for e-commerce giants like Amazon and Flipkart to join the government-backed network. \"As a policy, we encourage everyone to come to ONDC with their main platforms...We never force anyone to do anything...In the long run, our intention is to bring everyone onboard,\" Koshy said.\\n',\n",
       "  'category': 'technology'},\n",
       " 131: {'title': \"ChatGPT may use concepts that humans don't have words for: OpenAI\",\n",
       "  'content': 'OpenAI has said that language models, like the one ChatGPT uses, may represent \"alien concepts\" that humans don\\'t have words for. \"This could happen...because the model has discovered natural abstractions that humans have yet to discover,\" OpenAI said. It added that it could also be the case as language models care about different things like statistical constructs.',\n",
       "  'category': 'technology'},\n",
       " 132: {'title': 'Google to add AI tool to Gmail that will write emails for users',\n",
       "  'content': \"Google on Wednesday announced it'd add an AI feature to Gmail that will let users generate emails based on prompts. Giving a demonstration of the 'Help me write' feature, CEO Sundar Pichai asked Gmail to write an email to get refund for a cancelled flight. Users will also be able to ask Gmail to 'formalise', 'elaborate' or 'shorten' AI-generated emails.\",\n",
       "  'category': 'technology'},\n",
       " 133: {'title': \"Google's image search tool to help spot AI-generated fake pictures\",\n",
       "  'content': 'Google is introducing an \"About this image\" tool to help users evaluate the reliability of visual content. Its own generative AI tools will include metadata with each picture to indicate if it\\'s an AI-created image. \"About this image\" will provide users with when an image or similar images were first indexed by Google and where it may have first appeared. ',\n",
       "  'category': 'technology'},\n",
       " 134: {'title': 'No data sets programme access to Google without investment: MoS IT',\n",
       "  'content': 'MoS for IT Rajeev Chandrasekhar has said foreign firms like Google will have to invest in Indian startups for access to Indian data sets programme. \"The India data sets programme will have access only for Indian startups. Google or other international companies have to invest in Indian artificial intelligence startups to get access in turn,\" he said.',\n",
       "  'category': 'technology'},\n",
       " 135: {'title': 'Peloton recalls 2 mn exercise bikes over seat post breaking issue',\n",
       "  'content': 'US-based exercise equipment firm Peloton has recalled 20 lakh exercise bikes in the US over the possibility of the seat post breaking while in use, the US Consumer Product Safety Commission (CPSC) said. The firm has received 35 reports of the seat post breaking and detaching from the bike during use. There have been 13 reports of injuries.',\n",
       "  'category': 'technology'},\n",
       " 136: {'title': \"Twitter begins rollout of 'Encrypted DMs' for paid subscribers\",\n",
       "  'content': \"Twitter has begun rolling out its 'Encrypted DMs' feature to Twitter Blue subscribers and verified organisations, both of which are paid subscriptions. According to Twitter's website, the feature is only available if both sender and receiver of messages are availing the feature. Moreover, the message recipient must either follow the sender or should've communicated with them on Twitter previously.\",\n",
       "  'category': 'technology'},\n",
       " 137: {'title': 'Google opens AI chatbot Bard to 180 countries including India',\n",
       "  'content': \"Google on Wednesday said it's removing waitlist for its AI chatbot Bard and opening the tool to more than 180 countries, including India. The company had initially rolled out the chatbot to the US and the UK. In its latest announcement, Google said Bard is now also available in Japanese and Korean, with support for 40 more languages coming soon. \",\n",
       "  'category': 'technology'},\n",
       " 138: {'title': 'Google unveils AI-powered immersive view for routes in Maps',\n",
       "  'content': 'Google on Wednesday unveiled an updated version of Google Maps that will let users get an immersive view of routes they plan to take. The update uses AI and computer vision to create a digital model of the world. Users will be able preview additional information about their route including parking and air quality with this technology, Google said.',\n",
       "  'category': 'technology'},\n",
       " 139: {'title': 'New Twitter Blue users using GPT to gain followers: CRED Founder',\n",
       "  'content': 'New Twitter Blue subscribers are \"in diligent process of gathering followers with text support of GPT\", CRED Founder Kunal Shah tweeted. \"Twitter should probably allow them to post something interesting and profound automatically from GPT everyday as part of the paid subscription,\" Shah added. A user replied, \"Eventually, Twitter might just be millions of LLM bots talking to each other.\"',\n",
       "  'category': 'technology'},\n",
       " 140: {'title': \"Try it, but don't trust it yet: Musk on Twitter's 'Encrypted DMs'\",\n",
       "  'content': 'After Twitter began rolling out its \\'Encrypted DMs\\' feature to Twitter Blue subscribers and verified organisations, CEO Elon Musk said, \"Try it, but don\\'t trust it yet.\" The feature is only available if both sender and receiver of messages are availing the feature. Also, the message recipient must either follow the sender or should\\'ve communicated with them on Twitter previously.',\n",
       "  'category': 'technology'},\n",
       " 141: {'title': 'PM Modi launches ₹5,800-cr projects on National Technology Day',\n",
       "  'content': 'Prime Minister Narendra Modi on Thursday laid the foundation stone and dedicated to the country multiple projects worth over ₹5,800 crore on the occasion of National Technology Day. Laser Interferometer Gravitational Wave Observatory and Homi Bhabha Cancer Hospital and Research Centre were among the projects for which foundation stone was laid. PM also unveiled a commemorative stamp and coin.',\n",
       "  'category': 'technology'},\n",
       " 142: {'title': 'PM allotted ₹1,200 crore to invest in Indian chip startups: MoS IT',\n",
       "  'content': \"Prime Minister Narendra Modi has allocated a budget of ₹1,200 crore to invest in Indian semiconductor design start-ups and 27 domestic start-ups have already made the cut to benefit from the scheme, Minister of State for IT Rajeev Chandrasekhar said on Thursday. He also said the government's focus is to support deeptech startups in areas like artificial intelligence and semiconductors.\\n\\n\\n\",\n",
       "  'category': 'technology'},\n",
       " 143: {'title': 'Karnataka HC quashes GST notice of ₹21,000-cr against Gameskraft',\n",
       "  'content': 'The Karnataka High Court on Thursday quashed a GST notice against Bengaluru-based online gaming company Gameskraft Technology for alleged evasion of ₹21,000 crore, the biggest such claim in the history of indirect taxation. In September 2022, a GST intelligence unit issued a show-cause notice to Gameskraft for the alleged evasion. Gameskraft was also accused of promoting online betting.\\n',\n",
       "  'category': 'technology'},\n",
       " 144: {'title': 'India uses technology to empower, not to show dominance: PM Modi',\n",
       "  'content': \"Addressing a National Technology Day event, PM Narendra Modi asserted that technology for the country is not about showing its dominance but as a tool to speed up its development. He hailed the 1998 Pokhran nuclear tests as one of the most glorious days in India's history. PM Modi said his government has used technology as a source of empowerment.\",\n",
       "  'category': 'technology'},\n",
       " 145: {'title': 'UK blocks Microsoft, Activision from buying interest in each other',\n",
       "  'content': \"UK's Competition and Markets Authority (CMA) published an interim order on Thursday that restricts Microsoft and 'Call of Duty' maker Activision Blizzard from acquiring an interest in each other without its consent. This comes weeks after the competition regulator blocked Microsoft's $69-billion acquisition of Activision. The deal was blocked over concerns it'd affect competition in cloud gaming.\",\n",
       "  'category': 'technology'},\n",
       " 146: {'title': 'Why do we celebrate National Technology Day on May 11?',\n",
       "  'content': \"India celebrates National Technology Day on May 11 to mark completion of 'Operation Shakti' in 1998. The operation was a series of five nuclear bomb tests conducted at Indian Army's Pokhran test range in May 1998. The celebration of National Technology Day was started in 1999 by former PM Atal Bihari Vajpayee, under whose leadership the tests were conducted.\",\n",
       "  'category': 'technology'},\n",
       " 147: {'title': 'ICMR successfully conducts trial of blood bag delivery via drones',\n",
       "  'content': \"Indian Council of Medical Research on Wednesday successfully conducted trial run of blood bag delivery using drones under its 'i-DRONE' initiative. The initiative, ICMR's Drone Response and Outreach for North East, was used by ICMR during COVID-19 pandemic for distributing vaccines to hard-to-reach areas. The trial flight carried 10 units of whole blood samples from Greater Noida to New Delhi.\",\n",
       "  'category': 'technology'},\n",
       " 148: {'title': \"Cisco CEO meets PM Modi, says 'Thank you for your leadership'\",\n",
       "  'content': 'Cisco CEO Chuck Robbins met PM Narendra Modi on Wednesday, the same day when the US-based technology company announced that it will start manufacturing in India. Sharing pictures from the visit, Robbins tweeted, \"Thank you for your leadership, Honourable PM.\" Reacting to the post, the PM said, \"Good to see Cisco harnessing the wide range of opportunities available in India.\"',\n",
       "  'category': 'technology'},\n",
       " 149: {'title': 'Russia fines Google $38,600 for LGBT propaganda, fake info: Report',\n",
       "  'content': 'Russia has fined Google $38,600 for failing to delete YouTube videos promoting \"LGBT propaganda\" and \"false information\" about Russia\\'s military campaign in Ukraine, Russian news agencies reported. Google\\'s Russian subsidiary filed for bankruptcy last year after its bank accounts were seized by authorities following a December 2021 fine of $92.6 million over \"repeated failure\" to delete content.',\n",
       "  'category': 'technology'},\n",
       " 150: {'title': 'Which Indian unicorns saw valuation markdowns in recent times?',\n",
       "  'content': \"Multiple Indian unicorns have seen a markdown in their valuations by private investors. On Wednesday, it was reported that Vanguard marked down Ola's valuation by 35% to $4.8 billion. A couple of days ago, Swiggy's valuation was reported to be halved by Invesco, to $5.5 billion. Earlier, the world's biggest asset management company BlackRock slashed BYJU'S valuation by 50% internally.\",\n",
       "  'category': 'startup'},\n",
       " 151: {'title': \"Vanguard cuts Ola's valuation by 35% to $4.8 billion\",\n",
       "  'content': \"US-based Vanguard Group has slashed the value of Ola's parent company, ANI Technologies, by around 35% to $4.8 billion from $7.4 billion. Vanguard holds about a 0.7% stake in the ride-hailing startup, Moneycontrol reported. It's the third valuation markdown of Ola by the same investor after a 45% markdown in the first half of 2020 and another 9.5% in 2021.\",\n",
       "  'category': 'startup'},\n",
       " 152: {'title': 'SoftBank sells 2% stake worth $120 mn in Paytm due to SEBI norms',\n",
       "  'content': \"SoftBank informed stock exchanges that it has offloaded a 2.07% stake in Paytm-parent One97 Communications Limited in order to comply with SEBI's Takeover Regulations. SoftBank arm SVF India Holdings sold over 1.31 crore shares between February 10 and May 8. The deal, which will reduce SoftBank's stake in Paytm to 11.17%, is reportedly worth $120 million.\",\n",
       "  'category': 'startup'},\n",
       " 153: {'title': 'New Twitter Blue users using GPT to gain followers: CRED Founder',\n",
       "  'content': 'New Twitter Blue subscribers are \"in diligent process of gathering followers with text support of GPT\", CRED Founder Kunal Shah tweeted. \"Twitter should probably allow them to post something interesting and profound automatically from GPT everyday as part of the paid subscription,\" Shah added. A user replied, \"Eventually, Twitter might just be millions of LLM bots talking to each other.\"',\n",
       "  'category': 'startup'},\n",
       " 154: {'title': 'Tesla ex-worker seeks 3rd trial in bias case after $3.2 mn award',\n",
       "  'content': 'A former Tesla worker who recently won a $3.2 million award in a racial bias case against the carmaker has asked for a third trial so he can seek more money. Initially, a court had told Tesla to pay the worker $137 million, however, the award was later reduced to around $15 million. ',\n",
       "  'category': 'startup'},\n",
       " 155: {'title': 'No data sets programme access to Google without investment: MoS IT',\n",
       "  'content': 'MoS for IT Rajeev Chandrasekhar has said foreign firms like Google will have to invest in Indian startups for access to Indian data sets programme. \"The India data sets programme will have access only for Indian startups. Google or other international companies have to invest in Indian artificial intelligence startups to get access in turn,\" he said.',\n",
       "  'category': 'startup'},\n",
       " 156: {'title': 'Microsoft invests in Indian-origin entrepreneur-led Builder.ai',\n",
       "  'content': \"Microsoft has invested an undisclosed sum in UK-based startup Builder.ai. Indian-origin serial entrepreneur Sachin Dev Duggal-led Builder.ai provides an AI-powered platform that allows individuals and businesses to turn their ideas into software and helps them develop applications. Microsoft plans to integrate Builder.ai's own AI assistant Natasha into its Teams video and chat software.\",\n",
       "  'category': 'startup'},\n",
       " 157: {'title': 'Fake Paytm Twitter accounts target users looking for customer care',\n",
       "  'content': \"Some Twitter users have received responses from accounts posing to be the customer care account of Paytm after tweeting the name of company, according to multiple reports. The fake messages, mimicking the writing style of the official account, ask users to call on a certain number. Reports noted that Paytm's official customer care account is currently unverified. \",\n",
       "  'category': 'startup'},\n",
       " 158: {'title': 'ONDC caps incentives for sellers amid surge in orders',\n",
       "  'content': 'The government-backed Open Network for Digital Commerce (ONDC) has capped incentives for seller-side apps amid a surge in daily orders. An incentive of up to ₹75, which was being provided for logistics-related costs for every eligible order, has been capped at a maximum of ₹2.25 lakh per seller-side app per day. ONDC has also made changes related to hyperlocal deliveries.',\n",
       "  'category': 'startup'},\n",
       " 159: {'title': 'Vast Space to launch 1st private station on SpaceX rocket in 2025',\n",
       "  'content': \"California-based Vast Space plans to launch the world's first commercial space station, Haven-1, aboard SpaceX Falcon 9 rocket to low-Earth orbit in 2025. It will initially act as an independent crewed space station prior to being connected as a module to a larger Vast space station. The mission will be followed by Vast-1, the first human spaceflight mission to Haven-1.\",\n",
       "  'category': 'startup'},\n",
       " 160: {'title': \"Can't simply restart investments, need to evaluate: SoftBank CFO \",\n",
       "  'content': 'SoftBank CFO Yoshimitsu Goto said while the company has seen signs of improvement in the last three months, it \"can\\'t simply restart investments\". He stated that SoftBank would look at the ongoing \"technological evolution\" and invest in AI-related opportunities. \"It\\'s not that we will only invest in generative AI, but AI is kind of our main focus,\" he added.',\n",
       "  'category': 'startup'},\n",
       " 161: {'title': 'I built unreal public image, wanted to be taken seriously: Holmes',\n",
       "  'content': 'Theranos Founder Elizabeth Holmes, who was convicted of defrauding investors, admitted creating an unreal public persona while running her company. \"I believed it\\'d be how I\\'d be...taken seriously and not taken as a little girl or a girl who didn\\'t have good technical ideas,\" Holmes stated. \"Maybe people picked up on that not being authentic since it wasn\\'t,\" she added.',\n",
       "  'category': 'startup'},\n",
       " 162: {'title': 'PhysicsWallah to invest ₹100 crore in its UPSC coaching arm',\n",
       "  'content': \"Alakh Pandey-led PhysicsWallah is planning to invest ₹100 crore in its UPSC vertical, which features both online and offline classes. PWOnlyIAS, the offline segment, aims to have a presence in more than 10 cities in the next three years, PhysicsWallah said. The edtech startup became India's 101st unicorn last year after it raised $100 million.\",\n",
       "  'category': 'startup'},\n",
       " 163: {'title': 'BharatPe is a $3 bn write-off, value destroyed by Rajnish: Grover',\n",
       "  'content': 'After the Delhi Police Economic Offences Wing registered an FIR against Ashneer Grover and his family, the BharatPe Co-founder said the company is a $3 billion write-off and its value has been destroyed by Chairman Rajnish Kumar. \"I\\'ve said earlier also that hiring him (Kumar) was my mistake...The company has seen zero growth...since I left BharatPe,\" Grover told Moneycontrol.\\n',\n",
       "  'category': 'startup'},\n",
       " 164: {'title': 'I made so many mistakes: Convicted Theranos Founder Holmes',\n",
       "  'content': 'Theranos Founder Elizabeth Holmes, who was convicted of defrauding investors, has said she is working on new healthcare-related inventions and admitted to making \"many mistakes\". \"I made so many mistakes and there was so much I didn\\'t know and understand,\" Holmes told The New York Times. \"I still dream about being able to contribute in that space,\" she added.\\n',\n",
       "  'category': 'startup'},\n",
       " 165: {'title': \"BYJU'S set to raise $1 bn at current valuation of $22 bn: Report\",\n",
       "  'content': \"BYJU'S is set to raise $1 billion at its current valuation of $22 billion, Moneycontrol reported citing sources. Around $700 million of the $1 billion funding round will be raised through equity. A Middle East-based sovereign fund is in advanced talks to lead the round. This will reportedly be one of the largest funding rounds in recent history.\",\n",
       "  'category': 'startup'},\n",
       " 166: {'title': 'In a first, SpaceX mission astronauts to grow stem cells in space',\n",
       "  'content': \"SpaceX's Axiom Space Ax-2 mission astronauts will grow induced pluripotent stem cells (iPSCs) on the International Space Station, marking the first time stem cells will be grown in space. They will test how limited gravity influences the development of heart and brain cells. Researchers say one of the main issues with producing iPSCs on Earth may involve gravity-induced tension.\",\n",
       "  'category': 'startup'},\n",
       " 167: {'title': 'NY Times criticised for interview of convicted Theranos Founder',\n",
       "  'content': 'The New York Times has faced backlash for its interview of convicted Theranos Founder Elizabeth Holmes. The media publication has been accused of offering Holmes a chance of embellishing her image. Scott Budman, a journalist who covered the Theranos trial, wrote on Twitter, \"The last line of the New York Times story is wrong\".\\n\\n',\n",
       "  'category': 'startup'},\n",
       " 168: {'title': \"India's entrepreneurial spirit impressive: Walmart's senior exec\",\n",
       "  'content': 'Walmart International CEO Judith McKenna said India is a \"priority market\" for the company. \"I am continually impressed by the entrepreneurial spirit across the country, and...Walmart is proud to play a small part in India\\'s growth story,\" McKenna added. Walmart CEO Doug McMillon also said the firm is committed to source goods worth $10 billion from India annually by 2027.',\n",
       "  'category': 'startup'},\n",
       " 169: {'title': \"Don't be too naive: OYO CEO on things learnt from Thiel fellowship\",\n",
       "  'content': 'OYO CEO Ritesh Agarwal said while he wasn\\'t able to attend college, he had a \"big adventure\" in the form of Thiel fellowship. Sharing four key lessons he learnt from the fellowship, he said, \"It\\'s good to have some...naivety...but you can\\'t be too naive.\" He added, \"You need to think big while starting out but be practical in your execution.\"',\n",
       "  'category': 'startup'},\n",
       " 170: {'title': 'ONDC poses no immediate threat to Zomato: Motilal Oswal',\n",
       "  'content': \"Motilal Oswal Securities said the government-backed Open Network for Digital Commerce (ONDC) poses no immediate threat to Zomato at the current scale. ONDC can emerge as a threat if it scales up meaningfully across categories and achieves greater efficiency than the walled gardens, the brokerage firm noted. Zomato's shares fell on Tuesday over concerns regarding competition from ONDC.\",\n",
       "  'category': 'startup'},\n",
       " 171: {'title': \"OTPless hires BharatPe, Ola's former executives as CTO, CPO\",\n",
       "  'content': \"OTPless, established by BharatPe's founding members Tanmay Sagar and Satyam Nathani, has hired three key executives. The fintech startup has appointed BharatPe's former Director of Engineering Anubhav Mathur as CTO and Ola's ex-executive Pawan Pathak as Chief Product Officer. Sahil Chawla, former senior manager at BharatPe, has been appointed as Chief Sales Officer. \",\n",
       "  'category': 'startup'},\n",
       " 172: {'title': 'Groupon made me realise I was terrible leader: Ankur Warikoo',\n",
       "  'content': 'Entrepreneur and YouTuber Ankur Warikoo said leading American e-commerce firm Groupon\\'s India unit in 2011 made him realise he was a \"terrible leader\". \"I realised I have just lucked my way through getting to that point [and] there\\'s still so much to...learn,\" Warikoo stated. He added that the company was \"a great training ground\" for him.',\n",
       "  'category': 'startup'},\n",
       " 173: {'title': 'Stride Ventures raises $100 million for its 3rd venture debt fund',\n",
       "  'content': 'Stride Ventures has secured $100 million in funding from institutional investors and family offices to mark the first close of its third venture debt fund. The company plans to make the final closure of the fund at over $200 million. Stride Ventures has companies including SUGAR, Mensa Brands, The Good Glamm Group and HealthifyMe in its portfolio.',\n",
       "  'category': 'startup'},\n",
       " 174: {'title': \"Fought cancer, was told I had 2-3 years left: 'Rocky' actor Dolph Lundgren\",\n",
       "  'content': 'Dolph Lundgren, who was seen in films like \\'Rocky IV\\' and \\'The Expendables\\', has revealed he battled cancer and at one point was told that he had \"two to three years\" left. Lundgren revealed he was first diagnosed with a tumour in 2015. He underwent surgery to remove six tumours in 2020 but was diagnosed with a liver tumour again.',\n",
       "  'category': 'entertainment'},\n",
       " 175: {'title': 'Beyoncé wears colour-changing dress during concert; video surfaces',\n",
       "  'content': 'Singer Beyoncé wore a colour-changing dress during her Renaissance World Tour. A clip from the tour\\'s opening night show held in Stockholm showed her plain-white costume changing colours through UV lights. Reddit Co-founder Alexis Ohanian reacted to the dress by tweeting, \"I was wondering when someone would incorporate this tech into a performance — leave it to Beyoncé.\"',\n",
       "  'category': 'entertainment'},\n",
       " 176: {'title': 'Deepika Padukone appears on TIME Magazine cover, pic released',\n",
       "  'content': 'Deepika Padukone has appeared on the cover of American news magazine TIME, with pictures of the same and from her magazine photoshoot being released online. \"The Global Star. Deepika Padukone is bringing the world to Bollywood,\" says the cover of the May edition of the magazine. Deepika also shared behind-the-scenes pictures from the shoot.',\n",
       "  'category': 'entertainment'},\n",
       " 177: {'title': \"TMKOC's Mandar reacts to Jennifer accusing producer of harassment\",\n",
       "  'content': 'Reacting to Jennifer Mistry Bansiwal accusing \\'Taarak Mehta Ka Ooltah Chashmah\\' producer Asit Modi of sexual harassment, her co-star Mandar Chandwadkar said, \"I\\'m wondering why did she do this. I\\'ve no clue about what happened between them.\" \"It\\'s a happy place with a healthy environment,\" he added, responding to Jennifer\\'s remark that \\'TMKOC\\' set is male chauvinistic.',\n",
       "  'category': 'entertainment'},\n",
       " 178: {'title': \"'Taarak Mehta...' actress Jennifer accuses producer Asit of harassment, quits show\",\n",
       "  'content': 'TV actress Jennifer Mistry Bansiwal, who played the role of Mrs Roshan Sodhi on \\'Taarak Mehta Ka Ooltah Chashmah\\', has accused its producer Asit Modi of making \"sexual advances\" towards her \"many times\". The actress told ETimes she quit the show two months back and that she has filed a sexual harassment complaint against Modi and executive producer Jatin Bajaj.',\n",
       "  'category': 'entertainment'},\n",
       " 179: {'title': \"Blackmail, cheap publicity: 'Taarak Mehta...' makers on Jennifer's harassment claims\",\n",
       "  'content': '\\'Taarak Mehta Ka Ooltah Chashmah\\' producer Asit Modi has called actress Jennifer Mistry Bansiwal\\'s sexual harassment allegation against him \"baseless\" and said he will take legal action against her for trying to defame him. The show\\'s project head Sohil Ramani said, \"She\\'s just doing it to blackmail us. It is for cheap publicity.\" Jennifer also named Ramani in her complaint.',\n",
       "  'category': 'entertainment'},\n",
       " 180: {'title': \"Deepika reacts to political backlash against her, says 'don’t feel anything about it'\",\n",
       "  'content': 'Deepika Padukone has reacted to the various political controversies and backlash against her and her movie roles in a TIME Magazine interview. \"I don\\'t know if I\\'m supposed to feel something about it. But the truth is, I don\\'t feel anything about it,\" said Deepika. Protests were held over her movies \\'Padmaavat\\' and \\'Pathaan\\'.',\n",
       "  'category': 'entertainment'},\n",
       " 181: {'title': \"Complaint filed against Prabhas, Kriti Sanon's 'Adipurush' before Censor Board\",\n",
       "  'content': \"A complaint has been filed against Prabhas and Kriti Sanon's film 'Adipurush' before Censor Board. The complaint, filed by Sanatan Dharma Pracharak Sanjay Dinanath Tiwari, said if mistakes can be made at the time of poster and teaser releases, then such errors can also be in the film which might hurt religious sentiments. The complaint demanded a special screen test.\",\n",
       "  'category': 'entertainment'},\n",
       " 182: {'title': 'Gauahar Khan, Zaid Darbar blessed with a baby boy',\n",
       "  'content': 'Actress Gauahar Khan and her husband Zaid Darbar shared on Instagram that they have been blessed with a baby boy. \"Arrived 10th of May 2023 to make us realise what happiness truly means,\" their social media post read. The couple got married in December 2020 and announced that they were expecting two years later.',\n",
       "  'category': 'entertainment'},\n",
       " 183: {'title': \"I don't give a f*** who he has dated: Priyanka Chopra on Nick Jonas' ex-girlfriends\",\n",
       "  'content': 'Priyanka Chopra revealed she never got bothered by husband Nick Jonas\\' dating history. \"I don\\'t give a f*** who he\\'s dated...We\\'re talking about the future...I don\\'t read my book backwards. I believe you go forward in your chapters,\" she said on Alex Cooper\\'s Call Her Daddy podcast. Nick\\'s exes reportedly include Miley Cyrus, Selena Gomez, Olivia Culpo and others.',\n",
       "  'category': 'entertainment'},\n",
       " 184: {'title': \"Rashmika trolled for promoting chicken in ad, Twitter user says 'Isn't she vegetarian?'\",\n",
       "  'content': 'Rashmika Mandanna has been trolled for a burger brand\\'s advertisement, where she\\'s seen eating chicken. Several people pointed out that Rashmika earlier revealed she\\'s a vegetarian. \"Celebs and their hypocrisy,\" a person tweeted while another person wrote, \"Isn\\'t she vegetarian?\" However, another comment read, \"We all are humans, not perfect. We all have phases of eating vegetarian food.\"',\n",
       "  'category': 'entertainment'},\n",
       " 185: {'title': \"Even after 8 years, children are watching 'F.I.R.': Kavita Kaushik\",\n",
       "  'content': 'Actress Kavita Kaushik, known for her TV show \\'F.I.R.\\' which ended in 2015, said that even after eight years, children are still watching \\'F.I.R.\\'. \"When they...recognise me, it feels strange, but special,\" she said. \"It was much later that I got to know about the impact the show had left on people as well as the Indian television,\" Kavita said.',\n",
       "  'category': 'entertainment'},\n",
       " 186: {'title': 'Irrfan was in constant internal struggle: Piyush Mishra',\n",
       "  'content': 'Actor-writer-musician Piyush Mishra explained the difference between the current and older generations of actors, citing an example of the late actor Irrfan Khan. \"He used to be in a constant struggle with himself. He knew that becoming a better actor would take time and effort,\" he said. \"Today\\'s generation thinks...going...gym and singing equals training. They want everything fast,\" he added.',\n",
       "  'category': 'entertainment'},\n",
       " 187: {'title': \"MP has withdrawn tax exemption to 'The Kerala...': Congress MP\",\n",
       "  'content': 'Congress Rajya Sabha MP Vivek Tankha has claimed that his advocate friends have told him that the Madhya Pradesh government has withdrawn the tax exemption given to the movie \\'The Kerala Story\\' and shared a picture of the order on the same. He called the decision \"prudent\" and added that the movie isn\\'t suitable for the youth.',\n",
       "  'category': 'entertainment'},\n",
       " 188: {'title': 'After Anushka, Manushi Chhillar to make her debut at Cannes 2023',\n",
       "  'content': 'Former Miss World and actress Manushi Chhillar will be making her debut at the Cannes Film Festival 2023. The festival will also be attended by actress Anushka Sharma, who will make her debut at the event. The 76th edition of the film festival is scheduled to take place from May 16 to May 27.',\n",
       "  'category': 'entertainment'},\n",
       " 189: {'title': \"Decision to protect people of WB: TMC on banning 'Kerala Story'\",\n",
       "  'content': 'TMC leader Madan Mitra on Thursday said \\'The Kerala Story\\' was banned in West Bengal to protect the people of the state. \"Mamata Banerjee has no resentment against \\'The Kerala Story\\', but after some incidents in...the country, the decision...[was taken] for maintaining law and order,\" he said. On Wednesday, BJP workers protested in Siliguri against the ban on the movie.',\n",
       "  'category': 'entertainment'},\n",
       " 190: {'title': \"Guj vendor gives free tea to holders of 'The Kerala Story' tickets\",\n",
       "  'content': \"A tea seller in Gujarat's Surat is offering free tea and coffee to those who produce tickets of 'The Kerala Story'. The seller has also put up a poster of the controversial movie at 'Kesariya Tea Shop'. Last year, a sarpanch in Gujarat said people would be exempted from local taxes if they came with tickets of 'The Kashmir Files'.\",\n",
       "  'category': 'entertainment'},\n",
       " 191: {'title': 'Ranveer has always put me & my ambitions first: Deepika',\n",
       "  'content': 'Actress Deepika Padukone, who has appeared on the cover of TIME magazine, said that her husband-actor Ranveer Singh has always put her first. In the interview, Deepika talked about how actresses came with a shelf life that expired after their marriage. \"I\\'ve never had that experience because [Ranveer] has always put me, my dreams, and my ambitions first,\" Deepika said.',\n",
       "  'category': 'entertainment'},\n",
       " 192: {'title': \"Want to ask Amitabh Bachchan 'Where do you want to stop?': Piyush\",\n",
       "  'content': 'Actor Piyush Mishra said that he wants to ask Amitabh Bachchan about what drives him to continue working at the age of 80. \"There is no one else like him, and nobody works as intensely as he does,\" Mishra said. He added, \"I want to ask him, \\'Where do you want to go?...where do you want to stop?\\'\"',\n",
       "  'category': 'entertainment'},\n",
       " 193: {'title': \"Can't attend parties & ask for work: Neha on being told to network\",\n",
       "  'content': 'Actress Neha Sharma revealed that in the beginning, she was advised to do networking to get work in Bollywood. \"It\\'s not something I can do. I\\'m an actor, I know how to act, I don\\'t know how to be, \\'Sir kaam de do,\\'\" she said. Neha shared that she did go to parties, but soon realised \\'networking\\' wasn\\'t her thing.',\n",
       "  'category': 'entertainment'},\n",
       " 194: {'title': 'Uorfi is daring, where are girls like this?: Designers Abu-Sandeep',\n",
       "  'content': 'Fashion designers Abu Jani and Sandeep Khosla, who recently collaborated with Uorfi Javed, said that people told them that \"she\\'s got nothing\". \"She is daring, where are girls like this? And a mind of her own and a bright mind,\" the designers added. They added that unlike many other actors, she knows exactly what she is doing.',\n",
       "  'category': 'entertainment'},\n",
       " 195: {'title': 'I never made wrong decisions: Kangana on Rascals & Double Dhamaal',\n",
       "  'content': 'Kangana Ranaut reacted to an old video shared by a fan page where she talked about doing films like \\'Double Dhamaal\\' and \\'Rascals\\'. \"Even when I knew I deserved better, I never grew frustrated or cynical...above all, I never made any wrong decisions ever,\" she said. In the video, Kangana said doing these films was a \\'part of the plan\\'.',\n",
       "  'category': 'entertainment'},\n",
       " 196: {'title': \"Sonam is gutsy, Deepika isn't adventurous: Designers Abu-Sandeep\",\n",
       "  'content': 'While talking about Hindi film actresses being adventurous in their fashion choices, designers Abu Jani and Sandeep Khosla said that no one, except for Sonam Kapoor is \"gutsy\". \"Nobody makes a style statement today apart from a Sonam Kapoor who...does whatever she wants to do,\" they said. \"Deepika Padukone is...always perfect but she is not adventurous,\" the designers added.',\n",
       "  'category': 'entertainment'},\n",
       " 197: {'title': \"Imagine Dragons films music video in war-torn Ukraine's front line\",\n",
       "  'content': \"Musical band Imagine Dragons has released a music video which it filmed on the front lines of war-torn Ukraine. The video for the group's song 'Crushed' follows a Ukrainian boy, named Sasha, who endured months of shelling in his town. The band said it hopes to raise money for the victims of the war, which broke out in February 2022.\",\n",
       "  'category': 'entertainment'},\n",
       " 198: {'title': \"I'll only play lead even if I've to invest my money: Nawazuddin\",\n",
       "  'content': 'Actor Nawazuddin Siddiqui said that he will only be doing lead roles in movies even if he will have to invest his own money. \"In this industry...supporting actors are relegated to secondary roles. I\\'ve somehow escaped that and I don\\'t want to repeat that,\" he added. Nawazuddin will next be seen in \\'Jogira Sara Ra Ra\\'.',\n",
       "  'category': 'entertainment'},\n",
       " 199: {'title': \"IAS officer shares 'CSAT question', says 'Don’t take the test lightly'\",\n",
       "  'content': 'IAS officer Jitin Yadav took to Twitter to share what he said was a Civil Services Aptitude Test (CSAT) question. \"Let\\'s see who all can do it without pen and paper. If you are not able to do it, please don\\'t take CSAT lightly,\" the officer wrote. He applauded the Twitter user who commented \\'27\\' as answer.',\n",
       "  'category': 'miscellaneous'},\n",
       " 200: {'title': '$175 cheque signed by Steve Jobs to fetch over $36,000 at auction',\n",
       "  'content': \"A $175 cheque signed by Apple Co-founder Steve Jobs has gone on auction and is expected to fetch over $36,000. The Apple Computer Company cheque was signed in 1976, the year of company's founding. It lists Apple's first official address, which was an answering and mail drop service that its founders used while building the company out of Jobs' garage.\",\n",
       "  'category': 'miscellaneous'},\n",
       " 201: {'title': \"11-yr-old girl, with IQ score higher than Einstein's, to get Master's degree in Mexico\",\n",
       "  'content': \"An 11-year-old autistic girl from Mexico City, who has a measured IQ of 162 (higher than Albert Einstein), is studying for her Master's degree in Mathematics. Adhara Pérez Sánchez is a systems engineering graduate and is now studying at the Technological University of Mexico. Adhara was diagnosed with a developmental disability at the age of three.\",\n",
       "  'category': 'miscellaneous'},\n",
       " 202: {'title': 'Woman lost in forest for 5 days survives on wine, lollipops in Aus',\n",
       "  'content': 'A 48-year-old Australian woman named Lillian was lost in a dense forest for five days after her car got stuck in the mud. She survived on a couple of snacks and lollipops. The only liquid Lillian had with her was a bottle of wine she had bought as a gift for her mother and she drank it for her survival.',\n",
       "  'category': 'miscellaneous'},\n",
       " 203: {'title': \"World's only nonuplets celebrate their 2nd birthday; pics surface\",\n",
       "  'content': \"The world's first surviving nonuplets celebrated their second birthday on May 4 in Mali. The nine siblings, five girls and four boys, were born to parents Halima Cissé and Abdelkader Arby in Morocco in 2021. They spent the first 19 months of their life in Morocco and received special medical care before returning to their home in Mali.\",\n",
       "  'category': 'miscellaneous'},\n",
       " 204: {'title': \"Video of couple kissing in Delhi metro as girl lies on man's lap viral; Twitter users react\",\n",
       "  'content': 'A new video of a couple kissing inside the Delhi metro, with the girl lying on the man\\'s lap, has gone viral. \"How are people silent and not saying a word against them?\" a Twitter user commented. \"How come there\\'s a sudden rise in...these reels?\" another comment read. Some Twitter users said that the man was giving the girl CPR.',\n",
       "  'category': 'miscellaneous'},\n",
       " 205: {'title': 'Mamata Banerjee walks on treadmill holding her puppy, shares video',\n",
       "  'content': 'West Bengal Chief Minister Mamata Banerjee on Sunday took to Instagram to share a video of herself walking on a treadmill while holding her puppy. \"Some days you need some extra motivation!\" she captioned the video. Reacting to her video, a user wrote on Twitter, \"Adorable video.\"',\n",
       "  'category': 'miscellaneous'},\n",
       " 206: {'title': \"Viewers spot 'Grim Reaper' at King Charles' Coronation, video goes viral\",\n",
       "  'content': 'A video showing a figure apparently dressed as \\'Grim Reaper\\' during the Coronation ceremony of King Charles III has gone viral. \"Anyone else just noticed the Grim Reaper at Westminster Abbey?\" a Twitter user wrote. Another wrote, \"Who invited the Grim Reaper?\" In mythologies, a character known as \\'Grim Reaper\\' causes a victim’s death by coming to collect their soul.',\n",
       "  'category': 'miscellaneous'},\n",
       " 207: {'title': \"'Fart spray' brought to school by kid forces evacuation in US, 6 kids hospitalised\",\n",
       "  'content': \"A 'fart spray' prank toy brought by a student to a US school triggered an evacuation and sent six students to the hospital recently. Officials said the incident took place at Caney Creek High School in Texas on Friday (May 5). The hospitalised students reported suffering severe headaches due to the smell, while eight others reported feeling ill.\",\n",
       "  'category': 'miscellaneous'},\n",
       " 208: {'title': 'Possible meteorite crashes through roof of a house in US, pics surface',\n",
       "  'content': 'A possible meteorite crashed through the roof of a house in the US\\' New Jersey when the owners were inside. The object measured six inches by four inches, with the Hopewell Township Police Department releasing pictures of the object. \"This may be related to a current Meteor shower called the Eta Aquariids. The investigation is ongoing,\" the police department said.',\n",
       "  'category': 'miscellaneous'},\n",
       " 209: {'title': '7,000-year-old road found under the Mediterranean Sea',\n",
       "  'content': 'Archaeologists have discovered the sunken ruins of a 7,000-year-old road under the Mediterranean Sea. Found below the deposits of sea mud, the road connected the sunken prehistoric settlement of Hvar culture with the coast of the Croatian island of Korčula island. \"These are carefully stacked stone plates that were part of the four-metre-wide communication,\" archaeologists said on the discovery.',\n",
       "  'category': 'miscellaneous'},\n",
       " 210: {'title': \"Website offering to pay ₹82,000 to watch all 10 'Fast & Furious' films\",\n",
       "  'content': \"A website is offering $1,000 (nearly ₹82,000) to a person willing to watch all 10 movies of the 'Fast & Furious' series. The person selected for the role will be required to track damages from all car crashes in the movies. The findings will be used to estimate the insurance impact of the franchise's reckless driving, FinanceBuzz said.\",\n",
       "  'category': 'miscellaneous'},\n",
       " 211: {'title': 'Kolkata guard who earned ₹2,700/month, sets up library with salary',\n",
       "  'content': 'A Kolkata guard set up a library using his own salary, which was ₹2,700 when he had started working. The man said that poor children started visiting the library looking for books, following which he taught them how to draw and helped them with recitation skills. \"Where there is a will, there is a way,\" he said. ',\n",
       "  'category': 'miscellaneous'},\n",
       " 212: {'title': \"Thought he'd be like hero, he looked like a kid: Sudha on 1st meet with Narayana Murthy\",\n",
       "  'content': 'Sudha Murthy, while talking about her first meeting with her husband and Infosys Co-founder Narayana Murthy, said, \"I thought he would look like a film hero...handsome...dashing.\" She added, \"When he opened the door, I felt like, \\'Who\\'s this man, this little child?\\'.\" Sudha Murthy said her colleague would talk to her about Narayana Murthy before they met.',\n",
       "  'category': 'miscellaneous'},\n",
       " 213: {'title': 'Railways Ministry shares footage of railway station that falls in 2 states',\n",
       "  'content': 'The Ministry of Railways has shared a video of Bhawani Mandi Railway Station that falls in two states, Madhya Pradesh and Rajasthan. \"[The] station, situated on the Delhi-Mumbai Railway line, is a unique railway station that falls in both Madhya Pradesh and Rajasthan. This is because the interstate boundary passes through the station,\" the ministry stated.',\n",
       "  'category': 'miscellaneous'},\n",
       " 214: {'title': 'YouTuber MrBeast helps 2,000 amputees in Cambodia, shares video',\n",
       "  'content': 'YouTuber MrBeast has helped 2,000 amputees in Cambodia and shared a video of this philanthropic act. He partnered with an organisation that has been helping amputees for free for 30 years. The video sheds light on the plight of amputees in Cambodia, who, for lack of money, face a host of accessibility problems including access to education and employment.',\n",
       "  'category': 'miscellaneous'},\n",
       " 215: {'title': 'Man cheats IPS officer Bothra into paying for his food, officer shares incident',\n",
       "  'content': 'Odisha IPS officer Arun Bothra tweeted about how he was cheated by a man at a restaurant. Bothra said he got a bill for two dosas, despite ordering just one. \"The waiter said [a] person sitting on the other side took a masala dosa saying that he was accompanying me. He\\'d left by the time the bill came,\" said Bothra.',\n",
       "  'category': 'miscellaneous'},\n",
       " 216: {'title': \"Pics show China's last emperor's watch expected to fetch ₹25 crore\",\n",
       "  'content': \"A luxury wristwatch worn by China's last emperor, Aisin-Gioro Puyi, is expected to fetch over $3 million (around ₹25 crore) when it goes on sale in Hong Kong this month. Puyi's Patek Philippe Reference 96 Quantieme Lune wristwatch is one of only eight such timepieces known to exist. Some of the internal mechanisms of the wristwatch date back to 1929.\",\n",
       "  'category': 'miscellaneous'},\n",
       " 217: {'title': 'Pic shows 80-year-old Class 5 question paper; people react',\n",
       "  'content': 'A Class 5 commerce question paper from 1943-44 has surfaced on the internet, in which students were asked to calculate the price of gold and write a formal business letter. \"Questions like these need to be re-added in NEP,\" a Twitter user said, while another tweeted, \"Asked my 90-year-old grandfather to read it out...because I wasn\\'t able to understand it.\"',\n",
       "  'category': 'miscellaneous'},\n",
       " 218: {'title': \"Rahul Gandhi rides pillion on delivery boy's scooter in Bengaluru\",\n",
       "  'content': 'Congress leader Rahul Gandhi rode pillion on a scooter with a delivery boy on Sunday to reach his hotel in Bengaluru. A video showed Rahul wearing a helmet before climbing on the scooter. The leader rode pillion for almost 2 kilometres, while his security guards followed the vehicle. Rahul is in Karnataka to campaign for the upcoming state Assembly elections.',\n",
       "  'category': 'miscellaneous'},\n",
       " 219: {'title': 'Pic of Band-Aid for different skin tones sparks debate online',\n",
       "  'content': 'A post by businessman Harsh Goenka about Band-Aid for different skin tones has sparked a debate. \"Was matching skin tones...necessary...Some innovations don\\'t make sense!\" he tweeted. \"It actually means a lot to people of colour,\" a comment read while another person wrote, \"Matching skin tones is good for lipstick business...not necessary for Band-Aids!!\" \"Gosh! What next now,\" a person commented.',\n",
       "  'category': 'miscellaneous'},\n",
       " 220: {'title': \"Guj vendor gives free tea to holders of 'The Kerala Story' tickets\",\n",
       "  'content': \"A tea seller in Gujarat's Surat is offering free tea and coffee to those who produce tickets of 'The Kerala Story'. The seller has also put up a poster of the controversial movie at 'Kesariya Tea Shop'. Last year, a sarpanch in Gujarat said people would be exempted from local taxes if they came with tickets of 'The Kashmir Files'.\",\n",
       "  'category': 'miscellaneous'},\n",
       " 221: {'title': 'Video shows Gadkari shopping with granddaughter for her birthday',\n",
       "  'content': 'Road Transport and Highways Minister Nitin Gadkari went shopping with his granddaughter for the latter\\'s birthday on Saturday. A video showed the minister browsing in a children\\'s shop and waiting patiently while his granddaughter, Kaveri, sat on a children\\'s cycle. Reacting to the video, author Ajit Datta said, \"One day she\\'ll drive bigger vehicles on highways built by her grandfather.\"',\n",
       "  'category': 'miscellaneous'},\n",
       " 222: {'title': 'Pune woman creates 200-kg cake icing structure, sets world record',\n",
       "  'content': 'Pune-based cake artist Prachi Dhabal Deb has broken her own record to set a new world record by creating a 200-kg edible structure using vegan royal icing. The cake structure of an Indian-inspired palace, which is over 10 feet long, has made it to London-based World Book of Records. Prachi said it took three weeks to build the structure.',\n",
       "  'category': 'miscellaneous'},\n",
       " 223: {'title': \"13,990 sq ft pizza named as world's largest by Guinness World Records, pic goes viral\",\n",
       "  'content': \"An over 68,000-slice pizza spread across 13,990-square-foot area has been named by Guinness World Records as the world's largest pizza. Pizza Hut teamed up with YouTuber Airrack to set the record in Los Angeles. The world's largest pizza required 6,193 kg of dough and more than 3,990 kg of cheese.\",\n",
       "  'category': 'hatke'},\n",
       " 224: {'title': 'Pic of rare wave clouds in US goes viral',\n",
       "  'content': \"A picture of rare wave cloud formation in US' Wyoming has gone viral on social media. The phenomenon was visible on Tuesday above the crest of the Bighorn Mountains in the city of Sheridan. Such formation is known as Kelvin-Helmholtz. It is formed when a faster stream of air moves above rising air below.\",\n",
       "  'category': 'hatke'},\n",
       " 225: {'title': 'Pic of DD Sports showing Excel sheet instead of scorecard goes viral, Twitter users react',\n",
       "  'content': 'A picture of DD Sports showing a Microsoft Excel sheet instead of scorecard while re-airing a Khelo India University Games shooting match has gone viral. Reacting to the picture, a Twitter user commented, \"Excel 2007. 15 years of no update.\" \"They\\'d want to activate their Windows as well,\" wrote another. \"At least they added colours and borders,\" another tweet read.  ',\n",
       "  'category': 'hatke'},\n",
       " 226: {'title': \"UK artist 'Mr Doodle' covers his ₹12 crore mansion completely with doodles\",\n",
       "  'content': 'British artist Sam Cox, popularly known as \\'Mr Doodle\\', has completely covered his mansion with doddles drawn by him in two years. The mansion, initially bought by the artist for more than ₹12 crore, now has every inch, from his bedding to his microwave and even door knobs, covered in doodles. He called it his \"best piece of work\".',\n",
       "  'category': 'hatke'},\n",
       " 227: {'title': 'In Pics: Winners of Comedy Wildlife Photography Awards; two are from India',\n",
       "  'content': \"A picture of a lion cub taken by US photographer Jennifer Hadley has won the top prize at the Comedy Wildlife Photography Awards 2022. Indian photographer Arshdeep Singh's picture of a 'winking' owlet won the 'Junior Award'. A picture of an Indian Saras Crane attacking a Nilgai from behind, taken by India's Jagdeep Rajput, featured among the 'Highly Commended Winners'.\",\n",
       "  'category': 'hatke'},\n",
       " 228: {'title': '88-yr-old man shows up at France hospital with WWI artillery shell stuck in his rectum',\n",
       "  'content': 'An 88-year-old man showed up at a hospital in France with World War 1 artillery shell stuck in his rectum. The hospital called for a partial evacuation due to the fear that the antique explosive might detonate. As per a hospital spokesperson, bomb disposal personnel were also called to the hospital. A visceral surgery was performed to remove the object.',\n",
       "  'category': 'hatke'},\n",
       " 229: {'title': 'US man wins 3 lotteries totalling over ₹1 crore using same numbers',\n",
       "  'content': 'The 52-year-old truck driver from the US has won $50,000 playing Pick 5 lottery for the third time (over ₹1 crore in total) within a year. He put a $1 straight bet on his number, 48548. \"It hit last year and it hit again...My wife said, \\'Let\\'s play this number\\' and we kept winning with it,\" the man said.',\n",
       "  'category': 'hatke'},\n",
       " 230: {'title': \"Woman holds 'Flat(mates) required' placard at Lucky Ali concert in Bengaluru, pic viral\",\n",
       "  'content': 'A picture has gone viral on social media showing a woman carrying a \\'Flat(mates) required\\' placard at a Lucky Ali concert in Bengaluru. \"Finding a flat is harder than finding a flatmate,\" a Twitter user commented on the picture. \"Struggle is real,\" another tweet read. \"Desperate times calls for new levels of creativity,\" another user commented.',\n",
       "  'category': 'hatke'},\n",
       " 231: {'title': \"Uttarakhand jail to offer 'real imprisonment experience' to tourists for ₹500/night\",\n",
       "  'content': 'A jail in Uttarakhand\\'s Haldwani will offer a \"real imprisonment experience\" to tourists for ₹500/night. The prison, built in 1903, has an abandoned portion which is being prepared for \"jail guests\", officials said. They said it will also be useful for people who are advised to spend time in prison by astrologers to ward off \\'bandhan yog\\' that predicts imprisonment.',\n",
       "  'category': 'hatke'},\n",
       " 232: {'title': 'Law student writes tiny notes on pens to cheat in exam in Spain; pics go viral',\n",
       "  'content': 'Pictures of 11 pens on which a law student wrote notes to cheat in an exam have gone viral after a professor at the Spain\\'s University of Málaga shared them on Twitter. \"Tidying up my office, I found this university relic that we confiscated from a student a few years ago,\" the professor tweeted. \"What an art,\" she added.',\n",
       "  'category': 'hatke'},\n",
       " 233: {'title': \"Indian groom's male friends wear saree and bindi at his wedding in US; video viral\",\n",
       "  'content': 'A video has gone viral on social media that showed two groomsmen of an Indian groom arriving at his wedding venue in the US in sarees and bindi. The video showed the two men in saree walking down Michigan Avenue with the bride and surprising the groom. \"That is so wholesome. Absolutely adorable,\" an Instagram user commented on the video.',\n",
       "  'category': 'hatke'},\n",
       " 234: {'title': \"Man enters Vizag-bound Vande Bharat to take pics, gets locked; TTE asks 'Are you mad?'\",\n",
       "  'content': 'A passenger, who boarded Vizag-bound Vande Bharat Express without a ticket in Rajamahendravaram to take pictures of the train, got locked as automatic doors closed. In a video that\\xa0went viral, the TTE can be heard telling him, \" Who gets inside the train to click a picture? Are you mad?\" The man was forced to travel up to Vijayawada.',\n",
       "  'category': 'hatke'},\n",
       " 235: {'title': 'Bear takes 400 selfies on wildlife camera in US; pics go viral',\n",
       "  'content': 'A bear discovered a wildlife camera used to monitor wildlife across Boulder\\'s open space in the US state of Colorado. Of the 580 photos captured, about 400 were bear selfies. After some bear selfies were shared on Twitter, people reacted with tweets like, \"Feeling cute. Might scratch my back on a tree later,\" and \"You owe us 396 bear selfies.\"',\n",
       "  'category': 'hatke'},\n",
       " 236: {'title': '1908 Harley-Davidson becomes costliest motorcycle ever sold in an auction at $935,000',\n",
       "  'content': \"A 1908 Strap Tank Harley-Davidson has become the most expensive motorcycle ever sold at an auction after selling for $935,000 (including auction fees) at Mecum Auction in US. The motorcycle was named Strap Tank because its oil and fuel tanks are attached to frame with nickel straps. It's believed to be one of only 12 such models in the world.\",\n",
       "  'category': 'hatke'},\n",
       " 237: {'title': 'Guests allowed entry at a wedding in UP only after showing Aadhaar cards, video viral',\n",
       "  'content': \"A video has gone viral on social media showing guests at a wedding in Uttar Pradesh's Amroha district being allowed to enter the venue only after showing their Aadhaar cards. The hosts checked Aadhaar cards after a large number of guests turned up to the wedding, with many seeming to be strangers.\",\n",
       "  'category': 'hatke'},\n",
       " 238: {'title': 'Pet cat in US breaks world record for being the tallest living domestic cat, pics surface',\n",
       "  'content': \"A pet cat named Fenrir Antares Powers, which lives in US' Michigan, has been confirmed by the Guinness World Records as the world's tallest living domestic cat. Fenrir measures 47.83 cm (18.83 in). Fenrir is the brother of Arcturus Aldebaran Powers, who formerly held the record before passing away. Arcturus measured in at 48.40 cm (19.05 in).\",\n",
       "  'category': 'hatke'},\n",
       " 239: {'title': \"In Pics: 'Farting zebra', other pics shortlisted for Comedy Wildlife Photography Awards\",\n",
       "  'content': \"As many as 40 photographs from around the globe have been shortlisted for the 2022 Comedy Wildlife Photography Awards. These include a 'farting zebra', a 'superhero squirrel', a 'winking fox',  a 'horrified monkey' and a couple of monkeys playing doctors and nurses. Voting on the images will close on November 27 and the winners will be announced on December 8.\",\n",
       "  'category': 'hatke'},\n",
       " 240: {'title': 'Mondrian painting hanging upside down in different galleries for 75 yrs, claims historian',\n",
       "  'content': \"A painting by abstract Dutch artist Piet Mondrian, titled 'New York City I', has been hanging upside down in various museums for 75 years, art historian Susanne Meyer-Büser claimed. A photograph of Mondrian's studio, taken few days after his death in 1944, shows the same painting the other way up. It'll continue to be displayed upside down at museums.\",\n",
       "  'category': 'hatke'},\n",
       " 241: {'title': '178 people with the same name meet at one place in Japan, set world record',\n",
       "  'content': \"The Guinness World Record for the largest gathering of people with the same name was made recently after 178 people named 'Hirokazu Tanaka' gathered at one place in Tokyo, Japan. The meeting was arranged by Hirokazu Tanaka, a corporate employee from Tokyo. This was the third attempt by the Hirokazu Tanakas to create a record in their name successfully.\",\n",
       "  'category': 'hatke'},\n",
       " 242: {'title': \"ATM shows people's pics, ranks them by their bank balance in US\",\n",
       "  'content': 'A video of an ATM in the US that shows the users\\' pictures alongside their bank account balances on a ranked leaderboard has gone viral on social media. The ATM was installed by the Brooklyn art collective MSCHF as an art installation at Art Basel Miami. \"ATM Leaderboard is an extremely literal distillation of wealth-flaunting impulses,\" MSCHF Co-founder said.',\n",
       "  'category': 'hatke'},\n",
       " 243: {'title': 'Huge mysterious object appears on a beach in US, pics surface',\n",
       "  'content': 'Beachgoers in Florida discovered a huge mysterious object buried underneath the sand, with pictures of it surfacing online. The object began protruding out of the sand after Hurricanes Ian and Nicole battered Volusia County earlier this year, an official said. The object appears to be a wooden structure and looks like pieces of wood poking out for about 80 feet.',\n",
       "  'category': 'hatke'},\n",
       " 244: {'title': 'Autorickshaw moves in circles without driver in Maharashtra, video goes viral',\n",
       "  'content': \"A video has gone viral showing an autorickshaw moving in circles without a driver in Maharashtra's Ratnagiri. In the video, several people can be seen trying to stop it. As per reports, the steering of the autorickshaw got locked after the driver fell. It started running around in circular motion before being stopped by the onlookers.\",\n",
       "  'category': 'hatke'},\n",
       " 245: {'title': 'So creative: Mahindra on video of movable marriage hall built on a truck',\n",
       "  'content': 'Mahindra Group Chairman Anand Mahindra took to Twitter to share a video of an air-conditioned mobile marriage hall built on a truck. \"I\\'d like to meet the person behind this product. So creative,\" tweeted Mahindra. According to a report, Dayanand Darekar, who\\'s in the business of weddings, came up with the portable wedding hall during the COVID-19 lockdown.',\n",
       "  'category': 'hatke'},\n",
       " 246: {'title': 'Unique 10-room house falls in both Maharashtra and Telangana, pics surface',\n",
       "  'content': 'Pictures of a 10-room house falling in both Maharashtra and Telangana have surfaced online. The house in Chandrapur has half of its rooms in Maharashtra and remaining in Telangana. The owner of the house said, \"Our house is divided between Maharashtra and Telangana...but till today we haven\\'t had any problem with it. We pay property tax in both the states.\"',\n",
       "  'category': 'hatke'},\n",
       " 247: {'title': 'World’s heaviest radish weighing 45.865-kg grown in Japan, pic released',\n",
       "  'content': 'The world\\'s heaviest radish weighing 45.865 kg has been grown by a Japanese manufacturer of supplements and special fertilizers, Guinness World Records said. \"The regular radish is harvested in three months, but this particular radish was harvested after six months. It had a circumference of 113 cm, and the root length was 80 cm,\" GWR added.',\n",
       "  'category': 'hatke'},\n",
       " 248: {'title': \"Rare butterflies named after 'Lord of the Rings' villain for how they look\",\n",
       "  'content': \"Researchers have named a new group of butterflies with bright orange hindwings and dark eyespots 'Saurona' after the villain 'Sauron' from the 'Lord of the Rings'. Sauron was the evil lord of Mordor. 'The Eye of Sauron' from the Lord of the Rings was famously depicted on screen as a fiery orange eye peering over the landscape of Middle Earth.\",\n",
       "  'category': 'science'},\n",
       " 249: {'title': 'Mysterious Chinese spacecraft returns to Earth after 276 days',\n",
       "  'content': 'An uncrewed experimental Chinese spacecraft returned to Earth on Monday after staying in orbit for 276 days, Chinese state media reported. However, no details were given on what the spacecraft was, what technologies were tested, how high it flew, and where its orbits had taken it. Images of the spacecraft have also yet to be released to the public.',\n",
       "  'category': 'science'},\n",
       " 250: {'title': \"Pic shows Jupiter’s 'Great Red Spot' that's twice as wide as Earth\",\n",
       "  'content': 'NASA shared a picture of Jupiter\\'s \\'Great Red Spot\\' that\\'s twice as wide as Earth. \"Trapped between two jet streams, Great Red Spot is an anticyclone swirling around a centre of high atmospheric pressure that makes it rotate in the opposite sense of hurricanes on Earth,\" NASA says. The winds within the storm are increasing in speed to 640 kmph.',\n",
       "  'category': 'science'},\n",
       " 251: {'title': \"First baby born with 3 people's DNA in the UK\",\n",
       "  'content': \"A baby has been born with three people's DNA using a special IVF technique in the UK, marking a historic first for the country. The UK was the world's first country to approve the technique, which aims to avoid mitochondrial diseases in children. Over 99% of the baby's DNA came from its parents, while 0.1% came from a donor woman.\",\n",
       "  'category': 'science'},\n",
       " 252: {'title': '60-foot asteroid heading towards Earth at 7,200 km/hr; to have a close encounter today',\n",
       "  'content': 'The National Aeronautics and Space Administration (NASA) has issued an alert regarding 2023 HG1, a 60-foot asteroid that is racing towards Earth at a speed of 7,200 km/hr. NASA said that the  asteroid poses no threat to Earth, and will whizz past the planet on May 9 at a safe distance of 4.16 million kilometres.',\n",
       "  'category': 'science'},\n",
       " 253: {'title': \"Hyderabad witnesses 'Zero Shadow Day', pics surface\",\n",
       "  'content': \"Hyderabad on Tuesday witnessed the 'Zero Shadow Day' phenomenon at 12.12 pm. 'Zero Shadow Day' is a celestial phenomenon during which the Sun doesn't cast a shadow of a vertical object. Several Hyderabad locals took to social media to share pictures clicked during the 'Zero Shadow Day'.\",\n",
       "  'category': 'science'},\n",
       " 254: {'title': 'First pic of asteroid belt outside our solar system released',\n",
       "  'content': \"NASA's James Webb Space Telescope captured the first look at an asteroid belt outside our solar system in infrared light. Webb revealed that there are actually three belts, including two never-before-seen inner belts, around the star of Fomalhaut. The three nested belts extend out to 23 billion km from the star, 150 times the distance of Earth from the Sun.\",\n",
       "  'category': 'science'},\n",
       " 255: {'title': 'Geomagnetic storm from Sun to hit Earth',\n",
       "  'content': 'Earth is set to be hit by a geomagnetic storm this week. According to SpaceWeather.com, a coronal mass ejection (CME) hit our planet\\'s magnetic field on May 7. Shortly after that, a \"backwards active region\" on the Sun exploded. This solar explosion also threw another CME at our planet, which could trigger geomagnetic storms.',\n",
       "  'category': 'science'},\n",
       " 256: {'title': \"1st picture of Earth from Europe's powerful new satellite released\",\n",
       "  'content': 'The first picture of Earth from Europe\\'s powerful new satellite Meteosat Third Generation\\u200a—\\u200aImager 1 has been released. The image shows cloudy conditions over Europe, Africa and the Atlantic. \"This image is a great example of what European cooperation in space can achieve,\" European Space Agency\\'s Director of Earth Observation Programmes, Simonetta Cheli, said in a statement.',\n",
       "  'category': 'science'},\n",
       " 257: {'title': \"Europe's 1,360-kg satellite set to crash on Earth\",\n",
       "  'content': 'Europe\\'s 1,360-kg satellite Aeolus, which is an Earth Explorer research mission, is set to crash on Earth as it\\'s running out of fuel. The spacecraft operators will aim the mission towards the ocean, reducing \"very small chance\" that fragments could cause harm should any reach Earth\\'s surface. Aeolus has outlived its planned three-year life in space by over 18 months.',\n",
       "  'category': 'science'},\n",
       " 258: {'title': 'Stress due to gender inequality is damaging women’s brains: Study',\n",
       "  'content': \"A study that examined over 7,800 MRI scans of men and women across 29 countries found that stress caused by gender inequality damages female brains. Researchers discovered the outer thickness of the right part of women's brains was slimmer than men's in countries with worse gender inequality. These changes were particularly found in regions that control emotions, a researcher said.\\n\",\n",
       "  'category': 'science'},\n",
       " 259: {'title': 'Future space missions may use all-female crews for efficiency: ESA',\n",
       "  'content': 'A European Space Agency (ESA) study has suggested that future space missions may use all-female crews because they\\'re more \"efficient\". It found female astronauts to be likely to need less water, expend less energy, need less oxygen and carbon dioxide and produce less heat than male astronauts. This was because they are lighter than their male counterparts, the study added.',\n",
       "  'category': 'science'},\n",
       " 260: {'title': \"Branson's Virgin Galactic announces its crew for 'return to space'\",\n",
       "  'content': 'British billionaire Richard Branson\\'s Virgin Galactic has announced its crew for its \"return to space\" in late May. The firm aims to launch its first commercial flight in late June. Chief Astronaut Instructor Beth Moses, Mission Specialists Christopher Huie and Jamila Gilbert, and Astronaut Instructor Luke Mays will make up the crew for \\'Unity 25\\'.',\n",
       "  'category': 'science'},\n",
       " 261: {'title': 'In a first, SpaceX mission astronauts to grow stem cells in space',\n",
       "  'content': \"SpaceX's Axiom Space Ax-2 mission astronauts will grow induced pluripotent stem cells (iPSCs) on the International Space Station, marking the first time stem cells will be grown in space. They will test how limited gravity influences the development of heart and brain cells. Researchers say one of the main issues with producing iPSCs on Earth may involve gravity-induced tension.\",\n",
       "  'category': 'science'},\n",
       " 262: {'title': 'Vast Space to launch 1st private station on SpaceX rocket in 2025',\n",
       "  'content': \"California-based Vast Space plans to launch the world's first commercial space station, Haven-1, aboard SpaceX Falcon 9 rocket to low-Earth orbit in 2025. It will initially act as an independent crewed space station prior to being connected as a module to a larger Vast space station. The mission will be followed by Vast-1, the first human spaceflight mission to Haven-1.\",\n",
       "  'category': 'science'},\n",
       " 263: {'title': 'Rocket Lab launches 2 NASA satellites to monitor tropical storms',\n",
       "  'content': 'US-based startup Rocket Lab has launched two NASA satellites designed to monitor the development of tropical storms. The TROPICS CubeSats were launched from New Zealand. The TROPICS constellation will consist of four CubeSats in low Earth orbit. Rocket Lab will launch the other two satellites about two weeks from now.',\n",
       "  'category': 'science'},\n",
       " 264: {'title': \"NASA testing snake robot 'EELS' to explore oceans on Saturn's moon\",\n",
       "  'content': \"NASA said its Jet Propulsion Laboratory (JPL) team is testing the snake-like robot, Exobiology Extant Life Surveyor (EELS), that would explore the subsurface oceans on Saturn's moon Enceladus. The robot is being designed to autonomously map, traverse and explore otherwise inaccessible places on Earth, Moon and other planets. Its 4-metre-long latest version, called EELS 1.0, weighs around 100 kg.\",\n",
       "  'category': 'science'},\n",
       " 265: {'title': 'Endangered Nassau grouper eggs tracked with underwater microscope',\n",
       "  'content': \"Researchers tracked clouds of tiny, transparent endangered Nassau grouper eggs at night with an underwater microscope, near the Little Cayman island, to see where these eggs end up after they are cast adrift. The study showed that the endangered species' fertilised eggs from the island's spawning site floated back onto reefs elsewhere on the island in 2017.\",\n",
       "  'category': 'science'},\n",
       " 266: {'title': 'New image of galaxy with extremely bright region in centre shared',\n",
       "  'content': \"NASA has shared a new image of the galaxy 'NGC 5283' which has an active galactic nucleus, or AGN, which is an extremely bright region at the heart of a galaxy where a supermassive black hole exists. NGC 5283 is a Seyfert galaxy which differ from other galaxies that contain AGNs because the galaxy itself is clearly visible.\",\n",
       "  'category': 'science'},\n",
       " 267: {'title': 'Humans may have inherited nose shape from Neanderthals: Study',\n",
       "  'content': 'A study by UCL suggests that the shape of our noses may be influenced by a gene inherited from Neanderthals, specifically the one that leads to a taller nose. Researchers have sequenced the Neanderthal genome in the past 15 years. As per them, the shape may have been a result of natural selection as ancient humans adapted to colder climates. ',\n",
       "  'category': 'science'},\n",
       " 268: {'title': \"NASA shares pic showing plumes from Mexico's Popocatépetl volcano\",\n",
       "  'content': \"NASA shared a picture showing plumes from Popocatépetl volcano, one of Mexico's most active volcanoes, on Monday. The image was acquired by Landsat 8 on April 14. The monitoring systems detected water vapour, volcanic gases and ash coming from the volcano, NASA stated. The plumes from the volcano rose as high as 7.3 kilometres, NASA added.\\n\",\n",
       "  'category': 'science'},\n",
       " 269: {'title': 'Tooth enamel reveals Neanderthals hunted, ate large animals: Study',\n",
       "  'content': 'Researchers analysed the enamel of Neanderthals and animal teeth from the Almonda Cave system in Portugal to determine what these ancient humans and their predecessors ate. They found that Neanderthals living in the area hunted large animals over wide areas, while humans who lived \\nthere thousands of years later consumed smaller creatures in a smaller area. ',\n",
       "  'category': 'science'},\n",
       " 270: {'title': \"'Mysterious' exoplanet has 'unusually shiny atmosphere': NASA\",\n",
       "  'content': 'Researchers have found that the \"mysterious\" exoplanet \\'GJ 1214 b\\' has an \"unusually shiny atmosphere\" and may contain water vapor, NASA said. The planet is too hot to be habitable. Researchers measured the heat emitted by GJ 1214 b while orbiting its host star, marking the first time anyone has directly detected the light emitted by a \"sub-Neptune\" exoplanet.',\n",
       "  'category': 'science'},\n",
       " 271: {'title': 'Artemis II to send hi-res videos from Moon using lasers: NASA',\n",
       "  'content': 'NASA is planning to create a laser-based Optical Communications System (O2O) to develop a new high-quality communication system for the Artemis II mission around the Moon. NASA would obtain high-resolution images and videos from Moon using the new system. In contrast to traditional radio wave systems, laser communication would enable exchange of more information in a single transmission.\\n',\n",
       "  'category': 'science'},\n",
       " 272: {'title': 'Musk to pay $10,000 to Indian-American critic to settle defamation case',\n",
       "  'content': 'Elon Musk has agreed to pay $10,000 to settle a defamation lawsuit filed against him by Indian-American critic Randeep Hothi. Musk had accused Hothi of \"almost\" killing Tesla employees in 2019 email to a tech editor, thereby triggering an online hate campaign, the lawsuit claimed. \"I feel vindicated,\" Hothi said, adding that the case wasn\\'t about seeking fame or money.',\n",
       "  'category': 'automobile'},\n",
       " 273: {'title': 'Video shows moment cake is thrown at Porsche Chairman during meeting',\n",
       "  'content': \"A video captured the moment a cake was thrown at Porsche SE Chairman, Wolfgang Porsche, during parent company Volkswagen's shareholder meeting in Berlin. It also sent bits flying toward Volkswagen supervisory board Chairman Hans Dieter Poetsch. An activist threw the cake in protest against Volkswagen's factory in China's Xinjiang, accusing the company of ignoring human rights abuses in the region.\",\n",
       "  'category': 'automobile'},\n",
       " 274: {'title': 'Ather, TVS, Hero to refund EV charger cost to customers: Report',\n",
       "  'content': 'Top electric two-wheeler manufacturers Ather Energy, TVS Motor and Hero MotoCorp plan to refund the cost of chargers to their customers, Mint reported. Refunds will be made for chargers that were shipped with the e-scooters but billed separately. This is being done in order to qualify for government subsidies that have been halted for over two months, the report said.',\n",
       "  'category': 'automobile'},\n",
       " 275: {'title': 'Maruti Suzuki marks longest winning run since going public in 2003',\n",
       "  'content': \"Maruti Suzuki India's shares gained for the 10th straight session on Tuesday, marking its longest winning streak since the company went public in July 2003. Its stock has surged as much as 7.6% during the rally that began on April 25. Ever since the company debuted on the bourses, there have been four rallies of nine days, Bloomberg data showed.\",\n",
       "  'category': 'automobile'},\n",
       " 276: {'title': \"Cutting ties with China 'unthinkable': Mercedes-Benz CEO\",\n",
       "  'content': 'Cutting economic ties with China is \"unthinkable\" and attempting to do so would put most of Germany\\'s industry at risk, Mercedes-Benz CEO Ola Källenius said. \"The major players in the global economy, Europe, the US and China, are so closely intertwined that decoupling from China makes no sense,\" the German newspaper Bild am Sonntag quoted him as saying.',\n",
       "  'category': 'automobile'},\n",
       " 277: {'title': '2 killed in shooting at Mercedes plant in Germany, suspect held',\n",
       "  'content': \"Two persons were killed in a shooting inside a Mercedes-Benz plant in Germany's Sindelfingen. The 53-year-old suspect has been arrested by police. Production at one of the company's factory halls in Sindelfingen has been suspended until the end of the week. The gunman and the two victims belonged to an external services provider, Mercedes said reacting to the shooting.\",\n",
       "  'category': 'automobile'},\n",
       " 278: {'title': \"BMW issues 'Do Not Drive' warning for 90,000 cars over faulty airbags in US\",\n",
       "  'content': 'BMW has issued a \\'Do Not Drive\\' warning for 90,000 cars over old and defective Takata airbags in US. Owners of these cars built between 2000 and 2006 have been urged to park their vehicles immediately and get the airbags repaired by the company for free. There\\'s \"an extremely high probability of failure during a crash\", American agency NHTSA said.',\n",
       "  'category': 'automobile'},\n",
       " 279: {'title': 'Ban diesel 4-wheelers in big cities and towns by 2027, suggests govt panel',\n",
       "  'content': 'A government panel has recommended imposing a ban on diesel-powered four-wheelers in cities with more than one million population and towns with high pollution by 2027. \"By 2030, no city buses should be added which aren\\'t electric,\" the Energy Transition Advisory Committee said. In 2021, PM Narendra Modi pledged that India will cut its emissions to net zero by 2070.',\n",
       "  'category': 'automobile'},\n",
       " 280: {'title': 'Ola Electric to refund ₹130 crore to customers for its charger: Report',\n",
       "  'content': 'Ola Electric will reimburse approximately ₹130 crore to customers who bought its EV charger, CNBC-TV18 reported. The move is reportedly in response to the probe initiated by the Ministry of Heavy Industries for overpricing. Ola Electric will reimburse the price of the off-board charger to customers who bought the off-board charger as an accessory when purchasing an Ola S1 Pro.',\n",
       "  'category': 'automobile'},\n",
       " 281: {'title': 'Volvo Cars to slash 1,300 white-collar jobs to cut costs in Sweden',\n",
       "  'content': 'The Chinese-owned Volvo Cars of Sweden said in an effort to cut costs, it would slash 1,300 white-collar positions from its operations in Sweden. CEO Jim Rowan said that cost-cutting measures taken last year had started to \"bear results\" but that \"it\\'s clear that we need to do more...Economic headwinds, increased raw material prices are likely to remain a challenge\".\\n\\n',\n",
       "  'category': 'automobile'},\n",
       " 282: {'title': 'Passenger vehicle retail sales drop 4% in April 2023: FADA data',\n",
       "  'content': 'Total vehicle retails in April witnessed a fall of 4% with two-wheelers and passenger vehicles exhibiting a 7% and 1% decline each, Federation of Automobile Dealers Associations (FADA) data showed. Passenger vehicles showed a decline in year-on-year growth for the first time in eight months. FADA has asked GST Council to consider reducing GST on two-wheelers from 28% to 18%.',\n",
       "  'category': 'automobile'},\n",
       " 283: {'title': 'Govt to release ₹500-cr subsidy to Ola, Ather, TVS & Hero: Report',\n",
       "  'content': 'The government has decided to release over ₹500 crore of subsidy under FAME II scheme to Ola Electric, Ather, TVS and Hero MotoCorp after they agreed to reimburse consumers for chargers, TOI reported. The government had halted the subsidies after these firms billed their customers separately for the e-scooters and the chargers to bring the cost down to avail subsidy.',\n",
       "  'category': 'automobile'},\n",
       " 284: {'title': 'US-based used-vehicle retailer Vroom lays off 11% of staff: Report',\n",
       "  'content': \"US-based online used-vehicle retailer Vroom has laid off 11% of its workforce (around 120 employees) across different departments and locations, Automotive News reported. As per a US SEC filing by Vroom, the job cuts are part of an 'organisational restructuring'. Earlier, another US-based online marketplace for used cars, Shift, cut 30% of its workforce.\",\n",
       "  'category': 'automobile'},\n",
       " 285: {'title': \"GM cuts hundreds of full-time contract workers' jobs in US\",\n",
       "  'content': \"General Motors cut hundreds of full-time contract workers' jobs over the weekend in the US. The contract workers losing their jobs were within the global development. Earlier in April, GM announced that about 5,000 salaried workers had opted for buyouts to leave the company. GM has set a goal of cutting $2 billion from operating costs by 2024 end.\",\n",
       "  'category': 'automobile'},\n",
       " 286: {'title': 'Hyundai to invest ₹20,000 crore in Tamil Nadu over next 10 years',\n",
       "  'content': \"South Korea's Hyundai on Thursday said it will invest over ₹20,000 crore in Tamil Nadu over the next 10 years to augment EV production in India. The firm will set up a battery pack assembly unit with an annual capacity of 1.78 lakh units and also install 100 EV charging stations across Tamil Nadu in the next five years.\",\n",
       "  'category': 'automobile'},\n",
       " 287: {'title': 'Honda Cars records 33% Y-o-Y dip in domestic sales in April',\n",
       "  'content': 'Honda Cars India recorded a 33% year-on-year decline in domestic sales at 5,313 units in April. The firm added that the exports for the month stood at 2,363 units. The firm shipped 2,042 units in April 2022. \"Our sales results for the month of April are in line with our plan,\" Honda Cars India executive Yuichi Murata said.\\n',\n",
       "  'category': 'automobile'},\n",
       " 288: {'title': 'Govt to recover ₹250 crore from Okinawa, Hero Electric: Report',\n",
       "  'content': 'Heavy Industries Ministry has issued notices to EV makers Okinawa and Hero Electric to recover nearly ₹250 crore which they claimed as subsidies under phase II of Centre\\'s FAME scheme, CNBC TV18 reported. \"Both companies have been found to be non-compliant with regulations through rampant use of imported parts,\" a government official said. Notices were issued on April 29.',\n",
       "  'category': 'automobile'},\n",
       " 289: {'title': 'Lordstown shares fall 25% as Foxconn alleges $170 mn deal breach',\n",
       "  'content': \"Lordstown Motors' shares fell by 25% after major shareholder Foxconn alleged it breached their $170 million investment deal. Lordstown said Foxconn cited the delisting notice the Ohio-based company received from Nasdaq in a letter alleging the breach. The EV truck maker rejected the allegation and said it was in talks with the Taiwanese contract manufacturer to seek a resolution.\\n\",\n",
       "  'category': 'automobile'},\n",
       " 290: {'title': 'India to become export hub for Skoda Auto from next year: Top Exec',\n",
       "  'content': 'As Skoda Auto is set to commence exports of vehicle kits for assembly in Vietnam from 2024, Brand Director at Skoda Auto India said, \"India is an...important market as part of our regional strategy...and India will become an export hub for Skoda.\" The group is present through Skoda Auto, Volkswagen, Audi, Porsche and Lamborghini brands under Skoda Auto Volkswagen India.',\n",
       "  'category': 'automobile'},\n",
       " 291: {'title': 'Russian carmaker sues Volkswagen for over $200 mn in 3rd lawsuit',\n",
       "  'content': \"Russian carmaker GAZ has filed a lawsuit worth 15.6 billion roubles ($200.5 million) against Volkswagen. While the details of this lawsuit haven't been disclosed, this marks the third lawsuit filed by GAZ against Volkswagen. Earlier this year, GAZ filed two lawsuits against the German carmaker seeking a total of around $545 million in losses and damages.\",\n",
       "  'category': 'automobile'},\n",
       " 292: {'title': 'EV ecosystem still not mature in India: Renault India MD & CEO',\n",
       "  'content': 'Venkatram Mamillapalle, Renault India MD and CEO, believes the electric vehicle (EV) ecosystem goes beyond setting up charging stations. \"EV has a lot of safety requirements...the ecosystem for which is still not mature in India...I\\'m not just talking about...charging stations. It\\'s (about)...indigenisation of batteries, etc. Firemen need to be trained in case the vehicle catches fire,\" he said.',\n",
       "  'category': 'automobile'},\n",
       " 293: {'title': 'Toyota subsidiary admits rigging safety test of 88,000 cars',\n",
       "  'content': 'Toyota\\'s subsidiary Daihatsu on Friday said safety crash tests of about 88,000 cars were rigged. The cars\\' door trims were modified during the side-collision safety tests but the same modifications were not part of the cars sold to customers, Daihatsu stated. \"We sincerely apologise to the customers and stakeholders whose trust and support we\\'ve betrayed,\" Daihatsu President said.',\n",
       "  'category': 'automobile'},\n",
       " 294: {'title': 'Removing unnecessary chips from some cars amid shortage: Maruti',\n",
       "  'content': 'Maruti Suzuki India is working to remove certain semiconductors from some models where the requirement is unnecessary, a company official said. He added that amid the ongoing global chip shortage, Maruti Suzuki remains \"vulnerable to supply side bottlenecks\", but is trying to organise supplies through multiple sources. It couldn\\'t produce around 1.7 lakh units last fiscal due to  chip shortage.',\n",
       "  'category': 'automobile'},\n",
       " 295: {'title': 'Hero Electric denies getting ₹150-250 cr subsidies recovery notice',\n",
       "  'content': \"Hero Electric CEO Sohinder Singh Gill has denied reports claiming the electric two-wheeler manufacturer has received a notice from the government for the recovery of ₹150-250 crore claimed by it in subsidies. Reports had claimed that Hero Electric and Okinawa had received notices in a case related to alleged misappropriation of subsidies under phase II of Centre's FAME scheme.\",\n",
       "  'category': 'automobile'}}"
      ]
     },
     "execution_count": 76,
     "metadata": {},
     "output_type": "execute_result"
    }
   ],
   "source": [
    "inshorts"
   ]
  },
  {
   "cell_type": "code",
   "execution_count": 297,
   "id": "1a0ac383",
   "metadata": {},
   "outputs": [
    {
     "data": {
      "text/plain": [
       "['Musk to pay $10,000 to Indian-American critic to settle defamation case',\n",
       " 'Ola Electric to refund ₹130 crore to customers for its charger: Report',\n",
       " \"Cutting ties with China 'unthinkable': Mercedes-Benz CEO\",\n",
       " 'Ather, TVS, Hero to refund EV charger cost to customers: Report',\n",
       " \"BMW issues 'Do Not Drive' warning for 90,000 cars over faulty airbags in US\",\n",
       " 'Ban diesel 4-wheelers in big cities and towns by 2027, suggests govt panel',\n",
       " 'Maruti Suzuki marks longest winning run since going public in 2003',\n",
       " 'Lordstown shares fall 25% as Foxconn alleges $170 mn deal breach',\n",
       " \"GM cuts hundreds of full-time contract workers' jobs in US\",\n",
       " 'Volvo Cars to slash 1,300 white-collar jobs to cut costs in Sweden',\n",
       " 'EV ecosystem still not mature in India: Renault India MD & CEO',\n",
       " 'Stellantis offers voluntary buyouts to 33,500 US employees',\n",
       " 'Toyota subsidiary admits rigging safety test of 88,000 cars',\n",
       " 'Passenger vehicle retail sales drop 4% in April 2023: FADA data',\n",
       " 'Honda Cars records 33% Y-o-Y dip in domestic sales in April',\n",
       " 'Tesla broke US labour law by silencing staff, govt official rules',\n",
       " 'Hyundai Motor to exit Russia, plans to sell its plants: Report',\n",
       " 'Removing unnecessary chips from some cars amid shortage: Maruti',\n",
       " 'Hero Electric denies getting ₹150-250 cr subsidies recovery notice',\n",
       " 'Govt to release ₹500-cr subsidy to Ola, Ather, TVS & Hero: Report',\n",
       " 'US-based used-vehicle retailer Vroom lays off 11% of staff: Report',\n",
       " 'Govt to recover ₹250 crore from Okinawa, Hero Electric: Report',\n",
       " 'Russian carmaker sues Volkswagen for over $200 mn in 3rd lawsuit',\n",
       " 'India to become export hub for Skoda Auto from next year: Top Exec']"
      ]
     },
     "execution_count": 297,
     "metadata": {},
     "output_type": "execute_result"
    }
   ],
   "source": [
    "titles"
   ]
  },
  {
   "cell_type": "code",
   "execution_count": null,
   "id": "3842bd6e",
   "metadata": {},
   "outputs": [],
   "source": []
  }
 ],
 "metadata": {
  "kernelspec": {
   "display_name": "Python 3 (ipykernel)",
   "language": "python",
   "name": "python3"
  },
  "language_info": {
   "codemirror_mode": {
    "name": "ipython",
    "version": 3
   },
   "file_extension": ".py",
   "mimetype": "text/x-python",
   "name": "python",
   "nbconvert_exporter": "python",
   "pygments_lexer": "ipython3",
   "version": "3.9.13"
  }
 },
 "nbformat": 4,
 "nbformat_minor": 5
}
