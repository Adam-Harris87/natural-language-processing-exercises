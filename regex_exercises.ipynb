{
 "cells": [
  {
   "cell_type": "code",
   "execution_count": 1,
   "id": "3b282663",
   "metadata": {},
   "outputs": [],
   "source": [
    "import numpy as np\n",
    "import pandas as pd\n",
    "import re"
   ]
  },
  {
   "cell_type": "markdown",
   "id": "3d500936",
   "metadata": {},
   "source": [
    "# 1. Write a function named is_vowel. \n",
    "It should accept a string as input and use a regular expression to determine if the passed string is a vowel. While not explicity mentioned in the lesson, you can treat the result of re.search as a boolean value that indicates whether or not the regular expression matches the given string."
   ]
  },
  {
   "cell_type": "code",
   "execution_count": 5,
   "id": "3366d0d5",
   "metadata": {},
   "outputs": [],
   "source": [
    "def is_vowel(string):\n",
    "    regexp = r'[aeiouAEIOU]'\n",
    "    if re.search(regexp, string):\n",
    "        return True\n",
    "    else:\n",
    "        return False"
   ]
  },
  {
   "cell_type": "code",
   "execution_count": 6,
   "id": "c5dd66c6",
   "metadata": {},
   "outputs": [
    {
     "name": "stdout",
     "output_type": "stream",
     "text": [
      "True\n",
      "False\n",
      "False\n",
      "False\n",
      "True\n",
      "False\n"
     ]
    }
   ],
   "source": [
    "string_list = ['a','b','c','d','e','f']\n",
    "for string in string_list:\n",
    "    print(is_vowel(string))"
   ]
  },
  {
   "cell_type": "markdown",
   "id": "5aeb6ddc",
   "metadata": {},
   "source": [
    "# 2. Write a function named is_valid_username\n",
    "that accepts a string as input. A valid username starts with a lowercase letter, and only consists of lowercase letters, numbers, or the _ character. It should also be no longer than 32 characters. The function should return either True or False depending on whether the passed string is a valid username."
   ]
  },
  {
   "cell_type": "code",
   "execution_count": 14,
   "id": "9efae659",
   "metadata": {},
   "outputs": [],
   "source": [
    "def is_valid_username(string):\n",
    "    regexp = r'^[a-z][a-z0-9_]+'\n",
    "    if (re.search(regexp, string)) and (len(string) <= 32):\n",
    "        return True\n",
    "    else:\n",
    "        return False"
   ]
  },
  {
   "cell_type": "code",
   "execution_count": 16,
   "id": "b7fc4198",
   "metadata": {},
   "outputs": [],
   "source": [
    "assert is_valid_username('aaaaaaaaaaaaaaaaaaaaaaaaaaaaaaaaa') == False\n",
    "assert is_valid_username('codeup') == True\n",
    "assert is_valid_username('Codeup') == False\n",
    "assert is_valid_username('codeup123') == True\n",
    "assert is_valid_username('1codeup') == False"
   ]
  },
  {
   "cell_type": "markdown",
   "id": "28be3331",
   "metadata": {},
   "source": [
    "# 3. Write a regular expression to capture phone numbers. It should match all of the following:\n",
    "- (210) 867 5309\n",
    "- +1 210.867.5309\n",
    "- 867-5309\n",
    "- 210-867-5309"
   ]
  },
  {
   "cell_type": "code",
   "execution_count": 53,
   "id": "e7c46f54",
   "metadata": {},
   "outputs": [],
   "source": [
    "def capture_phone_numbers(string):\n",
    "    regexp = r'''\n",
    "    ^\\D*(\\d)\\D*(\\d{3})\\D*(\\d{3})\\D*(\\d{4})\\b | \n",
    "    ^\\D*(\\d{3})\\D*(\\d{3})\\D*(\\d{4})\\b |\n",
    "    ^(\\d{3})\\D*(\\d{4})\\b'''\n",
    "    if re.search(regexp, string, re.VERBOSE):\n",
    "        return True\n",
    "    else:\n",
    "        return False"
   ]
  },
  {
   "cell_type": "code",
   "execution_count": 55,
   "id": "3adc8c54",
   "metadata": {},
   "outputs": [],
   "source": [
    "assert capture_phone_numbers('+1 210.867.5309') == True\n",
    "assert capture_phone_numbers('(210) 867 5309') == True\n",
    "assert capture_phone_numbers('867-5309') == True\n",
    "assert capture_phone_numbers('210-867-5309') == True\n",
    "assert capture_phone_numbers('potato') == False\n",
    "assert capture_phone_numbers('444,321234523') == False\n",
    "assert capture_phone_numbers('444,321rabbit2345230') == False"
   ]
  },
  {
   "cell_type": "markdown",
   "id": "6b58eb7b",
   "metadata": {},
   "source": [
    "# 4. Use regular expressions to convert the dates below to the standardized year-month-day format.\n",
    "- 02/04/19\n",
    "- 02/05/19\n",
    "- 02/06/19\n",
    "- 02/07/19\n",
    "- 02/08/19\n",
    "- 02/09/19\n",
    "- 02/10/19"
   ]
  },
  {
   "cell_type": "code",
   "execution_count": 57,
   "id": "6e5f31c8",
   "metadata": {},
   "outputs": [],
   "source": [
    "def convert_dates(string_date):\n",
    "    regexp = r'(\\d{2})/(\\d{2})/(\\d{2})'\n",
    "    return re.sub(regexp, r'20\\3-\\1-\\2', string_date)"
   ]
  },
  {
   "cell_type": "code",
   "execution_count": 58,
   "id": "e8666282",
   "metadata": {},
   "outputs": [],
   "source": [
    "assert convert_dates('02/04/19') == '2019-02-04'\n",
    "assert convert_dates('02/05/19') == '2019-02-05'\n",
    "assert convert_dates('02/06/19') == '2019-02-06'\n",
    "assert convert_dates('02/07/19') == '2019-02-07'\n",
    "assert convert_dates('02/08/19') == '2019-02-08'\n",
    "assert convert_dates('02/09/19') == '2019-02-09'\n",
    "assert convert_dates('02/10/19') == '2019-02-10'"
   ]
  },
  {
   "cell_type": "markdown",
   "id": "a60fe7df",
   "metadata": {},
   "source": [
    "# 5. Write a regex to extract the various parts of these logfile lines:\n",
    "- GET /api/v1/sales?page=86 [16/Apr/2019:193452+0000] HTTP/1.1 {200} 510348 \"python-requests/2.21.0\" 97.105.19.58\n",
    "- POST /users_accounts/file-upload [16/Apr/2019:193452+0000] HTTP/1.1 {201} 42 \"User-Agent: Mozilla/5.0 (X11; Fedora; Fedora; Linux x86_64) AppleWebKit/537.36 (KHTML, like Gecko) Chrome/73.0.3683.86 Safari/537.36\" 97.105.19.58\n",
    "- GET /api/v1/items?page=3 [16/Apr/2019:193453+0000] HTTP/1.1 {429} 3561 \"python-requests/2.21.0\" 97.105.19.58\n"
   ]
  },
  {
   "cell_type": "code",
   "execution_count": 60,
   "id": "853aaeae",
   "metadata": {},
   "outputs": [],
   "source": [
    "logs = '''\n",
    "GET /api/v1/sales?page=86 [16/Apr/2019:193452+0000] HTTP/1.1 {200} 510348 \"python-requests/2.21.0\" 97.105.19.58\n",
    "POST /users_accounts/file-upload [16/Apr/2019:193452+0000] HTTP/1.1 {201} 42 \"User-Agent: Mozilla/5.0 (X11; Fedora; Fedora; Linux x86_64) AppleWebKit/537.36 (KHTML, like Gecko) Chrome/73.0.3683.86 Safari/537.36\" 97.105.19.58\n",
    "GET /api/v1/items?page=3 [16/Apr/2019:193453+0000] HTTP/1.1 {429} 3561 \"python-requests/2.21.0\" 97.105.19.58\n",
    "'''"
   ]
  },
  {
   "cell_type": "code",
   "execution_count": 64,
   "id": "9775b5f2",
   "metadata": {},
   "outputs": [],
   "source": [
    "logs = pd.Series(logs.strip().split('\\n'))"
   ]
  },
  {
   "cell_type": "code",
   "execution_count": 65,
   "id": "c57c1c0c",
   "metadata": {},
   "outputs": [
    {
     "data": {
      "text/plain": [
       "0    GET /api/v1/sales?page=86 [16/Apr/2019:193452+...\n",
       "1    POST /users_accounts/file-upload [16/Apr/2019:...\n",
       "2    GET /api/v1/items?page=3 [16/Apr/2019:193453+0...\n",
       "dtype: object"
      ]
     },
     "execution_count": 65,
     "metadata": {},
     "output_type": "execute_result"
    }
   ],
   "source": [
    "logs"
   ]
  },
  {
   "cell_type": "code",
   "execution_count": 75,
   "id": "29a58786",
   "metadata": {},
   "outputs": [
    {
     "data": {
      "text/plain": [
       "'GET /api/v1/sales?page=86 [16/Apr/2019:193452+0000] HTTP/1.1 {200} 510348 \"python-requests/2.21.0\" 97.105.19.58'"
      ]
     },
     "execution_count": 75,
     "metadata": {},
     "output_type": "execute_result"
    }
   ],
   "source": [
    "logs[0]"
   ]
  },
  {
   "cell_type": "code",
   "execution_count": 428,
   "id": "6a8a591f",
   "metadata": {},
   "outputs": [
    {
     "data": {
      "text/plain": [
       "<re.Match object; span=(0, 111), match='GET /api/v1/sales?page=86 [16/Apr/2019:193452+000>"
      ]
     },
     "execution_count": 428,
     "metadata": {},
     "output_type": "execute_result"
    }
   ],
   "source": [
    "regexp = r'''\n",
    ".*\n",
    "'''\n",
    "re.search(regexp, logs[0], re.VERBOSE)"
   ]
  },
  {
   "cell_type": "code",
   "execution_count": 351,
   "id": "3329c032",
   "metadata": {},
   "outputs": [],
   "source": [
    "def extract_log(log_string):\n",
    "    regexp = r'''\n",
    "    (?P<command>[A-Z]+) \\s/\n",
    "    (?P<directory>\\w+?) /\n",
    "    (?P<path>.*) \\s\\[\n",
    "    (?P<timestamp>.*) \\]\\s\n",
    "    (?P<protocol>.*) \\s{\n",
    "    (?P<status>\\d*) }\\s\n",
    "    (?P<bytes_sent>\\d*) \\s\"\n",
    "    (?P<id>User-Agent:\\s) ?\n",
    "    (?P<user_agent>.*) \"\\s\n",
    "    (?P<ip>.*)\n",
    "    '''\n",
    "    return log_string.str.extract(regexp, re.VERBOSE)"
   ]
  },
  {
   "cell_type": "code",
   "execution_count": 352,
   "id": "26fe8889",
   "metadata": {},
   "outputs": [
    {
     "data": {
      "text/html": [
       "<div>\n",
       "<style scoped>\n",
       "    .dataframe tbody tr th:only-of-type {\n",
       "        vertical-align: middle;\n",
       "    }\n",
       "\n",
       "    .dataframe tbody tr th {\n",
       "        vertical-align: top;\n",
       "    }\n",
       "\n",
       "    .dataframe thead th {\n",
       "        text-align: right;\n",
       "    }\n",
       "</style>\n",
       "<table border=\"1\" class=\"dataframe\">\n",
       "  <thead>\n",
       "    <tr style=\"text-align: right;\">\n",
       "      <th></th>\n",
       "      <th>command</th>\n",
       "      <th>directory</th>\n",
       "      <th>path</th>\n",
       "      <th>timestamp</th>\n",
       "      <th>protocol</th>\n",
       "      <th>status</th>\n",
       "      <th>bytes_sent</th>\n",
       "      <th>id</th>\n",
       "      <th>user_agent</th>\n",
       "      <th>ip</th>\n",
       "    </tr>\n",
       "  </thead>\n",
       "  <tbody>\n",
       "    <tr>\n",
       "      <th>0</th>\n",
       "      <td>GET</td>\n",
       "      <td>api</td>\n",
       "      <td>v1/sales?page=86</td>\n",
       "      <td>16/Apr/2019:193452+0000</td>\n",
       "      <td>HTTP/1.1</td>\n",
       "      <td>200</td>\n",
       "      <td>510348</td>\n",
       "      <td>NaN</td>\n",
       "      <td>python-requests/2.21.0</td>\n",
       "      <td>97.105.19.58</td>\n",
       "    </tr>\n",
       "    <tr>\n",
       "      <th>1</th>\n",
       "      <td>POST</td>\n",
       "      <td>users_accounts</td>\n",
       "      <td>file-upload</td>\n",
       "      <td>16/Apr/2019:193452+0000</td>\n",
       "      <td>HTTP/1.1</td>\n",
       "      <td>201</td>\n",
       "      <td>42</td>\n",
       "      <td>User-Agent:</td>\n",
       "      <td>Mozilla/5.0 (X11; Fedora; Fedora; Linux x86_64...</td>\n",
       "      <td>97.105.19.58</td>\n",
       "    </tr>\n",
       "    <tr>\n",
       "      <th>2</th>\n",
       "      <td>GET</td>\n",
       "      <td>api</td>\n",
       "      <td>v1/items?page=3</td>\n",
       "      <td>16/Apr/2019:193453+0000</td>\n",
       "      <td>HTTP/1.1</td>\n",
       "      <td>429</td>\n",
       "      <td>3561</td>\n",
       "      <td>NaN</td>\n",
       "      <td>python-requests/2.21.0</td>\n",
       "      <td>97.105.19.58</td>\n",
       "    </tr>\n",
       "  </tbody>\n",
       "</table>\n",
       "</div>"
      ],
      "text/plain": [
       "  command       directory              path                timestamp  \\\n",
       "0     GET             api  v1/sales?page=86  16/Apr/2019:193452+0000   \n",
       "1    POST  users_accounts       file-upload  16/Apr/2019:193452+0000   \n",
       "2     GET             api   v1/items?page=3  16/Apr/2019:193453+0000   \n",
       "\n",
       "   protocol status bytes_sent            id  \\\n",
       "0  HTTP/1.1    200     510348           NaN   \n",
       "1  HTTP/1.1    201         42  User-Agent:    \n",
       "2  HTTP/1.1    429       3561           NaN   \n",
       "\n",
       "                                          user_agent            ip  \n",
       "0                             python-requests/2.21.0  97.105.19.58  \n",
       "1  Mozilla/5.0 (X11; Fedora; Fedora; Linux x86_64...  97.105.19.58  \n",
       "2                             python-requests/2.21.0  97.105.19.58  "
      ]
     },
     "execution_count": 352,
     "metadata": {},
     "output_type": "execute_result"
    }
   ],
   "source": [
    "extract_log(logs)"
   ]
  },
  {
   "cell_type": "markdown",
   "id": "3c8942bf",
   "metadata": {},
   "source": [
    "# 6. You can find a list of words on your mac at /usr/share/dict/words. Use this file to answer the following questions:"
   ]
  },
  {
   "cell_type": "markdown",
   "id": "65d5ade0",
   "metadata": {},
   "source": [
    "- How many words have at least 3 vowels?\n",
    "- How many words have at least 3 vowels in a row?\n",
    "- How many words have at least 4 consonants in a row?\n",
    "- How many words start and end with the same letter?\n",
    "- How many words start and end with a vowel?\n",
    "- How many words contain the same letter 3 times in a row?\n",
    "- What other interesting patterns in words can you find?"
   ]
  },
  {
   "cell_type": "code",
   "execution_count": 416,
   "id": "a306e909",
   "metadata": {},
   "outputs": [],
   "source": [
    "words = pd.read_csv('words')"
   ]
  },
  {
   "cell_type": "code",
   "execution_count": 517,
   "id": "e37b033d",
   "metadata": {},
   "outputs": [
    {
     "data": {
      "text/html": [
       "<div>\n",
       "<style scoped>\n",
       "    .dataframe tbody tr th:only-of-type {\n",
       "        vertical-align: middle;\n",
       "    }\n",
       "\n",
       "    .dataframe tbody tr th {\n",
       "        vertical-align: top;\n",
       "    }\n",
       "\n",
       "    .dataframe thead th {\n",
       "        text-align: right;\n",
       "    }\n",
       "</style>\n",
       "<table border=\"1\" class=\"dataframe\">\n",
       "  <thead>\n",
       "    <tr style=\"text-align: right;\">\n",
       "      <th></th>\n",
       "      <th>A</th>\n",
       "    </tr>\n",
       "  </thead>\n",
       "  <tbody>\n",
       "    <tr>\n",
       "      <th>0</th>\n",
       "      <td>a</td>\n",
       "    </tr>\n",
       "    <tr>\n",
       "      <th>1</th>\n",
       "      <td>aa</td>\n",
       "    </tr>\n",
       "    <tr>\n",
       "      <th>2</th>\n",
       "      <td>aal</td>\n",
       "    </tr>\n",
       "    <tr>\n",
       "      <th>3</th>\n",
       "      <td>aalii</td>\n",
       "    </tr>\n",
       "    <tr>\n",
       "      <th>4</th>\n",
       "      <td>aam</td>\n",
       "    </tr>\n",
       "    <tr>\n",
       "      <th>...</th>\n",
       "      <td>...</td>\n",
       "    </tr>\n",
       "    <tr>\n",
       "      <th>95</th>\n",
       "      <td>Abba</td>\n",
       "    </tr>\n",
       "    <tr>\n",
       "      <th>96</th>\n",
       "      <td>abbacomes</td>\n",
       "    </tr>\n",
       "    <tr>\n",
       "      <th>97</th>\n",
       "      <td>abbacy</td>\n",
       "    </tr>\n",
       "    <tr>\n",
       "      <th>98</th>\n",
       "      <td>Abbadide</td>\n",
       "    </tr>\n",
       "    <tr>\n",
       "      <th>99</th>\n",
       "      <td>abbas</td>\n",
       "    </tr>\n",
       "  </tbody>\n",
       "</table>\n",
       "<p>100 rows × 1 columns</p>\n",
       "</div>"
      ],
      "text/plain": [
       "            A\n",
       "0           a\n",
       "1          aa\n",
       "2         aal\n",
       "3       aalii\n",
       "4         aam\n",
       "..        ...\n",
       "95       Abba\n",
       "96  abbacomes\n",
       "97     abbacy\n",
       "98   Abbadide\n",
       "99      abbas\n",
       "\n",
       "[100 rows x 1 columns]"
      ]
     },
     "execution_count": 517,
     "metadata": {},
     "output_type": "execute_result"
    }
   ],
   "source": [
    "words.head(100)"
   ]
  },
  {
   "cell_type": "code",
   "execution_count": 462,
   "id": "ceb68b85",
   "metadata": {},
   "outputs": [],
   "source": [
    "a = 'aardvark'\n",
    "b = 'aard'\n",
    "c = 'a'"
   ]
  },
  {
   "cell_type": "code",
   "execution_count": 505,
   "id": "79e6b10b",
   "metadata": {},
   "outputs": [
    {
     "name": "stdout",
     "output_type": "stream",
     "text": [
      "true a\n",
      "true b\n",
      "true c\n"
     ]
    }
   ],
   "source": [
    "regexp = r'\\w*'\n",
    "if re.search(regexp, a):\n",
    "    print('true a')\n",
    "else:\n",
    "    print('false a')\n",
    "if re.search(regexp, b):\n",
    "    print('true b')\n",
    "else:\n",
    "    print('false b')\n",
    "if re.search(regexp, c):\n",
    "    print('true c')\n",
    "else:\n",
    "    print('false c')"
   ]
  },
  {
   "cell_type": "code",
   "execution_count": 506,
   "id": "a23d5564",
   "metadata": {},
   "outputs": [
    {
     "data": {
      "text/plain": [
       "235975"
      ]
     },
     "execution_count": 506,
     "metadata": {},
     "output_type": "execute_result"
    }
   ],
   "source": [
    "len(words)"
   ]
  },
  {
   "cell_type": "code",
   "execution_count": 426,
   "id": "4c97a193",
   "metadata": {},
   "outputs": [
    {
     "name": "stdout",
     "output_type": "stream",
     "text": [
      "<class 'pandas.core.frame.DataFrame'>\n",
      "RangeIndex: 235975 entries, 0 to 235974\n",
      "Data columns (total 1 columns):\n",
      " #   Column  Non-Null Count   Dtype \n",
      "---  ------  --------------   ----- \n",
      " 0   A       235973 non-null  object\n",
      "dtypes: object(1)\n",
      "memory usage: 1.8+ MB\n"
     ]
    }
   ],
   "source": [
    "words.info()"
   ]
  },
  {
   "cell_type": "markdown",
   "id": "ff0cfaf7",
   "metadata": {},
   "source": [
    "## 1. How many words have at least 3 vowels?"
   ]
  },
  {
   "cell_type": "code",
   "execution_count": 480,
   "id": "c614927e",
   "metadata": {},
   "outputs": [],
   "source": [
    "def has_3_vowels(word):\n",
    "    regexp = r'\\w*[aeiou]\\w*[aeiou]\\w*[aeiou]\\w*'\n",
    "    if re.search(regexp, word):\n",
    "        return True\n",
    "    else:\n",
    "        return False"
   ]
  },
  {
   "cell_type": "code",
   "execution_count": 481,
   "id": "7580b4cb",
   "metadata": {},
   "outputs": [
    {
     "name": "stdout",
     "output_type": "stream",
     "text": [
      "190351\n"
     ]
    }
   ],
   "source": [
    "count = 0\n",
    "for word in words.A:\n",
    "    try:\n",
    "        if has_3_vowels(word):\n",
    "            count += 1\n",
    "    except TypeError:\n",
    "        next\n",
    "print(count)"
   ]
  },
  {
   "cell_type": "markdown",
   "id": "4ad93079",
   "metadata": {},
   "source": [
    "#### 190351 "
   ]
  },
  {
   "cell_type": "markdown",
   "id": "ab7931f0",
   "metadata": {},
   "source": [
    "## 2. How many words have at least 3 vowels in a row?"
   ]
  },
  {
   "cell_type": "code",
   "execution_count": 483,
   "id": "09d11a45",
   "metadata": {},
   "outputs": [],
   "source": [
    "def has_3_vowels_in_a_row(word):\n",
    "    regexp = r'\\w*[aeiou][aeiou][aeiou]\\w*'\n",
    "    if re.search(regexp, word):\n",
    "        return True\n",
    "    else:\n",
    "        return False"
   ]
  },
  {
   "cell_type": "code",
   "execution_count": 484,
   "id": "2b9f375c",
   "metadata": {},
   "outputs": [
    {
     "name": "stdout",
     "output_type": "stream",
     "text": [
      "6157\n"
     ]
    }
   ],
   "source": [
    "count = 0\n",
    "for word in words.A:\n",
    "    try:\n",
    "        if has_3_vowels_in_a_row(word):\n",
    "            count += 1\n",
    "    except TypeError:\n",
    "        next\n",
    "print(count)"
   ]
  },
  {
   "cell_type": "markdown",
   "id": "13ecbcc7",
   "metadata": {},
   "source": [
    "#### 6157"
   ]
  },
  {
   "cell_type": "markdown",
   "id": "7e6fde32",
   "metadata": {},
   "source": [
    "## 3. How many words have at least 4 consonants in a row?"
   ]
  },
  {
   "cell_type": "code",
   "execution_count": 485,
   "id": "7bd35bda",
   "metadata": {},
   "outputs": [],
   "source": [
    "def has_4_consonants_in_a_row(word):\n",
    "    regexp = r'\\w*[^aeiou][^aeiou][^aeiou][^aeiou]\\w*'\n",
    "    if re.search(regexp, word):\n",
    "        return True\n",
    "    else:\n",
    "        return False"
   ]
  },
  {
   "cell_type": "code",
   "execution_count": 486,
   "id": "34ecdfb8",
   "metadata": {},
   "outputs": [
    {
     "name": "stdout",
     "output_type": "stream",
     "text": [
      "19744\n"
     ]
    }
   ],
   "source": [
    "count = 0\n",
    "for word in words.A:\n",
    "    try:\n",
    "        if has_4_consonants_in_a_row(word):\n",
    "            count += 1\n",
    "    except TypeError:\n",
    "        next\n",
    "print(count)"
   ]
  },
  {
   "cell_type": "markdown",
   "id": "beaf97e4",
   "metadata": {},
   "source": [
    "#### 19744"
   ]
  },
  {
   "cell_type": "markdown",
   "id": "ff505085",
   "metadata": {},
   "source": [
    "## 4. How many words start and end with the same letter?"
   ]
  },
  {
   "cell_type": "code",
   "execution_count": 531,
   "id": "d4167fda",
   "metadata": {},
   "outputs": [],
   "source": [
    "def starts_ends_with_same(word):\n",
    "    regexp = r'''\n",
    "    ^[aA]\\w*[aA]$ |\n",
    "    ^[bB]\\w*[bB]$ |\n",
    "    ^[cC]\\w*[cC]$ |\n",
    "    ^[dD]\\w*[dD]$ |\n",
    "    ^[eE]\\w*[eE]$ |\n",
    "    ^[fF]\\w*[fF]$ |\n",
    "    ^[gG]\\w*[gG]$ |\n",
    "    ^[hH]\\w*[hH]$ |\n",
    "    ^[iI]\\w*[iI]$ |\n",
    "    ^[jJ]\\w*[jJ]$ |\n",
    "    ^[kK]\\w*[kK]$ |\n",
    "    ^[lL]\\w*[lL]$ |\n",
    "    ^[mM]\\w*[mM]$ |\n",
    "    ^[nN]\\w*[nN]$ |\n",
    "    ^[oO]\\w*[oO]$ |\n",
    "    ^[pP]\\w*[pP]$ |\n",
    "    ^[qQ]\\w*[qQ]$ |\n",
    "    ^[rR]\\w*[rR]$ |\n",
    "    ^[sS]\\w*[sS]$ |\n",
    "    ^[tT]\\w*[tT]$ |\n",
    "    ^[uU]\\w*[uU]$ |\n",
    "    ^[vV]\\w*[vV]$ |\n",
    "    ^[wW]\\w*[wW]$ |\n",
    "    ^[xX]\\w*[xX]$ |\n",
    "    ^[yY]\\w*[yY]$ |\n",
    "    ^[zZ]\\w*[zZ]$\n",
    "    '''\n",
    "    if re.search(regexp, word, re.VERBOSE):\n",
    "        return True\n",
    "    else:\n",
    "        return False"
   ]
  },
  {
   "cell_type": "code",
   "execution_count": 532,
   "id": "5f877463",
   "metadata": {},
   "outputs": [
    {
     "name": "stdout",
     "output_type": "stream",
     "text": [
      "11457\n"
     ]
    }
   ],
   "source": [
    "count = 0\n",
    "for word in words.A:\n",
    "    try:\n",
    "        if starts_ends_with_same(word):\n",
    "            count += 1\n",
    "    except TypeError:\n",
    "        next\n",
    "print(count)"
   ]
  },
  {
   "cell_type": "markdown",
   "id": "ed9494a8",
   "metadata": {},
   "source": [
    "#### 11457"
   ]
  },
  {
   "cell_type": "markdown",
   "id": "405a6ce3",
   "metadata": {},
   "source": [
    "## 5. How many words start and end with a vowel?"
   ]
  },
  {
   "cell_type": "code",
   "execution_count": 533,
   "id": "210e75cb",
   "metadata": {},
   "outputs": [],
   "source": [
    "def starts_ends_with_vowel(word):\n",
    "    regexp = r'''\n",
    "    ^[aAeEiIoOuU]\\w*[aAeEiIoOuU]$ \n",
    "    '''\n",
    "    if re.search(regexp, word, re.VERBOSE):\n",
    "        return True\n",
    "    else:\n",
    "        return False"
   ]
  },
  {
   "cell_type": "code",
   "execution_count": 534,
   "id": "d2e9dc46",
   "metadata": {},
   "outputs": [
    {
     "name": "stdout",
     "output_type": "stream",
     "text": [
      "14663\n"
     ]
    }
   ],
   "source": [
    "count = 0\n",
    "for word in words.A:\n",
    "    try:\n",
    "        if starts_ends_with_vowel(word):\n",
    "            count += 1\n",
    "    except TypeError:\n",
    "        next\n",
    "print(count)"
   ]
  },
  {
   "cell_type": "markdown",
   "id": "aa22814b",
   "metadata": {},
   "source": [
    "#### 14663"
   ]
  },
  {
   "cell_type": "markdown",
   "id": "b57be309",
   "metadata": {},
   "source": [
    "## How many words contain the same letter 3 times in a row?"
   ]
  },
  {
   "cell_type": "code",
   "execution_count": 535,
   "id": "ab3ef73f",
   "metadata": {},
   "outputs": [],
   "source": [
    "def three_in_a_row(word):\n",
    "    regexp = r'''\n",
    "    /w*[aA][aA][aA]/w* |\n",
    "    /w*[bB][bB][bB]/w* |\n",
    "    /w*[cC][cC][cC]/w* |\n",
    "    /w*[dD][dD][dD]/w* |\n",
    "    /w*[eE][eE][eE]/w* |\n",
    "    /w*[fF][fF][fF]/w* |\n",
    "    /w*[gG][gG][gG]/w* |\n",
    "    /w*[hH][hH][hH]/w* |\n",
    "    /w*[iI][iI][iI]/w* |\n",
    "    /w*[jJ][jJ][jJ]/w* |\n",
    "    /w*[kK][kK][kK]/w* |\n",
    "    /w*[lL][lL][lL]/w* |\n",
    "    /w*[mM][mM][mM]/w* |\n",
    "    /w*[nN][nN][nN]/w* |\n",
    "    /w*[oO][oO][oO]/w* |\n",
    "    /w*[pP][pP][pP]/w* |\n",
    "    /w*[qQ][qQ][qQ]/w* |\n",
    "    /w*[rR][rR][rR]/w* |\n",
    "    /w*[sS][sS][sS]/w* |\n",
    "    /w*[tT][tT][tT]/w* |\n",
    "    /w*[uU][uU][uU]/w* |\n",
    "    /w*[vV][vV][vV]/w* |\n",
    "    /w*[wW][wW][wW]/w* |\n",
    "    /w*[xX][xX][xX]/w* |\n",
    "    /w*[yY][yY][yY]/w* |\n",
    "    /w*[zZ][zZ][zZ]/w*\n",
    "    '''\n",
    "    if re.search(regexp, word, re.VERBOSE):\n",
    "        return True\n",
    "    else:\n",
    "        return False"
   ]
  },
  {
   "cell_type": "code",
   "execution_count": 536,
   "id": "9441a9dc",
   "metadata": {},
   "outputs": [
    {
     "name": "stdout",
     "output_type": "stream",
     "text": [
      "0\n"
     ]
    }
   ],
   "source": [
    "count = 0\n",
    "for word in words.A:\n",
    "    try:\n",
    "        if three_in_a_row(word):\n",
    "            count += 1\n",
    "    except TypeError:\n",
    "        next\n",
    "print(count)"
   ]
  },
  {
   "cell_type": "code",
   "execution_count": null,
   "id": "f881d78b",
   "metadata": {},
   "outputs": [],
   "source": []
  }
 ],
 "metadata": {
  "kernelspec": {
   "display_name": "Python 3 (ipykernel)",
   "language": "python",
   "name": "python3"
  },
  "language_info": {
   "codemirror_mode": {
    "name": "ipython",
    "version": 3
   },
   "file_extension": ".py",
   "mimetype": "text/x-python",
   "name": "python",
   "nbconvert_exporter": "python",
   "pygments_lexer": "ipython3",
   "version": "3.9.13"
  }
 },
 "nbformat": 4,
 "nbformat_minor": 5
}
