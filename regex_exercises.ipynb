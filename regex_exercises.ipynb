{
 "cells": [
  {
   "cell_type": "code",
   "execution_count": 1,
   "id": "4c7cdf84",
   "metadata": {},
   "outputs": [],
   "source": [
    "import numpy as np\n",
    "import pandas as pd\n",
    "import re"
   ]
  },
  {
   "cell_type": "markdown",
   "id": "55d78ec3",
   "metadata": {},
   "source": [
    "# 1. Write a function named is_vowel. \n",
    "It should accept a string as input and use a regular expression to determine if the passed string is a vowel. While not explicity mentioned in the lesson, you can treat the result of re.search as a boolean value that indicates whether or not the regular expression matches the given string."
   ]
  },
  {
   "cell_type": "code",
   "execution_count": 5,
   "id": "65a10494",
   "metadata": {},
   "outputs": [],
   "source": [
    "def is_vowel(string):\n",
    "    regexp = r'[aeiouAEIOU]'\n",
    "    if re.search(regexp, string):\n",
    "        return True\n",
    "    else:\n",
    "        return False"
   ]
  },
  {
   "cell_type": "code",
   "execution_count": 6,
   "id": "62312dab",
   "metadata": {},
   "outputs": [
    {
     "name": "stdout",
     "output_type": "stream",
     "text": [
      "True\n",
      "False\n",
      "False\n",
      "False\n",
      "True\n",
      "False\n"
     ]
    }
   ],
   "source": [
    "string_list = ['a','b','c','d','e','f']\n",
    "for string in string_list:\n",
    "    print(is_vowel(string))"
   ]
  },
  {
   "cell_type": "markdown",
   "id": "2de30680",
   "metadata": {},
   "source": [
    "# 2. Write a function named is_valid_username\n",
    "that accepts a string as input. A valid username starts with a lowercase letter, and only consists of lowercase letters, numbers, or the _ character. It should also be no longer than 32 characters. The function should return either True or False depending on whether the passed string is a valid username."
   ]
  },
  {
   "cell_type": "code",
   "execution_count": 14,
   "id": "053fdaed",
   "metadata": {},
   "outputs": [],
   "source": [
    "def is_valid_username(string):\n",
    "    regexp = r'^[a-z][a-z0-9_]+'\n",
    "    if (re.search(regexp, string)) and (len(string) <= 32):\n",
    "        return True\n",
    "    else:\n",
    "        return False"
   ]
  },
  {
   "cell_type": "code",
   "execution_count": 16,
   "id": "32de60ba",
   "metadata": {},
   "outputs": [],
   "source": [
    "assert is_valid_username('aaaaaaaaaaaaaaaaaaaaaaaaaaaaaaaaa') == False\n",
    "assert is_valid_username('codeup') == True\n",
    "assert is_valid_username('Codeup') == False\n",
    "assert is_valid_username('codeup123') == True\n",
    "assert is_valid_username('1codeup') == False"
   ]
  },
  {
   "cell_type": "markdown",
   "id": "bc6c7529",
   "metadata": {},
   "source": [
    "# 3. Write a regular expression to capture phone numbers. It should match all of the following:\n",
    "- (210) 867 5309\n",
    "- +1 210.867.5309\n",
    "- 867-5309\n",
    "- 210-867-5309"
   ]
  },
  {
   "cell_type": "code",
   "execution_count": 53,
   "id": "f08d637e",
   "metadata": {},
   "outputs": [],
   "source": [
    "def capture_phone_numbers(string):\n",
    "    regexp = r'''\n",
    "    ^\\D*(\\d)\\D*(\\d{3})\\D*(\\d{3})\\D*(\\d{4})\\b | \n",
    "    ^\\D*(\\d{3})\\D*(\\d{3})\\D*(\\d{4})\\b |\n",
    "    ^(\\d{3})\\D*(\\d{4})\\b'''\n",
    "    if re.search(regexp, string, re.VERBOSE):\n",
    "        return True\n",
    "    else:\n",
    "        return False"
   ]
  },
  {
   "cell_type": "code",
   "execution_count": 55,
   "id": "cccec180",
   "metadata": {},
   "outputs": [],
   "source": [
    "assert capture_phone_numbers('+1 210.867.5309') == True\n",
    "assert capture_phone_numbers('(210) 867 5309') == True\n",
    "assert capture_phone_numbers('867-5309') == True\n",
    "assert capture_phone_numbers('210-867-5309') == True\n",
    "assert capture_phone_numbers('potato') == False\n",
    "assert capture_phone_numbers('444,321234523') == False\n",
    "assert capture_phone_numbers('444,321rabbit2345230') == False"
   ]
  },
  {
   "cell_type": "markdown",
   "id": "7b26f7fb",
   "metadata": {},
   "source": [
    "# 4. Use regular expressions to convert the dates below to the standardized year-month-day format.\n",
    "- 02/04/19\n",
    "- 02/05/19\n",
    "- 02/06/19\n",
    "- 02/07/19\n",
    "- 02/08/19\n",
    "- 02/09/19\n",
    "- 02/10/19"
   ]
  },
  {
   "cell_type": "code",
   "execution_count": 57,
   "id": "10fc432a",
   "metadata": {},
   "outputs": [],
   "source": [
    "def convert_dates(string_date):\n",
    "    regexp = r'(\\d{2})/(\\d{2})/(\\d{2})'\n",
    "    return re.sub(regexp, r'20\\3-\\1-\\2', string_date)"
   ]
  },
  {
   "cell_type": "code",
   "execution_count": 58,
   "id": "4bb36f56",
   "metadata": {},
   "outputs": [],
   "source": [
    "assert convert_dates('02/04/19') == '2019-02-04'\n",
    "assert convert_dates('02/05/19') == '2019-02-05'\n",
    "assert convert_dates('02/06/19') == '2019-02-06'\n",
    "assert convert_dates('02/07/19') == '2019-02-07'\n",
    "assert convert_dates('02/08/19') == '2019-02-08'\n",
    "assert convert_dates('02/09/19') == '2019-02-09'\n",
    "assert convert_dates('02/10/19') == '2019-02-10'"
   ]
  },
  {
   "cell_type": "markdown",
   "id": "d3be2d5c",
   "metadata": {},
   "source": [
    "# 5. Write a regex to extract the various parts of these logfile lines:\n",
    "- GET /api/v1/sales?page=86 [16/Apr/2019:193452+0000] HTTP/1.1 {200} 510348 \"python-requests/2.21.0\" 97.105.19.58\n",
    "- POST /users_accounts/file-upload [16/Apr/2019:193452+0000] HTTP/1.1 {201} 42 \"User-Agent: Mozilla/5.0 (X11; Fedora; Fedora; Linux x86_64) AppleWebKit/537.36 (KHTML, like Gecko) Chrome/73.0.3683.86 Safari/537.36\" 97.105.19.58\n",
    "- GET /api/v1/items?page=3 [16/Apr/2019:193453+0000] HTTP/1.1 {429} 3561 \"python-requests/2.21.0\" 97.105.19.58\n"
   ]
  },
  {
   "cell_type": "code",
   "execution_count": null,
   "id": "21fc7733",
   "metadata": {},
   "outputs": [],
   "source": []
  }
 ],
 "metadata": {
  "kernelspec": {
   "display_name": "Python 3 (ipykernel)",
   "language": "python",
   "name": "python3"
  },
  "language_info": {
   "codemirror_mode": {
    "name": "ipython",
    "version": 3
   },
   "file_extension": ".py",
   "mimetype": "text/x-python",
   "name": "python",
   "nbconvert_exporter": "python",
   "pygments_lexer": "ipython3",
   "version": "3.9.13"
  }
 },
 "nbformat": 4,
 "nbformat_minor": 5
}
